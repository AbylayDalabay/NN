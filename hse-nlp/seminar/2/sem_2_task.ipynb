{
 "cells": [
  {
   "cell_type": "markdown",
   "metadata": {},
   "source": [
    "## Задание\n",
    "\n",
    "1. Мы будем работать с (частичными) данными lenta.ru отсюда: https://www.kaggle.com/yutkin/corpus-of-russian-news-articles-from-lenta/\n",
    "2. Проведите препроцессинг текста. Разбейте данные на train и test для задачи классификации (в качестве метки класса будем использовать поле topic). В качестве данных для классификации в пунктах 3 и 5 возьмите\n",
    "    - только заголовки (title)\n",
    "    - только тексты новости (text)\n",
    "    - и то, и другое\n",
    "3. Обучите fastText для классификации текстов по темам. Сравните качество для разных данных из п. 2.\n",
    "4. Обучите свою модель w2v (или возьмите любую подходящую предобученную модель). Реализуйте функцию для вычисления вектора текста / заголовка / текста+заголовка как среднего вектора входящих в него слов. \n",
    "     - (Бонус) Модифицируйте функцию вычисления среднего вектора: взвешивайте вектора слов соответствующими весами tf-idf.\n",
    "5. Обучите на полученных средних векторах алгоритм классификации, сравните полученное качество с классификатором fastText. "
   ]
  },
  {
   "cell_type": "code",
   "execution_count": 1,
   "metadata": {},
   "outputs": [],
   "source": [
    "# !kaggle datasets download -d yutkin/corpus-of-russian-news-articles-from-lenta\n",
    "# !unzip data/corpus-of-russian-news-articles-from-lenta.zip -d data/"
   ]
  },
  {
   "cell_type": "code",
   "execution_count": 2,
   "metadata": {},
   "outputs": [],
   "source": [
    "import pandas as pd\n",
    "import numpy as np\n",
    "\n",
    "from tqdm import tqdm\n",
    "from sklearn.model_selection import train_test_split\n",
    "from sklearn.metrics import accuracy_score, precision_score, recall_score, f1_score, classification_report\n",
    "\n",
    "import warnings\n",
    "warnings.filterwarnings('ignore')"
   ]
  },
  {
   "cell_type": "code",
   "execution_count": 3,
   "metadata": {},
   "outputs": [],
   "source": [
    "data_path = 'data/'\n",
    "\n",
    "lenta = pd.read_csv(data_path + 'lenta-ru-news.csv', usecols=['title', 'text', 'topic'])\n",
    "lenta = lenta[lenta['topic'].notna()]\n",
    "\n",
    "lenta = lenta.sample(frac=1, random_state=42)"
   ]
  },
  {
   "cell_type": "code",
   "execution_count": 4,
   "metadata": {},
   "outputs": [
    {
     "data": {
      "text/plain": [
       "(738973, 3)"
      ]
     },
     "execution_count": 4,
     "metadata": {},
     "output_type": "execute_result"
    }
   ],
   "source": [
    "lenta.shape"
   ]
  },
  {
   "cell_type": "code",
   "execution_count": 5,
   "metadata": {},
   "outputs": [
    {
     "data": {
      "text/plain": [
       "{'Мир': 0,\n",
       " 'Наука и техника': 1,\n",
       " 'Культура': 2,\n",
       " 'Силовые структуры': 3,\n",
       " 'Россия': 4,\n",
       " 'Спорт': 5,\n",
       " 'Бизнес': 6,\n",
       " 'Путешествия': 7,\n",
       " 'Бывший СССР': 8,\n",
       " 'Дом': 9,\n",
       " 'Экономика': 10,\n",
       " 'Интернет и СМИ': 11,\n",
       " 'Из жизни': 12,\n",
       " 'Ценности': 13,\n",
       " 'Культпросвет ': 14,\n",
       " '69-я параллель': 15,\n",
       " 'Крым': 16,\n",
       " 'Библиотека': 17,\n",
       " 'Легпром': 18,\n",
       " 'Оружие': 19,\n",
       " 'МедНовости': 20,\n",
       " 'ЧМ-2014': 21,\n",
       " 'Сочи': 22}"
      ]
     },
     "execution_count": 5,
     "metadata": {},
     "output_type": "execute_result"
    }
   ],
   "source": [
    "label_dict = {}\n",
    "\n",
    "for i, topic in enumerate(lenta['topic'].unique()):\n",
    "    label_dict[topic] = i\n",
    "\n",
    "lenta['label'] = lenta['topic'].apply(lambda x: label_dict[x])\n",
    "\n",
    "label_dict"
   ]
  },
  {
   "cell_type": "code",
   "execution_count": 6,
   "metadata": {},
   "outputs": [],
   "source": [
    "from nltk import tokenize\n",
    "\n",
    "tokenizer = tokenize.NLTKWordTokenizer()"
   ]
  },
  {
   "cell_type": "code",
   "execution_count": 7,
   "metadata": {},
   "outputs": [
    {
     "name": "stderr",
     "output_type": "stream",
     "text": [
      "[nltk_data] Downloading package stopwords to\n",
      "[nltk_data]     /home/dalabaya/nltk_data...\n",
      "[nltk_data]   Package stopwords is already up-to-date!\n"
     ]
    }
   ],
   "source": [
    "import nltk\n",
    "nltk.download('stopwords')\n",
    "\n",
    "from nltk.corpus import stopwords\n",
    "from string import punctuation\n",
    "\n",
    "noise = stopwords.words('russian') + list(punctuation)\n",
    "splitters = ['\\'\\'', '``', '\\\"', '-', '\\'', '\\`']"
   ]
  },
  {
   "cell_type": "code",
   "execution_count": 8,
   "metadata": {},
   "outputs": [
    {
     "data": {
      "text/plain": [
       "'дерево'"
      ]
     },
     "execution_count": 8,
     "metadata": {},
     "output_type": "execute_result"
    }
   ],
   "source": [
    "import pymorphy3\n",
    "morph = pymorphy3.MorphAnalyzer()\n",
    "\n",
    "def morphling_lemmatizer(word):\n",
    "    parsed_word = morph.parse(word)[0]\n",
    "    lemma = parsed_word.normal_form\n",
    "    return lemma\n",
    "\n",
    "morphling_lemmatizer('деревьев')"
   ]
  },
  {
   "cell_type": "code",
   "execution_count": 9,
   "metadata": {},
   "outputs": [
    {
     "data": {
      "text/plain": [
       "'денег'"
      ]
     },
     "execution_count": 9,
     "metadata": {},
     "output_type": "execute_result"
    }
   ],
   "source": [
    "from nltk.stem import SnowballStemmer\n",
    "\n",
    "snowball_stemmer = SnowballStemmer(\"russian\")\n",
    "\n",
    "def ru_stemmer(word):\n",
    "    return snowball_stemmer.stem(word)\n",
    "\n",
    "ru_stemmer('денег')"
   ]
  },
  {
   "cell_type": "code",
   "execution_count": 10,
   "metadata": {},
   "outputs": [
    {
     "data": {
      "text/plain": [
       "'открыть карта'"
      ]
     },
     "execution_count": 10,
     "metadata": {},
     "output_type": "execute_result"
    }
   ],
   "source": [
    "def preprocess(sentence): \n",
    "    for splitter in splitters:\n",
    "        sentence = sentence.replace(splitter, ' ')  \n",
    "    tokens = tokenizer.tokenize(sentence.lower())  \n",
    "    clean_tokens = [token.strip() for token in tokens if token not in noise]\n",
    "    lemma_tokens = [morphling_lemmatizer(token) for token in clean_tokens]  \n",
    "    # stemmed_tokens = [ru_stemmer(token) for token in clean_tokens]\n",
    "    return ' '.join(lemma_tokens)\n",
    "\n",
    "preprocess('как открыть карты')"
   ]
  },
  {
   "cell_type": "code",
   "execution_count": 11,
   "metadata": {},
   "outputs": [],
   "source": [
    "def preprocess_and_save():\n",
    "    title_preprocessed = [preprocess(str(sentence)) for sentence in tqdm(lenta['title'], desc='Preprocessing titles ...')]\n",
    "    text_preprocessed = [preprocess(str(sentence)) for sentence in tqdm(lenta['text'], desc='Preprocessing text ...')]\n",
    "\n",
    "    preprocessed_lenta = pd.DataFrame({\n",
    "        'title' : title_preprocessed,\n",
    "        'text' : text_preprocessed,\n",
    "        'label' : lenta['label']\n",
    "    })\n",
    "\n",
    "    preprocessed_lenta.to_csv(data_path + 'preprocessed_lenta.csv')"
   ]
  },
  {
   "cell_type": "code",
   "execution_count": 12,
   "metadata": {},
   "outputs": [],
   "source": [
    "def get_test_and_save_train(X_df, y_df, train_path, size):\n",
    "    X = X_df.astype(str).values.tolist()\n",
    "    y = y_df.astype(str).values.tolist()\n",
    "    \n",
    "    X_train, X_test, y_train, y_test = train_test_split(X[:size], y[:size], test_size=0.25, random_state=42, shuffle=True)\n",
    "\n",
    "    with open(data_path + train_path + '.txt', 'w', encoding='utf-8') as file:\n",
    "        for X_entry, y_entry in zip(X_train, y_train):\n",
    "            X_entry = str(X_entry).replace('\\n', ' ').replace('\\r', ' ')\n",
    "            file.write('__label__' + str(y_entry) + ' ' + X_entry)\n",
    "            file.write('\\n')\n",
    "\n",
    "    return X_train, y_train, X_test, y_test\n",
    "\n",
    "preprocessed_lenta = pd.read_csv(data_path+'preprocessed_lenta.csv', index_col=False)\n",
    "\n",
    "X_train, y_train, X_test, y_test = get_test_and_save_train(\n",
    "    preprocessed_lenta['text'], \n",
    "    preprocessed_lenta['label'], \n",
    "    train_path='lenta_train_title_text_lemma',\n",
    "    size=200_000\n",
    ")"
   ]
  },
  {
   "cell_type": "code",
   "execution_count": 13,
   "metadata": {},
   "outputs": [],
   "source": [
    "# ! git clone https://github.com/facebookresearch/fastText.git\n",
    "# ! pip3 install fastText/."
   ]
  },
  {
   "cell_type": "code",
   "execution_count": 14,
   "metadata": {},
   "outputs": [],
   "source": [
    "# import fasttext\n",
    "\n",
    "# ft_model = fasttext.train_supervised(\n",
    "#     input=data_path+'lenta_train_title_text_lemma.txt',\n",
    "#     label='__label__',\n",
    "#     lr=0.5,\n",
    "#     epoch=25,\n",
    "#     wordNgrams=2, \n",
    "#     dim=200,\n",
    "#     thread=2,\n",
    "#     verbose=3000\n",
    "# )\n",
    "\n",
    "# ft_model.save_model(data_path+'lenta_model_title_text_lemma.bin')"
   ]
  },
  {
   "cell_type": "code",
   "execution_count": 15,
   "metadata": {},
   "outputs": [],
   "source": [
    "def predict(test_texts, test_label, selected_model, desc='Unknown parameters model'):\n",
    "    predicted_labels = [int(selected_model.predict(sentence)[0][0][9:]) for sentence in test_texts]\n",
    "    test_label = [int(label) for label in test_label]\n",
    "    \n",
    "    print(desc, ' => predictions')\n",
    "    print(\"Accuracy score: \", accuracy_score(test_label, predicted_labels))\n",
    "    print(\"Precision score: \", precision_score(test_label, predicted_labels, average='weighted'))\n",
    "    print(\"Recall score: \", recall_score(test_label, predicted_labels, average='weighted'))\n",
    "    print(\"f1-score: \", f1_score(test_label, predicted_labels, average='weighted'))\n",
    "\n",
    "    report = classification_report(test_label, predicted_labels)\n",
    "    print(\"\\nClassification Report:\\n\", report)"
   ]
  },
  {
   "cell_type": "code",
   "execution_count": 16,
   "metadata": {},
   "outputs": [],
   "source": [
    "import fasttext\n",
    "saved_model = fasttext.load_model(data_path+'lenta_model_title_text_lemma.bin')"
   ]
  },
  {
   "cell_type": "code",
   "execution_count": 17,
   "metadata": {},
   "outputs": [
    {
     "name": "stdout",
     "output_type": "stream",
     "text": [
      "Lemma on title and text columns, fastText  => predictions\n",
      "Accuracy score:  0.83914\n",
      "Precision score:  0.8379081641473527\n",
      "Recall score:  0.83914\n",
      "f1-score:  0.8376613548460898\n",
      "\n",
      "Classification Report:\n",
      "               precision    recall  f1-score   support\n",
      "\n",
      "           0       0.81      0.85      0.83      9158\n",
      "           1       0.85      0.86      0.85      3559\n",
      "           2       0.88      0.90      0.89      3748\n",
      "           3       0.77      0.63      0.69      1390\n",
      "           4       0.82      0.85      0.83     10937\n",
      "           5       0.97      0.96      0.97      4252\n",
      "           6       0.66      0.53      0.59       552\n",
      "           7       0.81      0.67      0.73       428\n",
      "           8       0.86      0.86      0.86      3564\n",
      "           9       0.89      0.82      0.86      1427\n",
      "          10       0.86      0.87      0.87      5364\n",
      "          11       0.79      0.75      0.77      3030\n",
      "          12       0.71      0.62      0.66      1916\n",
      "          13       0.91      0.84      0.87       517\n",
      "          14       0.43      0.19      0.26        16\n",
      "          15       0.81      0.44      0.57        77\n",
      "          16       0.67      0.48      0.56        46\n",
      "          17       0.00      0.00      0.00         5\n",
      "          18       1.00      0.29      0.44        14\n",
      "\n",
      "    accuracy                           0.84     50000\n",
      "   macro avg       0.76      0.65      0.69     50000\n",
      "weighted avg       0.84      0.84      0.84     50000\n",
      "\n"
     ]
    }
   ],
   "source": [
    "predict(X_test, y_test, saved_model, desc='Lemma on title and text columns, fastText')"
   ]
  },
  {
   "cell_type": "code",
   "execution_count": 18,
   "metadata": {},
   "outputs": [],
   "source": [
    "splitted_X_train = [sentence.split() for sentence in X_train]"
   ]
  },
  {
   "cell_type": "code",
   "execution_count": 19,
   "metadata": {},
   "outputs": [
    {
     "name": "stdout",
     "output_type": "stream",
     "text": [
      "CPU times: user 78.5 ms, sys: 10.1 ms, total: 88.6 ms\n",
      "Wall time: 115 ms\n"
     ]
    }
   ],
   "source": [
    "%%time\n",
    "from gensim.models import word2vec\n",
    "\n",
    "# print(\"Model training time ... \")\n",
    "\n",
    "# model_word2vec = word2vec.Word2Vec(\n",
    "#     splitted_X_train, \n",
    "#     workers=2, \n",
    "#     vector_size=100, \n",
    "#     min_count=10, \n",
    "#     window=5, \n",
    "#     sg=1, # skip gram\n",
    "#     sample=1e-3\n",
    "# )\n",
    "\n",
    "# model_word2vec.save('data/model_word2vec.model')"
   ]
  },
  {
   "cell_type": "code",
   "execution_count": 21,
   "metadata": {},
   "outputs": [],
   "source": [
    "model_word2vec = word2vec.Word2Vec.load('data/model_word2vec.model')"
   ]
  },
  {
   "cell_type": "code",
   "execution_count": 22,
   "metadata": {},
   "outputs": [
    {
     "data": {
      "application/vnd.jupyter.widget-view+json": {
       "model_id": "0b8209ee489a49b7bfbb71c640afbcab",
       "version_major": 2,
       "version_minor": 0
      },
      "text/plain": [
       "  0%|          | 0/150000 [00:00<?, ?it/s]"
      ]
     },
     "metadata": {},
     "output_type": "display_data"
    },
    {
     "name": "stdout",
     "output_type": "stream",
     "text": [
      "['«', '»', 'год', 'который', '—', 'сообщать', 'россия', 'также', 'свой', 'время', 'заявить', 'компания', 'это', 'стать', 'российский', 'слово', 'президент', 'человек', 'новый', 'тысяча', 'процент', 'первый', 'страна', 'один', 'миллион', 'получить', 'однако', 'дело', 'сша', 'ранее', 'представитель', 'сообщить', 'данные', 'глава', 'москва', 'такой', 'года.', 'около', 'быть', 'результат', 'находиться', 'являться', 'суд', 'должный', 'доллар', 'место', 'отметить', 'несколько', 'решение', 'власть']\n"
     ]
    }
   ],
   "source": [
    "from nltk import FreqDist\n",
    "from tqdm import tqdm_notebook as tqdm\n",
    "from sklearn.manifold import TSNE\n",
    "\n",
    "top_words = []\n",
    "\n",
    "fd = FreqDist()\n",
    "for sentence in tqdm(splitted_X_train):\n",
    "    fd.update(sentence)\n",
    "\n",
    "for w in fd.most_common(1000):\n",
    "    top_words.append(w[0])\n",
    "\n",
    "print(top_words[:50:])\n",
    "top_words_vec = [model_word2vec.wv[word] for word in top_words if word in model_word2vec.wv]"
   ]
  },
  {
   "cell_type": "code",
   "execution_count": 23,
   "metadata": {},
   "outputs": [
    {
     "name": "stdout",
     "output_type": "stream",
     "text": [
      "CPU times: user 5.14 s, sys: 1.33 s, total: 6.47 s\n",
      "Wall time: 4.75 s\n"
     ]
    }
   ],
   "source": [
    "%%time\n",
    "import numpy as np\n",
    "\n",
    "tsne = TSNE(n_components=2, random_state=0)\n",
    "top_words_tsne = tsne.fit_transform(np.array(top_words_vec))"
   ]
  },
  {
   "cell_type": "code",
   "execution_count": 24,
   "metadata": {},
   "outputs": [
    {
     "data": {
      "text/html": [
       "    <style>\n",
       "        .bk-notebook-logo {\n",
       "            display: block;\n",
       "            width: 20px;\n",
       "            height: 20px;\n",
       "            background-image: url(data:image/png;base64,iVBORw0KGgoAAAANSUhEUgAAABQAAAAUCAYAAACNiR0NAAAABHNCSVQICAgIfAhkiAAAAAlwSFlzAAALEgAACxIB0t1+/AAAABx0RVh0U29mdHdhcmUAQWRvYmUgRmlyZXdvcmtzIENTNui8sowAAAOkSURBVDiNjZRtaJVlGMd/1/08zzln5zjP1LWcU9N0NkN8m2CYjpgQYQXqSs0I84OLIC0hkEKoPtiH3gmKoiJDU7QpLgoLjLIQCpEsNJ1vqUOdO7ppbuec5+V+rj4ctwzd8IIbbi6u+8f1539dt3A78eXC7QizUF7gyV1fD1Yqg4JWz84yffhm0qkFqBogB9rM8tZdtwVsPUhWhGcFJngGeWrPzHm5oaMmkfEg1usvLFyc8jLRqDOMru7AyC8saQr7GG7f5fvDeH7Ej8CM66nIF+8yngt6HWaKh7k49Soy9nXurCi1o3qUbS3zWfrYeQDTB/Qj6kX6Ybhw4B+bOYoLKCC9H3Nu/leUTZ1JdRWkkn2ldcCamzrcf47KKXdAJllSlxAOkRgyHsGC/zRday5Qld9DyoM4/q/rUoy/CXh3jzOu3bHUVZeU+DEn8FInkPBFlu3+nW3Nw0mk6vCDiWg8CeJaxEwuHS3+z5RgY+YBR6V1Z1nxSOfoaPa4LASWxxdNp+VWTk7+4vzaou8v8PN+xo+KY2xsw6une2frhw05CTYOmQvsEhjhWjn0bmXPjpE1+kplmmkP3suftwTubK9Vq22qKmrBhpY4jvd5afdRA3wGjFAgcnTK2s4hY0/GPNIb0nErGMCRxWOOX64Z8RAC4oCXdklmEvcL8o0BfkNK4lUg9HTl+oPlQxdNo3Mg4Nv175e/1LDGzZen30MEjRUtmXSfiTVu1kK8W4txyV6BMKlbgk3lMwYCiusNy9fVfvvwMxv8Ynl6vxoByANLTWplvuj/nF9m2+PDtt1eiHPBr1oIfhCChQMBw6Aw0UulqTKZdfVvfG7VcfIqLG9bcldL/+pdWTLxLUy8Qq38heUIjh4XlzZxzQm19lLFlr8vdQ97rjZVOLf8nclzckbcD4wxXMidpX30sFd37Fv/GtwwhzhxGVAprjbg0gCAEeIgwCZyTV2Z1REEW8O4py0wsjeloKoMr6iCY6dP92H6Vw/oTyICIthibxjm/DfN9lVz8IqtqKYLUXfoKVMVQVVJOElGjrnnUt9T9wbgp8AyYKaGlqingHZU/uG2NTZSVqwHQTWkx9hxjkpWDaCg6Ckj5qebgBVbT3V3NNXMSiWSDdGV3hrtzla7J+duwPOToIg42ChPQOQjspnSlp1V+Gjdged7+8UN5CRAV7a5EdFNwCjEaBR27b3W890TE7g24NAP/mMDXRWrGoFPQI9ls/MWO2dWFAar/xcOIImbbpA3zgAAAABJRU5ErkJggg==);\n",
       "        }\n",
       "    </style>\n",
       "    <div>\n",
       "        <a href=\"https://bokeh.org\" target=\"_blank\" class=\"bk-notebook-logo\"></a>\n",
       "        <span id=\"dd2f756a-400f-4504-9360-10f45e5acc99\">Loading BokehJS ...</span>\n",
       "    </div>\n"
      ]
     },
     "metadata": {},
     "output_type": "display_data"
    },
    {
     "data": {
      "application/javascript": "'use strict';\n(function(root) {\n  function now() {\n    return new Date();\n  }\n\n  const force = true;\n\n  if (typeof root._bokeh_onload_callbacks === \"undefined\" || force === true) {\n    root._bokeh_onload_callbacks = [];\n    root._bokeh_is_loading = undefined;\n  }\n\nconst JS_MIME_TYPE = 'application/javascript';\n  const HTML_MIME_TYPE = 'text/html';\n  const EXEC_MIME_TYPE = 'application/vnd.bokehjs_exec.v0+json';\n  const CLASS_NAME = 'output_bokeh rendered_html';\n\n  /**\n   * Render data to the DOM node\n   */\n  function render(props, node) {\n    const script = document.createElement(\"script\");\n    node.appendChild(script);\n  }\n\n  /**\n   * Handle when an output is cleared or removed\n   */\n  function handleClearOutput(event, handle) {\n    function drop(id) {\n      const view = Bokeh.index.get_by_id(id)\n      if (view != null) {\n        view.model.document.clear()\n        Bokeh.index.delete(view)\n      }\n    }\n\n    const cell = handle.cell;\n\n    const id = cell.output_area._bokeh_element_id;\n    const server_id = cell.output_area._bokeh_server_id;\n\n    // Clean up Bokeh references\n    if (id != null) {\n      drop(id)\n    }\n\n    if (server_id !== undefined) {\n      // Clean up Bokeh references\n      const cmd_clean = \"from bokeh.io.state import curstate; print(curstate().uuid_to_server['\" + server_id + \"'].get_sessions()[0].document.roots[0]._id)\";\n      cell.notebook.kernel.execute(cmd_clean, {\n        iopub: {\n          output: function(msg) {\n            const id = msg.content.text.trim()\n            drop(id)\n          }\n        }\n      });\n      // Destroy server and session\n      const cmd_destroy = \"import bokeh.io.notebook as ion; ion.destroy_server('\" + server_id + \"')\";\n      cell.notebook.kernel.execute(cmd_destroy);\n    }\n  }\n\n  /**\n   * Handle when a new output is added\n   */\n  function handleAddOutput(event, handle) {\n    const output_area = handle.output_area;\n    const output = handle.output;\n\n    // limit handleAddOutput to display_data with EXEC_MIME_TYPE content only\n    if ((output.output_type != \"display_data\") || (!Object.prototype.hasOwnProperty.call(output.data, EXEC_MIME_TYPE))) {\n      return\n    }\n\n    const toinsert = output_area.element.find(\".\" + CLASS_NAME.split(' ')[0]);\n\n    if (output.metadata[EXEC_MIME_TYPE][\"id\"] !== undefined) {\n      toinsert[toinsert.length - 1].firstChild.textContent = output.data[JS_MIME_TYPE];\n      // store reference to embed id on output_area\n      output_area._bokeh_element_id = output.metadata[EXEC_MIME_TYPE][\"id\"];\n    }\n    if (output.metadata[EXEC_MIME_TYPE][\"server_id\"] !== undefined) {\n      const bk_div = document.createElement(\"div\");\n      bk_div.innerHTML = output.data[HTML_MIME_TYPE];\n      const script_attrs = bk_div.children[0].attributes;\n      for (let i = 0; i < script_attrs.length; i++) {\n        toinsert[toinsert.length - 1].firstChild.setAttribute(script_attrs[i].name, script_attrs[i].value);\n        toinsert[toinsert.length - 1].firstChild.textContent = bk_div.children[0].textContent\n      }\n      // store reference to server id on output_area\n      output_area._bokeh_server_id = output.metadata[EXEC_MIME_TYPE][\"server_id\"];\n    }\n  }\n\n  function register_renderer(events, OutputArea) {\n\n    function append_mime(data, metadata, element) {\n      // create a DOM node to render to\n      const toinsert = this.create_output_subarea(\n        metadata,\n        CLASS_NAME,\n        EXEC_MIME_TYPE\n      );\n      this.keyboard_manager.register_events(toinsert);\n      // Render to node\n      const props = {data: data, metadata: metadata[EXEC_MIME_TYPE]};\n      render(props, toinsert[toinsert.length - 1]);\n      element.append(toinsert);\n      return toinsert\n    }\n\n    /* Handle when an output is cleared or removed */\n    events.on('clear_output.CodeCell', handleClearOutput);\n    events.on('delete.Cell', handleClearOutput);\n\n    /* Handle when a new output is added */\n    events.on('output_added.OutputArea', handleAddOutput);\n\n    /**\n     * Register the mime type and append_mime function with output_area\n     */\n    OutputArea.prototype.register_mime_type(EXEC_MIME_TYPE, append_mime, {\n      /* Is output safe? */\n      safe: true,\n      /* Index of renderer in `output_area.display_order` */\n      index: 0\n    });\n  }\n\n  // register the mime type if in Jupyter Notebook environment and previously unregistered\n  if (root.Jupyter !== undefined) {\n    const events = require('base/js/events');\n    const OutputArea = require('notebook/js/outputarea').OutputArea;\n\n    if (OutputArea.prototype.mime_types().indexOf(EXEC_MIME_TYPE) == -1) {\n      register_renderer(events, OutputArea);\n    }\n  }\n  if (typeof (root._bokeh_timeout) === \"undefined\" || force === true) {\n    root._bokeh_timeout = Date.now() + 5000;\n    root._bokeh_failed_load = false;\n  }\n\n  const NB_LOAD_WARNING = {'data': {'text/html':\n     \"<div style='background-color: #fdd'>\\n\"+\n     \"<p>\\n\"+\n     \"BokehJS does not appear to have successfully loaded. If loading BokehJS from CDN, this \\n\"+\n     \"may be due to a slow or bad network connection. Possible fixes:\\n\"+\n     \"</p>\\n\"+\n     \"<ul>\\n\"+\n     \"<li>re-rerun `output_notebook()` to attempt to load from CDN again, or</li>\\n\"+\n     \"<li>use INLINE resources instead, as so:</li>\\n\"+\n     \"</ul>\\n\"+\n     \"<code>\\n\"+\n     \"from bokeh.resources import INLINE\\n\"+\n     \"output_notebook(resources=INLINE)\\n\"+\n     \"</code>\\n\"+\n     \"</div>\"}};\n\n  function display_loaded(error = null) {\n    const el = document.getElementById(\"dd2f756a-400f-4504-9360-10f45e5acc99\");\n    if (el != null) {\n      const html = (() => {\n        if (typeof root.Bokeh === \"undefined\") {\n          if (error == null) {\n            return \"BokehJS is loading ...\";\n          } else {\n            return \"BokehJS failed to load.\";\n          }\n        } else {\n          const prefix = `BokehJS ${root.Bokeh.version}`;\n          if (error == null) {\n            return `${prefix} successfully loaded.`;\n          } else {\n            return `${prefix} <b>encountered errors</b> while loading and may not function as expected.`;\n          }\n        }\n      })();\n      el.innerHTML = html;\n\n      if (error != null) {\n        const wrapper = document.createElement(\"div\");\n        wrapper.style.overflow = \"auto\";\n        wrapper.style.height = \"5em\";\n        wrapper.style.resize = \"vertical\";\n        const content = document.createElement(\"div\");\n        content.style.fontFamily = \"monospace\";\n        content.style.whiteSpace = \"pre-wrap\";\n        content.style.backgroundColor = \"rgb(255, 221, 221)\";\n        content.textContent = error.stack ?? error.toString();\n        wrapper.append(content);\n        el.append(wrapper);\n      }\n    } else if (Date.now() < root._bokeh_timeout) {\n      setTimeout(() => display_loaded(error), 100);\n    }\n  }\n\n  function run_callbacks() {\n    try {\n      root._bokeh_onload_callbacks.forEach(function(callback) {\n        if (callback != null)\n          callback();\n      });\n    } finally {\n      delete root._bokeh_onload_callbacks\n    }\n    console.debug(\"Bokeh: all callbacks have finished\");\n  }\n\n  function load_libs(css_urls, js_urls, callback) {\n    if (css_urls == null) css_urls = [];\n    if (js_urls == null) js_urls = [];\n\n    root._bokeh_onload_callbacks.push(callback);\n    if (root._bokeh_is_loading > 0) {\n      console.debug(\"Bokeh: BokehJS is being loaded, scheduling callback at\", now());\n      return null;\n    }\n    if (js_urls == null || js_urls.length === 0) {\n      run_callbacks();\n      return null;\n    }\n    console.debug(\"Bokeh: BokehJS not loaded, scheduling load and callback at\", now());\n    root._bokeh_is_loading = css_urls.length + js_urls.length;\n\n    function on_load() {\n      root._bokeh_is_loading--;\n      if (root._bokeh_is_loading === 0) {\n        console.debug(\"Bokeh: all BokehJS libraries/stylesheets loaded\");\n        run_callbacks()\n      }\n    }\n\n    function on_error(url) {\n      console.error(\"failed to load \" + url);\n    }\n\n    for (let i = 0; i < css_urls.length; i++) {\n      const url = css_urls[i];\n      const element = document.createElement(\"link\");\n      element.onload = on_load;\n      element.onerror = on_error.bind(null, url);\n      element.rel = \"stylesheet\";\n      element.type = \"text/css\";\n      element.href = url;\n      console.debug(\"Bokeh: injecting link tag for BokehJS stylesheet: \", url);\n      document.body.appendChild(element);\n    }\n\n    for (let i = 0; i < js_urls.length; i++) {\n      const url = js_urls[i];\n      const element = document.createElement('script');\n      element.onload = on_load;\n      element.onerror = on_error.bind(null, url);\n      element.async = false;\n      element.src = url;\n      console.debug(\"Bokeh: injecting script tag for BokehJS library: \", url);\n      document.head.appendChild(element);\n    }\n  };\n\n  function inject_raw_css(css) {\n    const element = document.createElement(\"style\");\n    element.appendChild(document.createTextNode(css));\n    document.body.appendChild(element);\n  }\n\n  const js_urls = [\"https://cdn.bokeh.org/bokeh/release/bokeh-3.5.1.min.js\", \"https://cdn.bokeh.org/bokeh/release/bokeh-gl-3.5.1.min.js\", \"https://cdn.bokeh.org/bokeh/release/bokeh-widgets-3.5.1.min.js\", \"https://cdn.bokeh.org/bokeh/release/bokeh-tables-3.5.1.min.js\", \"https://cdn.bokeh.org/bokeh/release/bokeh-mathjax-3.5.1.min.js\"];\n  const css_urls = [];\n\n  const inline_js = [    function(Bokeh) {\n      Bokeh.set_log_level(\"info\");\n    },\nfunction(Bokeh) {\n    }\n  ];\n\n  function run_inline_js() {\n    if (root.Bokeh !== undefined || force === true) {\n      try {\n            for (let i = 0; i < inline_js.length; i++) {\n      inline_js[i].call(root, root.Bokeh);\n    }\n\n      } catch (error) {display_loaded(error);throw error;\n      }if (force === true) {\n        display_loaded();\n      }} else if (Date.now() < root._bokeh_timeout) {\n      setTimeout(run_inline_js, 100);\n    } else if (!root._bokeh_failed_load) {\n      console.log(\"Bokeh: BokehJS failed to load within specified timeout.\");\n      root._bokeh_failed_load = true;\n    } else if (force !== true) {\n      const cell = $(document.getElementById(\"dd2f756a-400f-4504-9360-10f45e5acc99\")).parents('.cell').data().cell;\n      cell.output_area.append_execute_result(NB_LOAD_WARNING)\n    }\n  }\n\n  if (root._bokeh_is_loading === 0) {\n    console.debug(\"Bokeh: BokehJS loaded, going straight to plotting\");\n    run_inline_js();\n  } else {\n    load_libs(css_urls, js_urls, function() {\n      console.debug(\"Bokeh: BokehJS plotting callback run at\", now());\n      run_inline_js();\n    });\n  }\n}(window));",
      "application/vnd.bokehjs_load.v0+json": ""
     },
     "metadata": {},
     "output_type": "display_data"
    },
    {
     "data": {
      "text/html": [
       "\n",
       "  <div id=\"c225f3e9-84cf-4d22-924d-787460cf5a96\" data-root-id=\"p1001\" style=\"display: contents;\"></div>\n"
      ]
     },
     "metadata": {},
     "output_type": "display_data"
    },
    {
     "data": {
      "application/javascript": "(function(root) {\n  function embed_document(root) {\n  const docs_json = {\"9b9748eb-c24d-4dea-a2b0-194dee6b4c33\":{\"version\":\"3.5.1\",\"title\":\"Bokeh Application\",\"roots\":[{\"type\":\"object\",\"name\":\"Figure\",\"id\":\"p1001\",\"attributes\":{\"x_range\":{\"type\":\"object\",\"name\":\"DataRange1d\",\"id\":\"p1002\"},\"y_range\":{\"type\":\"object\",\"name\":\"DataRange1d\",\"id\":\"p1003\"},\"x_scale\":{\"type\":\"object\",\"name\":\"LinearScale\",\"id\":\"p1011\"},\"y_scale\":{\"type\":\"object\",\"name\":\"LinearScale\",\"id\":\"p1012\"},\"title\":{\"type\":\"object\",\"name\":\"Title\",\"id\":\"p1004\",\"attributes\":{\"text\":\"word2vec T-SNE (eng model, top1000 words)\"}},\"renderers\":[{\"type\":\"object\",\"name\":\"GlyphRenderer\",\"id\":\"p1036\",\"attributes\":{\"data_source\":{\"type\":\"object\",\"name\":\"ColumnDataSource\",\"id\":\"p1027\",\"attributes\":{\"selected\":{\"type\":\"object\",\"name\":\"Selection\",\"id\":\"p1028\",\"attributes\":{\"indices\":[],\"line_indices\":[]}},\"selection_policy\":{\"type\":\"object\",\"name\":\"UnionRenderers\",\"id\":\"p1029\"},\"data\":{\"type\":\"map\",\"entries\":[[\"x1\",{\"type\":\"ndarray\",\"array\":{\"type\":\"bytes\",\"data\":\"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\"},\"shape\":[1000],\"dtype\":\"float32\",\"order\":\"little\"}],[\"x2\",{\"type\":\"ndarray\",\"array\":{\"type\":\"bytes\",\"data\":\"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\"},\"shape\":[1000],\"dtype\":\"float32\",\"order\":\"little\"}],[\"names\",[\"\\u00ab\",\"\\u00bb\",\"\\u0433\\u043e\\u0434\",\"\\u043a\\u043e\\u0442\\u043e\\u0440\\u044b\\u0439\",\"\\u2014\",\"\\u0441\\u043e\\u043e\\u0431\\u0449\\u0430\\u0442\\u044c\",\"\\u0440\\u043e\\u0441\\u0441\\u0438\\u044f\",\"\\u0442\\u0430\\u043a\\u0436\\u0435\",\"\\u0441\\u0432\\u043e\\u0439\",\"\\u0432\\u0440\\u0435\\u043c\\u044f\",\"\\u0437\\u0430\\u044f\\u0432\\u0438\\u0442\\u044c\",\"\\u043a\\u043e\\u043c\\u043f\\u0430\\u043d\\u0438\\u044f\",\"\\u044d\\u0442\\u043e\",\"\\u0441\\u0442\\u0430\\u0442\\u044c\",\"\\u0440\\u043e\\u0441\\u0441\\u0438\\u0439\\u0441\\u043a\\u0438\\u0439\",\"\\u0441\\u043b\\u043e\\u0432\\u043e\",\"\\u043f\\u0440\\u0435\\u0437\\u0438\\u0434\\u0435\\u043d\\u0442\",\"\\u0447\\u0435\\u043b\\u043e\\u0432\\u0435\\u043a\",\"\\u043d\\u043e\\u0432\\u044b\\u0439\",\"\\u0442\\u044b\\u0441\\u044f\\u0447\\u0430\",\"\\u043f\\u0440\\u043e\\u0446\\u0435\\u043d\\u0442\",\"\\u043f\\u0435\\u0440\\u0432\\u044b\\u0439\",\"\\u0441\\u0442\\u0440\\u0430\\u043d\\u0430\",\"\\u043e\\u0434\\u0438\\u043d\",\"\\u043c\\u0438\\u043b\\u043b\\u0438\\u043e\\u043d\",\"\\u043f\\u043e\\u043b\\u0443\\u0447\\u0438\\u0442\\u044c\",\"\\u043e\\u0434\\u043d\\u0430\\u043a\\u043e\",\"\\u0434\\u0435\\u043b\\u043e\",\"\\u0441\\u0448\\u0430\",\"\\u0440\\u0430\\u043d\\u0435\\u0435\",\"\\u043f\\u0440\\u0435\\u0434\\u0441\\u0442\\u0430\\u0432\\u0438\\u0442\\u0435\\u043b\\u044c\",\"\\u0441\\u043e\\u043e\\u0431\\u0449\\u0438\\u0442\\u044c\",\"\\u0434\\u0430\\u043d\\u043d\\u044b\\u0435\",\"\\u0433\\u043b\\u0430\\u0432\\u0430\",\"\\u043c\\u043e\\u0441\\u043a\\u0432\\u0430\",\"\\u0442\\u0430\\u043a\\u043e\\u0439\",\"\\u0433\\u043e\\u0434\\u0430.\",\"\\u043e\\u043a\\u043e\\u043b\\u043e\",\"\\u0431\\u044b\\u0442\\u044c\",\"\\u0440\\u0435\\u0437\\u0443\\u043b\\u044c\\u0442\\u0430\\u0442\",\"\\u043d\\u0430\\u0445\\u043e\\u0434\\u0438\\u0442\\u044c\\u0441\\u044f\",\"\\u044f\\u0432\\u043b\\u044f\\u0442\\u044c\\u0441\\u044f\",\"\\u0441\\u0443\\u0434\",\"\\u0434\\u043e\\u043b\\u0436\\u043d\\u044b\\u0439\",\"\\u0434\\u043e\\u043b\\u043b\\u0430\\u0440\",\"\\u043c\\u0435\\u0441\\u0442\\u043e\",\"\\u043e\\u0442\\u043c\\u0435\\u0442\\u0438\\u0442\\u044c\",\"\\u043d\\u0435\\u0441\\u043a\\u043e\\u043b\\u044c\\u043a\\u043e\",\"\\u0440\\u0435\\u0448\\u0435\\u043d\\u0438\\u0435\",\"\\u0432\\u043b\\u0430\\u0441\\u0442\\u044c\",\"\\u0433\\u043e\\u0440\\u043e\\u0434\",\"\\u0434\\u0435\\u043d\\u044c\",\"\\u0430\\u0433\\u0435\\u043d\\u0442\\u0441\\u0442\\u0432\\u043e\",\"\\u043c\\u0438\\u043b\\u043b\\u0438\\u0430\\u0440\\u0434\",\"\\u043c\\u0438\\u043d\\u0438\\u0441\\u0442\\u0440\",\"\\u0434\\u0440\\u0443\\u0433\\u043e\\u0439\",\"\\u0438\\u043d\\u0444\\u043e\\u0440\\u043c\\u0430\\u0446\\u0438\\u044f\",\"\\u0430\\u043c\\u0435\\u0440\\u0438\\u043a\\u0430\\u043d\\u0441\\u043a\\u0438\\u0439\",\"\\u0440\\u0430\\u0431\\u043e\\u0442\\u0430\",\"\\u0434\\u0432\\u0430\",\"\\u0443\\u043a\\u0440\\u0430\\u0438\\u043d\\u0430\",\"\\u0441\\u0430\\u0439\\u0442\",\"\\u043f\\u0440\\u0438\\u043d\\u044f\\u0442\\u044c\",\"\\u0441\\u043e\\u043e\\u0431\\u0449\\u0430\\u0442\\u044c\\u0441\\u044f\",\"\\u0432\\u043e\\u0435\\u043d\\u043d\\u044b\\u0439\",\"\\u043a\\u0440\\u043e\\u043c\\u0435\",\"\\u043c\\u043e\\u0447\\u044c\",\"\\u043f\\u043e\\u0441\\u043b\\u0435\\u0434\\u043d\\u0438\\u0439\",\"\\u043f\\u0440\\u0430\\u0432\\u0438\\u0442\\u0435\\u043b\\u044c\\u0441\\u0442\\u0432\\u043e\",\"\\u043f\\u0440\\u043e\\u0438\\u0437\\u043e\\u0439\\u0442\\u0438\",\"\\u0441\\u043e\\u0442\\u0440\\u0443\\u0434\\u043d\\u0438\\u043a\",\"\\u0447\\u0438\\u0441\\u043b\\u043e\",\"\\u0447\\u0430\\u0441\\u0442\\u044c\",\"\\u0441\\u043b\\u0443\\u0436\\u0431\\u0430\",\"\\u043f\\u0440\\u043e\\u0435\\u043a\\u0442\",\"\\u0440\\u0438\\u0430\",\"\\u0433\\u0440\\u0443\\u043f\\u043f\\u0430\",\"\\u043f\\u0440\\u0435\\u0441\\u0441\",\"\\u0440\\u0443\\u0431\\u043b\\u044c\",\"\\u043d\\u0430\\u0447\\u0430\\u043b\\u043e\",\"\\u0431\\u044b\\u0432\\u0448\\u0438\\u0439\",\"\\u043f\\u043e\\u043a\\u0430\",\"\\u0433\\u0430\\u0437\\u0435\\u0442\\u0430\",\"\\u0434\\u043e\\u043c\",\"the\",\"\\u043e\\u0440\\u0433\\u0430\\u043d\\u0438\\u0437\\u0430\\u0446\\u0438\\u044f\",\"\\u0432\\u0442\\u043e\\u0440\\u043e\\u0439\",\"\\u0441\\u0441\\u044b\\u043b\\u043a\\u0430\",\"\\u043f\\u0440\\u043e\\u0432\\u0435\\u0441\\u0442\\u0438\",\"\\u0430\\u043a\\u0446\\u0438\\u044f\",\"\\u043b\\u0435\\u0442\\u043d\\u0438\\u0439\",\"\\u044d\\u0442\\u043e\\u0442\",\"\\u0441\\u043a\\u0430\\u0437\\u0430\\u0442\\u044c\",\"\\u043d\\u043e\\u0432\\u043e\\u0441\\u0442\\u044c\",\"\\u043c\\u043e\\u0441\\u043a\\u043e\\u0432\\u0441\\u043a\\u0438\\u0439\",\"\\u043f\\u0440\\u043e\\u0442\\u0438\\u0432\",\"\\u0438\\u0437\\u0434\\u0430\\u043d\\u0438\\u0435\",\"\\u0441\\u0432\\u044f\\u0437\\u044c\",\"\\u043c\\u0430\\u0440\\u0442\",\"\\u0443\\u0447\\u0430\\u0441\\u0442\\u0438\\u0435\",\"\\u0442\\u0435\\u0440\\u0440\\u0438\\u0442\\u043e\\u0440\\u0438\\u044f\",\"10\",\"\\u043e\\u0442\\u043d\\u043e\\u0448\\u0435\\u043d\\u0438\\u0435\",\"\\u0441\\u0442\\u043e\\u0440\\u043e\\u043d\\u0430\",\"\\u043a\\u043e\\u043d\\u0435\\u0446\",\"\\u043f\\u0435\\u0440\\u0435\\u0434\\u0430\\u0432\\u0430\\u0442\\u044c\",\"\\u0440\\u0444\",\"\\u043e\\u0444\\u0438\\u0446\\u0438\\u0430\\u043b\\u044c\\u043d\\u044b\\u0439\",\"\\u0432\\u043b\\u0430\\u0434\\u0438\\u043c\\u0438\\u0440\",\"\\u0441\\u043e\\u0441\\u0442\\u0430\\u0432\\u0438\\u0442\\u044c\",\"\\u043c\\u0438\\u0440\",\"\\u0441\\u0435\\u043d\\u0442\\u044f\\u0431\\u0440\\u044c\",\"\\u0434\\u0435\\u043a\\u0430\\u0431\\u0440\\u044c\",\"\\u0437\\u0430\\u0434\\u0435\\u0440\\u0436\\u0430\\u0442\\u044c\",\"\\u043e\\u0431\\u043b\\u0430\\u0441\\u0442\\u044c\",\"\\u043f\\u0438\\u0441\\u0430\\u0442\\u044c\",\"\\u0446\\u0435\\u043d\\u0442\\u0440\",\"\\u044f\\u043d\\u0432\\u0430\\u0440\\u044c\",\"\\u043b\\u0438\\u0434\\u0435\\u0440\",\"20\",\"\\u0432\\u043e\\u043f\\u0440\\u043e\\u0441\",\"\\u0440\\u0430\\u0431\\u043e\\u0442\\u0430\\u0442\\u044c\",\"\\u0431\\u0430\\u043d\\u043a\",\"\\u0441\\u0438\\u0441\\u0442\\u0435\\u043c\\u0430\",\"\\u043e\\u043a\\u0442\\u044f\\u0431\\u0440\\u044c\",\"\\u043d\\u043e\\u044f\\u0431\\u0440\\u044c\",\"\\u0438\\u043d\\u0442\\u0435\\u0440\\u0444\\u0430\\u043a\\u0441\",\"\\u043c\\u0430\\u0442\\u0447\",\"\\u043f\\u0430\\u0440\\u0442\\u0438\\u044f\",\"\\u0442\\u043e\\u0442\",\"\\u0440\\u0430\\u0441\\u0441\\u043a\\u0430\\u0437\\u0430\\u0442\\u044c\",\"\\u0441\\u0430\\u043c\\u043e\\u043b\\u0451\\u0442\",\"\\u0445\\u043e\\u0434\",\"\\u043c\\u0435\\u0436\\u0434\\u0443\\u043d\\u0430\\u0440\\u043e\\u0434\\u043d\\u044b\\u0439\",\"\\u043c\\u0430\\u0439\",\"\\u0441\\u0447\\u0438\\u0442\\u0430\\u0442\\u044c\",\"\\u0430\\u043f\\u0440\\u0435\\u043b\\u044c\",\"\\u043f\\u043e\\u043b\\u0438\\u0446\\u0438\\u044f\",\"\\u043f\\u043e\\u0433\\u0438\\u0431\\u043d\\u0443\\u0442\\u044c\",\"\\u0438\\u0433\\u0440\\u0430\",\"\\u043d\\u0430\\u0441\\u0442\\u043e\\u044f\\u0449\\u0438\\u0439\",\"\\u043c\\u043d\\u0435\\u043d\\u0438\\u0435\",\"\\u0447\\u0430\\u0441\\u0442\\u043d\\u043e\\u0441\\u0442\\u044c\",\"\\u043a\\u0440\\u0443\\u043f\\u043d\\u044b\\u0439\",\"\\u0434\\u0430\\u0442\\u044c\",\"\\u0440\\u0430\\u0439\\u043e\\u043d\",\"\\u0438\\u044e\\u043d\\u044c\",\"\\u0438\\u044e\\u043b\\u044c\",\"\\u043f\\u0440\\u043e\\u0439\\u0442\\u0438\",\"\\u043f\\u0440\\u0430\\u0432\\u043e\",\"\\u043e\\u0431\\u044a\\u044f\\u0432\\u0438\\u0442\\u044c\",\"\\u0444\\u0435\\u0432\\u0440\\u0430\\u043b\\u044c\",\"\\u0441\\u043b\\u0443\\u0447\\u0430\\u0439\",\"\\u0441\\u0430\\u043c\\u044b\\u0439\",\"\\u043c\\u0435\\u0441\\u0442\\u043d\\u044b\\u0439\",\"\\u043e\\u0442\\u043c\\u0435\\u0447\\u0430\\u0442\\u044c\",\"\\u0430\\u0432\\u0433\\u0443\\u0441\\u0442\",\"1\",\"15\",\"\\u0444\\u0438\\u043b\\u044c\\u043c\",\"\\u0438\\u0441\\u0442\\u043e\\u0447\\u043d\\u0438\\u043a\",\"\\u0443\\u043f\\u0440\\u0430\\u0432\\u043b\\u0435\\u043d\\u0438\\u0435\",\"30\",\"\\u0432\\u044b\\u0431\\u043e\\u0440\\u044b\",\"\\u0438\\u043c\\u0435\\u0442\\u044c\",\"\\u0434\\u043e\\u043b\\u043b\\u0430\\u0440\\u043e\\u0432.\",\"\\u0441\\u0447\\u0451\\u0442\",\"\\u0433\\u043e\\u0441\\u0443\\u0434\\u0430\\u0440\\u0441\\u0442\\u0432\\u043e\",\"\\u0441\\u043e\\u0441\\u0442\\u0430\\u0432\\u043b\\u044f\\u0442\\u044c\",\"\\u0447\\u043b\\u0435\\u043d\",\"\\u0434\\u0435\\u0439\\u0441\\u0442\\u0432\\u0438\\u0435\",\"\\u0437\\u0430\\u044f\\u0432\\u043b\\u0435\\u043d\\u0438\\u0435\",\"\\u0441\\u0438\\u043b\\u0430\",\"\\u0430\\u043b\\u0435\\u043a\\u0441\\u0430\\u043d\\u0434\\u0440\",\"\\u043f\\u043e\\u043c\\u043e\\u0449\\u044c\",\"\\u0441\\u0430\\u043c\",\"\\u043f\\u0440\\u0438\\u0447\\u0438\\u043d\\u0430\",\"\\u0447\\u0435\\u0442\\u044b\\u0440\\u0435\",\"\\u043a\\u043e\\u043c\\u0430\\u043d\\u0434\\u0430\",\"\\u0446\\u0435\\u043d\\u0430\",\"\\u043f\\u044f\\u0442\\u044c\",\"\\u0441\\u043e\\u0441\\u0442\\u043e\\u044f\\u0442\\u044c\\u0441\\u044f\",\"\\u0441\\u0434\\u0435\\u043b\\u0430\\u0442\\u044c\",\"\\u0440\\u044b\\u043d\\u043e\\u043a\",\"\\u0441\\u043e\\u0432\\u0435\\u0442\",\"\\u0443\\u0433\\u043e\\u043b\\u043e\\u0432\\u043d\\u044b\\u0439\",\"\\u0433\\u043b\\u0430\\u0432\\u043d\\u044b\\u0439\",\"\\u0441\\u043c\\u043e\\u0447\\u044c\",\"\\u043f\\u0440\\u043e\\u0433\\u0440\\u0430\\u043c\\u043c\\u0430\",\"\\u043e\\u043a\\u0430\\u0437\\u0430\\u0442\\u044c\\u0441\\u044f\",\"\\u0443\\u043a\\u0440\\u0430\\u0438\\u043d\\u0441\\u043a\\u0438\\u0439\",\"\\u0436\\u0438\\u0442\\u0435\\u043b\\u044c\",\"\\u043e\\u0431\\u0449\\u0438\\u0439\",\"\\u0441\\u043e\\u043e\\u0431\\u0449\\u0435\\u043d\\u0438\\u0435\",\"\\u043e\\u043f\\u0443\\u0431\\u043b\\u0438\\u043a\\u043e\\u0432\\u0430\\u0442\\u044c\",\"\\u043f\\u0440\\u0438\\u0437\\u043d\\u0430\\u0442\\u044c\",\"\\u0433\\u043e\\u0441\\u0443\\u0434\\u0430\\u0440\\u0441\\u0442\\u0432\\u0435\\u043d\\u043d\\u044b\\u0439\",\"\\u043d\\u0430\\u043f\\u043e\\u043c\\u043d\\u0438\\u0442\\u044c\",\"\\u043f\\u0440\\u0435\\u043c\\u044c\\u0435\\u0440\",\"\\u0432\\u044b\\u0439\\u0442\\u0438\",\"\\u043c\\u043e\\u043c\\u0435\\u043d\\u0442\",\"12\",\"\\u0432\\u0435\\u0440\\u0441\\u0438\\u044f\",\"\\u043e\\u0431\\u043d\\u0430\\u0440\\u0443\\u0436\\u0438\\u0442\\u044c\",\"\\u0437\\u0430\\u043a\\u043e\\u043d\",\"\\u0431\\u0435\\u0437\\u043e\\u043f\\u0430\\u0441\\u043d\\u043e\\u0441\\u0442\\u044c\",\"\\u0441\\u0435\\u0440\\u0433\\u0435\\u0439\",\"\\u0434\\u043e\\u043a\\u0443\\u043c\\u0435\\u043d\\u0442\",\"\\u0433\\u043e\\u0434\\u0443.\",\"\\u043d\\u0430\\u0446\\u0438\\u043e\\u043d\\u0430\\u043b\\u044c\\u043d\\u044b\\u0439\",\"\\u0434\\u0435\\u043f\\u0443\\u0442\\u0430\\u0442\",\"\\u0433\\u0440\\u0430\\u0436\\u0434\\u0430\\u043d\\u0438\\u043d\",\"\\u0434\\u0438\\u0440\\u0435\\u043a\\u0442\\u043e\\u0440\",\"2009\",\"\\u043d\\u0435\\u043a\\u043e\\u0442\\u043e\\u0440\\u044b\\u0439\",\"\\u043e\\u0440\\u0433\\u0430\\u043d\",\"\\u0432\\u0435\\u0441\\u044c\",\"\\u043d\\u0430\\u0447\\u0430\\u0442\\u044c\",\"\\u0433\\u043e\\u0432\\u043e\\u0440\\u0438\\u0442\\u044c\\u0441\\u044f\",\"2008\",\"\\u0441\\u043e\\u0433\\u043b\\u0430\\u0441\\u043d\\u043e\",\"2\",\"\\u0444\\u0435\\u0434\\u0435\\u0440\\u0430\\u043b\\u044c\\u043d\\u044b\\u0439\",\"\\u0437\\u0434\\u0430\\u043d\\u0438\\u0435\",\"\\u0440\\u0435\\u0441\\u043f\\u0443\\u0431\\u043b\\u0438\\u043a\\u0430\",\"\\u0441\\u0440\\u0435\\u0434\\u0441\\u0442\\u0432\\u043e\",\"\\u043d\\u0430\\u0437\\u0432\\u0430\\u0442\\u044c\",\"\\u0438\\u043c\\u044f\",\"\\u043f\\u043e\\u044f\\u0432\\u0438\\u0442\\u044c\\u0441\\u044f\",\"2010\",\"\\u0440\\u0443\\u0431\\u043b\\u0435\\u0439.\",\"\\u0438\\u0442\\u043e\\u0433\",\"\\u0441\\u043e\\u0441\\u0442\\u0430\\u0432\",\"\\u043c\\u0438\\u043d\\u0438\\u0441\\u0442\\u0435\\u0440\\u0441\\u0442\\u0432\\u043e\",\"\\u043f\\u0440\\u043e\\u0434\\u0430\\u0436\\u0430\",\"\\u0431\\u043b\\u0438\\u0437\\u043a\\u0438\\u0439\",\"\\u0441\\u0440\\u0435\\u0434\\u0438\",\"\\u0441\\u0442\\u0430\\u0442\\u044c\\u044f\",\"\\u0441\\u0440\\u043e\\u043a\",\"\\u0443\\u0447\\u0430\\u0441\\u0442\\u043d\\u0438\\u043a\",\"\\u0441\\u0431\\u043e\\u0440\\u043d\\u0430\\u044f\",\"11\",\"\\u0436\\u0443\\u0440\\u043d\\u0430\\u043b\\u0438\\u0441\\u0442\",\"2011\",\"\\u0441\\u043e\\u0437\\u0434\\u0430\\u0442\\u044c\",\"\\u043f\\u0443\\u0442\\u0438\\u043d\",\"25\",\"\\u0432\\u0441\\u0442\\u0440\\u0435\\u0447\\u0430\",\"\\u0434\\u043e\\u0431\\u0430\\u0432\\u0438\\u0442\\u044c\",\"\\u0441\\u0443\\u043c\\u043c\\u0430\",\"\\u043c\\u0435\\u0441\\u044f\\u0446\",\"\\u043f\\u043e\\u0441\\u0442\",\"\\u0438\\u0437\\u0432\\u0435\\u0441\\u0442\\u043d\\u043e\",\"\\u043f\\u043e\\u0441\\u0442\\u0440\\u0430\\u0434\\u0430\\u0442\\u044c\",\"\\u0440\\u0443\\u043a\\u043e\\u0432\\u043e\\u0434\\u0441\\u0442\\u0432\\u043e\",\"\\u043d\\u0430\\u0447\\u0430\\u0442\\u044c\\u0441\\u044f\",\"2012\",\"\\u0443\\u0434\\u0430\\u0442\\u044c\\u0441\\u044f\",\"\\u0443\\u0441\\u0442\\u0430\\u043d\\u043e\\u0432\\u0438\\u0442\\u044c\",\"\\u0431\\u0440\\u0438\\u0442\\u0430\\u043d\\u0441\\u043a\\u0438\\u0439\",\"\\u0441\\u0442\\u043e\\u0438\\u043c\\u043e\\u0441\\u0442\\u044c\",\"\\u043e\\u0431\\u0440\\u0430\\u0437\",\"\\u043f\\u043e\\u0434\\u0447\\u0435\\u0440\\u043a\\u043d\\u0443\\u0442\\u044c\",\"\\u043c\\u0435\\u0440\\u0430\",\"\\u043a\\u043b\\u0443\\u0431\",\"2014\",\"\\u0440\\u0435\\u0448\\u0438\\u0442\\u044c\",\"\\u0442\\u0440\\u0435\\u0442\\u0438\\u0439\",\"\\u0440\\u0435\\u0433\\u0438\\u043e\\u043d\",\"\\u043c\\u0443\\u0436\\u0447\\u0438\\u043d\\u0430\",\"\\u0438\\u0434\\u0442\\u0438\",\"\\u0443\\u0431\\u0438\\u0439\\u0441\\u0442\\u0432\\u043e\",\"\\u0440\\u0435\\u0431\\u0451\\u043d\\u043e\\u043a\",\"\\u043a\\u043e\\u043c\\u0438\\u0442\\u0435\\u0442\",\"\\u0441\\u0438\\u0442\\u0443\\u0430\\u0446\\u0438\\u044f\",\"\\u043e\\u0431\\u0432\\u0438\\u043d\\u0435\\u043d\\u0438\\u0435\",\"\\u0438\\u0441\\u043f\\u043e\\u043b\\u044c\\u0437\\u043e\\u0432\\u0430\\u0442\\u044c\",\"\\u0447\\u0435\\u043c\\u043f\\u0438\\u043e\\u043d\\u0430\\u0442\",\"\\u043e\\u043f\\u0435\\u0440\\u0430\\u0446\\u0438\\u044f\",\"\\u043e\\u0442\\u043a\\u0430\\u0437\\u0430\\u0442\\u044c\\u0441\\u044f\",\"\\u0440\\u0443\\u043a\\u043e\\u0432\\u043e\\u0434\\u0438\\u0442\\u0435\\u043b\\u044c\",\"\\u0440\\u044f\\u0434\",\"\\u043d\\u0430\\u0448\",\"14\",\"3\",\"\\u0447\\u0435\\u043b\\u043e\\u0432\\u0435\\u043a.\",\"\\u0432\\u043e\\u0437\\u043c\\u043e\\u0436\\u043d\\u043e\\u0441\\u0442\\u044c\",\"\\u0441\\u0440\\u0435\\u0434\\u0430\",\"16\",\"\\u0436\\u0435\\u043d\\u0449\\u0438\\u043d\\u0430\",\"\\u0442\\u0440\\u0438\",\"\\u043f\\u0440\\u043e\\u0445\\u043e\\u0434\\u0438\\u0442\\u044c\",\"\\u0440\\u0430\\u043c\\u043a\\u0430\",\"\\u0443\\u0442\\u0432\\u0435\\u0440\\u0436\\u0434\\u0430\\u0442\\u044c\",\"\\u0438\\u043d\\u0442\\u0435\\u0440\\u043d\\u0435\\u0442\",\"\\u043a\\u0430\\u0447\\u0435\\u0441\\u0442\\u0432\\u043e\",\"\\u0445\\u043e\\u0440\\u043e\\u0448\\u0438\\u0439\",\"\\u0441\\u0435\\u0442\\u044c\",\"\\u0442\\u0435\\u0447\\u0435\\u043d\\u0438\\u0435\",\"\\u0444\\u0438\\u043d\\u0430\\u043d\\u0441\\u043e\\u0432\\u044b\\u0439\",\"2015\",\"18\",\"\\u0441\\u0442\\u0440\\u043e\\u0438\\u0442\\u0435\\u043b\\u044c\\u0441\\u0442\\u0432\\u043e\",\"\\u043c\\u0430\\u0448\\u0438\\u043d\\u0430\",\"\\u043f\\u0440\\u0435\\u0434\\u043b\\u043e\\u0436\\u0438\\u0442\\u044c\",\"\\u0430\\u0432\\u0442\\u043e\\u043c\\u043e\\u0431\\u0438\\u043b\\u044c\",\"5\",\"\\u0438\\u0437\\u0432\\u0435\\u0441\\u0442\\u043d\\u044b\\u0439\",\"17\",\"\\u043f\\u0440\\u0430\\u0432\\u043e\\u043e\\u0445\\u0440\\u0430\\u043d\\u0438\\u0442\\u0435\\u043b\\u044c\\u043d\\u044b\\u0439\",\"\\u0432\\u044b\\u0441\\u0442\\u0443\\u043f\\u0430\\u0442\\u044c\",\"\\u0443\\u0447\\u0451\\u043d\\u044b\\u0439\",\"\\u0443\\u0440\\u043e\\u0432\\u0435\\u043d\\u044c\",\"\\u0441\\u043e\\u0437\\u0434\\u0430\\u043d\\u0438\\u0435\",\"\\u043f\\u0440\\u043e\\u0432\\u0435\\u0434\\u0435\\u043d\\u0438\\u0435\",\"\\u043b\\u0438\\u0446\\u043e\",\"\\u0432\\u0437\\u0440\\u044b\\u0432\",\"\\u0431\\u043e\\u043b\\u044c\\u0448\\u0438\\u0439\",\"\\u0434\\u0435\\u0439\\u0441\\u0442\\u0432\\u043e\\u0432\\u0430\\u0442\\u044c\",\"\\u0432\\u043c\\u0435\\u0441\\u0442\\u0435\",\"\\u0440\\u0430\\u0441\\u0441\\u043b\\u0435\\u0434\\u043e\\u0432\\u0430\\u043d\\u0438\\u0435\",\"4\",\"\\u043f\\u0435\\u0440\\u0435\\u0433\\u043e\\u0432\\u043e\\u0440\\u044b\",\"24\",\"\\u0438\\u043c\\u0435\\u043d\\u043d\\u043e\",\"\\u043e\\u0431\\u044a\\u0451\\u043c\",\"13\",\"\\u0448\\u0442\\u0430\\u0442\",\"\\u043f\\u043e\\u043d\\u0435\\u0434\\u0435\\u043b\\u044c\\u043d\\u0438\\u043a\",\"\\u043d\\u0430\\u0440\\u0443\\u0448\\u0435\\u043d\\u0438\\u0435\",\"\\u043f\\u043b\\u043e\\u0449\\u0430\\u0434\\u044c\",\"\\u0441\\u043f\\u0438\\u0441\\u043e\\u043a\",\"\\u043a\\u0430\\u043a\\u043e\\u0439\",\"\\u043c\\u0435\\u0442\\u0440\",\"\\u0441\\u043b\\u0435\\u0434\\u0441\\u0442\\u0432\\u0438\\u0435\",\"\\u043f\\u043b\\u0430\\u043d\\u0438\\u0440\\u043e\\u0432\\u0430\\u0442\\u044c\",\"2016\",\"\\u0434\\u0432\\u0438\\u0436\\u0435\\u043d\\u0438\\u0435\",\"2007\",\"\\u0432\\u044b\\u0441\\u043e\\u043a\\u0438\\u0439\",\"\\u043b\\u0438\\u0448\\u044c\",\"\\u0430\\u0434\\u043c\\u0438\\u043d\\u0438\\u0441\\u0442\\u0440\\u0430\\u0446\\u0438\\u044f\",\"\\u043f\\u043e\\u0437\\u0434\\u043d\\u0438\\u0439\",\"\\u0443\\u0441\\u043b\\u043e\\u0432\\u0438\\u0435\",\"\\u0434\\u043c\\u0438\\u0442\\u0440\\u0438\\u0439\",\"\\u0440\\u0430\\u0437\\u043c\\u0435\\u0440\",\"\\u0432\\u0442\\u043e\\u0440\\u043d\\u0438\\u043a\",\"\\u043a\\u043e\\u043b\\u0438\\u0447\\u0435\\u0441\\u0442\\u0432\\u043e\",\"\\u0440\\u0430\\u0437\\u0432\\u0438\\u0442\\u0438\\u0435\",\"50\",\"\\u0444\\u043e\\u043d\\u0434\",\"2013\",\"\\u0446\\u0435\\u043b\\u044c\",\"\\u0448\\u0435\\u0441\\u0442\\u044c\",\"\\u043d\\u0430\\u043f\\u0440\\u0430\\u0432\\u0438\\u0442\\u044c\",\"\\u043f\\u044f\\u0442\\u043d\\u0438\\u0446\\u0430\",\"\\u0433\\u0430\\u0437\",\"\\u043f\\u0440\\u0435\\u0434\\u0441\\u0435\\u0434\\u0430\\u0442\\u0435\\u043b\\u044c\",\"\\u0437\\u0430\\u043d\\u0438\\u043c\\u0430\\u0442\\u044c\\u0441\\u044f\",\"\\u0447\\u0435\\u0442\\u0432\\u0435\\u0440\\u0433\",\"\\u0447\\u0430\\u0441\",\"\\u0442\\u0435\\u043b\\u0435\\u043a\\u0430\\u043d\\u0430\\u043b\",\"\\u043c\\u0432\\u0434\",\"\\u043f\\u0440\\u0435\\u0434\\u0441\\u0442\\u0430\\u0432\\u0438\\u0442\\u044c\",\"\\u043f\\u043e\\u0434\\u043f\\u0438\\u0441\\u0430\\u0442\\u044c\",\"\\u0434\\u0435\\u044f\\u0442\\u0435\\u043b\\u044c\\u043d\\u043e\\u0441\\u0442\\u044c\",\"\\u0438\\u043d\\u0446\\u0438\\u0434\\u0435\\u043d\\u0442\",\"\\u0440\\u043e\\u0441\\u0442\",\"\\u043e\\u0441\\u0442\\u0430\\u0442\\u044c\\u0441\\u044f\",\"\\u0434\\u0435\\u043d\\u044c\\u0433\\u0430\",\"\\u043f\\u043e\\u0431\\u0435\\u0434\\u0430\",\"8\",\"\\u043d\\u0435\\u0434\\u0435\\u043b\\u044f\",\"\\u0432\\u0438\\u0434\",\"\\u043a\\u0430\\u0436\\u0434\\u044b\\u0439\",\"\\u0435\\u0432\\u0440\\u043e\\u043f\\u0435\\u0439\\u0441\\u043a\\u0438\\u0439\",\"\\u0433\\u043e\\u0432\\u043e\\u0440\\u0438\\u0442\\u044c\",\"\\u043e\\u0447\\u0435\\u0440\\u0435\\u0434\\u044c\",\"\\u0441\\u043c\\u0438\",\"\\u043f\\u043e\\u043b\\u0438\\u0442\\u0438\\u0447\\u0435\\u0441\\u043a\\u0438\\u0439\",\"6\",\"\\u0440\\u043e\\u0441\\u0441\\u0438\\u0438.\",\"\\u043c\\u0435\\u043d\\u0435\\u0435\",\"\\u0431\\u043e\\u0435\\u0432\\u0438\\u043a\",\"\\u0437\\u0430\\u043c\\u0435\\u0441\\u0442\\u0438\\u0442\\u0435\\u043b\\u044c\",\"\\u043f\\u043b\\u0430\\u043d\",\"\\u0440\\u043e\\u0441\\u0441\\u0438\\u044f\\u043d\\u0438\\u043d\",\"\\u043f\\u043e\\u0434\\u043e\\u0431\\u043d\\u044b\\u0439\",\"22\",\"\\u0437\\u0430\\u0442\\u0435\\u043c\",\"100\",\"\\u0441\\u043e\\u0441\\u0442\\u043e\\u044f\\u043d\\u0438\\u0435\",\"7\",\"19\",\"\\u0431\\u043e\\u043b\\u044c\\u0448\\u043e\\u0439\",\"\\u0441\\u043e\\u0433\\u043b\\u0430\\u0448\\u0435\\u043d\\u0438\\u0435\",\"\\u0445\\u043e\\u0442\\u0435\\u0442\\u044c\",\"\\u043f\\u043e\\u0434\\u0434\\u0435\\u0440\\u0436\\u043a\\u0430\",\"\\u0441\\u0442\\u043e\\u043b\\u0438\\u0446\\u0430\",\"\\u0437\\u0430\\u043f\\u0440\\u0435\\u0442\\u0438\\u0442\\u044c\",\"\\u043f\\u044b\\u0442\\u0430\\u0442\\u044c\\u0441\\u044f\",\"\\u044e\\u0436\\u043d\\u044b\\u0439\",\"\\u043f\\u043e\\u0434\\u043e\\u0437\\u0440\\u0435\\u0432\\u0430\\u0442\\u044c\",\"\\u0443\\u043b\\u0438\\u0446\\u0430\",\"\\u0436\\u0438\\u0437\\u043d\\u044c\",\"2006\",\"\\u0432\\u0435\\u0434\\u043e\\u043c\\u0441\\u0442\\u0432\\u043e\",\"\\u043f\\u0440\\u043e\\u043a\\u0443\\u0440\\u0430\\u0442\\u0443\\u0440\\u0430\",\"\\u0438\\u043d\\u043e\\u0441\\u0442\\u0440\\u0430\\u043d\\u043d\\u044b\\u0439\",\"\\u0432\\u044b\\u0437\\u0432\\u0430\\u0442\\u044c\",\"\\u043f\\u043e\\u043b\\u0438\\u0446\\u0435\\u0439\\u0441\\u043a\\u0438\\u0439\",\"\\u0437\\u0430\\u043d\\u0438\\u043c\\u0430\\u0442\\u044c\",\"\\u0432\\u044b\\u0441\\u0442\\u0443\\u043f\\u0438\\u0442\\u044c\",\"\\u043f\\u043e\\u043b\\u044c\\u0437\\u043e\\u0432\\u0430\\u0442\\u0435\\u043b\\u044c\",\"\\u043e\\u0440\\u0443\\u0436\\u0438\\u0435\",\"\\u043a\\u0432\\u0430\\u0440\\u0442\\u0438\\u0440\\u0430\",\"\\u043e\\u0431\\u043e\\u0440\\u043e\\u043d\\u0430\",\"\\u043c\\u0438\\u0440\\u043e\\u0432\\u043e\\u0439\",\"\\u043f\\u043e\\u043f\\u0430\\u0441\\u0442\\u044c\",\"21\",\"\\u044d\\u043a\\u043e\\u043d\\u043e\\u043c\\u0438\\u0447\\u0435\\u0441\\u043a\\u0438\\u0439\",\"\\u043d\\u0430\\u0439\\u0442\\u0438\",\"\\u043b\\u0435\\u043d\\u0442\\u0430.\\u0440\\u0443\",\"\\u0441\\u0435\\u0432\\u0435\\u0440\\u043d\\u044b\\u0439\",\"\\u043a\\u043e\\u043c\\u0438\\u0441\\u0441\\u0438\\u044f\",\"\\u043e\\u0431\\u044a\\u0435\\u043a\\u0442\",\"\\u043d\\u0435\\u0444\\u0442\\u044c\",\"\\u043d\\u0430\\u0437\\u044b\\u0432\\u0430\\u0442\\u044c\",\"\\u0444\\u0430\\u043a\\u0442\",\"27\",\"\\u0432\\u043e\\u0437\\u0431\\u0443\\u0434\\u0438\\u0442\\u044c\",\"9\",\"\\u043e\\u0447\\u0435\\u043d\\u044c\",\"\\u0440\\u0430\\u0441\\u043f\\u043e\\u043b\\u043e\\u0436\\u0438\\u0442\\u044c\",\"\\u043d\\u0430\\u043f\\u0438\\u0441\\u0430\\u0442\\u044c\",\"\\u043f\\u043b\\u0430\\u043d\\u0438\\u0440\\u043e\\u0432\\u0430\\u0442\\u044c\\u0441\\u044f\",\"\\u0430\\u043b\\u044c\",\"\\u0442\\u0435\\u0440\\u0430\\u043a\\u0442\",\"\\u043f\\u043e\\u0441\\u0442\\u0430\\u0432\\u043a\\u0430\",\"\\u043e\\u0442\\u043c\\u0435\\u0447\\u0430\\u0442\\u044c\\u0441\\u044f\",\"\\u0432\\u043e\\u043e\\u0440\\u0443\\u0436\\u0451\\u043d\\u043d\\u044b\\u0439\",\"23\",\"\\u0441\\u043b\\u0435\\u0434\\u0443\\u044e\\u0449\\u0438\\u0439\",\"26\",\"\\u0431\\u043e\\u0440\\u044c\\u0431\\u0430\",\"\\u0432\\u0435\\u0441\\u0442\\u0438\",\"\\u043a\\u0438\\u043b\\u043e\\u043c\\u0435\\u0442\\u0440\",\"\\u043f\\u0440\\u043e\\u0438\\u0437\\u0432\\u043e\\u0434\\u0441\\u0442\\u0432\\u043e\",\"\\u043f\\u0440\\u0435\\u0441\\u0442\\u0443\\u043f\\u043b\\u0435\\u043d\\u0438\\u0435\",\"\\u043f\\u0440\\u0438\\u0432\\u0435\\u0441\\u0442\\u0438\",\"\\u0437\\u0430\\u0441\\u0435\\u0434\\u0430\\u043d\\u0438\\u0435\",\"\\u0430\\u0432\\u0442\\u043e\\u0440\",\"\\u043f\\u043e\\u0434\\u0430\\u0442\\u044c\",\"\\u043e\\u043d.\",\"\\u0443\\u0447\\u0430\\u0441\\u0442\\u0432\\u043e\\u0432\\u0430\\u0442\\u044c\",\"\\u043f\\u043e\\u0441\\u0442\\u0443\\u043f\\u0438\\u0442\\u044c\",\"\\u043f\\u0440\\u0435\\u0434\\u043b\\u043e\\u0436\\u0435\\u043d\\u0438\\u0435\",\"\\u043f\\u0430\\u0440\\u043b\\u0430\\u043c\\u0435\\u043d\\u0442\",\"\\u0432\\u0435\\u043b\\u0438\\u043a\\u043e\\u0431\\u0440\\u0438\\u0442\\u0430\\u043d\\u0438\\u044f\",\"\\u0435\\u0432\\u0440\\u043e\\u043f\\u0430\",\"\\u043e\\u0431\\u0432\\u0438\\u043d\\u044f\\u0442\\u044c\",\"\\u043a\\u0430\\u0440\\u0442\\u0438\\u043d\\u0430\",\"\\u044d\\u043a\\u0441\\u043f\\u0435\\u0440\\u0442\",\"\\u043a\\u043e\\u043d\\u0442\\u0440\\u0430\\u043a\\u0442\",\"\\u043c\\u0438\\u0445\\u0430\\u0438\\u043b\",\"\\u043f\\u043e\\u043b\\u0438\\u0442\\u0438\\u043a\\u0430\",\"\\u043f\\u043e\\u0441\\u043a\\u043e\\u043b\\u044c\\u043a\\u0443\",\"\\u043a\\u043e\\u043c\\u043f\\u043b\\u0435\\u043a\\u0441\",\"\\u0441\\u043f\\u0435\\u0446\\u0438\\u0430\\u043b\\u044c\\u043d\\u044b\\u0439\",\"28\",\"\\u043a\\u0430\\u043d\\u0434\\u0438\\u0434\\u0430\\u0442\",\"\\u0435\\u0432\\u0440\\u043e\",\"\\u0441\\u043b\\u0435\\u0434\\u0441\\u0442\\u0432\\u0435\\u043d\\u043d\\u044b\\u0439\",\"\\u043e\\u0431\\u0440\\u0430\\u0442\\u0438\\u0442\\u044c\\u0441\\u044f\",\"\\u0441\\u043f\\u0435\\u0446\\u0438\\u0430\\u043b\\u0438\\u0441\\u0442\",\"\\u0430\\u0440\\u0435\\u0441\\u0442\\u043e\\u0432\\u0430\\u0442\\u044c\",\"\\u0440\\u0435\\u0447\\u044c\",\"\\u043a\\u0432\\u0430\\u0434\\u0440\\u0430\\u0442\\u043d\\u044b\\u0439\",\"\\u0442\\u0440\\u0435\\u0431\\u043e\\u0432\\u0430\\u043d\\u0438\\u0435\",\"\\u043f\\u043e\\u0434\\u0442\\u0432\\u0435\\u0440\\u0434\\u0438\\u0442\\u044c\",\"\\u0447\\u0438\\u043d\\u043e\\u0432\\u043d\\u0438\\u043a\",\"\\u0430\\u0434\\u0432\\u043e\\u043a\\u0430\\u0442\",\"\\u0441\\u043e\\u043e\\u0442\\u0432\\u0435\\u0442\\u0441\\u0442\\u0432\\u043e\\u0432\\u0430\\u0442\\u044c\",\"\\u043f\\u0440\\u043e\\u0431\\u043b\\u0435\\u043c\\u0430\",\"\\u043f\\u0443\\u043d\\u043a\\u0442\",\"\\u043f\\u0435\\u0440\\u0438\\u043e\\u0434\",\"\\u043b\\u0438\\u0431\\u043e\",\"\\u0441\\u0432\\u043e\\u0431\\u043e\\u0434\\u0430\",\"\\u0431\\u044e\\u0434\\u0436\\u0435\\u0442\",\"\\u043f\\u0440\\u0435\\u0434\\u043f\\u0440\\u0438\\u044f\\u0442\\u0438\\u0435\",\"\\u0438\\u0441\\u0442\\u043e\\u0440\\u0438\\u044f\",\"\\u043f\\u0435\\u0440\\u0435\\u0434\\u0430\\u0442\\u044c\",\"\\u0441\\u043e\\u0431\\u0441\\u0442\\u0432\\u0435\\u043d\\u043d\\u044b\\u0439\",\"\\u0437\\u0430\\u043d\\u044f\\u0442\\u044c\",\"\\u043c\\u0438\\u043d\\u0443\\u0442\\u0430\",\"\\u043e\\u0431\\u0449\\u0435\\u0441\\u0442\\u0432\\u0435\\u043d\\u043d\\u044b\\u0439\",\"\\u0434\\u0430\\u043d\\u043d\\u044b\\u0439\",\"\\u0430\\u044d\\u0440\\u043e\\u043f\\u043e\\u0440\\u0442\",\"\\u043c\\u0430\\u0442\\u0435\\u0440\\u0438\\u0430\\u043b\",\"\\u0432\\u0438\\u0446\\u0430\",\"\\u0432\\u0437\\u044f\\u0442\\u044c\",\"\\u043d\\u043e\\u0432\\u043e\\u0441\\u0442\\u0438.\",\"\\u0440\\u0430\\u043a\\u0435\\u0442\\u0430\",\"\\u0437\\u0430\\u043a\\u043b\\u044e\\u0447\\u0438\\u0442\\u044c\",\"\\u043f\\u043e\\u043a\\u0430\\u0437\\u0430\\u0442\\u044c\",\"\\u0432\\u043e\\u0439\\u043d\\u0430\",\"\\u0433\\u043e\\u0442\\u043e\\u0432\\u044b\\u0439\",\"\\u0434\\u0440\\u0443\\u0433\",\"\\u043f\\u0440\\u043e\\u0432\\u0435\\u0440\\u043a\\u0430\",\"\\u043a\\u043e\\u043d\\u0444\\u043b\\u0438\\u043a\\u0442\",\"\\u0433\\u043e\\u0441\\u0434\\u0443\\u043c\\u0430\",\"\\u0438\\u0441\\u0441\\u043b\\u0435\\u0434\\u043e\\u0432\\u0430\\u043d\\u0438\\u0435\",\"\\u0431\\u0430\\u0437\\u0430\",\"\\u043b\\u0435\\u0442.\",\"\\u043d\\u0438\\u043a\\u0430\\u043a\\u043e\\u0439\",\"\\u0432\\u0432\\u0435\\u0441\\u0442\\u0438\",\"\\u0438\\u0437\\u0440\\u0430\\u0438\\u043b\\u044c\",\"\\u043f\\u0440\\u0438\\u043d\\u0438\\u043c\\u0430\\u0442\\u044c\",\"\\u043f\\u0440\\u043e\\u0446\\u0435\\u0441\\u0441\",\"\\u043f\\u0440\\u0438\\u043d\\u0430\\u0434\\u043b\\u0435\\u0436\\u0430\\u0442\\u044c\",\"\\u043e\\u0441\\u043d\\u043e\\u0432\\u043d\\u044b\\u0439\",\"40\",\"\\u043d\\u0430\\u0437\\u0432\\u0430\\u043d\\u0438\\u0435\",\"\\u0441\\u0435\\u043c\\u044c\\u044f\",\"\\u0432\\u043e\\u0437\\u043c\\u043e\\u0436\\u043d\\u044b\\u0439\",\"\\u0438\\u043d\\u0442\\u0435\\u0440\\u0432\\u044c\\u044e\",\"\\u0432\\u043d\\u0443\\u0442\\u0440\\u0435\\u043d\\u043d\\u0438\\u0439\",\"\\u043d\\u0430\\u0437\\u043d\\u0430\\u0447\\u0438\\u0442\\u044c\",\"\\u0440\\u043e\\u043b\\u044c\",\"\\u0430\\u043b\\u0435\\u043a\\u0441\\u0435\\u0439\",\"\\u0442\\u043e\\u0440\\u0433\\u043e\\u0432\\u044b\\u0439\",\"\\u043f\\u043e\\u0437\\u0432\\u043e\\u043b\\u0438\\u0442\\u044c\",\"\\u0441\\u043e\\u0432\\u0435\\u0440\\u0448\\u0438\\u0442\\u044c\",\"\\u0437\\u0430\\u0449\\u0438\\u0442\\u0430\",\"\\u043d\\u043e\\u0447\\u044c\",\"\\u043f\\u043e\\u044f\\u0441\\u043d\\u0438\\u0442\\u044c\",\"29\",\"\\u043f\\u0435\\u0442\\u0435\\u0440\\u0431\\u0443\\u0440\\u0433\",\"\\u0443\\u0447\\u0430\\u0441\\u0442\\u043e\\u043a\",\"\\u043f\\u0440\\u0435\\u0434\\u0432\\u0430\\u0440\\u0438\\u0442\\u0435\\u043b\\u044c\\u043d\\u044b\\u0439\",\"\\u0433\\u0443\\u0431\\u0435\\u0440\\u043d\\u0430\\u0442\\u043e\\u0440\",\"\\u043f\\u0440\\u043e\\u0432\\u043e\\u0434\\u0438\\u0442\\u044c\",\"\\u0431\\u043e\\u043b\\u044c\\u0448\\u0438\\u043d\\u0441\\u0442\\u0432\\u043e\",\"\\u0433\\u043e\\u0440\\u043e\\u0434\\u0441\\u043a\\u043e\\u0439\",\"\\u0433\\u0435\\u0440\\u043c\\u0430\\u043d\\u0438\\u044f\",\"\\u043f\\u0440\\u0438\\u043c\\u0435\\u0440\\u043d\\u043e\",\"\\u0433\\u0440\\u0443\\u0437\\u0438\\u044f\",\"\\u0432\\u044b\\u043f\\u0443\\u0441\\u0442\\u0438\\u0442\\u044c\",\"\\u0432\\u044b\\u0440\\u0430\\u0441\\u0442\\u0438\",\"\\u0441\\u0435\\u043c\\u044c\",\"\\u0433\\u0440\\u0430\\u043d\\u0438\\u0446\\u0430\",\"\\u0430\\u043d\\u0434\\u0440\\u0435\\u0439\",\"\\u043f\\u0440\\u043e\\u0448\\u043b\\u044b\\u0439\",\"\\u0441\\u043e\\u0446\\u0438\\u0430\\u043b\\u044c\\u043d\\u044b\\u0439\",\"\\u0437\\u0430\\u044f\\u0432\\u043b\\u044f\\u0442\\u044c\",\"\\u0438\\u0440\\u0430\\u043a\",\"\\u0433\\u0435\\u043d\\u0435\\u0440\\u0430\\u043b\\u044c\\u043d\\u044b\\u0439\",\"\\u0432\\u0445\\u043e\\u0434\\u0438\\u0442\\u044c\",\"\\u043a\\u0430\\u043d\\u0430\\u043b\",\"\\u0441\\u0434\\u0435\\u043b\\u043a\\u0430\",\"\\u0432\\u043e\\u0439\\u0441\\u043a\\u043e\",\"\\u043d\\u0430\\u043f\\u0430\\u0434\\u0435\\u043d\\u0438\\u0435\",\"\\u0441\\u0432\\u044f\\u0437\\u0430\\u0442\\u044c\",\"\\u0444\\u0435\\u0434\\u0435\\u0440\\u0430\\u0446\\u0438\\u044f\",\"\\u0440\\u0443\\u0441\\u0441\\u043a\\u0438\\u0439\",\"\\u0441\\u0435\\u043a\\u0440\\u0435\\u0442\\u0430\\u0440\\u044c\",\"\\u0433\\u0440\\u0443\\u043f\\u043f\\u0438\\u0440\\u043e\\u0432\\u043a\\u0430\",\"\\u0432\\u043e\\u0439\\u0442\\u0438\",\"\\u043e\\u0431\\u0430\",\"\\u0441\\u043e\\u044e\\u0437\",\"\\u043c\\u044d\\u0440\",\"\\u0440\\u0430\\u0437\\u043b\\u0438\\u0447\\u043d\\u044b\\u0439\",\"\\u0442\\u0440\\u0435\\u0431\\u043e\\u0432\\u0430\\u0442\\u044c\",\"\\u0441\\u0435\\u0440\\u0438\\u044f\",\"\\u043d\\u0430\\u043c\\u0435\\u0440\\u0438\\u0442\\u044c\",\"\\u0440\\u0435\\u0436\\u0438\\u043c\",\"\\u043a\\u0438\\u0435\\u0432\",\"\\u0438\\u0441\\u043a\",\"\\u0442\\u0435\\u043b\\u043e\",\"\\u043f\\u0440\\u0435\\u0434\\u0441\\u0442\\u0430\\u0432\\u043b\\u044f\\u0442\\u044c\",\"\\u0441\\u0430\\u043d\\u043a\\u0442\",\"\\u0444\\u0440\\u0430\\u043d\\u0446\\u0438\\u044f\",\"\\u0432\\u0435\\u0447\\u0435\\u0440\\u043e\\u043c\",\"\\u0432\\u043e\\u0441\\u0435\\u043c\\u044c\",\"\\u2013\",\"2005\",\"\\u043d\\u044c\\u044e\",\"\\u0441\\u0442\\u043e\\u0438\\u0442\\u044c\",\"\\u0438\\u0441\\u043f\\u043e\\u043b\\u044c\\u0437\\u043e\\u0432\\u0430\\u043d\\u0438\\u0435\",\"\\u0432\\u0438\\u043a\\u0442\\u043e\\u0440\",\"\\u043f\\u043e\\u043c\\u0438\\u043c\\u043e\",\"\\u043e\\u0442\\u043a\\u0440\\u044b\\u0442\\u044c\",\"\\u043c\\u0430\\u0441\\u0441\\u043e\\u0432\\u044b\\u0439\",\"\\u0435\\u0434\\u0438\\u043d\\u044b\\u0439\",\"\\u043d\\u0430\\u0447\\u0430\\u043b\\u044c\\u043d\\u0438\\u043a\",\"\\u0432\\u043b\\u0430\\u0434\\u0435\\u043b\\u0435\\u0446\",\"\\u0433\\u0430\\u0437\\u043f\\u0440\\u043e\\u043c\",\"\\u0430\\u0440\\u043c\\u0438\\u044f\",\"\\u0441\\u0443\\u0431\\u0431\\u043e\\u0442\\u0430\",\"\\u0436\\u0443\\u0440\\u043d\\u0430\\u043b\",\"\\u043f\\u043e\\u043f\\u044b\\u0442\\u043a\\u0430\",\"\\u0432\\u043e\\u0441\\u043a\\u0440\\u0435\\u0441\\u0435\\u043d\\u0438\\u0435\",\"\\u043a\\u0438\\u0442\\u0430\\u0439\",\"\\u0443\\u0441\\u0442\\u0440\\u043e\\u0439\\u0441\\u0442\\u0432\\u043e\",\"\\u0436\\u0435\\u0440\\u0442\\u0432\\u0430\",\"\\u0432\\u0435\\u0440\\u0445\\u043e\\u0432\\u043d\\u044b\\u0439\",\"\\u0441\\u0432\\u0435\\u0434\\u0435\\u043d\\u0438\\u0435\",\"\\u0441\\u043c\\u0435\\u0440\\u0442\\u044c\",\"\\u043f\\u0440\\u0430\\u0432\\u0438\\u043b\\u043e\",\"\\u043f\\u0438\\u0441\\u044c\\u043c\\u043e\",\"\\u0434\\u0432\\u043e\\u0435\",\"\\u0441\\u0442\\u0430\\u043d\\u0446\\u0438\\u044f\",\"\\u043c\\u0435\\u0440\\u043e\\u043f\\u0440\\u0438\\u044f\\u0442\\u0438\\u0435\",\"\\u0442\\u0435\\u0440\\u0440\\u043e\\u0440\\u0438\\u0441\\u0442\",\"\\u0440\\u0435\\u043b\\u0438\\u0437\",\"\\u043d\\u043e\\u043c\\u0435\\u0440\",\"\\u0434\\u043e\\u043b\\u0436\\u043d\\u043e\\u0441\\u0442\\u044c\",\"\\u043e\\u0446\\u0435\\u043d\\u043a\\u0430\",\"\\u043f\\u043e\\u0440\\u044f\\u0434\\u043e\\u043a\",\"\\u043f\\u0440\\u043e\\u0434\\u0430\\u0442\\u044c\",\"\\u0437\\u0435\\u043c\\u043b\\u044f\",\"\\u0434\\u043e\\u0441\\u0442\\u0438\\u0433\\u043d\\u0443\\u0442\\u044c\",\"\\u0439\",\"\\u043f\\u043e\\u0440\\u0430\",\"\\u043e\\u0442\\u0441\\u0442\\u0430\\u0432\\u043a\\u0430\",\"\\u043f\\u0440\\u0438\\u0439\\u0442\\u0438\\u0441\\u044c\",\"\\u0441\\u043e\\u0431\\u0438\\u0440\\u0430\\u0442\\u044c\\u0441\\u044f\",\"\\u0442\\u0435\\u043a\\u0443\\u0449\\u0438\\u0439\",\"\\u0441\\u0435\\u0437\\u043e\\u043d\",\"\\u043e\\u0441\\u0442\\u0430\\u0432\\u0430\\u0442\\u044c\\u0441\\u044f\",\"\\u0438\\u0437\\u0440\\u0430\\u0438\\u043b\\u044c\\u0441\\u043a\\u0438\\u0439\",\"\\u0431\\u043e\\u0435\\u0432\\u043e\\u0439\",\"\\u043a\\u0443\\u0440\\u0441\",\"\\u043f\\u043e\\u0437\\u0438\\u0446\\u0438\\u044f\",\"\\u043f\\u043e\\u0436\\u0430\\u0440\",\"\\u0433\\u043e\",\"\\u0441\\u0443\\u0434\\u0435\\u0431\\u043d\\u044b\\u0439\",\"\\u0434\\u0435\\u0441\\u044f\\u0442\\u044c\",\"\\u043f\\u0440\\u043e\\u0446\\u0435\\u043d\\u0442\\u043e\\u0432.\",\"\\u0442\\u0440\\u0435\\u043d\\u0435\\u0440\",\"\\u043a\\u043e\\u043d\\u0442\\u0440\\u043e\\u043b\\u044c\",\"\\u043f\\u0440\\u0435\\u043c\\u0438\\u044f\",\"2017\",\"\\u0438\\u0433\\u0440\\u043e\\u043a\",\"\\u043f\\u043e\\u043b\\u043d\\u043e\\u0441\\u0442\\u044c\\u044e\",\"\\u0440\\u0435\\u0439\\u0442\\u0438\\u043d\\u0433\",\"\\u0441\\u0448\\u0430.\",\"\\u0443\\u0431\\u0438\\u0442\\u044c\",\"\\u0444\\u0440\\u0430\\u043d\\u0446\\u0443\\u0437\\u0441\\u043a\\u0438\\u0439\",\"\\u043d\\u0435\\u043e\\u0431\\u0445\\u043e\\u0434\\u0438\\u043c\\u044b\\u0439\",\"associated\",\"\\u043f\\u043e\\u043a\\u0438\\u043d\\u0443\\u0442\\u044c\",\"\\u0440\\u0435\\u0433\\u0438\\u043e\\u043d\\u0430\\u043b\\u044c\\u043d\\u044b\\u0439\",\"\\u043e\\u043e\\u043d\",\"\\u043f\\u0430\\u0441\\u0441\\u0430\\u0436\\u0438\\u0440\",\"\\u0432\\u044b\\u0440\\u0430\\u0437\\u0438\\u0442\\u044c\",\"\\u043f\\u0440\\u043e\\u0446\\u0435\\u043d\\u0442\\u0430.\",\"31\",\"\\u043d\\u0435\\u043c\\u0435\\u0446\\u043a\\u0438\\u0439\",\"\\u043a\\u043e\\u0440\\u0430\\u0431\\u043b\\u044c\",\"\\u0446\\u0435\\u043d\\u0442\\u0440\\u0430\\u043b\\u044c\\u043d\\u044b\\u0439\",\"\\u0437\\u0430\\u043a\\u043e\\u043d\\u043e\\u043f\\u0440\\u043e\\u0435\\u043a\\u0442\",\"\\u0432\\u043e\\u0434\\u0430\",\"\\u043c\\u043e\\u043b\\u043e\\u0434\\u043e\\u0439\",\"\\u043e\\u0431\\u0432\\u0438\\u043d\\u0438\\u0442\\u044c\",\"\\u0433\\u0440\\u0430\\u0436\\u0434\\u0430\\u043d\\u0441\\u043a\\u0438\\u0439\",\"\\u0438\\u0437\\u043c\\u0435\\u043d\\u0435\\u043d\\u0438\\u0435\",\"\\u043d\\u0435\\u0437\\u0430\\u043a\\u043e\\u043d\\u043d\\u044b\\u0439\",\"\\u043f\\u043e\\u0432\\u043e\\u0434\",\"\\u0443\\u0442\\u043e\\u0447\\u043d\\u0438\\u0442\\u044c\",\"\\u0440\\u0430\\u0437\\u0440\\u0430\\u0431\\u043e\\u0442\\u043a\\u0430\",\"\\u0443\\u0433\\u0440\\u043e\\u0437\\u0430\",\"\\u0432\\u043f\\u0435\\u0440\\u0432\\u044b\\u0435\",\"\\u043c\\u0430\\u0433\\u0430\\u0437\\u0438\\u043d\",\"\\u043f\\u043e\\u043a\\u0430\\u0437\\u0430\\u0442\\u0435\\u043b\\u044c\",\"\\u044e\\u0440\\u0438\\u0439\",\"\\u043f\\u0440\\u043e\\u0448\\u043b\\u043e\\u0435\",\"\\u043e\\u0436\\u0438\\u0434\\u0430\\u0442\\u044c\\u0441\\u044f\",\"\\u043e\\u0442\\u0432\\u0435\\u0442\\u0441\\u0442\\u0432\\u0435\\u043d\\u043d\\u043e\\u0441\\u0442\\u044c\",\"2004\",\"\\u043f\\u043e\\u043b\\u043d\\u044b\\u0439\",\"\\u044d\\u043a\\u043e\\u043d\\u043e\\u043c\\u0438\\u043a\\u0430\",\"\\u0431\\u0438\\u0437\\u043d\\u0435\\u0441\",\"\\u0432\\u044b\\u0445\\u043e\\u0434\",\"\\u043f\\u043e\\u0434\\u0433\\u043e\\u0442\\u043e\\u0432\\u043a\\u0430\",\"\\u0441\\u0447\\u0438\\u0442\\u0430\\u0442\\u044c\\u0441\\u044f\",\"reuters.\",\"\\u043f\\u0440\\u0438\\u0437\\u0432\\u0430\\u0442\\u044c\",\"\\u043f\\u0440\\u043e\\u0432\\u043e\\u0434\\u0438\\u0442\\u044c\\u0441\\u044f\",\"\\u043f\\u043e\\u043b\\u0443\\u0447\\u0430\\u0442\\u044c\",\"\\u043f\\u043e\\u0442\\u0440\\u0435\\u0431\\u043e\\u0432\\u0430\\u0442\\u044c\",\"\\u0437\\u0430\\u043f\\u0430\\u0434\\u043d\\u044b\\u0439\",\"\\u0447\\u0435\\u043c\\u043f\\u0438\\u043e\\u043d\",\"\\u043f\\u0440\\u0435\\u0434\\u043f\\u043e\\u043b\\u0430\\u0433\\u0430\\u0442\\u044c\\u0441\\u044f\",\"60\",\"\\u0432\\u0435\\u0440\\u0442\\u043e\\u043b\\u0451\\u0442\",\"\\u043d\\u0435\\u0441\\u043c\\u043e\\u0442\\u0440\\u044f\",\"\\u0441\\u044b\\u0433\\u0440\\u0430\\u0442\\u044c\",\"\\u043f\\u0440\\u043e\\u0438\\u0441\\u0448\\u0435\\u0441\\u0442\\u0432\\u0438\\u0435\",\"\\u0441\\u0438\\u0440\\u0438\\u044f\",\"\\u043f\\u0440\\u043e\\u0442\\u0435\\u0441\\u0442\",\"\\u0434\\u043e\\u043f\\u043e\\u043b\\u043d\\u0438\\u0442\\u0435\\u043b\\u044c\\u043d\\u044b\\u0439\",\"\\u0434\\u043e\\u043b\\u044f\",\"\\u0432\\u043d\\u0438\\u043c\\u0430\\u043d\\u0438\\u0435\",\"\\u043f\\u0440\\u0438\\u0433\\u043e\\u0432\\u043e\\u0440\\u0438\\u0442\\u044c\",\"\\u0431\\u043e\\u043b\\u044c\\u043d\\u0438\\u0446\\u0430\",\"\\u0440\\u0435\\u0436\\u0438\\u0441\\u0441\\u0451\\u0440\",\"\\u043e\\u0440\\u0433\\u0430\\u043d\\u0438\\u0437\\u043e\\u0432\\u0430\\u0442\\u044c\",\"\\u0438\\u043d\\u0442\\u0435\\u0440\\u0435\\u0441\",\"\\u043f\\u043e\\u043b\\u043e\\u0432\\u0438\\u043d\\u0430\",\"\\u043b\\u044e\\u0431\\u043e\\u0439\",\"\\u043f\\u0440\\u0438\\u0432\\u043e\\u0434\\u0438\\u0442\\u044c\",\"\\u0437\\u043e\\u043d\\u0430\",\"\\u043d\\u0430\\u0440\\u043e\\u0434\\u043d\\u044b\\u0439\",\"\\u0431\\u043e\\u0440\\u0442\",\"\\u0432\\u043e\\u0441\\u0442\\u043e\\u043a\",\"\\u043c\",\"\\u043a\\u0440\\u044b\\u043c\",\"\\u043f\\u0440\\u0435\\u0434\\u043f\\u043e\\u043b\\u0430\\u0433\\u0430\\u0442\\u044c\",\"\\u043a\\u043e\\u043d\\u0444\\u0435\\u0440\\u0435\\u043d\\u0446\\u0438\\u044f\",\"\\u043d\\u0430\\u0437\\u0430\\u0434\",\"\\u043f\\u043e\\u044d\\u0442\\u043e\\u043c\\u0443\",\"\\u0441\\u0430\\u043d\\u043a\\u0446\\u0438\\u044f\",\"\\u0441\\u0440\\u0430\\u0437\\u0443\",\"\\u0434\\u043e\\u0433\\u043e\\u0432\\u043e\\u0440\",\"\\u043e\\u0442\\u0432\\u0435\\u0442\",\"\\u0448\\u043a\\u043e\\u043b\\u0430\",\"200\",\"\\u0440\\u0430\\u0437\\u043d\\u044b\\u0439\",\"\\u043a\\u0438\\u0442\\u0430\\u0439\\u0441\\u043a\\u0438\\u0439\",\"\\u0431\\u0435\\u043b\\u044b\\u0439\",\"\\u0433\\u043b\\u0430\\u0432\\u043d\\u043e\\u0435\",\"\\u0441\\u043b\\u0435\\u0434\\u043e\\u0432\\u0430\\u0442\\u044c\",\"\\u0430\\u0440\\u0435\\u0441\\u0442\",\"\\u0442\\u0443\\u0440\\u043d\\u0438\\u0440\",\"\\u043c\\u043d\\u043e\\u0433\\u0438\\u0435\",\"\\u043d\\u044b\\u043d\\u0435\\u0448\\u043d\\u0438\\u0439\",\"\\u043f\\u043e\\u043e\\u0431\\u0435\\u0449\\u0430\\u0442\\u044c\",\"\\u043a\\u043d\\u0438\\u0433\\u0430\",\"\\u0430\\u043a\\u0442\\u0451\\u0440\",\"\\u0443\\u0442\\u0440\\u043e\\u043c\",\"\\u0442\\u0435\\u0440\\u0440\\u043e\\u0440\\u0438\\u0441\\u0442\\u0438\\u0447\\u0435\\u0441\\u043a\\u0438\\u0439\",\"\\u0440\\u0430\\u0431\\u043e\\u0447\\u0438\\u0439\",\"\\u0437\\u0430\\u043a\\u043b\\u044e\\u0447\\u0435\\u043d\\u0438\\u0435\",\"\\u043f\\u043e\\u043b\\u0451\\u0442\",\"\\u0443\\u0434\\u0430\\u0440\",\"\\u0432\\u0435\\u0440\\u043d\\u0443\\u0442\\u044c\\u0441\\u044f\",\"\\u043f\\u0440\\u0435\\u0434\\u043e\\u0441\\u0442\\u0430\\u0432\\u0438\\u0442\\u044c\",\"\\u0430\\u043f\\u043f\\u0430\\u0440\\u0430\\u0442\",\"\\u0434\\u043e\\u0440\\u043e\\u0433\\u0430\",\"\\u0438\\u0433\\u043e\\u0440\\u044c\",\"\\u0441\\u0442\\u0440\\u0430\\u043d\\u044b.\",\"\\u0437\\u043d\\u0430\\u0442\\u044c\",\"\\u043b\\u0438\\u0433\\u0430\",\"\\u0441\\u0435\\u0440\\u0435\\u0434\\u0438\\u043d\\u0430\",\"\\u0437\\u0430\\u043f\\u0440\\u0435\\u0442\",\"\\u043f\\u043e\\u0441\\u0442\\u0440\\u043e\\u0438\\u0442\\u044c\",\"\\u043f\\u043e\\u0437\\u0432\\u043e\\u043b\\u044f\\u0442\\u044c\",\"\\u043f\\u043e\\u0441\\u0442\\u0430\\u0432\\u0438\\u0442\\u044c\",\"\\u0434\\u043e\\u0441\\u0442\\u0430\\u0432\\u0438\\u0442\\u044c\",\"\\u0430\\u0432\\u0430\\u0440\\u0438\\u044f\",\"\\u043c\\u043e\\u0434\\u0435\\u043b\\u044c\",\"\\u0432\\u043e\\u0435\\u043d\\u043d\\u043e\\u0441\\u043b\\u0443\\u0436\\u0430\\u0449\\u0438\\u0439\",\"\\u043c\\u0438\\u0434\",\"\\u0442\\u0435\\u0445\\u043d\\u0438\\u0447\\u0435\\u0441\\u043a\\u0438\\u0439\",\"\\u043d\\u0438\\u043a\\u0442\\u043e\",\"\\u043f\\u0440\\u043e\\u0441\\u044c\\u0431\\u0430\",\"\\u043d\\u0435\\u043c\\u043e\\u0439\",\"\\u043f\\u0435\\u0440\\u0435\\u0434\\u0430\\u0447\\u0430\",\"\\u043d\\u0430\\u0441\\u0435\\u043b\\u0435\\u043d\\u0438\\u0435\",\"\\u0447\\u0435\\u0442\\u0432\\u0451\\u0440\\u0442\\u044b\\u0439\",\"\\u043f\\u0440\\u0435\\u0434\\u043b\\u0430\\u0433\\u0430\\u0442\\u044c\",\"\\u043a\\u043e\\u043c\\u043c\\u0435\\u0440\\u0441\\u0430\\u043d\\u0442\",\"\\u043e\\u0442\\u043f\\u0440\\u0430\\u0432\\u0438\\u0442\\u044c\",\"\\u0432\\u044b\\u0432\\u043e\\u0434\",\"\\u043f\\u0440\\u0435\\u0434\\u044a\\u044f\\u0432\\u0438\\u0442\\u044c\",\"\\u0443\\u043f\\u0430\\u0441\\u0442\\u044c\",\"\\u043d\\u0430\\u043f\\u0440\\u0438\\u043c\\u0435\\u0440\",\"\\u0430\\u043d\\u0430\\u043b\\u043e\\u0433\\u0438\\u0447\\u043d\\u044b\\u0439\",\"\\u044f\\u0434\\u0435\\u0440\\u043d\\u044b\\u0439\",\"\\u043c\\u0438\\u043b\\u0438\\u0446\\u0438\\u044f\",\"\\u0441\\u0442\\u0440\\u0443\\u043a\\u0442\\u0443\\u0440\\u0430\",\"\\u0441\\u0435\\u0431\\u044f\",\"\\u043e\\u0444\\u0438\\u0446\\u0438\\u0430\\u043b\\u044c\\u043d\\u043e\",\"\\u0442\\u0443\\u0440\\u0446\\u0438\\u044f\",\"\\u043e\\u0440\\u0433\\u0430\\u043d\\u0438\\u0437\\u0430\\u0442\\u043e\\u0440\",\"\\u0432\\u044b\\u0441\\u0442\\u0443\\u043f\\u043b\\u0435\\u043d\\u0438\\u0435\",\"of\",\"\\u0430\\u0432\\u0438\\u0430\\u043a\\u043e\\u043c\\u043f\\u0430\\u043d\\u0438\\u044f\",\"\\u043a\\u0440\\u0435\\u0434\\u0438\\u0442\",\"\\u0441\\u0440\\u0430\\u0432\\u043d\\u0435\\u043d\\u0438\\u0435\",\"\\u043e\\u0431\\u0440\\u0430\\u0449\\u0435\\u043d\\u0438\\u0435\",\"\\u0432\\u043e\\u0434\\u0438\\u0442\\u0435\\u043b\\u044c\",\"\\u0438\\u0440\\u0430\\u043d\",\"\\u043f\\u0440\\u0435\\u0437\\u0438\\u0434\\u0435\\u043d\\u0442\\u0441\\u043a\\u0438\\u0439\",\"\\u0434\\u043e\\u0445\\u043e\\u0434\",\"\\u043f\\u0440\\u0438\\u043e\\u0431\\u0440\\u0435\\u0441\\u0442\\u0438\",\"\\u0434\\u0435\\u043b\\u0430\\u0442\\u044c\",\"\\u043f\\u043e\\u043c\\u043e\\u0447\\u044c\",\"\\u0431\\u0435\\u043b\\u043e\\u0440\\u0443\\u0441\\u0441\\u0438\\u044f\",\"\\u0438\\u0433\\u0440\\u0430\\u0442\\u044c\",\"\\u0440\\u0430\\u0437\\u043c\\u0435\\u0441\\u0442\\u0438\\u0442\\u044c\",\"\\u043a\\u043e\\u0441\\u043c\\u0438\\u0447\\u0435\\u0441\\u043a\\u0438\\u0439\",\"\\u043d\\u0435\\u043e\\u0431\\u0445\\u043e\\u0434\\u0438\\u043c\\u043e\",\"\\u043d\\u0435\\u0438\\u0437\\u0432\\u0435\\u0441\\u0442\\u043d\\u044b\\u0439\",\"\\u0441\\u043e\\u0431\\u044b\\u0442\\u0438\\u0435\",\"\\u043f\\u043e\\u0434\\u0434\\u0435\\u0440\\u0436\\u0430\\u0442\\u044c\",\"500\",\"\\u0441\\u0442\\u0430\\u0432\\u043a\\u0430\",\"\\u0444\\u043e\\u0442\\u043e\\u0433\\u0440\\u0430\\u0444\\u0438\\u044f\",\"\\u043a\\u0432\\u0430\\u0440\\u0442\\u0430\\u043b\",\"\\u043e\\u043b\\u0438\\u043c\\u043f\\u0438\\u0439\\u0441\\u043a\\u0438\\u0439\",\"\\u043e\\u043a\\u0440\\u0443\\u0433\",\"\\u0441\\u0438\\u043b\\u044c\\u043d\\u044b\\u0439\",\"\\u0432\\u043e\\u0437\\u0433\\u043b\\u0430\\u0432\\u043b\\u044f\\u0442\\u044c\",\"\\u0434\\u0435\\u043f\\u0430\\u0440\\u0442\\u0430\\u043c\\u0435\\u043d\\u0442\",\"\\u0431\\u043e\\u0439\",\"\\u043f\\u0430\\u043b\\u0430\\u0442\\u0430\",\"\\u043a\\u0430\\u0441\\u0430\\u0442\\u044c\\u0441\\u044f\",\"\\u043f\\u043e\\u0440\\u0442\\u0430\\u043b\",\"\\u043e\\u0441\\u0442\\u0440\\u043e\\u0432\",\"\\u0441\\u0440\\u0435\\u0434\\u043d\\u0438\\u0439\",\"s\",\"\\u043a\\u043e\\u0440\\u043f\\u043e\\u0440\\u0430\\u0446\\u0438\\u044f\",\"\\u0443\\u043d\\u0438\\u0432\\u0435\\u0440\\u0441\\u0438\\u0442\\u0435\\u0442\",\"\\u0441\\u0442\\u043e\\u043b\\u0438\\u0447\\u043d\\u044b\\u0439\",\"\\u0441\\u0435\\u0440\\u0432\\u0438\\u0441\",\"\\u0442\\u0430\\u0441\\u0441\",\"\\u043e\\u0431\\u044a\\u044f\\u0441\\u043d\\u0438\\u0442\\u044c\",\"\\u0438\\u043d\\u0444\\u043e\\u0440\\u043c\\u0430\\u0446\\u0438\\u043e\\u043d\\u043d\\u044b\\u0439\",\"\\u0442\\u044f\\u0436\\u0451\\u043b\\u044b\\u0439\",\"\\u0447\\u0451\\u0440\\u043d\\u044b\\u0439\",\"\\u0430\\u043a\\u0442\\u0438\\u0432\",\"\\u0432\\u044b\\u0438\\u0433\\u0440\\u0430\\u0442\\u044c\",\"\\u0433\\u043e\\u043b\\u043e\\u0441\\u043e\\u0432\\u0430\\u043d\\u0438\\u0435\",\"\\u043f\\u0440\\u0438\\u0439\\u0442\\u0438\",\"\\u043e\\u0442\\u0434\\u0435\\u043b\\u0435\\u043d\\u0438\\u0435\",\"\\u0432\\u0438\\u0434\\u0435\\u043e\",\"\\u043d\\u0438\\u043a\\u043e\\u043b\\u0430\\u0439\",\"\\u043e\\u0441\\u0442\\u0430\\u043b\\u044c\\u043d\\u043e\\u0439\",\"\\u043c\\u0430\\u043b\\u0435\\u043d\\u044c\\u043a\\u0438\\u0439\",\"\\u0444\\u0443\\u0442\\u0431\\u043e\\u043b\\u044c\\u043d\\u044b\\u0439\",\"\\u043a\\u043e\\u043d\\u043a\\u0443\\u0440\\u0441\",\"\\u0432\\u043d\\u0435\\u0441\\u0442\\u0438\",\"\\u0436\\u0438\\u0442\\u044c\",\"\\u0437\\u0430\\u0432\\u043e\\u0434\",\"\\u0443\\u0439\\u0442\\u0438\",\"\\u0444\\u0443\\u0442\\u0431\\u043e\\u043b\\u0438\\u0441\\u0442\",\"\\u0441\\u043e\\u0442\\u0440\\u0443\\u0434\\u043d\\u0438\\u0447\\u0435\\u0441\\u0442\\u0432\\u043e\",\"\\u0432\\u043e\\u0441\\u0442\\u043e\\u0447\\u043d\\u044b\\u0439\",\"\\u0440\\u0430\\u043d\\u0435\\u043d\\u0438\\u0435\",\"\\u043f\\u0440\\u0435\\u0434\\u044b\\u0434\\u0443\\u0449\\u0438\\u0439\",\"\\u043e\\u0433\\u043e\\u043d\\u044c\",\"\\u0430\\u043c\\u0435\\u0440\\u0438\\u043a\\u0430\\u043d\\u0435\\u0446\",\"\\u0433\\u043e\\u043b\\u043e\\u0441\",\"\\u0445\\u043e\\u0442\\u044f\",\"\\u043e\\u043f\\u043f\\u043e\\u0437\\u0438\\u0446\\u0438\\u044f\",\"\\u043f\\u043e\\u0441\\u0432\\u044f\\u0442\\u0438\\u0442\\u044c\",\"\\u0430\\u0434\\u0440\\u0435\\u0441\",\"\\u0434\\u0435\\u0432\\u044f\\u0442\\u044c\",\"\\u0443\\u0441\\u043b\\u0443\\u0433\\u0430\",\"\\u0441\\u043f\\u043e\\u0440\\u0442\",\"\\u043d\\u0430\\u043f\\u0430\\u0434\\u0430\\u0442\\u044c\",\"\\u0447\\u0435\\u0447\\u043d\\u044f\",\"\\u043f\\u043e\\u043f\\u0440\\u043e\\u0441\\u0438\\u0442\\u044c\",\"\\u043f\\u043e\\u043b\\u0443\\u0447\\u0435\\u043d\\u0438\\u0435\",\"\\u043d\\u0430\\u0438\\u0431\\u043e\\u043b\\u0435\\u0435\",\"\\u0434\\u0435\\u0432\\u0443\\u0448\\u043a\\u0430\",\"\\u0436\\u0438\\u043b\\u044c\\u0451\",\"\\u0442\\u043e\\u0440\\u0433\",\"\\u043f\\u043e\\u0438\\u0441\\u043a\",\"\\u0432\\u043e\\u043e\\u0440\\u0443\\u0436\\u0435\\u043d\\u0438\\u0435\",\"\\u043f\\u0440\\u0435\\u043a\\u0440\\u0430\\u0442\\u0438\\u0442\\u044c\",\"\\u0442\\u0440\\u043e\\u0435\",\"\\u043b\\u0438\\u0447\\u043d\\u044b\\u0439\",\"\\u0441\\u0443\\u0434\\u044c\\u044f\",\"\\u0434\\u043e\\u043b\\u0433\",\"\\u043e\\u0441\\u0443\\u0434\\u0438\\u0442\\u044c\",\"2003\",\"\\u043f\\u0440\\u043e\\u0438\\u0441\\u0445\\u043e\\u0434\\u0438\\u0442\\u044c\",\"\\u0441\\u0442\\u0440\\u0430\\u043d\\u0438\\u0446\\u0430\",\"\\u0437\\u0430\\u0432\\u0435\\u0440\\u0448\\u0438\\u0442\\u044c\\u0441\\u044f\",\"news\",\"\\u043f\\u043e\\u043a\\u0443\\u043f\\u043a\\u0430\",\"300\",\"\\u0442\\u0443\\u0440\",\"\\u043a\\u0430\\u043c\\u043f\\u0430\\u043d\\u0438\\u044f\",\"\\u043d\\u0435\\u043e\\u0434\\u043d\\u043e\\u043a\\u0440\\u0430\\u0442\\u043d\\u043e\",\"\\u0441\\u043b\\u0435\\u0434\\u043e\\u0432\\u0430\\u0442\\u0435\\u043b\\u044c\",\"\\u0440\\u0430\\u0437\\u0440\\u0430\\u0431\\u043e\\u0442\\u0430\\u0442\\u044c\",\"\\u043f\\u0430\\u043b\\u0435\\u0441\\u0442\\u0438\\u043d\\u0441\\u043a\\u0438\\u0439\",\"\\u043f\\u043e\\u0434\\u0440\\u0430\\u0437\\u0434\\u0435\\u043b\\u0435\\u043d\\u0438\\u0435\",\"\\u043f\\u0430\\u0434\\u0435\\u043d\\u0438\\u0435\",\"\\u043e\\u0442\\u043a\\u0440\\u044b\\u0442\\u044b\\u0439\",\"\\u0440\\u0443\\u043a\\u0430\",\"\\u0438\\u0441\\u043b\\u0430\\u043c\\u0441\\u043a\\u0438\\u0439\",\"\\u0438\\u043d\\u0438\\u0446\\u0438\\u0430\\u0442\\u0438\\u0432\\u0430\",\"\\u0436\\u0438\\u0432\\u043e\\u0442\\u043d\\u043e\\u0435\",\"\\u043c\\u0443\\u0437\\u0435\\u0439\",\"\\u0445\",\"\\u0441\\u043d\\u0438\\u0436\\u0435\\u043d\\u0438\\u0435\",\"\\u0432\\u043e\\u0437\\u0434\\u0443\\u0448\\u043d\\u044b\\u0439\",\"\\u043c\\u0435\\u0434\\u0432\\u0435\\u0434\\u0435\\u0432\",\"\\u043e\\u0441\\u043d\\u043e\\u0432\\u0430\\u0442\\u044c\",\"\\u0438\\u0441\\u043f\\u043e\\u043b\\u044c\\u0437\\u043e\\u0432\\u0430\\u0442\\u044c\\u0441\\u044f\",\"\\u0448\\u0442\\u0430\\u0431\",\"\\u043f\\u043e\\u043b\\u0430\\u0433\\u0430\\u0442\\u044c\",\"\\u0432\\u0438\\u043d\\u043e\\u0432\\u043d\\u044b\\u0439\",\"\\u0441\\u043e\\u0432\\u043c\\u0435\\u0441\\u0442\\u043d\\u044b\\u0439\",\"\\u043e\\u0441\\u043d\\u043e\\u0432\\u0430\",\"\\u0432\\u0440\\u0430\\u0447\",\"\\u0441\\u0442\\u043e\\u043b\\u043a\\u043d\\u043e\\u0432\\u0435\\u043d\\u0438\\u0435\",\"\\u0434\\u043e\\u0441\\u0442\\u0443\\u043f\",\"\\u043a\\u0440\\u0438\\u0437\\u0438\\u0441\",\"\\u043f\\u0440\\u0435\\u043c\\u044c\\u0435\\u0440\\u0430\",\"\\u0441\\u0435\\u0440\\u044c\\u0451\\u0437\\u043d\\u044b\\u0439\",\"\\u0442\\u044e\\u0440\\u044c\\u043c\\u0430\",\"\\u0441\\u043e\\u043e\\u0442\\u0432\\u0435\\u0442\\u0441\\u0442\\u0432\\u0438\\u0435\",\"\\u0447\\u0430\\u0441\\u0442\\u043d\\u044b\\u0439\",\"\\u044d\\u0442\\u0430\\u043f\",\"\\u043f\\u0440\\u043e\\u0438\\u0437\\u0432\\u043e\\u0434\\u0438\\u0442\\u0435\\u043b\\u044c\",\"\\u043a\\u043e\\u0440\\u0440\\u0435\\u0441\\u043f\\u043e\\u043d\\u0434\\u0435\\u043d\\u0442\",\"\\u043f\\u0440\\u043e\\u0434\\u043e\\u043b\\u0436\\u0430\\u0442\\u044c\",\"\\u043b\\u0435\\u0442\\u043e\",\"70\",\"\\u0438\\u043d\\u0441\\u0442\\u0438\\u0442\\u0443\\u0442\",\"\\u043c\\u043e\\u0440\\u0441\\u043a\\u043e\\u0439\",\"\\u0441\\u043e\\u0432\\u0435\\u0442\\u0441\\u043a\\u0438\\u0439\",\"\\u043d\\u0430\\u043d\\u0435\\u0441\\u0442\\u0438\",\"\\u0441\\u0435\\u0433\\u043e\\u0434\\u043d\\u044f\",\"\\u043f\\u0440\\u0435\\u0441\\u0442\\u0443\\u043f\\u043d\\u0438\\u043a\",\"\\u0441\\u043d\\u044f\\u0442\\u044c\",\"\\u043f\\u0440\\u043e\\u0441\\u0442\\u043e\",\"bbc\",\"\\u043b\\u0438\\u0448\\u0435\\u043d\\u0438\\u0435\",\"\\u043d\\u0430\\u0431\\u0440\\u0430\\u0442\\u044c\",\"\\u0441\\u0442\\u043e\\u0440\\u043e\\u043d\\u043d\\u0438\\u043a\",\"\\u0441\\u043e\\u0432\\u0440\\u0435\\u043c\\u0435\\u043d\\u043d\\u044b\\u0439\",\"\\u0432\\u0432\\u0441\",\"\\u0435\\u0434\\u0438\\u043d\\u0441\\u0442\\u0432\\u0435\\u043d\\u043d\\u044b\\u0439\",\"\\u043d\\u0430\\u043a\\u0430\\u0437\\u0430\\u043d\\u0438\\u0435\",\"2018\",\"\\u0441\\u0432\\u044f\\u0437\\u0430\\u043d\\u043d\\u044b\\u0439\",\"\\u0443\\u043a\",\"\\u043a\\u0443\\u043f\\u0438\\u0442\\u044c\",\"\\u0432\\u0441\\u043a\\u043e\\u0440\\u0435\",\"news.\",\"\\u0431\\u0438\\u0437\\u043d\\u0435\\u0441\\u043c\\u0435\\u043d\",\"\\u043b\\u0438\\u043d\\u0438\\u044f\",\"\\u0442\\u0440\\u0430\\u043d\\u0441\\u043f\\u043e\\u0440\\u0442\\u043d\\u044b\\u0439\",\"\\u0442\\u0430\\u0441\\u0441.\",\"\\u043c\\u0435\\u0434\\u0438\\u0446\\u0438\\u043d\\u0441\\u043a\\u0438\\u0439\",\"\\u043e\\u0441\\u043d\\u043e\\u0432\\u043d\\u043e\\u0439\",\"\\u0442\\u0435\\u0445\\u043d\\u043e\\u043b\\u043e\\u0433\\u0438\\u044f\",\"\\u0444\\u0438\\u043d\\u0430\\u043b\",\"\\u043e\\u0431\\u0435\\u0441\\u043f\\u0435\\u0447\\u0435\\u043d\\u0438\\u0435\",\"\\u0437\\u0430\\u043f\\u0438\\u0441\\u044c\",\"\\u0441\\u044b\\u043d\",\"\\u043c\\u0438\\u0442\\u0438\\u043d\\u0433\",\"\\u043e\\u043b\\u0435\\u0433\",\"\\u0430\\u043a\\u0442\\u0438\\u0432\\u0438\\u0441\\u0442\",\"\\u0441\\u043a\\u043e\\u043d\\u0447\\u0430\\u0442\\u044c\\u0441\\u044f\",\"\\u0435\\u0432\\u0433\\u0435\\u043d\\u0438\\u0439\",\"\\u043a\\u0440\\u0430\\u0441\\u043d\\u044b\\u0439\",\"2000\",\"\\u0432\\u0435\\u0434\\u0443\\u0449\\u0438\\u0439\",\"\\u0432\\u043e\\u0437\\u0440\\u0430\\u0441\\u0442\",\"\\u043e\\u0431\\u0430\\u043c\\u0430\",\"\\u0434\\u0430\\u0432\\u0430\\u0442\\u044c\",\"\\u043d\\u0430\\u043c\\u0435\\u0440\\u0435\\u043d\\u043d\\u044b\\u0439\",\"\\u0430\\u0441\\u0441\\u043e\\u0446\\u0438\\u0430\\u0446\\u0438\\u044f\",\"\\u043d\\u0430\\u043b\\u043e\\u0433\",\"\\u0431\\u043b\\u0430\\u0433\\u043e\\u0434\\u0430\\u0440\\u044f\",\"\\u0441\\u0435\\u0439\",\"2001\",\"france\",\"\\u043f\\u0440\\u0438\\u0431\\u044b\\u043b\\u044c\",\"\\u0443\\u0432\\u0435\\u043b\\u0438\\u0447\\u0438\\u0442\\u044c\",\"\\u0437\\u0430\\u0432\\u0435\\u0440\\u0448\\u0438\\u0442\\u044c\",\"35\",\"\\u0438\\u0437\\u0431\\u0438\\u0440\\u0430\\u0442\\u0435\\u043b\\u044c\\u043d\\u044b\\u0439\",\"\\u0434\\u0430\\u043b\\u044c\\u043d\\u0435\\u0439\\u0448\\u0438\\u0439\",\"\\u0432\\u044b\\u0434\\u0435\\u043b\\u0438\\u0442\\u044c\",\"\\u0442\\u043e\\u043d\\u043d\\u0430\",\"\\u043f\\u0440\\u0438\\u0431\\u044b\\u0442\\u044c\",\"\\u044d\\u043a\\u0438\\u043f\\u0430\\u0436\",\"\\u043f\\u043e\\u043f\\u0443\\u043b\\u044f\\u0440\\u043d\\u044b\\u0439\",\"\\u0443\\u0449\\u0435\\u0440\\u0431\",\"\\u0437\\u0430\\u0434\\u0435\\u0440\\u0436\\u0430\\u043d\\u0438\\u0435\",\"\\u0433\\u0440\\u0443\\u0437\\u0438\\u043d\\u0441\\u043a\\u0438\\u0439\",\"\\u0440\\u043e\\u043c\\u0430\\u043d\",\"\\u043a\\u0440\\u0430\\u0439\",\"\\u0437\\u0430\\u0434\\u0430\\u0447\\u0430\",\"\\u0435\\u0441\",\"press.\",\"\\u043a\\u0443\\u0431\\u043e\\u043a\",\"\\u0434\\u0436\\u043e\\u043d\",\"\\u044f\\u043a\\u043e\\u0431\\u044b\",\"\\u0437\\u0430\\u043f\\u043b\\u0430\\u043d\\u0438\\u0440\\u043e\\u0432\\u0430\\u0442\\u044c\",\"\\u043f\\u0440\\u0438\\u0433\\u043e\\u0432\\u043e\\u0440\"]]]}}},\"view\":{\"type\":\"object\",\"name\":\"CDSView\",\"id\":\"p1037\",\"attributes\":{\"filter\":{\"type\":\"object\",\"name\":\"AllIndices\",\"id\":\"p1038\"}}},\"glyph\":{\"type\":\"object\",\"name\":\"Scatter\",\"id\":\"p1033\",\"attributes\":{\"x\":{\"type\":\"field\",\"field\":\"x1\"},\"y\":{\"type\":\"field\",\"field\":\"x2\"},\"size\":{\"type\":\"value\",\"value\":8},\"line_color\":{\"type\":\"value\",\"value\":\"#1f77b4\"},\"fill_color\":{\"type\":\"value\",\"value\":\"#1f77b4\"}}},\"nonselection_glyph\":{\"type\":\"object\",\"name\":\"Scatter\",\"id\":\"p1034\",\"attributes\":{\"x\":{\"type\":\"field\",\"field\":\"x1\"},\"y\":{\"type\":\"field\",\"field\":\"x2\"},\"size\":{\"type\":\"value\",\"value\":8},\"line_color\":{\"type\":\"value\",\"value\":\"#1f77b4\"},\"line_alpha\":{\"type\":\"value\",\"value\":0.1},\"fill_color\":{\"type\":\"value\",\"value\":\"#1f77b4\"},\"fill_alpha\":{\"type\":\"value\",\"value\":0.1},\"hatch_alpha\":{\"type\":\"value\",\"value\":0.1}}},\"muted_glyph\":{\"type\":\"object\",\"name\":\"Scatter\",\"id\":\"p1035\",\"attributes\":{\"x\":{\"type\":\"field\",\"field\":\"x1\"},\"y\":{\"type\":\"field\",\"field\":\"x2\"},\"size\":{\"type\":\"value\",\"value\":8},\"line_color\":{\"type\":\"value\",\"value\":\"#1f77b4\"},\"line_alpha\":{\"type\":\"value\",\"value\":0.2},\"fill_color\":{\"type\":\"value\",\"value\":\"#1f77b4\"},\"fill_alpha\":{\"type\":\"value\",\"value\":0.2},\"hatch_alpha\":{\"type\":\"value\",\"value\":0.2}}}}}],\"toolbar\":{\"type\":\"object\",\"name\":\"Toolbar\",\"id\":\"p1010\",\"attributes\":{\"tools\":[{\"type\":\"object\",\"name\":\"PanTool\",\"id\":\"p1023\"},{\"type\":\"object\",\"name\":\"WheelZoomTool\",\"id\":\"p1024\",\"attributes\":{\"renderers\":\"auto\"}},{\"type\":\"object\",\"name\":\"ResetTool\",\"id\":\"p1025\"},{\"type\":\"object\",\"name\":\"SaveTool\",\"id\":\"p1026\"}]}},\"toolbar_location\":\"above\",\"left\":[{\"type\":\"object\",\"name\":\"LinearAxis\",\"id\":\"p1018\",\"attributes\":{\"ticker\":{\"type\":\"object\",\"name\":\"BasicTicker\",\"id\":\"p1019\",\"attributes\":{\"mantissas\":[1,2,5]}},\"formatter\":{\"type\":\"object\",\"name\":\"BasicTickFormatter\",\"id\":\"p1020\"},\"major_label_policy\":{\"type\":\"object\",\"name\":\"AllLabels\",\"id\":\"p1021\"}}}],\"below\":[{\"type\":\"object\",\"name\":\"LinearAxis\",\"id\":\"p1013\",\"attributes\":{\"ticker\":{\"type\":\"object\",\"name\":\"BasicTicker\",\"id\":\"p1014\",\"attributes\":{\"mantissas\":[1,2,5]}},\"formatter\":{\"type\":\"object\",\"name\":\"BasicTickFormatter\",\"id\":\"p1015\"},\"major_label_policy\":{\"type\":\"object\",\"name\":\"AllLabels\",\"id\":\"p1016\"}}}],\"center\":[{\"type\":\"object\",\"name\":\"Grid\",\"id\":\"p1017\",\"attributes\":{\"axis\":{\"id\":\"p1013\"}}},{\"type\":\"object\",\"name\":\"Grid\",\"id\":\"p1022\",\"attributes\":{\"dimension\":1,\"axis\":{\"id\":\"p1018\"}}},{\"type\":\"object\",\"name\":\"LabelSet\",\"id\":\"p1039\",\"attributes\":{\"source\":{\"id\":\"p1027\"},\"x\":{\"type\":\"field\",\"field\":\"x1\"},\"y\":{\"type\":\"field\",\"field\":\"x2\"},\"text\":{\"type\":\"field\",\"field\":\"names\"},\"y_offset\":{\"type\":\"value\",\"value\":6},\"text_color\":{\"type\":\"value\",\"value\":\"#555555\"},\"text_font_size\":{\"type\":\"value\",\"value\":\"8pt\"},\"text_align\":{\"type\":\"value\",\"value\":\"center\"}}}]}}]}};\n  const render_items = [{\"docid\":\"9b9748eb-c24d-4dea-a2b0-194dee6b4c33\",\"roots\":{\"p1001\":\"c225f3e9-84cf-4d22-924d-787460cf5a96\"},\"root_ids\":[\"p1001\"]}];\n  void root.Bokeh.embed.embed_items_notebook(docs_json, render_items);\n  }\n  if (root.Bokeh !== undefined) {\n    embed_document(root);\n  } else {\n    let attempts = 0;\n    const timer = setInterval(function(root) {\n      if (root.Bokeh !== undefined) {\n        clearInterval(timer);\n        embed_document(root);\n      } else {\n        attempts++;\n        if (attempts > 100) {\n          clearInterval(timer);\n          console.log(\"Bokeh: ERROR: Unable to run BokehJS code because BokehJS library is missing\");\n        }\n      }\n    }, 10, root)\n  }\n})(window);",
      "application/vnd.bokehjs_exec.v0+json": ""
     },
     "metadata": {
      "application/vnd.bokehjs_exec.v0+json": {
       "id": "p1001"
      }
     },
     "output_type": "display_data"
    }
   ],
   "source": [
    "from bokeh.models import ColumnDataSource, LabelSet\n",
    "from bokeh.plotting import figure, show, output_file\n",
    "from bokeh.io import output_notebook\n",
    "output_notebook()\n",
    "\n",
    "p = figure(tools=\"pan,wheel_zoom,reset,save\",\n",
    "           toolbar_location=\"above\",\n",
    "           title=\"word2vec T-SNE (eng model, top1000 words)\")\n",
    "\n",
    "source = ColumnDataSource(data=dict(x1=top_words_tsne[:,0],\n",
    "                                    x2=top_words_tsne[:,1],\n",
    "                                    names=top_words))\n",
    "\n",
    "p.scatter(x=\"x1\", y=\"x2\", size=8, source=source)\n",
    "\n",
    "labels = LabelSet(x=\"x1\", y=\"x2\", text=\"names\", y_offset=6,\n",
    "                  text_font_size=\"8pt\", text_color=\"#555555\",\n",
    "                  source=source, text_align='center')\n",
    "p.add_layout(labels)\n",
    "\n",
    "show(p)"
   ]
  },
  {
   "cell_type": "code",
   "execution_count": 25,
   "metadata": {},
   "outputs": [
    {
     "data": {
      "text/plain": [
       "(100,)"
      ]
     },
     "execution_count": 25,
     "metadata": {},
     "output_type": "execute_result"
    }
   ],
   "source": [
    "model_word2vec.wv['путин'].shape"
   ]
  },
  {
   "cell_type": "code",
   "execution_count": 26,
   "metadata": {},
   "outputs": [
    {
     "data": {
      "text/plain": [
       "100"
      ]
     },
     "execution_count": 26,
     "metadata": {},
     "output_type": "execute_result"
    }
   ],
   "source": [
    "model_word2vec.vector_size"
   ]
  },
  {
   "cell_type": "code",
   "execution_count": 27,
   "metadata": {},
   "outputs": [],
   "source": [
    "def vectorize(tokens):\n",
    "    token_vectors = np.array([model_word2vec.wv[token] for token in tokens if token in model_word2vec.wv])\n",
    "    return token_vectors.mean(axis=0)"
   ]
  },
  {
   "cell_type": "code",
   "execution_count": 30,
   "metadata": {},
   "outputs": [
    {
     "data": {
      "text/plain": [
       "array([-9.46438238e-02,  5.05475067e-02,  4.44313809e-02,  2.79136568e-01,\n",
       "        4.46579382e-02, -3.37810427e-01,  3.54172289e-02,  3.72418135e-01,\n",
       "        2.32384086e-01, -3.16601712e-04, -1.19529799e-01, -4.14966077e-01,\n",
       "       -7.77244270e-02,  1.93555042e-01, -1.38878986e-01, -2.35462695e-01,\n",
       "        5.59206307e-02, -2.56707132e-01,  1.59904629e-01, -1.48445427e-01,\n",
       "       -7.68938437e-02, -1.28714442e-01,  3.46696787e-02, -8.96631852e-02,\n",
       "        2.58179873e-01,  7.68177882e-02, -3.90064344e-02, -5.37783168e-02,\n",
       "       -8.89691934e-02,  1.00227706e-01,  2.57178247e-01,  6.64872006e-02,\n",
       "       -1.63667992e-01,  1.47566218e-02, -6.72580376e-02,  1.80502534e-01,\n",
       "        8.08745623e-02, -4.02787596e-01,  1.03931315e-01, -3.00442100e-01,\n",
       "       -8.10302049e-02, -2.56163269e-01,  1.92682907e-01, -1.40972376e-01,\n",
       "        9.42158103e-02,  1.19684383e-01, -4.27272111e-01,  2.20154241e-01,\n",
       "        1.33057805e-02,  1.84055179e-01, -1.49033770e-01, -3.56741279e-01,\n",
       "       -2.67898142e-01, -4.41170335e-01, -1.22764669e-01,  1.38020843e-01,\n",
       "        2.72274226e-01, -9.68220010e-02,  1.71318837e-02, -1.60885409e-01,\n",
       "       -1.10869668e-01,  9.20365155e-02, -1.46559641e-01,  2.41950918e-02,\n",
       "       -6.60865009e-02,  3.14005554e-01,  3.45114060e-02,  1.34919927e-01,\n",
       "       -1.39742792e-01,  3.16225082e-01, -5.13510406e-01, -4.59739007e-02,\n",
       "        3.55322719e-01,  2.18991153e-02, -3.71200293e-02,  1.95137382e-01,\n",
       "       -1.12073287e-01, -2.24888682e-01, -8.07661116e-02,  6.83237836e-02,\n",
       "       -4.80722696e-01, -2.19521783e-02,  6.41327053e-02,  3.70120108e-01,\n",
       "        1.34892344e-01,  6.71847817e-03, -1.96019068e-01,  2.14426771e-01,\n",
       "       -2.84737855e-01,  7.86510333e-02,  1.92064911e-01,  1.49021178e-01,\n",
       "        2.18218053e-03,  1.24929912e-01,  3.93311888e-01,  2.40722358e-01,\n",
       "        1.38911009e-01, -3.58357102e-01, -1.06611989e-01,  1.37068942e-01],\n",
       "      dtype=float32)"
      ]
     },
     "execution_count": 30,
     "metadata": {},
     "output_type": "execute_result"
    }
   ],
   "source": [
    "vectorize(X_train[0])"
   ]
  },
  {
   "cell_type": "code",
   "execution_count": null,
   "metadata": {},
   "outputs": [],
   "source": []
  }
 ],
 "metadata": {
  "kernelspec": {
   "display_name": "Python 3",
   "language": "python",
   "name": "python3"
  },
  "language_info": {
   "codemirror_mode": {
    "name": "ipython",
    "version": 3
   },
   "file_extension": ".py",
   "mimetype": "text/x-python",
   "name": "python",
   "nbconvert_exporter": "python",
   "pygments_lexer": "ipython3",
   "version": "3.10.14"
  }
 },
 "nbformat": 4,
 "nbformat_minor": 2
}
