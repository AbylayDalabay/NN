{
 "cells": [
  {
   "cell_type": "code",
   "execution_count": 1,
   "metadata": {},
   "outputs": [
    {
     "name": "stderr",
     "output_type": "stream",
     "text": [
      "[nltk_data] Downloading package punkt to\n",
      "[nltk_data]     C:\\Users\\User\\AppData\\Roaming\\nltk_data...\n",
      "[nltk_data]   Package punkt is already up-to-date!\n"
     ]
    },
    {
     "data": {
      "text/plain": [
       "True"
      ]
     },
     "execution_count": 1,
     "metadata": {},
     "output_type": "execute_result"
    }
   ],
   "source": [
    "import re\n",
    "import gensim\n",
    "import logging\n",
    "import nltk\n",
    "import nltk.data\n",
    "import pandas as pd\n",
    "import urllib.request\n",
    "from bs4 import BeautifulSoup\n",
    "from nltk.corpus import stopwords\n",
    "from gensim.models import word2vec\n",
    "from nltk.tokenize import sent_tokenize, RegexpTokenizer\n",
    "\n",
    "nltk.download('punkt')"
   ]
  },
  {
   "cell_type": "code",
   "execution_count": 2,
   "metadata": {},
   "outputs": [],
   "source": [
    "import requests\n",
    "\n",
    "url = \"https://raw.githubusercontent.com/ancatmara/data-science-nlp/master/data/w2v/train/unlabeledTrainData.tsv\"\n",
    "response = requests.get(url)\n",
    "\n",
    "with open('unlabeledTrainData.tsv', 'wb') as file:\n",
    "    file.write(response.content)"
   ]
  },
  {
   "cell_type": "code",
   "execution_count": 3,
   "metadata": {},
   "outputs": [
    {
     "data": {
      "text/plain": [
       "50000"
      ]
     },
     "execution_count": 3,
     "metadata": {},
     "output_type": "execute_result"
    }
   ],
   "source": [
    "data = pd.read_csv('unlabeledTrainData.tsv', header=0, delimiter=\"\\t\", quoting=3)\n",
    "\n",
    "len(data)"
   ]
  },
  {
   "cell_type": "code",
   "execution_count": 4,
   "metadata": {},
   "outputs": [
    {
     "data": {
      "text/html": [
       "<div>\n",
       "<style scoped>\n",
       "    .dataframe tbody tr th:only-of-type {\n",
       "        vertical-align: middle;\n",
       "    }\n",
       "\n",
       "    .dataframe tbody tr th {\n",
       "        vertical-align: top;\n",
       "    }\n",
       "\n",
       "    .dataframe thead th {\n",
       "        text-align: right;\n",
       "    }\n",
       "</style>\n",
       "<table border=\"1\" class=\"dataframe\">\n",
       "  <thead>\n",
       "    <tr style=\"text-align: right;\">\n",
       "      <th></th>\n",
       "      <th>id</th>\n",
       "      <th>review</th>\n",
       "    </tr>\n",
       "  </thead>\n",
       "  <tbody>\n",
       "    <tr>\n",
       "      <th>0</th>\n",
       "      <td>\"9999_0\"</td>\n",
       "      <td>\"Watching Time Chasers, it obvious that it was...</td>\n",
       "    </tr>\n",
       "    <tr>\n",
       "      <th>1</th>\n",
       "      <td>\"45057_0\"</td>\n",
       "      <td>\"I saw this film about 20 years ago and rememb...</td>\n",
       "    </tr>\n",
       "    <tr>\n",
       "      <th>2</th>\n",
       "      <td>\"15561_0\"</td>\n",
       "      <td>\"Minor Spoilers&lt;br /&gt;&lt;br /&gt;In New York, Joan B...</td>\n",
       "    </tr>\n",
       "    <tr>\n",
       "      <th>3</th>\n",
       "      <td>\"7161_0\"</td>\n",
       "      <td>\"I went to see this film with a great deal of ...</td>\n",
       "    </tr>\n",
       "    <tr>\n",
       "      <th>4</th>\n",
       "      <td>\"43971_0\"</td>\n",
       "      <td>\"Yes, I agree with everyone on this site this ...</td>\n",
       "    </tr>\n",
       "  </tbody>\n",
       "</table>\n",
       "</div>"
      ],
      "text/plain": [
       "          id                                             review\n",
       "0   \"9999_0\"  \"Watching Time Chasers, it obvious that it was...\n",
       "1  \"45057_0\"  \"I saw this film about 20 years ago and rememb...\n",
       "2  \"15561_0\"  \"Minor Spoilers<br /><br />In New York, Joan B...\n",
       "3   \"7161_0\"  \"I went to see this film with a great deal of ...\n",
       "4  \"43971_0\"  \"Yes, I agree with everyone on this site this ..."
      ]
     },
     "execution_count": 4,
     "metadata": {},
     "output_type": "execute_result"
    }
   ],
   "source": [
    "data.head()"
   ]
  },
  {
   "cell_type": "code",
   "execution_count": 5,
   "metadata": {},
   "outputs": [],
   "source": [
    "tokenizer = nltk.data.load('tokenizers/punkt/english.pickle')"
   ]
  },
  {
   "cell_type": "code",
   "execution_count": 6,
   "metadata": {},
   "outputs": [],
   "source": [
    "def review_to_wordlist(review, remove_stopwords=False ):\n",
    "    # убираем ссылки вне тегов\n",
    "    review = re.sub(r\"http[s]?://(?:[a-zA-Z]|[0-9]|[$-_@.&+]|[!*\\(\\),]|(?:%[0-9a-fA-F][0-9a-fA-F]))+\", \" \", review)\n",
    "    review_text = BeautifulSoup(review, \"lxml\").get_text()\n",
    "    review_text = re.sub(\"[^a-zA-Z]\",\" \", review_text)\n",
    "    words = review_text.lower().split()\n",
    "    if remove_stopwords:\n",
    "        stops = stopwords.words(\"english\")\n",
    "        words = [w for w in words if not w in stops]\n",
    "    return(words)"
   ]
  },
  {
   "cell_type": "code",
   "execution_count": 7,
   "metadata": {},
   "outputs": [],
   "source": [
    "def review_to_sentences(review, tokenizer, remove_stopwords=False):\n",
    "    raw_sentences = tokenizer.tokenize(review.strip())\n",
    "    sentences = []\n",
    "\n",
    "    for raw_sentence in raw_sentences:\n",
    "        if len(raw_sentence) > 0:\n",
    "            sentences.append(review_to_wordlist(raw_sentence, remove_stopwords))\n",
    "    return sentences"
   ]
  },
  {
   "cell_type": "code",
   "execution_count": 8,
   "metadata": {},
   "outputs": [
    {
     "name": "stdout",
     "output_type": "stream",
     "text": [
      "Parsing sentences from training set ...\n"
     ]
    },
    {
     "name": "stderr",
     "output_type": "stream",
     "text": [
      "C:\\Users\\User\\AppData\\Local\\Temp\\ipykernel_33440\\3318350193.py:4: MarkupResemblesLocatorWarning: The input looks more like a filename than markup. You may want to open this file and pass the filehandle into Beautiful Soup.\n",
      "  review_text = BeautifulSoup(review, \"lxml\").get_text()\n"
     ]
    }
   ],
   "source": [
    "sentences = []\n",
    "\n",
    "print(\"Parsing sentences from training set ...\")\n",
    "for review in data[\"review\"]:\n",
    "    sentences += review_to_sentences(review, tokenizer)"
   ]
  },
  {
   "cell_type": "code",
   "execution_count": 9,
   "metadata": {},
   "outputs": [
    {
     "name": "stdout",
     "output_type": "stream",
     "text": [
      "529416\n",
      "['watching', 'time', 'chasers', 'it', 'obvious', 'that', 'it', 'was', 'made', 'by', 'a', 'bunch', 'of', 'friends']\n"
     ]
    }
   ],
   "source": [
    "print(len(sentences))\n",
    "print(sentences[0])"
   ]
  },
  {
   "cell_type": "markdown",
   "metadata": {},
   "source": [
    "Обучаем и сохраняем модель. \n",
    "\n",
    "\n",
    "Основные параметры:\n",
    "* данные должны быть итерируемым объектом \n",
    "* size — размер вектора, \n",
    "* window — размер окна наблюдения,\n",
    "* min_count — мин. частотность слова в корпусе,\n",
    "* sg — используемый алгоритм обучения (0 — CBOW, 1 — Skip-gram),\n",
    "* sample — порог для downsampling'a высокочастотных слов,\n",
    "* workers — количество потоков,\n",
    "* alpha — learning rate,\n",
    "* iter — количество итераций,\n",
    "* max_vocab_size — позволяет выставить ограничение по памяти при создании словаря (т.е. если ограничение превышается, то низкочастотные слова будут выбрасываться). Для сравнения: 10 млн слов = 1Гб RAM.\n",
    "\n",
    "**NB!** Обратите внимание, что тренировка модели не включает препроцессинг! Это значит, что избавляться от пунктуации, приводить слова к нижнему регистру, лемматизировать их, проставлять частеречные теги придется до тренировки модели (если, конечно, это необходимо для вашей задачи). Т.е. в каком виде слова будут в исходном тексте, в таком они будут и в модели."
   ]
  },
  {
   "cell_type": "code",
   "execution_count": 10,
   "metadata": {},
   "outputs": [],
   "source": [
    "from gensim.models import Word2Vec"
   ]
  },
  {
   "cell_type": "code",
   "execution_count": 11,
   "metadata": {},
   "outputs": [
    {
     "name": "stdout",
     "output_type": "stream",
     "text": [
      "Model training time ... \n",
      "CPU times: total: 1min 44s\n",
      "Wall time: 28.5 s\n"
     ]
    }
   ],
   "source": [
    "print(\"Model training time ... \")\n",
    "\n",
    "%time model_en = word2vec.Word2Vec(sentences, workers=4, vector_size=300, min_count=10, window=10, sample=1e-3)"
   ]
  },
  {
   "cell_type": "code",
   "execution_count": 12,
   "metadata": {},
   "outputs": [
    {
     "data": {
      "text/plain": [
       "28308"
      ]
     },
     "execution_count": 12,
     "metadata": {},
     "output_type": "execute_result"
    }
   ],
   "source": [
    "len(model_en.wv)"
   ]
  },
  {
   "cell_type": "code",
   "execution_count": 13,
   "metadata": {},
   "outputs": [
    {
     "data": {
      "text/plain": [
       "[('actress', 0.7466329336166382),\n",
       " ('performer', 0.5464993119239807),\n",
       " ('actresses', 0.5036458969116211),\n",
       " ('ms', 0.4557781219482422),\n",
       " ('performance', 0.45309698581695557)]"
      ]
     },
     "execution_count": 13,
     "metadata": {},
     "output_type": "execute_result"
    }
   ],
   "source": [
    "model_en.wv.most_similar(positive=[\"woman\", \"actor\"], negative=[\"man\"], topn=5)"
   ]
  },
  {
   "cell_type": "code",
   "execution_count": 14,
   "metadata": {},
   "outputs": [
    {
     "data": {
      "text/plain": [
       "[('men', 0.6447756886482239),\n",
       " ('criminals', 0.499918669462204),\n",
       " ('civilians', 0.4834405183792114),\n",
       " ('scientists', 0.4689888656139374),\n",
       " ('nazis', 0.46129292249679565)]"
      ]
     },
     "execution_count": 14,
     "metadata": {},
     "output_type": "execute_result"
    }
   ],
   "source": [
    "model_en.wv.most_similar(positive=[\"dogs\", \"man\"], negative=[\"dog\"], topn=5)"
   ]
  },
  {
   "cell_type": "code",
   "execution_count": 15,
   "metadata": {},
   "outputs": [
    {
     "name": "stdout",
     "output_type": "stream",
     "text": [
      "[('europe', 0.733922004699707), ('germany', 0.709866464138031), ('uk', 0.7064135670661926), ('north', 0.6918818354606628), ('greece', 0.6868155598640442)]\n"
     ]
    }
   ],
   "source": [
    "print(model_en.wv.most_similar(\"usa\", topn=5))"
   ]
  },
  {
   "cell_type": "code",
   "execution_count": 16,
   "metadata": {},
   "outputs": [
    {
     "name": "stdout",
     "output_type": "stream",
     "text": [
      "man\n"
     ]
    }
   ],
   "source": [
    "print(model_en.wv.doesnt_match(\"apple banana man\".split()))"
   ]
  },
  {
   "cell_type": "code",
   "execution_count": 17,
   "metadata": {},
   "outputs": [
    {
     "data": {
      "text/plain": [
       "0.28471678"
      ]
     },
     "execution_count": 17,
     "metadata": {},
     "output_type": "execute_result"
    }
   ],
   "source": [
    "model_en.wv.similarity('lion', 'rabbit')"
   ]
  },
  {
   "cell_type": "code",
   "execution_count": 18,
   "metadata": {},
   "outputs": [],
   "source": [
    "# ! wget https://raw.githubusercontent.com/ancatmara/data-science-nlp/master/data/w2v/train/alice.txt"
   ]
  },
  {
   "cell_type": "code",
   "execution_count": 19,
   "metadata": {},
   "outputs": [],
   "source": [
    "with open('alice.txt', 'r', encoding='utf-8') as file:\n",
    "    text = file.read()\n",
    "\n",
    "text = re.sub('\\n', ' ', text)\n",
    "sents = sent_tokenize(text)"
   ]
  },
  {
   "cell_type": "code",
   "execution_count": 20,
   "metadata": {},
   "outputs": [
    {
     "name": "stdout",
     "output_type": "stream",
     "text": [
      "[['through', 'the', 'looking-glass', 'by', 'lewis', 'carroll', 'chapter', 'i', 'looking-glass', 'house', 'one', 'thing', 'was', 'certain', 'that', 'the', 'white', 'kitten', 'had', 'had', 'nothing', 'to', 'do', 'with', 'it', '', 'it', 'was', 'the', 'black', 'kitten’s', 'fault', 'entirely'], ['for', 'the', 'white', 'kitten', 'had', 'been', 'having', 'its', 'face', 'washed', 'by', 'the', 'old', 'cat', 'for', 'the', 'last', 'quarter', 'of', 'an', 'hour', 'and', 'bearing', 'it', 'pretty', 'well', 'considering', 'so', 'you', 'see', 'that', 'it', 'couldn’t', 'have', 'had', 'any', 'hand', 'in', 'the', 'mischief']]\n"
     ]
    }
   ],
   "source": [
    "punct = '!\"”#$%&()*+,-./:;<=>?@[\\\\]^_`{|}~„“«»†*—/\\\\-‘’'\n",
    "clean_sents = []\n",
    "\n",
    "for sent in sents:\n",
    "    s = [s.lower().strip(punct) for s in sent.split()]\n",
    "    clean_sents.append(s)\n",
    "\n",
    "print(clean_sents[:2])"
   ]
  },
  {
   "cell_type": "code",
   "execution_count": 21,
   "metadata": {},
   "outputs": [
    {
     "name": "stdout",
     "output_type": "stream",
     "text": [
      "Saving model...\n"
     ]
    }
   ],
   "source": [
    "model_path = \"movie_reviews.model\"\n",
    "\n",
    "print(\"Saving model...\")\n",
    "model_en.save(model_path)"
   ]
  },
  {
   "cell_type": "code",
   "execution_count": 22,
   "metadata": {},
   "outputs": [
    {
     "data": {
      "text/plain": [
       "(97526, 150225)"
      ]
     },
     "execution_count": 22,
     "metadata": {},
     "output_type": "execute_result"
    }
   ],
   "source": [
    "model = word2vec.Word2Vec.load(model_path)\n",
    "\n",
    "model.build_vocab(clean_sents, update=True)\n",
    "model.train(clean_sents, total_examples=model.corpus_count, epochs=5)"
   ]
  },
  {
   "cell_type": "code",
   "execution_count": 23,
   "metadata": {},
   "outputs": [
    {
     "data": {
      "text/plain": [
       "0.2906908"
      ]
     },
     "execution_count": 23,
     "metadata": {},
     "output_type": "execute_result"
    }
   ],
   "source": [
    "model.wv.similarity('lion', 'rabbit')"
   ]
  },
  {
   "cell_type": "code",
   "execution_count": 24,
   "metadata": {},
   "outputs": [
    {
     "name": "stdout",
     "output_type": "stream",
     "text": [
      "Saving model ...\n"
     ]
    },
    {
     "name": "stderr",
     "output_type": "stream",
     "text": [
      "C:\\Users\\User\\AppData\\Local\\Temp\\ipykernel_33440\\1664485734.py:1: DeprecationWarning: Call to deprecated `init_sims` (Gensim 4.0.0 implemented internal optimizations that make calls to init_sims() unnecessary. init_sims() is now obsoleted and will be completely removed in future versions. See https://github.com/RaRe-Technologies/gensim/wiki/Migrating-from-Gensim-3.x-to-4).\n",
      "  model.init_sims(replace=True)\n"
     ]
    }
   ],
   "source": [
    "model.init_sims(replace=True)\n",
    "model_path = \"movies_alice.bin\"\n",
    "\n",
    "print(\"Saving model ...\")\n",
    "model_en.wv.save_word2vec_format(model_path, binary=True)"
   ]
  },
  {
   "cell_type": "code",
   "execution_count": 25,
   "metadata": {},
   "outputs": [
    {
     "data": {
      "text/plain": [
       "0.46422276"
      ]
     },
     "execution_count": 25,
     "metadata": {},
     "output_type": "execute_result"
    }
   ],
   "source": [
    "model_en.wv.similarity('london', 'uk')"
   ]
  },
  {
   "cell_type": "code",
   "execution_count": 26,
   "metadata": {},
   "outputs": [],
   "source": [
    "# ! wget https://raw.githubusercontent.com/ancatmara/data-science-nlp/master/data/w2v/evaluation/ru_analogy_tagged.txt"
   ]
  },
  {
   "cell_type": "code",
   "execution_count": 27,
   "metadata": {},
   "outputs": [
    {
     "name": "stderr",
     "output_type": "stream",
     "text": [
      "C:\\Users\\User\\AppData\\Local\\Temp\\ipykernel_33440\\2233589800.py:8: TqdmDeprecationWarning: This function will be removed in tqdm==5.0.0\n",
      "Please use `tqdm.notebook.tqdm` instead of `tqdm.tqdm_notebook`\n",
      "  for s in tqdm(sentences):\n"
     ]
    },
    {
     "data": {
      "application/vnd.jupyter.widget-view+json": {
       "model_id": "4eb1ec63dd2e4410b8b25da4e6e0b40c",
       "version_major": 2,
       "version_minor": 0
      },
      "text/plain": [
       "  0%|          | 0/529416 [00:00<?, ?it/s]"
      ]
     },
     "metadata": {},
     "output_type": "display_data"
    },
    {
     "name": "stdout",
     "output_type": "stream",
     "text": [
      "['the', 'and', 'a', 'of', 'to', 'is', 'it', 'in', 'i', 'this', 'that', 's', 'was', 'as', 'with', 'for', 'movie', 'but', 'film', 'you', 't', 'on', 'not', 'he', 'are', 'his', 'have', 'be', 'one', 'all', 'they', 'at', 'by', 'who', 'an', 'from', 'so', 'like', 'there', 'or', 'her', 'just', 'about', 'out', 'has', 'if', 'what', 'some', 'good', 'can']\n"
     ]
    }
   ],
   "source": [
    "from nltk import FreqDist\n",
    "from tqdm import tqdm_notebook as tqdm\n",
    "from sklearn.manifold import TSNE\n",
    "\n",
    "top_words = []\n",
    "\n",
    "fd = FreqDist()\n",
    "for s in tqdm(sentences):\n",
    "    fd.update(s)\n",
    "\n",
    "for w in fd.most_common(1000):\n",
    "    top_words.append(w[0])\n",
    "\n",
    "print(top_words[:50:])\n",
    "top_words_vec = [model_en.wv[word] for word in top_words]"
   ]
  },
  {
   "cell_type": "code",
   "execution_count": 28,
   "metadata": {},
   "outputs": [
    {
     "name": "stdout",
     "output_type": "stream",
     "text": [
      "CPU times: total: 5.5 s\n",
      "Wall time: 4.8 s\n"
     ]
    }
   ],
   "source": [
    "%%time\n",
    "import numpy as np\n",
    "\n",
    "tsne = TSNE(n_components=2, random_state=0)\n",
    "top_words_tsne = tsne.fit_transform(np.array(top_words_vec))"
   ]
  },
  {
   "cell_type": "code",
   "execution_count": 29,
   "metadata": {},
   "outputs": [
    {
     "data": {
      "text/html": [
       "    <style>\n",
       "        .bk-notebook-logo {\n",
       "            display: block;\n",
       "            width: 20px;\n",
       "            height: 20px;\n",
       "            background-image: url(data:image/png;base64,iVBORw0KGgoAAAANSUhEUgAAABQAAAAUCAYAAACNiR0NAAAABHNCSVQICAgIfAhkiAAAAAlwSFlzAAALEgAACxIB0t1+/AAAABx0RVh0U29mdHdhcmUAQWRvYmUgRmlyZXdvcmtzIENTNui8sowAAAOkSURBVDiNjZRtaJVlGMd/1/08zzln5zjP1LWcU9N0NkN8m2CYjpgQYQXqSs0I84OLIC0hkEKoPtiH3gmKoiJDU7QpLgoLjLIQCpEsNJ1vqUOdO7ppbuec5+V+rj4ctwzd8IIbbi6u+8f1539dt3A78eXC7QizUF7gyV1fD1Yqg4JWz84yffhm0qkFqBogB9rM8tZdtwVsPUhWhGcFJngGeWrPzHm5oaMmkfEg1usvLFyc8jLRqDOMru7AyC8saQr7GG7f5fvDeH7Ej8CM66nIF+8yngt6HWaKh7k49Soy9nXurCi1o3qUbS3zWfrYeQDTB/Qj6kX6Ybhw4B+bOYoLKCC9H3Nu/leUTZ1JdRWkkn2ldcCamzrcf47KKXdAJllSlxAOkRgyHsGC/zRday5Qld9DyoM4/q/rUoy/CXh3jzOu3bHUVZeU+DEn8FInkPBFlu3+nW3Nw0mk6vCDiWg8CeJaxEwuHS3+z5RgY+YBR6V1Z1nxSOfoaPa4LASWxxdNp+VWTk7+4vzaou8v8PN+xo+KY2xsw6une2frhw05CTYOmQvsEhjhWjn0bmXPjpE1+kplmmkP3suftwTubK9Vq22qKmrBhpY4jvd5afdRA3wGjFAgcnTK2s4hY0/GPNIb0nErGMCRxWOOX64Z8RAC4oCXdklmEvcL8o0BfkNK4lUg9HTl+oPlQxdNo3Mg4Nv175e/1LDGzZen30MEjRUtmXSfiTVu1kK8W4txyV6BMKlbgk3lMwYCiusNy9fVfvvwMxv8Ynl6vxoByANLTWplvuj/nF9m2+PDtt1eiHPBr1oIfhCChQMBw6Aw0UulqTKZdfVvfG7VcfIqLG9bcldL/+pdWTLxLUy8Qq38heUIjh4XlzZxzQm19lLFlr8vdQ97rjZVOLf8nclzckbcD4wxXMidpX30sFd37Fv/GtwwhzhxGVAprjbg0gCAEeIgwCZyTV2Z1REEW8O4py0wsjeloKoMr6iCY6dP92H6Vw/oTyICIthibxjm/DfN9lVz8IqtqKYLUXfoKVMVQVVJOElGjrnnUt9T9wbgp8AyYKaGlqingHZU/uG2NTZSVqwHQTWkx9hxjkpWDaCg6Ckj5qebgBVbT3V3NNXMSiWSDdGV3hrtzla7J+duwPOToIg42ChPQOQjspnSlp1V+Gjdged7+8UN5CRAV7a5EdFNwCjEaBR27b3W890TE7g24NAP/mMDXRWrGoFPQI9ls/MWO2dWFAar/xcOIImbbpA3zgAAAABJRU5ErkJggg==);\n",
       "        }\n",
       "    </style>\n",
       "    <div>\n",
       "        <a href=\"https://bokeh.org\" target=\"_blank\" class=\"bk-notebook-logo\"></a>\n",
       "        <span id=\"de1c71eb-aaef-463e-87bf-d60ed9491d12\">Loading BokehJS ...</span>\n",
       "    </div>\n"
      ]
     },
     "metadata": {},
     "output_type": "display_data"
    },
    {
     "data": {
      "application/javascript": "'use strict';\n(function(root) {\n  function now() {\n    return new Date();\n  }\n\n  const force = true;\n\n  if (typeof root._bokeh_onload_callbacks === \"undefined\" || force === true) {\n    root._bokeh_onload_callbacks = [];\n    root._bokeh_is_loading = undefined;\n  }\n\nconst JS_MIME_TYPE = 'application/javascript';\n  const HTML_MIME_TYPE = 'text/html';\n  const EXEC_MIME_TYPE = 'application/vnd.bokehjs_exec.v0+json';\n  const CLASS_NAME = 'output_bokeh rendered_html';\n\n  /**\n   * Render data to the DOM node\n   */\n  function render(props, node) {\n    const script = document.createElement(\"script\");\n    node.appendChild(script);\n  }\n\n  /**\n   * Handle when an output is cleared or removed\n   */\n  function handleClearOutput(event, handle) {\n    function drop(id) {\n      const view = Bokeh.index.get_by_id(id)\n      if (view != null) {\n        view.model.document.clear()\n        Bokeh.index.delete(view)\n      }\n    }\n\n    const cell = handle.cell;\n\n    const id = cell.output_area._bokeh_element_id;\n    const server_id = cell.output_area._bokeh_server_id;\n\n    // Clean up Bokeh references\n    if (id != null) {\n      drop(id)\n    }\n\n    if (server_id !== undefined) {\n      // Clean up Bokeh references\n      const cmd_clean = \"from bokeh.io.state import curstate; print(curstate().uuid_to_server['\" + server_id + \"'].get_sessions()[0].document.roots[0]._id)\";\n      cell.notebook.kernel.execute(cmd_clean, {\n        iopub: {\n          output: function(msg) {\n            const id = msg.content.text.trim()\n            drop(id)\n          }\n        }\n      });\n      // Destroy server and session\n      const cmd_destroy = \"import bokeh.io.notebook as ion; ion.destroy_server('\" + server_id + \"')\";\n      cell.notebook.kernel.execute(cmd_destroy);\n    }\n  }\n\n  /**\n   * Handle when a new output is added\n   */\n  function handleAddOutput(event, handle) {\n    const output_area = handle.output_area;\n    const output = handle.output;\n\n    // limit handleAddOutput to display_data with EXEC_MIME_TYPE content only\n    if ((output.output_type != \"display_data\") || (!Object.prototype.hasOwnProperty.call(output.data, EXEC_MIME_TYPE))) {\n      return\n    }\n\n    const toinsert = output_area.element.find(\".\" + CLASS_NAME.split(' ')[0]);\n\n    if (output.metadata[EXEC_MIME_TYPE][\"id\"] !== undefined) {\n      toinsert[toinsert.length - 1].firstChild.textContent = output.data[JS_MIME_TYPE];\n      // store reference to embed id on output_area\n      output_area._bokeh_element_id = output.metadata[EXEC_MIME_TYPE][\"id\"];\n    }\n    if (output.metadata[EXEC_MIME_TYPE][\"server_id\"] !== undefined) {\n      const bk_div = document.createElement(\"div\");\n      bk_div.innerHTML = output.data[HTML_MIME_TYPE];\n      const script_attrs = bk_div.children[0].attributes;\n      for (let i = 0; i < script_attrs.length; i++) {\n        toinsert[toinsert.length - 1].firstChild.setAttribute(script_attrs[i].name, script_attrs[i].value);\n        toinsert[toinsert.length - 1].firstChild.textContent = bk_div.children[0].textContent\n      }\n      // store reference to server id on output_area\n      output_area._bokeh_server_id = output.metadata[EXEC_MIME_TYPE][\"server_id\"];\n    }\n  }\n\n  function register_renderer(events, OutputArea) {\n\n    function append_mime(data, metadata, element) {\n      // create a DOM node to render to\n      const toinsert = this.create_output_subarea(\n        metadata,\n        CLASS_NAME,\n        EXEC_MIME_TYPE\n      );\n      this.keyboard_manager.register_events(toinsert);\n      // Render to node\n      const props = {data: data, metadata: metadata[EXEC_MIME_TYPE]};\n      render(props, toinsert[toinsert.length - 1]);\n      element.append(toinsert);\n      return toinsert\n    }\n\n    /* Handle when an output is cleared or removed */\n    events.on('clear_output.CodeCell', handleClearOutput);\n    events.on('delete.Cell', handleClearOutput);\n\n    /* Handle when a new output is added */\n    events.on('output_added.OutputArea', handleAddOutput);\n\n    /**\n     * Register the mime type and append_mime function with output_area\n     */\n    OutputArea.prototype.register_mime_type(EXEC_MIME_TYPE, append_mime, {\n      /* Is output safe? */\n      safe: true,\n      /* Index of renderer in `output_area.display_order` */\n      index: 0\n    });\n  }\n\n  // register the mime type if in Jupyter Notebook environment and previously unregistered\n  if (root.Jupyter !== undefined) {\n    const events = require('base/js/events');\n    const OutputArea = require('notebook/js/outputarea').OutputArea;\n\n    if (OutputArea.prototype.mime_types().indexOf(EXEC_MIME_TYPE) == -1) {\n      register_renderer(events, OutputArea);\n    }\n  }\n  if (typeof (root._bokeh_timeout) === \"undefined\" || force === true) {\n    root._bokeh_timeout = Date.now() + 5000;\n    root._bokeh_failed_load = false;\n  }\n\n  const NB_LOAD_WARNING = {'data': {'text/html':\n     \"<div style='background-color: #fdd'>\\n\"+\n     \"<p>\\n\"+\n     \"BokehJS does not appear to have successfully loaded. If loading BokehJS from CDN, this \\n\"+\n     \"may be due to a slow or bad network connection. Possible fixes:\\n\"+\n     \"</p>\\n\"+\n     \"<ul>\\n\"+\n     \"<li>re-rerun `output_notebook()` to attempt to load from CDN again, or</li>\\n\"+\n     \"<li>use INLINE resources instead, as so:</li>\\n\"+\n     \"</ul>\\n\"+\n     \"<code>\\n\"+\n     \"from bokeh.resources import INLINE\\n\"+\n     \"output_notebook(resources=INLINE)\\n\"+\n     \"</code>\\n\"+\n     \"</div>\"}};\n\n  function display_loaded(error = null) {\n    const el = document.getElementById(\"de1c71eb-aaef-463e-87bf-d60ed9491d12\");\n    if (el != null) {\n      const html = (() => {\n        if (typeof root.Bokeh === \"undefined\") {\n          if (error == null) {\n            return \"BokehJS is loading ...\";\n          } else {\n            return \"BokehJS failed to load.\";\n          }\n        } else {\n          const prefix = `BokehJS ${root.Bokeh.version}`;\n          if (error == null) {\n            return `${prefix} successfully loaded.`;\n          } else {\n            return `${prefix} <b>encountered errors</b> while loading and may not function as expected.`;\n          }\n        }\n      })();\n      el.innerHTML = html;\n\n      if (error != null) {\n        const wrapper = document.createElement(\"div\");\n        wrapper.style.overflow = \"auto\";\n        wrapper.style.height = \"5em\";\n        wrapper.style.resize = \"vertical\";\n        const content = document.createElement(\"div\");\n        content.style.fontFamily = \"monospace\";\n        content.style.whiteSpace = \"pre-wrap\";\n        content.style.backgroundColor = \"rgb(255, 221, 221)\";\n        content.textContent = error.stack ?? error.toString();\n        wrapper.append(content);\n        el.append(wrapper);\n      }\n    } else if (Date.now() < root._bokeh_timeout) {\n      setTimeout(() => display_loaded(error), 100);\n    }\n  }\n\n  function run_callbacks() {\n    try {\n      root._bokeh_onload_callbacks.forEach(function(callback) {\n        if (callback != null)\n          callback();\n      });\n    } finally {\n      delete root._bokeh_onload_callbacks\n    }\n    console.debug(\"Bokeh: all callbacks have finished\");\n  }\n\n  function load_libs(css_urls, js_urls, callback) {\n    if (css_urls == null) css_urls = [];\n    if (js_urls == null) js_urls = [];\n\n    root._bokeh_onload_callbacks.push(callback);\n    if (root._bokeh_is_loading > 0) {\n      console.debug(\"Bokeh: BokehJS is being loaded, scheduling callback at\", now());\n      return null;\n    }\n    if (js_urls == null || js_urls.length === 0) {\n      run_callbacks();\n      return null;\n    }\n    console.debug(\"Bokeh: BokehJS not loaded, scheduling load and callback at\", now());\n    root._bokeh_is_loading = css_urls.length + js_urls.length;\n\n    function on_load() {\n      root._bokeh_is_loading--;\n      if (root._bokeh_is_loading === 0) {\n        console.debug(\"Bokeh: all BokehJS libraries/stylesheets loaded\");\n        run_callbacks()\n      }\n    }\n\n    function on_error(url) {\n      console.error(\"failed to load \" + url);\n    }\n\n    for (let i = 0; i < css_urls.length; i++) {\n      const url = css_urls[i];\n      const element = document.createElement(\"link\");\n      element.onload = on_load;\n      element.onerror = on_error.bind(null, url);\n      element.rel = \"stylesheet\";\n      element.type = \"text/css\";\n      element.href = url;\n      console.debug(\"Bokeh: injecting link tag for BokehJS stylesheet: \", url);\n      document.body.appendChild(element);\n    }\n\n    for (let i = 0; i < js_urls.length; i++) {\n      const url = js_urls[i];\n      const element = document.createElement('script');\n      element.onload = on_load;\n      element.onerror = on_error.bind(null, url);\n      element.async = false;\n      element.src = url;\n      console.debug(\"Bokeh: injecting script tag for BokehJS library: \", url);\n      document.head.appendChild(element);\n    }\n  };\n\n  function inject_raw_css(css) {\n    const element = document.createElement(\"style\");\n    element.appendChild(document.createTextNode(css));\n    document.body.appendChild(element);\n  }\n\n  const js_urls = [\"https://cdn.bokeh.org/bokeh/release/bokeh-3.5.1.min.js\", \"https://cdn.bokeh.org/bokeh/release/bokeh-gl-3.5.1.min.js\", \"https://cdn.bokeh.org/bokeh/release/bokeh-widgets-3.5.1.min.js\", \"https://cdn.bokeh.org/bokeh/release/bokeh-tables-3.5.1.min.js\", \"https://cdn.bokeh.org/bokeh/release/bokeh-mathjax-3.5.1.min.js\"];\n  const css_urls = [];\n\n  const inline_js = [    function(Bokeh) {\n      Bokeh.set_log_level(\"info\");\n    },\nfunction(Bokeh) {\n    }\n  ];\n\n  function run_inline_js() {\n    if (root.Bokeh !== undefined || force === true) {\n      try {\n            for (let i = 0; i < inline_js.length; i++) {\n      inline_js[i].call(root, root.Bokeh);\n    }\n\n      } catch (error) {display_loaded(error);throw error;\n      }if (force === true) {\n        display_loaded();\n      }} else if (Date.now() < root._bokeh_timeout) {\n      setTimeout(run_inline_js, 100);\n    } else if (!root._bokeh_failed_load) {\n      console.log(\"Bokeh: BokehJS failed to load within specified timeout.\");\n      root._bokeh_failed_load = true;\n    } else if (force !== true) {\n      const cell = $(document.getElementById(\"de1c71eb-aaef-463e-87bf-d60ed9491d12\")).parents('.cell').data().cell;\n      cell.output_area.append_execute_result(NB_LOAD_WARNING)\n    }\n  }\n\n  if (root._bokeh_is_loading === 0) {\n    console.debug(\"Bokeh: BokehJS loaded, going straight to plotting\");\n    run_inline_js();\n  } else {\n    load_libs(css_urls, js_urls, function() {\n      console.debug(\"Bokeh: BokehJS plotting callback run at\", now());\n      run_inline_js();\n    });\n  }\n}(window));",
      "application/vnd.bokehjs_load.v0+json": ""
     },
     "metadata": {},
     "output_type": "display_data"
    },
    {
     "data": {
      "text/html": [
       "\n",
       "  <div id=\"bae97b7d-3bf8-4606-b8ff-c53569fcb172\" data-root-id=\"p1001\" style=\"display: contents;\"></div>\n"
      ]
     },
     "metadata": {},
     "output_type": "display_data"
    },
    {
     "data": {
      "application/javascript": "(function(root) {\n  function embed_document(root) {\n  const docs_json = {\"3186f3f5-edaa-45a3-ba66-a063c9760fa5\":{\"version\":\"3.5.1\",\"title\":\"Bokeh Application\",\"roots\":[{\"type\":\"object\",\"name\":\"Figure\",\"id\":\"p1001\",\"attributes\":{\"x_range\":{\"type\":\"object\",\"name\":\"DataRange1d\",\"id\":\"p1002\"},\"y_range\":{\"type\":\"object\",\"name\":\"DataRange1d\",\"id\":\"p1003\"},\"x_scale\":{\"type\":\"object\",\"name\":\"LinearScale\",\"id\":\"p1011\"},\"y_scale\":{\"type\":\"object\",\"name\":\"LinearScale\",\"id\":\"p1012\"},\"title\":{\"type\":\"object\",\"name\":\"Title\",\"id\":\"p1004\",\"attributes\":{\"text\":\"word2vec T-SNE (eng model, top1000 words)\"}},\"renderers\":[{\"type\":\"object\",\"name\":\"GlyphRenderer\",\"id\":\"p1036\",\"attributes\":{\"data_source\":{\"type\":\"object\",\"name\":\"ColumnDataSource\",\"id\":\"p1027\",\"attributes\":{\"selected\":{\"type\":\"object\",\"name\":\"Selection\",\"id\":\"p1028\",\"attributes\":{\"indices\":[],\"line_indices\":[]}},\"selection_policy\":{\"type\":\"object\",\"name\":\"UnionRenderers\",\"id\":\"p1029\"},\"data\":{\"type\":\"map\",\"entries\":[[\"x1\",{\"type\":\"ndarray\",\"array\":{\"type\":\"bytes\",\"data\":\"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\"},\"shape\":[1000],\"dtype\":\"float32\",\"order\":\"little\"}],[\"x2\",{\"type\":\"ndarray\",\"array\":{\"type\":\"bytes\",\"data\":\"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\"},\"shape\":[1000],\"dtype\":\"float32\",\"order\":\"little\"}],[\"names\",[\"the\",\"and\",\"a\",\"of\",\"to\",\"is\",\"it\",\"in\",\"i\",\"this\",\"that\",\"s\",\"was\",\"as\",\"with\",\"for\",\"movie\",\"but\",\"film\",\"you\",\"t\",\"on\",\"not\",\"he\",\"are\",\"his\",\"have\",\"be\",\"one\",\"all\",\"they\",\"at\",\"by\",\"who\",\"an\",\"from\",\"so\",\"like\",\"there\",\"or\",\"her\",\"just\",\"about\",\"out\",\"has\",\"if\",\"what\",\"some\",\"good\",\"can\",\"when\",\"more\",\"very\",\"she\",\"up\",\"no\",\"time\",\"even\",\"would\",\"their\",\"my\",\"which\",\"story\",\"only\",\"really\",\"see\",\"had\",\"were\",\"well\",\"me\",\"we\",\"than\",\"much\",\"bad\",\"been\",\"get\",\"people\",\"great\",\"into\",\"also\",\"do\",\"other\",\"first\",\"will\",\"him\",\"because\",\"most\",\"how\",\"don\",\"them\",\"make\",\"its\",\"made\",\"way\",\"could\",\"then\",\"too\",\"movies\",\"after\",\"any\",\"characters\",\"character\",\"films\",\"two\",\"think\",\"watch\",\"being\",\"plot\",\"many\",\"where\",\"never\",\"love\",\"seen\",\"little\",\"life\",\"acting\",\"best\",\"did\",\"off\",\"know\",\"over\",\"ever\",\"does\",\"show\",\"better\",\"man\",\"your\",\"end\",\"here\",\"scene\",\"while\",\"these\",\"why\",\"still\",\"scenes\",\"something\",\"say\",\"go\",\"m\",\"ve\",\"should\",\"back\",\"such\",\"real\",\"through\",\"those\",\"now\",\"re\",\"doesn\",\"watching\",\"thing\",\"director\",\"funny\",\"though\",\"years\",\"didn\",\"another\",\"actors\",\"new\",\"going\",\"old\",\"makes\",\"nothing\",\"actually\",\"before\",\"work\",\"look\",\"same\",\"find\",\"lot\",\"part\",\"few\",\"every\",\"again\",\"world\",\"action\",\"cast\",\"horror\",\"things\",\"us\",\"quite\",\"want\",\"down\",\"pretty\",\"young\",\"fact\",\"around\",\"seems\",\"enough\",\"both\",\"take\",\"long\",\"however\",\"thought\",\"got\",\"own\",\"give\",\"comedy\",\"between\",\"big\",\"d\",\"must\",\"series\",\"right\",\"may\",\"without\",\"role\",\"guy\",\"original\",\"interesting\",\"whole\",\"come\",\"isn\",\"times\",\"always\",\"saw\",\"least\",\"bit\",\"gets\",\"almost\",\"script\",\"point\",\"last\",\"music\",\"done\",\"minutes\",\"feel\",\"far\",\"since\",\"girl\",\"ll\",\"yet\",\"might\",\"making\",\"performance\",\"away\",\"family\",\"anything\",\"am\",\"probably\",\"hard\",\"woman\",\"tv\",\"kind\",\"fun\",\"rather\",\"day\",\"played\",\"worst\",\"each\",\"found\",\"sure\",\"anyone\",\"especially\",\"trying\",\"having\",\"our\",\"screen\",\"looking\",\"different\",\"believe\",\"sense\",\"place\",\"american\",\"although\",\"ending\",\"goes\",\"worth\",\"course\",\"set\",\"shows\",\"maybe\",\"three\",\"comes\",\"dvd\",\"money\",\"once\",\"everything\",\"plays\",\"effects\",\"put\",\"john\",\"looks\",\"actor\",\"main\",\"together\",\"during\",\"someone\",\"let\",\"wasn\",\"instead\",\"everyone\",\"war\",\"year\",\"reason\",\"takes\",\"special\",\"said\",\"true\",\"high\",\"night\",\"book\",\"seem\",\"job\",\"play\",\"watched\",\"audience\",\"later\",\"wife\",\"black\",\"death\",\"himself\",\"star\",\"half\",\"seeing\",\"used\",\"idea\",\"dead\",\"second\",\"men\",\"left\",\"excellent\",\"simply\",\"shot\",\"else\",\"beautiful\",\"sex\",\"completely\",\"budget\",\"father\",\"women\",\"mind\",\"house\",\"hollywood\",\"poor\",\"less\",\"fan\",\"along\",\"boring\",\"performances\",\"home\",\"line\",\"help\",\"nice\",\"try\",\"couple\",\"top\",\"version\",\"until\",\"either\",\"low\",\"next\",\"camera\",\"use\",\"friends\",\"short\",\"wrong\",\"start\",\"kids\",\"given\",\"mother\",\"read\",\"need\",\"full\",\"enjoy\",\"production\",\"classic\",\"perhaps\",\"school\",\"moments\",\"truly\",\"stupid\",\"keep\",\"awful\",\"getting\",\"rest\",\"video\",\"face\",\"tell\",\"mean\",\"others\",\"itself\",\"understand\",\"boy\",\"terrible\",\"small\",\"name\",\"style\",\"came\",\"won\",\"playing\",\"recommend\",\"doing\",\"lost\",\"person\",\"definitely\",\"gives\",\"dialogue\",\"entertaining\",\"wonderful\",\"often\",\"live\",\"lines\",\"hope\",\"went\",\"stars\",\"case\",\"remember\",\"written\",\"couldn\",\"head\",\"early\",\"title\",\"yes\",\"human\",\"perfect\",\"become\",\"based\",\"friend\",\"children\",\"certainly\",\"liked\",\"problem\",\"drama\",\"son\",\"picture\",\"several\",\"fans\",\"under\",\"lead\",\"laugh\",\"oh\",\"guys\",\"humor\",\"supposed\",\"direction\",\"against\",\"absolutely\",\"overall\",\"sort\",\"piece\",\"episode\",\"finally\",\"game\",\"lives\",\"called\",\"entire\",\"evil\",\"cinema\",\"worse\",\"care\",\"waste\",\"killer\",\"dark\",\"felt\",\"beginning\",\"despite\",\"seemed\",\"genre\",\"final\",\"b\",\"totally\",\"history\",\"wanted\",\"unfortunately\",\"town\",\"throughout\",\"white\",\"city\",\"becomes\",\"able\",\"days\",\"already\",\"turn\",\"guess\",\"run\",\"fine\",\"loved\",\"act\",\"mr\",\"flick\",\"today\",\"horrible\",\"heart\",\"side\",\"hand\",\"kill\",\"tries\",\"wants\",\"starts\",\"quality\",\"killed\",\"past\",\"themselves\",\"child\",\"close\",\"matter\",\"group\",\"sound\",\"turns\",\"daughter\",\"parts\",\"viewer\",\"etc\",\"expect\",\"fight\",\"car\",\"enjoyed\",\"directed\",\"writing\",\"decent\",\"type\",\"violence\",\"stop\",\"example\",\"stuff\",\"self\",\"kid\",\"amazing\",\"behind\",\"soon\",\"blood\",\"favorite\",\"works\",\"known\",\"thinking\",\"gave\",\"obviously\",\"sometimes\",\"hero\",\"eyes\",\"actress\",\"girls\",\"michael\",\"happened\",\"brilliant\",\"stories\",\"except\",\"myself\",\"hour\",\"coming\",\"says\",\"writer\",\"late\",\"husband\",\"extremely\",\"experience\",\"hell\",\"happens\",\"art\",\"heard\",\"police\",\"took\",\"feeling\",\"roles\",\"leave\",\"highly\",\"attempt\",\"taken\",\"interest\",\"wouldn\",\"murder\",\"moment\",\"slow\",\"score\",\"god\",\"including\",\"looked\",\"obvious\",\"involved\",\"living\",\"anyway\",\"robert\",\"david\",\"cool\",\"hours\",\"save\",\"ok\",\"age\",\"voice\",\"o\",\"career\",\"told\",\"across\",\"wonder\",\"none\",\"strong\",\"cut\",\"happen\",\"please\",\"gore\",\"simple\",\"hilarious\",\"brother\",\"important\",\"exactly\",\"power\",\"chance\",\"ago\",\"james\",\"particularly\",\"relationship\",\"documentary\",\"level\",\"complete\",\"light\",\"female\",\"annoying\",\"possible\",\"serious\",\"cannot\",\"hit\",\"crap\",\"sad\",\"running\",\"lack\",\"sequel\",\"talent\",\"usually\",\"whose\",\"basically\",\"reality\",\"ends\",\"seriously\",\"strange\",\"order\",\"finds\",\"call\",\"taking\",\"somewhat\",\"room\",\"happy\",\"silly\",\"scary\",\"middle\",\"turned\",\"alone\",\"apparently\",\"ridiculous\",\"change\",\"clich\",\"country\",\"mostly\",\"attention\",\"miss\",\"four\",\"usual\",\"shown\",\"body\",\"song\",\"wish\",\"jokes\",\"number\",\"opening\",\"released\",\"disappointed\",\"word\",\"jack\",\"thriller\",\"single\",\"opinion\",\"straight\",\"future\",\"english\",\"words\",\"parents\",\"novel\",\"saying\",\"cinematography\",\"yourself\",\"view\",\"cheap\",\"started\",\"french\",\"beyond\",\"huge\",\"talking\",\"non\",\"clearly\",\"sets\",\"talk\",\"major\",\"die\",\"shots\",\"rating\",\"problems\",\"knew\",\"knows\",\"gay\",\"modern\",\"fast\",\"british\",\"due\",\"events\",\"tells\",\"add\",\"bring\",\"comic\",\"clear\",\"ones\",\"above\",\"hate\",\"storyline\",\"york\",\"easy\",\"typical\",\"entertainment\",\"aren\",\"easily\",\"haven\",\"within\",\"local\",\"upon\",\"general\",\"dialog\",\"crime\",\"ten\",\"giving\",\"george\",\"lots\",\"sequence\",\"america\",\"ways\",\"falls\",\"similar\",\"begins\",\"appears\",\"class\",\"near\",\"mystery\",\"named\",\"bunch\",\"filmed\",\"king\",\"elements\",\"romantic\",\"team\",\"certain\",\"review\",\"predictable\",\"working\",\"avoid\",\"stand\",\"de\",\"earth\",\"sorry\",\"th\",\"e\",\"television\",\"mention\",\"enjoyable\",\"supporting\",\"tale\",\"theme\",\"message\",\"points\",\"cop\",\"gone\",\"among\",\"fall\",\"space\",\"tom\",\"viewers\",\"eye\",\"red\",\"truth\",\"leads\",\"surprised\",\"stay\",\"release\",\"kept\",\"minute\",\"richard\",\"five\",\"dull\",\"killing\",\"using\",\"effort\",\"monster\",\"third\",\"brought\",\"musical\",\"feels\",\"suspense\",\"tried\",\"means\",\"whether\",\"comments\",\"sequences\",\"dog\",\"moving\",\"period\",\"peter\",\"lee\",\"needs\",\"doubt\",\"fi\",\"showing\",\"buy\",\"okay\",\"sci\",\"somehow\",\"soundtrack\",\"viewing\",\"rent\",\"herself\",\"nearly\",\"average\",\"songs\",\"theater\",\"episodes\",\"reviews\",\"whatever\",\"follow\",\"surprise\",\"feature\",\"form\",\"move\",\"forget\",\"realistic\",\"believable\",\"free\",\"material\",\"premise\",\"editing\",\"sister\",\"brothers\",\"deep\",\"imagine\",\"gun\",\"forced\",\"famous\",\"poorly\",\"deal\",\"crew\",\"western\",\"indeed\",\"expected\",\"check\",\"possibly\",\"fantastic\",\"lame\",\"society\",\"figure\",\"otherwise\",\"dr\",\"learn\",\"open\",\"paul\",\"eventually\",\"plus\",\"lady\",\"weak\",\"hear\",\"stage\",\"sexual\",\"leaves\",\"question\",\"note\",\"difficult\",\"sit\",\"towards\",\"romance\",\"box\",\"situation\",\"begin\",\"earlier\",\"personal\",\"atmosphere\",\"reading\",\"male\",\"screenplay\",\"wait\",\"decided\",\"joe\",\"battle\",\"interested\",\"powerful\",\"previous\",\"business\",\"greatest\",\"nor\",\"hot\",\"actual\",\"cheesy\",\"became\",\"acted\",\"worked\",\"animation\",\"subject\",\"island\",\"effect\",\"footage\",\"mess\",\"era\",\"oscar\",\"result\",\"meet\",\"rock\",\"credits\",\"features\",\"particular\",\"memorable\",\"whom\",\"boys\",\"air\",\"setting\",\"perfectly\",\"writers\",\"laughs\",\"street\",\"shame\",\"quickly\",\"rich\",\"older\",\"hands\",\"background\",\"keeps\",\"twist\",\"dramatic\",\"bill\",\"total\",\"present\",\"various\",\"appear\",\"pay\",\"telling\",\"directing\",\"william\",\"party\",\"alien\",\"unless\",\"crazy\",\"harry\",\"mark\",\"badly\",\"realize\",\"girlfriend\",\"forward\",\"front\",\"needed\",\"comment\",\"emotional\",\"imdb\",\"development\",\"fighting\",\"secret\",\"break\",\"fairly\",\"unique\",\"c\",\"baby\",\"outside\",\"married\",\"manages\",\"plenty\",\"villain\",\"apart\",\"missing\",\"masterpiece\",\"nature\",\"brings\",\"remake\",\"write\",\"former\",\"superb\",\"weird\",\"doctor\",\"clever\",\"escape\",\"list\",\"incredibly\",\"meets\",\"reasons\",\"hold\",\"created\",\"sounds\",\"sam\",\"inside\",\"unlike\",\"leading\",\"laughing\",\"ideas\",\"japanese\",\"season\",\"prison\",\"directors\",\"copy\",\"cute\",\"public\",\"return\",\"political\",\"violent\",\"success\",\"force\",\"create\",\"caught\",\"admit\",\"meant\",\"water\"]]]}}},\"view\":{\"type\":\"object\",\"name\":\"CDSView\",\"id\":\"p1037\",\"attributes\":{\"filter\":{\"type\":\"object\",\"name\":\"AllIndices\",\"id\":\"p1038\"}}},\"glyph\":{\"type\":\"object\",\"name\":\"Scatter\",\"id\":\"p1033\",\"attributes\":{\"x\":{\"type\":\"field\",\"field\":\"x1\"},\"y\":{\"type\":\"field\",\"field\":\"x2\"},\"size\":{\"type\":\"value\",\"value\":8},\"line_color\":{\"type\":\"value\",\"value\":\"#1f77b4\"},\"fill_color\":{\"type\":\"value\",\"value\":\"#1f77b4\"}}},\"nonselection_glyph\":{\"type\":\"object\",\"name\":\"Scatter\",\"id\":\"p1034\",\"attributes\":{\"x\":{\"type\":\"field\",\"field\":\"x1\"},\"y\":{\"type\":\"field\",\"field\":\"x2\"},\"size\":{\"type\":\"value\",\"value\":8},\"line_color\":{\"type\":\"value\",\"value\":\"#1f77b4\"},\"line_alpha\":{\"type\":\"value\",\"value\":0.1},\"fill_color\":{\"type\":\"value\",\"value\":\"#1f77b4\"},\"fill_alpha\":{\"type\":\"value\",\"value\":0.1},\"hatch_alpha\":{\"type\":\"value\",\"value\":0.1}}},\"muted_glyph\":{\"type\":\"object\",\"name\":\"Scatter\",\"id\":\"p1035\",\"attributes\":{\"x\":{\"type\":\"field\",\"field\":\"x1\"},\"y\":{\"type\":\"field\",\"field\":\"x2\"},\"size\":{\"type\":\"value\",\"value\":8},\"line_color\":{\"type\":\"value\",\"value\":\"#1f77b4\"},\"line_alpha\":{\"type\":\"value\",\"value\":0.2},\"fill_color\":{\"type\":\"value\",\"value\":\"#1f77b4\"},\"fill_alpha\":{\"type\":\"value\",\"value\":0.2},\"hatch_alpha\":{\"type\":\"value\",\"value\":0.2}}}}}],\"toolbar\":{\"type\":\"object\",\"name\":\"Toolbar\",\"id\":\"p1010\",\"attributes\":{\"tools\":[{\"type\":\"object\",\"name\":\"PanTool\",\"id\":\"p1023\"},{\"type\":\"object\",\"name\":\"WheelZoomTool\",\"id\":\"p1024\",\"attributes\":{\"renderers\":\"auto\"}},{\"type\":\"object\",\"name\":\"ResetTool\",\"id\":\"p1025\"},{\"type\":\"object\",\"name\":\"SaveTool\",\"id\":\"p1026\"}]}},\"toolbar_location\":\"above\",\"left\":[{\"type\":\"object\",\"name\":\"LinearAxis\",\"id\":\"p1018\",\"attributes\":{\"ticker\":{\"type\":\"object\",\"name\":\"BasicTicker\",\"id\":\"p1019\",\"attributes\":{\"mantissas\":[1,2,5]}},\"formatter\":{\"type\":\"object\",\"name\":\"BasicTickFormatter\",\"id\":\"p1020\"},\"major_label_policy\":{\"type\":\"object\",\"name\":\"AllLabels\",\"id\":\"p1021\"}}}],\"below\":[{\"type\":\"object\",\"name\":\"LinearAxis\",\"id\":\"p1013\",\"attributes\":{\"ticker\":{\"type\":\"object\",\"name\":\"BasicTicker\",\"id\":\"p1014\",\"attributes\":{\"mantissas\":[1,2,5]}},\"formatter\":{\"type\":\"object\",\"name\":\"BasicTickFormatter\",\"id\":\"p1015\"},\"major_label_policy\":{\"type\":\"object\",\"name\":\"AllLabels\",\"id\":\"p1016\"}}}],\"center\":[{\"type\":\"object\",\"name\":\"Grid\",\"id\":\"p1017\",\"attributes\":{\"axis\":{\"id\":\"p1013\"}}},{\"type\":\"object\",\"name\":\"Grid\",\"id\":\"p1022\",\"attributes\":{\"dimension\":1,\"axis\":{\"id\":\"p1018\"}}},{\"type\":\"object\",\"name\":\"LabelSet\",\"id\":\"p1039\",\"attributes\":{\"source\":{\"id\":\"p1027\"},\"x\":{\"type\":\"field\",\"field\":\"x1\"},\"y\":{\"type\":\"field\",\"field\":\"x2\"},\"text\":{\"type\":\"field\",\"field\":\"names\"},\"y_offset\":{\"type\":\"value\",\"value\":6},\"text_color\":{\"type\":\"value\",\"value\":\"#555555\"},\"text_font_size\":{\"type\":\"value\",\"value\":\"8pt\"},\"text_align\":{\"type\":\"value\",\"value\":\"center\"}}}]}}]}};\n  const render_items = [{\"docid\":\"3186f3f5-edaa-45a3-ba66-a063c9760fa5\",\"roots\":{\"p1001\":\"bae97b7d-3bf8-4606-b8ff-c53569fcb172\"},\"root_ids\":[\"p1001\"]}];\n  void root.Bokeh.embed.embed_items_notebook(docs_json, render_items);\n  }\n  if (root.Bokeh !== undefined) {\n    embed_document(root);\n  } else {\n    let attempts = 0;\n    const timer = setInterval(function(root) {\n      if (root.Bokeh !== undefined) {\n        clearInterval(timer);\n        embed_document(root);\n      } else {\n        attempts++;\n        if (attempts > 100) {\n          clearInterval(timer);\n          console.log(\"Bokeh: ERROR: Unable to run BokehJS code because BokehJS library is missing\");\n        }\n      }\n    }, 10, root)\n  }\n})(window);",
      "application/vnd.bokehjs_exec.v0+json": ""
     },
     "metadata": {
      "application/vnd.bokehjs_exec.v0+json": {
       "id": "p1001"
      }
     },
     "output_type": "display_data"
    }
   ],
   "source": [
    "from bokeh.models import ColumnDataSource, LabelSet\n",
    "from bokeh.plotting import figure, show, output_file\n",
    "from bokeh.io import output_notebook\n",
    "output_notebook()\n",
    "\n",
    "p = figure(tools=\"pan,wheel_zoom,reset,save\",\n",
    "           toolbar_location=\"above\",\n",
    "           title=\"word2vec T-SNE (eng model, top1000 words)\")\n",
    "\n",
    "source = ColumnDataSource(data=dict(x1=top_words_tsne[:,0],\n",
    "                                    x2=top_words_tsne[:,1],\n",
    "                                    names=top_words))\n",
    "\n",
    "p.scatter(x=\"x1\", y=\"x2\", size=8, source=source)\n",
    "\n",
    "labels = LabelSet(x=\"x1\", y=\"x2\", text=\"names\", y_offset=6,\n",
    "                  text_font_size=\"8pt\", text_color=\"#555555\",\n",
    "                  source=source, text_align='center')\n",
    "p.add_layout(labels)\n",
    "\n",
    "show(p)"
   ]
  },
  {
   "cell_type": "code",
   "execution_count": 30,
   "metadata": {},
   "outputs": [],
   "source": [
    "from sklearn.decomposition import TruncatedSVD\n",
    "\n",
    "svd_50 = TruncatedSVD(n_components=50)\n",
    "top_words_vec_50 = svd_50.fit_transform(top_words_vec)\n",
    "top_words_tsne2 = TSNE(n_components=2, random_state=0).fit_transform(top_words_vec_50)"
   ]
  },
  {
   "cell_type": "code",
   "execution_count": 31,
   "metadata": {},
   "outputs": [
    {
     "data": {
      "text/html": [
       "    <style>\n",
       "        .bk-notebook-logo {\n",
       "            display: block;\n",
       "            width: 20px;\n",
       "            height: 20px;\n",
       "            background-image: url(data:image/png;base64,iVBORw0KGgoAAAANSUhEUgAAABQAAAAUCAYAAACNiR0NAAAABHNCSVQICAgIfAhkiAAAAAlwSFlzAAALEgAACxIB0t1+/AAAABx0RVh0U29mdHdhcmUAQWRvYmUgRmlyZXdvcmtzIENTNui8sowAAAOkSURBVDiNjZRtaJVlGMd/1/08zzln5zjP1LWcU9N0NkN8m2CYjpgQYQXqSs0I84OLIC0hkEKoPtiH3gmKoiJDU7QpLgoLjLIQCpEsNJ1vqUOdO7ppbuec5+V+rj4ctwzd8IIbbi6u+8f1539dt3A78eXC7QizUF7gyV1fD1Yqg4JWz84yffhm0qkFqBogB9rM8tZdtwVsPUhWhGcFJngGeWrPzHm5oaMmkfEg1usvLFyc8jLRqDOMru7AyC8saQr7GG7f5fvDeH7Ej8CM66nIF+8yngt6HWaKh7k49Soy9nXurCi1o3qUbS3zWfrYeQDTB/Qj6kX6Ybhw4B+bOYoLKCC9H3Nu/leUTZ1JdRWkkn2ldcCamzrcf47KKXdAJllSlxAOkRgyHsGC/zRday5Qld9DyoM4/q/rUoy/CXh3jzOu3bHUVZeU+DEn8FInkPBFlu3+nW3Nw0mk6vCDiWg8CeJaxEwuHS3+z5RgY+YBR6V1Z1nxSOfoaPa4LASWxxdNp+VWTk7+4vzaou8v8PN+xo+KY2xsw6une2frhw05CTYOmQvsEhjhWjn0bmXPjpE1+kplmmkP3suftwTubK9Vq22qKmrBhpY4jvd5afdRA3wGjFAgcnTK2s4hY0/GPNIb0nErGMCRxWOOX64Z8RAC4oCXdklmEvcL8o0BfkNK4lUg9HTl+oPlQxdNo3Mg4Nv175e/1LDGzZen30MEjRUtmXSfiTVu1kK8W4txyV6BMKlbgk3lMwYCiusNy9fVfvvwMxv8Ynl6vxoByANLTWplvuj/nF9m2+PDtt1eiHPBr1oIfhCChQMBw6Aw0UulqTKZdfVvfG7VcfIqLG9bcldL/+pdWTLxLUy8Qq38heUIjh4XlzZxzQm19lLFlr8vdQ97rjZVOLf8nclzckbcD4wxXMidpX30sFd37Fv/GtwwhzhxGVAprjbg0gCAEeIgwCZyTV2Z1REEW8O4py0wsjeloKoMr6iCY6dP92H6Vw/oTyICIthibxjm/DfN9lVz8IqtqKYLUXfoKVMVQVVJOElGjrnnUt9T9wbgp8AyYKaGlqingHZU/uG2NTZSVqwHQTWkx9hxjkpWDaCg6Ckj5qebgBVbT3V3NNXMSiWSDdGV3hrtzla7J+duwPOToIg42ChPQOQjspnSlp1V+Gjdged7+8UN5CRAV7a5EdFNwCjEaBR27b3W890TE7g24NAP/mMDXRWrGoFPQI9ls/MWO2dWFAar/xcOIImbbpA3zgAAAABJRU5ErkJggg==);\n",
       "        }\n",
       "    </style>\n",
       "    <div>\n",
       "        <a href=\"https://bokeh.org\" target=\"_blank\" class=\"bk-notebook-logo\"></a>\n",
       "        <span id=\"fe7874b3-a8df-455b-b436-8921f3a94e4c\">Loading BokehJS ...</span>\n",
       "    </div>\n"
      ]
     },
     "metadata": {},
     "output_type": "display_data"
    },
    {
     "data": {
      "application/javascript": "'use strict';\n(function(root) {\n  function now() {\n    return new Date();\n  }\n\n  const force = true;\n\n  if (typeof root._bokeh_onload_callbacks === \"undefined\" || force === true) {\n    root._bokeh_onload_callbacks = [];\n    root._bokeh_is_loading = undefined;\n  }\n\nconst JS_MIME_TYPE = 'application/javascript';\n  const HTML_MIME_TYPE = 'text/html';\n  const EXEC_MIME_TYPE = 'application/vnd.bokehjs_exec.v0+json';\n  const CLASS_NAME = 'output_bokeh rendered_html';\n\n  /**\n   * Render data to the DOM node\n   */\n  function render(props, node) {\n    const script = document.createElement(\"script\");\n    node.appendChild(script);\n  }\n\n  /**\n   * Handle when an output is cleared or removed\n   */\n  function handleClearOutput(event, handle) {\n    function drop(id) {\n      const view = Bokeh.index.get_by_id(id)\n      if (view != null) {\n        view.model.document.clear()\n        Bokeh.index.delete(view)\n      }\n    }\n\n    const cell = handle.cell;\n\n    const id = cell.output_area._bokeh_element_id;\n    const server_id = cell.output_area._bokeh_server_id;\n\n    // Clean up Bokeh references\n    if (id != null) {\n      drop(id)\n    }\n\n    if (server_id !== undefined) {\n      // Clean up Bokeh references\n      const cmd_clean = \"from bokeh.io.state import curstate; print(curstate().uuid_to_server['\" + server_id + \"'].get_sessions()[0].document.roots[0]._id)\";\n      cell.notebook.kernel.execute(cmd_clean, {\n        iopub: {\n          output: function(msg) {\n            const id = msg.content.text.trim()\n            drop(id)\n          }\n        }\n      });\n      // Destroy server and session\n      const cmd_destroy = \"import bokeh.io.notebook as ion; ion.destroy_server('\" + server_id + \"')\";\n      cell.notebook.kernel.execute(cmd_destroy);\n    }\n  }\n\n  /**\n   * Handle when a new output is added\n   */\n  function handleAddOutput(event, handle) {\n    const output_area = handle.output_area;\n    const output = handle.output;\n\n    // limit handleAddOutput to display_data with EXEC_MIME_TYPE content only\n    if ((output.output_type != \"display_data\") || (!Object.prototype.hasOwnProperty.call(output.data, EXEC_MIME_TYPE))) {\n      return\n    }\n\n    const toinsert = output_area.element.find(\".\" + CLASS_NAME.split(' ')[0]);\n\n    if (output.metadata[EXEC_MIME_TYPE][\"id\"] !== undefined) {\n      toinsert[toinsert.length - 1].firstChild.textContent = output.data[JS_MIME_TYPE];\n      // store reference to embed id on output_area\n      output_area._bokeh_element_id = output.metadata[EXEC_MIME_TYPE][\"id\"];\n    }\n    if (output.metadata[EXEC_MIME_TYPE][\"server_id\"] !== undefined) {\n      const bk_div = document.createElement(\"div\");\n      bk_div.innerHTML = output.data[HTML_MIME_TYPE];\n      const script_attrs = bk_div.children[0].attributes;\n      for (let i = 0; i < script_attrs.length; i++) {\n        toinsert[toinsert.length - 1].firstChild.setAttribute(script_attrs[i].name, script_attrs[i].value);\n        toinsert[toinsert.length - 1].firstChild.textContent = bk_div.children[0].textContent\n      }\n      // store reference to server id on output_area\n      output_area._bokeh_server_id = output.metadata[EXEC_MIME_TYPE][\"server_id\"];\n    }\n  }\n\n  function register_renderer(events, OutputArea) {\n\n    function append_mime(data, metadata, element) {\n      // create a DOM node to render to\n      const toinsert = this.create_output_subarea(\n        metadata,\n        CLASS_NAME,\n        EXEC_MIME_TYPE\n      );\n      this.keyboard_manager.register_events(toinsert);\n      // Render to node\n      const props = {data: data, metadata: metadata[EXEC_MIME_TYPE]};\n      render(props, toinsert[toinsert.length - 1]);\n      element.append(toinsert);\n      return toinsert\n    }\n\n    /* Handle when an output is cleared or removed */\n    events.on('clear_output.CodeCell', handleClearOutput);\n    events.on('delete.Cell', handleClearOutput);\n\n    /* Handle when a new output is added */\n    events.on('output_added.OutputArea', handleAddOutput);\n\n    /**\n     * Register the mime type and append_mime function with output_area\n     */\n    OutputArea.prototype.register_mime_type(EXEC_MIME_TYPE, append_mime, {\n      /* Is output safe? */\n      safe: true,\n      /* Index of renderer in `output_area.display_order` */\n      index: 0\n    });\n  }\n\n  // register the mime type if in Jupyter Notebook environment and previously unregistered\n  if (root.Jupyter !== undefined) {\n    const events = require('base/js/events');\n    const OutputArea = require('notebook/js/outputarea').OutputArea;\n\n    if (OutputArea.prototype.mime_types().indexOf(EXEC_MIME_TYPE) == -1) {\n      register_renderer(events, OutputArea);\n    }\n  }\n  if (typeof (root._bokeh_timeout) === \"undefined\" || force === true) {\n    root._bokeh_timeout = Date.now() + 5000;\n    root._bokeh_failed_load = false;\n  }\n\n  const NB_LOAD_WARNING = {'data': {'text/html':\n     \"<div style='background-color: #fdd'>\\n\"+\n     \"<p>\\n\"+\n     \"BokehJS does not appear to have successfully loaded. If loading BokehJS from CDN, this \\n\"+\n     \"may be due to a slow or bad network connection. Possible fixes:\\n\"+\n     \"</p>\\n\"+\n     \"<ul>\\n\"+\n     \"<li>re-rerun `output_notebook()` to attempt to load from CDN again, or</li>\\n\"+\n     \"<li>use INLINE resources instead, as so:</li>\\n\"+\n     \"</ul>\\n\"+\n     \"<code>\\n\"+\n     \"from bokeh.resources import INLINE\\n\"+\n     \"output_notebook(resources=INLINE)\\n\"+\n     \"</code>\\n\"+\n     \"</div>\"}};\n\n  function display_loaded(error = null) {\n    const el = document.getElementById(\"fe7874b3-a8df-455b-b436-8921f3a94e4c\");\n    if (el != null) {\n      const html = (() => {\n        if (typeof root.Bokeh === \"undefined\") {\n          if (error == null) {\n            return \"BokehJS is loading ...\";\n          } else {\n            return \"BokehJS failed to load.\";\n          }\n        } else {\n          const prefix = `BokehJS ${root.Bokeh.version}`;\n          if (error == null) {\n            return `${prefix} successfully loaded.`;\n          } else {\n            return `${prefix} <b>encountered errors</b> while loading and may not function as expected.`;\n          }\n        }\n      })();\n      el.innerHTML = html;\n\n      if (error != null) {\n        const wrapper = document.createElement(\"div\");\n        wrapper.style.overflow = \"auto\";\n        wrapper.style.height = \"5em\";\n        wrapper.style.resize = \"vertical\";\n        const content = document.createElement(\"div\");\n        content.style.fontFamily = \"monospace\";\n        content.style.whiteSpace = \"pre-wrap\";\n        content.style.backgroundColor = \"rgb(255, 221, 221)\";\n        content.textContent = error.stack ?? error.toString();\n        wrapper.append(content);\n        el.append(wrapper);\n      }\n    } else if (Date.now() < root._bokeh_timeout) {\n      setTimeout(() => display_loaded(error), 100);\n    }\n  }\n\n  function run_callbacks() {\n    try {\n      root._bokeh_onload_callbacks.forEach(function(callback) {\n        if (callback != null)\n          callback();\n      });\n    } finally {\n      delete root._bokeh_onload_callbacks\n    }\n    console.debug(\"Bokeh: all callbacks have finished\");\n  }\n\n  function load_libs(css_urls, js_urls, callback) {\n    if (css_urls == null) css_urls = [];\n    if (js_urls == null) js_urls = [];\n\n    root._bokeh_onload_callbacks.push(callback);\n    if (root._bokeh_is_loading > 0) {\n      console.debug(\"Bokeh: BokehJS is being loaded, scheduling callback at\", now());\n      return null;\n    }\n    if (js_urls == null || js_urls.length === 0) {\n      run_callbacks();\n      return null;\n    }\n    console.debug(\"Bokeh: BokehJS not loaded, scheduling load and callback at\", now());\n    root._bokeh_is_loading = css_urls.length + js_urls.length;\n\n    function on_load() {\n      root._bokeh_is_loading--;\n      if (root._bokeh_is_loading === 0) {\n        console.debug(\"Bokeh: all BokehJS libraries/stylesheets loaded\");\n        run_callbacks()\n      }\n    }\n\n    function on_error(url) {\n      console.error(\"failed to load \" + url);\n    }\n\n    for (let i = 0; i < css_urls.length; i++) {\n      const url = css_urls[i];\n      const element = document.createElement(\"link\");\n      element.onload = on_load;\n      element.onerror = on_error.bind(null, url);\n      element.rel = \"stylesheet\";\n      element.type = \"text/css\";\n      element.href = url;\n      console.debug(\"Bokeh: injecting link tag for BokehJS stylesheet: \", url);\n      document.body.appendChild(element);\n    }\n\n    for (let i = 0; i < js_urls.length; i++) {\n      const url = js_urls[i];\n      const element = document.createElement('script');\n      element.onload = on_load;\n      element.onerror = on_error.bind(null, url);\n      element.async = false;\n      element.src = url;\n      console.debug(\"Bokeh: injecting script tag for BokehJS library: \", url);\n      document.head.appendChild(element);\n    }\n  };\n\n  function inject_raw_css(css) {\n    const element = document.createElement(\"style\");\n    element.appendChild(document.createTextNode(css));\n    document.body.appendChild(element);\n  }\n\n  const js_urls = [\"https://cdn.bokeh.org/bokeh/release/bokeh-3.5.1.min.js\", \"https://cdn.bokeh.org/bokeh/release/bokeh-gl-3.5.1.min.js\", \"https://cdn.bokeh.org/bokeh/release/bokeh-widgets-3.5.1.min.js\", \"https://cdn.bokeh.org/bokeh/release/bokeh-tables-3.5.1.min.js\", \"https://cdn.bokeh.org/bokeh/release/bokeh-mathjax-3.5.1.min.js\"];\n  const css_urls = [];\n\n  const inline_js = [    function(Bokeh) {\n      Bokeh.set_log_level(\"info\");\n    },\nfunction(Bokeh) {\n    }\n  ];\n\n  function run_inline_js() {\n    if (root.Bokeh !== undefined || force === true) {\n      try {\n            for (let i = 0; i < inline_js.length; i++) {\n      inline_js[i].call(root, root.Bokeh);\n    }\n\n      } catch (error) {display_loaded(error);throw error;\n      }if (force === true) {\n        display_loaded();\n      }} else if (Date.now() < root._bokeh_timeout) {\n      setTimeout(run_inline_js, 100);\n    } else if (!root._bokeh_failed_load) {\n      console.log(\"Bokeh: BokehJS failed to load within specified timeout.\");\n      root._bokeh_failed_load = true;\n    } else if (force !== true) {\n      const cell = $(document.getElementById(\"fe7874b3-a8df-455b-b436-8921f3a94e4c\")).parents('.cell').data().cell;\n      cell.output_area.append_execute_result(NB_LOAD_WARNING)\n    }\n  }\n\n  if (root._bokeh_is_loading === 0) {\n    console.debug(\"Bokeh: BokehJS loaded, going straight to plotting\");\n    run_inline_js();\n  } else {\n    load_libs(css_urls, js_urls, function() {\n      console.debug(\"Bokeh: BokehJS plotting callback run at\", now());\n      run_inline_js();\n    });\n  }\n}(window));",
      "application/vnd.bokehjs_load.v0+json": ""
     },
     "metadata": {},
     "output_type": "display_data"
    },
    {
     "data": {
      "text/html": [
       "\n",
       "  <div id=\"c3057c6d-3c7b-4e6f-a87b-7bc634f94da3\" data-root-id=\"p1045\" style=\"display: contents;\"></div>\n"
      ]
     },
     "metadata": {},
     "output_type": "display_data"
    },
    {
     "data": {
      "application/javascript": "(function(root) {\n  function embed_document(root) {\n  const docs_json = {\"bfa883e8-9df0-448e-9a12-e5d7fbc9d802\":{\"version\":\"3.5.1\",\"title\":\"Bokeh Application\",\"roots\":[{\"type\":\"object\",\"name\":\"Figure\",\"id\":\"p1045\",\"attributes\":{\"x_range\":{\"type\":\"object\",\"name\":\"DataRange1d\",\"id\":\"p1046\"},\"y_range\":{\"type\":\"object\",\"name\":\"DataRange1d\",\"id\":\"p1047\"},\"x_scale\":{\"type\":\"object\",\"name\":\"LinearScale\",\"id\":\"p1055\"},\"y_scale\":{\"type\":\"object\",\"name\":\"LinearScale\",\"id\":\"p1056\"},\"title\":{\"type\":\"object\",\"name\":\"Title\",\"id\":\"p1048\",\"attributes\":{\"text\":\"word2vec T-SNE (eng model, top1000 words, +SVD)\"}},\"renderers\":[{\"type\":\"object\",\"name\":\"GlyphRenderer\",\"id\":\"p1080\",\"attributes\":{\"data_source\":{\"type\":\"object\",\"name\":\"ColumnDataSource\",\"id\":\"p1071\",\"attributes\":{\"selected\":{\"type\":\"object\",\"name\":\"Selection\",\"id\":\"p1072\",\"attributes\":{\"indices\":[],\"line_indices\":[]}},\"selection_policy\":{\"type\":\"object\",\"name\":\"UnionRenderers\",\"id\":\"p1073\"},\"data\":{\"type\":\"map\",\"entries\":[[\"x1\",{\"type\":\"ndarray\",\"array\":{\"type\":\"bytes\",\"data\":\"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\"},\"shape\":[1000],\"dtype\":\"float32\",\"order\":\"little\"}],[\"x2\",{\"type\":\"ndarray\",\"array\":{\"type\":\"bytes\",\"data\":\"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\"},\"shape\":[1000],\"dtype\":\"float32\",\"order\":\"little\"}],[\"names\",[\"the\",\"and\",\"a\",\"of\",\"to\",\"is\",\"it\",\"in\",\"i\",\"this\",\"that\",\"s\",\"was\",\"as\",\"with\",\"for\",\"movie\",\"but\",\"film\",\"you\",\"t\",\"on\",\"not\",\"he\",\"are\",\"his\",\"have\",\"be\",\"one\",\"all\",\"they\",\"at\",\"by\",\"who\",\"an\",\"from\",\"so\",\"like\",\"there\",\"or\",\"her\",\"just\",\"about\",\"out\",\"has\",\"if\",\"what\",\"some\",\"good\",\"can\",\"when\",\"more\",\"very\",\"she\",\"up\",\"no\",\"time\",\"even\",\"would\",\"their\",\"my\",\"which\",\"story\",\"only\",\"really\",\"see\",\"had\",\"were\",\"well\",\"me\",\"we\",\"than\",\"much\",\"bad\",\"been\",\"get\",\"people\",\"great\",\"into\",\"also\",\"do\",\"other\",\"first\",\"will\",\"him\",\"because\",\"most\",\"how\",\"don\",\"them\",\"make\",\"its\",\"made\",\"way\",\"could\",\"then\",\"too\",\"movies\",\"after\",\"any\",\"characters\",\"character\",\"films\",\"two\",\"think\",\"watch\",\"being\",\"plot\",\"many\",\"where\",\"never\",\"love\",\"seen\",\"little\",\"life\",\"acting\",\"best\",\"did\",\"off\",\"know\",\"over\",\"ever\",\"does\",\"show\",\"better\",\"man\",\"your\",\"end\",\"here\",\"scene\",\"while\",\"these\",\"why\",\"still\",\"scenes\",\"something\",\"say\",\"go\",\"m\",\"ve\",\"should\",\"back\",\"such\",\"real\",\"through\",\"those\",\"now\",\"re\",\"doesn\",\"watching\",\"thing\",\"director\",\"funny\",\"though\",\"years\",\"didn\",\"another\",\"actors\",\"new\",\"going\",\"old\",\"makes\",\"nothing\",\"actually\",\"before\",\"work\",\"look\",\"same\",\"find\",\"lot\",\"part\",\"few\",\"every\",\"again\",\"world\",\"action\",\"cast\",\"horror\",\"things\",\"us\",\"quite\",\"want\",\"down\",\"pretty\",\"young\",\"fact\",\"around\",\"seems\",\"enough\",\"both\",\"take\",\"long\",\"however\",\"thought\",\"got\",\"own\",\"give\",\"comedy\",\"between\",\"big\",\"d\",\"must\",\"series\",\"right\",\"may\",\"without\",\"role\",\"guy\",\"original\",\"interesting\",\"whole\",\"come\",\"isn\",\"times\",\"always\",\"saw\",\"least\",\"bit\",\"gets\",\"almost\",\"script\",\"point\",\"last\",\"music\",\"done\",\"minutes\",\"feel\",\"far\",\"since\",\"girl\",\"ll\",\"yet\",\"might\",\"making\",\"performance\",\"away\",\"family\",\"anything\",\"am\",\"probably\",\"hard\",\"woman\",\"tv\",\"kind\",\"fun\",\"rather\",\"day\",\"played\",\"worst\",\"each\",\"found\",\"sure\",\"anyone\",\"especially\",\"trying\",\"having\",\"our\",\"screen\",\"looking\",\"different\",\"believe\",\"sense\",\"place\",\"american\",\"although\",\"ending\",\"goes\",\"worth\",\"course\",\"set\",\"shows\",\"maybe\",\"three\",\"comes\",\"dvd\",\"money\",\"once\",\"everything\",\"plays\",\"effects\",\"put\",\"john\",\"looks\",\"actor\",\"main\",\"together\",\"during\",\"someone\",\"let\",\"wasn\",\"instead\",\"everyone\",\"war\",\"year\",\"reason\",\"takes\",\"special\",\"said\",\"true\",\"high\",\"night\",\"book\",\"seem\",\"job\",\"play\",\"watched\",\"audience\",\"later\",\"wife\",\"black\",\"death\",\"himself\",\"star\",\"half\",\"seeing\",\"used\",\"idea\",\"dead\",\"second\",\"men\",\"left\",\"excellent\",\"simply\",\"shot\",\"else\",\"beautiful\",\"sex\",\"completely\",\"budget\",\"father\",\"women\",\"mind\",\"house\",\"hollywood\",\"poor\",\"less\",\"fan\",\"along\",\"boring\",\"performances\",\"home\",\"line\",\"help\",\"nice\",\"try\",\"couple\",\"top\",\"version\",\"until\",\"either\",\"low\",\"next\",\"camera\",\"use\",\"friends\",\"short\",\"wrong\",\"start\",\"kids\",\"given\",\"mother\",\"read\",\"need\",\"full\",\"enjoy\",\"production\",\"classic\",\"perhaps\",\"school\",\"moments\",\"truly\",\"stupid\",\"keep\",\"awful\",\"getting\",\"rest\",\"video\",\"face\",\"tell\",\"mean\",\"others\",\"itself\",\"understand\",\"boy\",\"terrible\",\"small\",\"name\",\"style\",\"came\",\"won\",\"playing\",\"recommend\",\"doing\",\"lost\",\"person\",\"definitely\",\"gives\",\"dialogue\",\"entertaining\",\"wonderful\",\"often\",\"live\",\"lines\",\"hope\",\"went\",\"stars\",\"case\",\"remember\",\"written\",\"couldn\",\"head\",\"early\",\"title\",\"yes\",\"human\",\"perfect\",\"become\",\"based\",\"friend\",\"children\",\"certainly\",\"liked\",\"problem\",\"drama\",\"son\",\"picture\",\"several\",\"fans\",\"under\",\"lead\",\"laugh\",\"oh\",\"guys\",\"humor\",\"supposed\",\"direction\",\"against\",\"absolutely\",\"overall\",\"sort\",\"piece\",\"episode\",\"finally\",\"game\",\"lives\",\"called\",\"entire\",\"evil\",\"cinema\",\"worse\",\"care\",\"waste\",\"killer\",\"dark\",\"felt\",\"beginning\",\"despite\",\"seemed\",\"genre\",\"final\",\"b\",\"totally\",\"history\",\"wanted\",\"unfortunately\",\"town\",\"throughout\",\"white\",\"city\",\"becomes\",\"able\",\"days\",\"already\",\"turn\",\"guess\",\"run\",\"fine\",\"loved\",\"act\",\"mr\",\"flick\",\"today\",\"horrible\",\"heart\",\"side\",\"hand\",\"kill\",\"tries\",\"wants\",\"starts\",\"quality\",\"killed\",\"past\",\"themselves\",\"child\",\"close\",\"matter\",\"group\",\"sound\",\"turns\",\"daughter\",\"parts\",\"viewer\",\"etc\",\"expect\",\"fight\",\"car\",\"enjoyed\",\"directed\",\"writing\",\"decent\",\"type\",\"violence\",\"stop\",\"example\",\"stuff\",\"self\",\"kid\",\"amazing\",\"behind\",\"soon\",\"blood\",\"favorite\",\"works\",\"known\",\"thinking\",\"gave\",\"obviously\",\"sometimes\",\"hero\",\"eyes\",\"actress\",\"girls\",\"michael\",\"happened\",\"brilliant\",\"stories\",\"except\",\"myself\",\"hour\",\"coming\",\"says\",\"writer\",\"late\",\"husband\",\"extremely\",\"experience\",\"hell\",\"happens\",\"art\",\"heard\",\"police\",\"took\",\"feeling\",\"roles\",\"leave\",\"highly\",\"attempt\",\"taken\",\"interest\",\"wouldn\",\"murder\",\"moment\",\"slow\",\"score\",\"god\",\"including\",\"looked\",\"obvious\",\"involved\",\"living\",\"anyway\",\"robert\",\"david\",\"cool\",\"hours\",\"save\",\"ok\",\"age\",\"voice\",\"o\",\"career\",\"told\",\"across\",\"wonder\",\"none\",\"strong\",\"cut\",\"happen\",\"please\",\"gore\",\"simple\",\"hilarious\",\"brother\",\"important\",\"exactly\",\"power\",\"chance\",\"ago\",\"james\",\"particularly\",\"relationship\",\"documentary\",\"level\",\"complete\",\"light\",\"female\",\"annoying\",\"possible\",\"serious\",\"cannot\",\"hit\",\"crap\",\"sad\",\"running\",\"lack\",\"sequel\",\"talent\",\"usually\",\"whose\",\"basically\",\"reality\",\"ends\",\"seriously\",\"strange\",\"order\",\"finds\",\"call\",\"taking\",\"somewhat\",\"room\",\"happy\",\"silly\",\"scary\",\"middle\",\"turned\",\"alone\",\"apparently\",\"ridiculous\",\"change\",\"clich\",\"country\",\"mostly\",\"attention\",\"miss\",\"four\",\"usual\",\"shown\",\"body\",\"song\",\"wish\",\"jokes\",\"number\",\"opening\",\"released\",\"disappointed\",\"word\",\"jack\",\"thriller\",\"single\",\"opinion\",\"straight\",\"future\",\"english\",\"words\",\"parents\",\"novel\",\"saying\",\"cinematography\",\"yourself\",\"view\",\"cheap\",\"started\",\"french\",\"beyond\",\"huge\",\"talking\",\"non\",\"clearly\",\"sets\",\"talk\",\"major\",\"die\",\"shots\",\"rating\",\"problems\",\"knew\",\"knows\",\"gay\",\"modern\",\"fast\",\"british\",\"due\",\"events\",\"tells\",\"add\",\"bring\",\"comic\",\"clear\",\"ones\",\"above\",\"hate\",\"storyline\",\"york\",\"easy\",\"typical\",\"entertainment\",\"aren\",\"easily\",\"haven\",\"within\",\"local\",\"upon\",\"general\",\"dialog\",\"crime\",\"ten\",\"giving\",\"george\",\"lots\",\"sequence\",\"america\",\"ways\",\"falls\",\"similar\",\"begins\",\"appears\",\"class\",\"near\",\"mystery\",\"named\",\"bunch\",\"filmed\",\"king\",\"elements\",\"romantic\",\"team\",\"certain\",\"review\",\"predictable\",\"working\",\"avoid\",\"stand\",\"de\",\"earth\",\"sorry\",\"th\",\"e\",\"television\",\"mention\",\"enjoyable\",\"supporting\",\"tale\",\"theme\",\"message\",\"points\",\"cop\",\"gone\",\"among\",\"fall\",\"space\",\"tom\",\"viewers\",\"eye\",\"red\",\"truth\",\"leads\",\"surprised\",\"stay\",\"release\",\"kept\",\"minute\",\"richard\",\"five\",\"dull\",\"killing\",\"using\",\"effort\",\"monster\",\"third\",\"brought\",\"musical\",\"feels\",\"suspense\",\"tried\",\"means\",\"whether\",\"comments\",\"sequences\",\"dog\",\"moving\",\"period\",\"peter\",\"lee\",\"needs\",\"doubt\",\"fi\",\"showing\",\"buy\",\"okay\",\"sci\",\"somehow\",\"soundtrack\",\"viewing\",\"rent\",\"herself\",\"nearly\",\"average\",\"songs\",\"theater\",\"episodes\",\"reviews\",\"whatever\",\"follow\",\"surprise\",\"feature\",\"form\",\"move\",\"forget\",\"realistic\",\"believable\",\"free\",\"material\",\"premise\",\"editing\",\"sister\",\"brothers\",\"deep\",\"imagine\",\"gun\",\"forced\",\"famous\",\"poorly\",\"deal\",\"crew\",\"western\",\"indeed\",\"expected\",\"check\",\"possibly\",\"fantastic\",\"lame\",\"society\",\"figure\",\"otherwise\",\"dr\",\"learn\",\"open\",\"paul\",\"eventually\",\"plus\",\"lady\",\"weak\",\"hear\",\"stage\",\"sexual\",\"leaves\",\"question\",\"note\",\"difficult\",\"sit\",\"towards\",\"romance\",\"box\",\"situation\",\"begin\",\"earlier\",\"personal\",\"atmosphere\",\"reading\",\"male\",\"screenplay\",\"wait\",\"decided\",\"joe\",\"battle\",\"interested\",\"powerful\",\"previous\",\"business\",\"greatest\",\"nor\",\"hot\",\"actual\",\"cheesy\",\"became\",\"acted\",\"worked\",\"animation\",\"subject\",\"island\",\"effect\",\"footage\",\"mess\",\"era\",\"oscar\",\"result\",\"meet\",\"rock\",\"credits\",\"features\",\"particular\",\"memorable\",\"whom\",\"boys\",\"air\",\"setting\",\"perfectly\",\"writers\",\"laughs\",\"street\",\"shame\",\"quickly\",\"rich\",\"older\",\"hands\",\"background\",\"keeps\",\"twist\",\"dramatic\",\"bill\",\"total\",\"present\",\"various\",\"appear\",\"pay\",\"telling\",\"directing\",\"william\",\"party\",\"alien\",\"unless\",\"crazy\",\"harry\",\"mark\",\"badly\",\"realize\",\"girlfriend\",\"forward\",\"front\",\"needed\",\"comment\",\"emotional\",\"imdb\",\"development\",\"fighting\",\"secret\",\"break\",\"fairly\",\"unique\",\"c\",\"baby\",\"outside\",\"married\",\"manages\",\"plenty\",\"villain\",\"apart\",\"missing\",\"masterpiece\",\"nature\",\"brings\",\"remake\",\"write\",\"former\",\"superb\",\"weird\",\"doctor\",\"clever\",\"escape\",\"list\",\"incredibly\",\"meets\",\"reasons\",\"hold\",\"created\",\"sounds\",\"sam\",\"inside\",\"unlike\",\"leading\",\"laughing\",\"ideas\",\"japanese\",\"season\",\"prison\",\"directors\",\"copy\",\"cute\",\"public\",\"return\",\"political\",\"violent\",\"success\",\"force\",\"create\",\"caught\",\"admit\",\"meant\",\"water\"]]]}}},\"view\":{\"type\":\"object\",\"name\":\"CDSView\",\"id\":\"p1081\",\"attributes\":{\"filter\":{\"type\":\"object\",\"name\":\"AllIndices\",\"id\":\"p1082\"}}},\"glyph\":{\"type\":\"object\",\"name\":\"Scatter\",\"id\":\"p1077\",\"attributes\":{\"x\":{\"type\":\"field\",\"field\":\"x1\"},\"y\":{\"type\":\"field\",\"field\":\"x2\"},\"size\":{\"type\":\"value\",\"value\":8},\"line_color\":{\"type\":\"value\",\"value\":\"#1f77b4\"},\"fill_color\":{\"type\":\"value\",\"value\":\"#1f77b4\"}}},\"nonselection_glyph\":{\"type\":\"object\",\"name\":\"Scatter\",\"id\":\"p1078\",\"attributes\":{\"x\":{\"type\":\"field\",\"field\":\"x1\"},\"y\":{\"type\":\"field\",\"field\":\"x2\"},\"size\":{\"type\":\"value\",\"value\":8},\"line_color\":{\"type\":\"value\",\"value\":\"#1f77b4\"},\"line_alpha\":{\"type\":\"value\",\"value\":0.1},\"fill_color\":{\"type\":\"value\",\"value\":\"#1f77b4\"},\"fill_alpha\":{\"type\":\"value\",\"value\":0.1},\"hatch_alpha\":{\"type\":\"value\",\"value\":0.1}}},\"muted_glyph\":{\"type\":\"object\",\"name\":\"Scatter\",\"id\":\"p1079\",\"attributes\":{\"x\":{\"type\":\"field\",\"field\":\"x1\"},\"y\":{\"type\":\"field\",\"field\":\"x2\"},\"size\":{\"type\":\"value\",\"value\":8},\"line_color\":{\"type\":\"value\",\"value\":\"#1f77b4\"},\"line_alpha\":{\"type\":\"value\",\"value\":0.2},\"fill_color\":{\"type\":\"value\",\"value\":\"#1f77b4\"},\"fill_alpha\":{\"type\":\"value\",\"value\":0.2},\"hatch_alpha\":{\"type\":\"value\",\"value\":0.2}}}}}],\"toolbar\":{\"type\":\"object\",\"name\":\"Toolbar\",\"id\":\"p1054\",\"attributes\":{\"tools\":[{\"type\":\"object\",\"name\":\"PanTool\",\"id\":\"p1067\"},{\"type\":\"object\",\"name\":\"WheelZoomTool\",\"id\":\"p1068\",\"attributes\":{\"renderers\":\"auto\"}},{\"type\":\"object\",\"name\":\"ResetTool\",\"id\":\"p1069\"},{\"type\":\"object\",\"name\":\"SaveTool\",\"id\":\"p1070\"}]}},\"toolbar_location\":\"above\",\"left\":[{\"type\":\"object\",\"name\":\"LinearAxis\",\"id\":\"p1062\",\"attributes\":{\"ticker\":{\"type\":\"object\",\"name\":\"BasicTicker\",\"id\":\"p1063\",\"attributes\":{\"mantissas\":[1,2,5]}},\"formatter\":{\"type\":\"object\",\"name\":\"BasicTickFormatter\",\"id\":\"p1064\"},\"major_label_policy\":{\"type\":\"object\",\"name\":\"AllLabels\",\"id\":\"p1065\"}}}],\"below\":[{\"type\":\"object\",\"name\":\"LinearAxis\",\"id\":\"p1057\",\"attributes\":{\"ticker\":{\"type\":\"object\",\"name\":\"BasicTicker\",\"id\":\"p1058\",\"attributes\":{\"mantissas\":[1,2,5]}},\"formatter\":{\"type\":\"object\",\"name\":\"BasicTickFormatter\",\"id\":\"p1059\"},\"major_label_policy\":{\"type\":\"object\",\"name\":\"AllLabels\",\"id\":\"p1060\"}}}],\"center\":[{\"type\":\"object\",\"name\":\"Grid\",\"id\":\"p1061\",\"attributes\":{\"axis\":{\"id\":\"p1057\"}}},{\"type\":\"object\",\"name\":\"Grid\",\"id\":\"p1066\",\"attributes\":{\"dimension\":1,\"axis\":{\"id\":\"p1062\"}}},{\"type\":\"object\",\"name\":\"LabelSet\",\"id\":\"p1083\",\"attributes\":{\"source\":{\"id\":\"p1071\"},\"x\":{\"type\":\"field\",\"field\":\"x1\"},\"y\":{\"type\":\"field\",\"field\":\"x2\"},\"text\":{\"type\":\"field\",\"field\":\"names\"},\"y_offset\":{\"type\":\"value\",\"value\":6},\"text_color\":{\"type\":\"value\",\"value\":\"#555555\"},\"text_font_size\":{\"type\":\"value\",\"value\":\"8pt\"},\"text_align\":{\"type\":\"value\",\"value\":\"center\"}}}]}}]}};\n  const render_items = [{\"docid\":\"bfa883e8-9df0-448e-9a12-e5d7fbc9d802\",\"roots\":{\"p1045\":\"c3057c6d-3c7b-4e6f-a87b-7bc634f94da3\"},\"root_ids\":[\"p1045\"]}];\n  void root.Bokeh.embed.embed_items_notebook(docs_json, render_items);\n  }\n  if (root.Bokeh !== undefined) {\n    embed_document(root);\n  } else {\n    let attempts = 0;\n    const timer = setInterval(function(root) {\n      if (root.Bokeh !== undefined) {\n        clearInterval(timer);\n        embed_document(root);\n      } else {\n        attempts++;\n        if (attempts > 100) {\n          clearInterval(timer);\n          console.log(\"Bokeh: ERROR: Unable to run BokehJS code because BokehJS library is missing\");\n        }\n      }\n    }, 10, root)\n  }\n})(window);",
      "application/vnd.bokehjs_exec.v0+json": ""
     },
     "metadata": {
      "application/vnd.bokehjs_exec.v0+json": {
       "id": "p1045"
      }
     },
     "output_type": "display_data"
    }
   ],
   "source": [
    "output_notebook()\n",
    "\n",
    "p = figure(tools=\"pan,wheel_zoom,reset,save\",\n",
    "           toolbar_location=\"above\",\n",
    "           title=\"word2vec T-SNE (eng model, top1000 words, +SVD)\")\n",
    "\n",
    "source = ColumnDataSource(data=dict(x1=top_words_tsne2[:,0],\n",
    "                                    x2=top_words_tsne2[:,1],\n",
    "                                    names=top_words))\n",
    "\n",
    "p.scatter(x=\"x1\", y=\"x2\", size=8, source=source)\n",
    "\n",
    "labels = LabelSet(x=\"x1\", y=\"x2\", text=\"names\", y_offset=6,\n",
    "                  text_font_size=\"8pt\", text_color=\"#555555\",\n",
    "                  source=source, text_align='center')\n",
    "p.add_layout(labels)\n",
    "\n",
    "show(p)"
   ]
  },
  {
   "cell_type": "markdown",
   "metadata": {},
   "source": [
    "## FastText\n",
    "\n",
    "FastText использует не только эмбеддинги слов, но и эмбеддинги n-грам. В корпусе каждое слово автоматически представляется в виде набора символьных n-грамм. Скажем, если мы установим n=3, то вектор для слова \"where\" будет представлен суммой векторов следующих триграм: \"<wh\", \"whe\", \"her\", \"ere\", \"re>\" (где \"<\" и \">\" символы, обозначающие начало и конец слова). Благодаря этому мы можем также получать вектора для слов, отсутствующих в словаре, а также эффективно работать с текстами, содержащими ошибки и опечатки.\n",
    "\n",
    "* [Статья](https://aclweb.org/anthology/Q17-1010)\n",
    "* [Сайт](https://fasttext.cc/)\n",
    "* [Тьюториал](https://fasttext.cc/docs/en/support.html)\n",
    "* [Вектора для 157 языков](https://fasttext.cc/docs/en/crawl-vectors.html)\n",
    "* [Вектора, обученные на википедии](https://fasttext.cc/docs/en/pretrained-vectors.html) (отдельно для 294 разных языков)\n",
    "* [Репозиторий](https://github.com/facebookresearch/fasttext)\n",
    "\n",
    "Есть библиотека `fasttext` для питона (с готовыми моделями можно работать и через `gensim`)."
   ]
  },
  {
   "cell_type": "code",
   "execution_count": 32,
   "metadata": {},
   "outputs": [],
   "source": [
    "# ! git clone https://github.com/facebookresearch/fastText.git\n",
    "# ! pip3 install fastText/."
   ]
  },
  {
   "cell_type": "code",
   "execution_count": 46,
   "metadata": {},
   "outputs": [],
   "source": [
    "with open('clean_text.txt', 'w', encoding='utf-8') as file:\n",
    "    for s in sentences:\n",
    "        file.write(' '.join(s))\n",
    "        file.write('\\n')"
   ]
  },
  {
   "cell_type": "code",
   "execution_count": 47,
   "metadata": {},
   "outputs": [],
   "source": [
    "import fasttext \n",
    "\n",
    "ft_model = fasttext.train_unsupervised('clean_text.txt', minn=3, maxn=4, dim=300)"
   ]
  },
  {
   "cell_type": "code",
   "execution_count": 48,
   "metadata": {},
   "outputs": [
    {
     "data": {
      "text/plain": [
       "array([-2.72923023e-01,  4.07852158e-02, -8.74096230e-02, -1.27159402e-01,\n",
       "       -5.28752804e-02,  1.04892030e-01, -1.41197070e-02,  9.04834419e-02,\n",
       "       -2.99937720e-03,  1.23862855e-01,  1.03187457e-01,  2.78505683e-03,\n",
       "        2.38806054e-01, -2.50266761e-01,  9.68079045e-02,  2.44842973e-02,\n",
       "       -1.60062671e-01, -5.84143065e-02, -5.47989383e-02,  7.03189000e-02,\n",
       "       -4.49193828e-02,  1.99977025e-01, -1.57394651e-02,  2.12564617e-02,\n",
       "       -1.66952923e-01,  1.83455944e-02,  2.70068645e-04,  1.35680243e-01,\n",
       "        3.89516354e-02, -1.93783883e-02,  1.48363039e-01, -1.11812316e-01,\n",
       "       -1.37262449e-01,  6.08672015e-02,  1.31749704e-01, -1.82580147e-02,\n",
       "       -5.18879071e-02, -2.16519400e-01,  1.40219972e-01,  6.50775209e-02,\n",
       "       -1.35115191e-01,  2.17132375e-01,  7.00165555e-02, -4.19702053e-01,\n",
       "        1.39736578e-01,  1.90288313e-02, -2.57452816e-01,  1.13450728e-01,\n",
       "       -1.79584250e-01, -3.93727086e-02, -6.90501928e-02, -9.19841677e-02,\n",
       "       -9.73226577e-02,  1.20327093e-01,  1.32138297e-01, -3.31672952e-02,\n",
       "       -2.19490916e-01,  1.60032377e-01,  2.68844515e-01,  2.75549684e-02,\n",
       "       -5.65139428e-02,  2.60744929e-01,  9.71238166e-02,  1.26623631e-01,\n",
       "        1.60296351e-01, -5.11636101e-02,  6.56790361e-02,  1.77023515e-01,\n",
       "       -1.25662819e-01,  8.30514058e-02, -1.12715957e-03, -5.15202992e-02,\n",
       "       -2.21825197e-01,  1.07209146e-01,  1.95198264e-02, -2.55972832e-01,\n",
       "        2.70280000e-02, -1.01924948e-01, -8.20411891e-02,  7.93506112e-03,\n",
       "        1.15052704e-02,  1.39272913e-01,  1.73530817e-01, -6.54850155e-02,\n",
       "        7.10743293e-02,  2.26479080e-02, -1.29739210e-01,  8.79488736e-02,\n",
       "       -2.41579749e-02, -1.07317559e-01,  6.09790459e-02,  1.28470883e-01,\n",
       "        2.12909766e-02, -1.54681370e-01, -1.06012702e-01, -2.25945875e-01,\n",
       "       -1.01458900e-01,  2.68414527e-01,  2.88276765e-02, -5.31093739e-02,\n",
       "       -3.65348570e-02,  2.98982915e-02, -1.02988007e-02,  8.62311721e-02,\n",
       "        2.07145214e-01, -1.44037127e-01,  1.47490457e-01,  9.81580764e-02,\n",
       "        3.90463881e-02,  1.26027495e-01, -2.06471682e-02, -2.14982972e-01,\n",
       "       -1.45020053e-01, -1.19235113e-01,  1.91706523e-01,  1.10488787e-01,\n",
       "       -1.45843074e-01,  5.27805351e-02,  2.27192283e-01,  1.02946125e-01,\n",
       "        2.55398285e-02, -1.28944427e-01,  7.20983669e-02,  2.24996328e-01,\n",
       "        4.52853460e-03, -8.60363394e-02, -6.71767518e-02,  4.12951782e-02,\n",
       "       -8.16775188e-02,  9.04513225e-02,  7.35933408e-02,  4.96720104e-03,\n",
       "       -1.73016712e-01, -7.30003193e-02, -4.40730229e-02, -2.10306793e-01,\n",
       "        6.70364499e-03,  4.90772501e-02, -1.24600232e-02,  5.05960770e-02,\n",
       "        4.89041582e-02, -6.80849850e-02,  1.65117867e-02, -1.68048292e-01,\n",
       "       -4.18829935e-04,  1.92467973e-01,  1.34823173e-01,  2.01839097e-02,\n",
       "        6.49709478e-02, -1.85502898e-02, -1.77272335e-02, -1.86319172e-01,\n",
       "        1.03689156e-01,  6.77207932e-02, -1.25308976e-01,  1.40125779e-02,\n",
       "       -1.01810411e-01, -9.52389687e-02, -2.01960608e-01, -4.87065017e-02,\n",
       "       -1.50785252e-01,  6.80091158e-02, -6.74357787e-02,  4.46176529e-02,\n",
       "        8.43181759e-02, -1.15331963e-01,  1.52581915e-01, -2.14289576e-01,\n",
       "        1.20412998e-01,  2.21970350e-01, -4.43953127e-02, -1.04775431e-03,\n",
       "       -6.84354976e-02,  1.66139659e-02, -4.72977646e-02,  6.47181422e-02,\n",
       "       -1.46454796e-01,  8.99909139e-02, -1.10671721e-01,  8.50365683e-02,\n",
       "       -4.98542003e-02, -1.34505913e-01,  9.59418938e-02, -1.32082224e-01,\n",
       "       -2.73422927e-01, -9.08742175e-02,  1.84893608e-01,  1.16532497e-01,\n",
       "        7.99735822e-03, -1.66249558e-01,  1.51776537e-01, -1.83530718e-01,\n",
       "        2.76367813e-01,  5.12097441e-02, -1.71047673e-01, -7.53597319e-02,\n",
       "       -5.34308702e-03,  1.77142564e-02,  5.84958820e-03, -4.36610244e-02,\n",
       "        1.21014021e-01, -3.42894271e-02,  2.28056032e-02, -9.32845399e-02,\n",
       "       -9.34917256e-02,  4.44891714e-02, -6.17195666e-02,  1.69705751e-03,\n",
       "        6.67083189e-02, -1.15879014e-01, -9.06839222e-02,  8.71813332e-04,\n",
       "       -3.69985193e-01,  1.37909323e-01,  1.64715834e-02,  2.98499405e-01,\n",
       "        6.60107657e-02, -9.16216597e-02, -8.61904845e-02,  4.30462845e-02,\n",
       "       -1.48235202e-01,  3.03129405e-01, -1.29716471e-01, -2.84302961e-02,\n",
       "       -1.21677719e-01,  1.84675202e-01,  1.75475463e-01,  6.49948195e-02,\n",
       "       -1.41112670e-01,  2.69734174e-01,  1.61390066e-01,  2.19015405e-01,\n",
       "       -2.53720641e-01, -1.64086893e-01,  1.07601479e-01, -1.50955603e-01,\n",
       "       -1.34020984e-01,  9.71687436e-02, -2.69560486e-01,  8.51303563e-02,\n",
       "        2.58302987e-01,  1.83667630e-01, -1.05199121e-01,  2.66842932e-01,\n",
       "       -6.20125011e-02, -2.15609908e-01, -2.37199795e-02, -4.63308720e-03,\n",
       "       -1.21598184e-01,  1.48567453e-01, -1.22892879e-01,  7.26363063e-03,\n",
       "       -6.89887395e-03, -1.70926079e-01, -7.06266612e-02, -1.18331172e-01,\n",
       "       -2.16348752e-01,  1.50784254e-02, -5.75543661e-03, -6.88444078e-03,\n",
       "       -1.86755303e-02, -2.75572270e-01,  8.29233155e-02,  4.52273972e-02,\n",
       "        2.55258560e-01,  1.14919201e-01, -1.47874178e-02,  1.36646420e-01,\n",
       "        1.34000657e-02,  2.19017547e-02,  1.35712430e-01, -1.15856528e-01,\n",
       "        1.40221640e-01, -1.20022193e-01,  6.53952584e-02,  1.54832257e-02,\n",
       "        1.09912269e-01, -2.23854836e-02, -3.54440302e-01,  8.20359215e-02,\n",
       "       -6.25547543e-02,  1.75427143e-02, -2.02568527e-02, -2.28934567e-02,\n",
       "        1.26870796e-01,  2.40234863e-02, -1.73350815e-02, -6.00059628e-02,\n",
       "       -6.99007884e-02, -1.85028035e-02, -2.83996314e-01,  4.33881395e-02,\n",
       "       -8.13717991e-02, -9.29020047e-02,  7.23854080e-02,  3.17733176e-02,\n",
       "       -4.50766012e-02,  5.67785278e-02, -4.80952971e-02, -2.46485755e-01],\n",
       "      dtype=float32)"
      ]
     },
     "execution_count": 48,
     "metadata": {},
     "output_type": "execute_result"
    }
   ],
   "source": [
    "ft_model.get_word_vector(\"movie\")"
   ]
  },
  {
   "cell_type": "code",
   "execution_count": 49,
   "metadata": {},
   "outputs": [
    {
     "data": {
      "text/plain": [
       "[(0.6604437232017517, 'actors'),\n",
       " (0.5741051435470581, 'ctor'),\n",
       " (0.5713533759117126, 'tractor'),\n",
       " (0.5655781626701355, 'actress'),\n",
       " (0.5219190120697021, 'role'),\n",
       " (0.5113593339920044, 'reactor'),\n",
       " (0.4961804449558258, 'performance'),\n",
       " (0.4953829050064087, 'viktor'),\n",
       " (0.48770871758461, 'factor'),\n",
       " (0.4833109676837921, 'actresses')]"
      ]
     },
     "execution_count": 49,
     "metadata": {},
     "output_type": "execute_result"
    }
   ],
   "source": [
    "ft_model.get_nearest_neighbors('actor')"
   ]
  },
  {
   "cell_type": "code",
   "execution_count": 50,
   "metadata": {},
   "outputs": [
    {
     "data": {
      "text/plain": [
       "[(0.7605119943618774, 'actress'),\n",
       " (0.7503945827484131, 'actresses'),\n",
       " (0.6604633331298828, 'actors'),\n",
       " (0.6310917139053345, 'actor'),\n",
       " (0.5418269634246826, 'acte'),\n",
       " (0.5185579061508179, 'acting'),\n",
       " (0.47738519310951233, 'talented'),\n",
       " (0.4593389928340912, 'performers'),\n",
       " (0.45686453580856323, 'cast'),\n",
       " (0.456167995929718, 'performer')]"
      ]
     },
     "execution_count": 50,
     "metadata": {},
     "output_type": "execute_result"
    }
   ],
   "source": [
    "ft_model.get_nearest_neighbors('actr')"
   ]
  },
  {
   "cell_type": "code",
   "execution_count": 51,
   "metadata": {},
   "outputs": [
    {
     "data": {
      "text/plain": [
       "[(0.6539474725723267, 'geek'),\n",
       " (0.6335132122039795, 'moviegoing'),\n",
       " (0.5995051264762878, 'movie'),\n",
       " (0.5993400812149048, 'moviegoer'),\n",
       " (0.5873931646347046, 'moviemaking'),\n",
       " (0.569153368473053, 'movies'),\n",
       " (0.564493715763092, 'moviegoers'),\n",
       " (0.5630878806114197, 'geeks'),\n",
       " (0.556845486164093, 'reek'),\n",
       " (0.5538786053657532, 'beek')]"
      ]
     },
     "execution_count": 51,
     "metadata": {},
     "output_type": "execute_result"
    }
   ],
   "source": [
    "ft_model.get_nearest_neighbors('moviegeek')"
   ]
  },
  {
   "cell_type": "code",
   "execution_count": 52,
   "metadata": {},
   "outputs": [
    {
     "data": {
      "text/plain": [
       "[(0.6795867085456848, 'actress'),\n",
       " (0.5566461682319641, 'actresses'),\n",
       " (0.5238617658615112, 'actors'),\n",
       " (0.49344706535339355, 'seductress'),\n",
       " (0.4310092031955719, 'acting'),\n",
       " (0.42811039090156555, 'tractor'),\n",
       " (0.41991883516311646, 'womanly'),\n",
       " (0.4198024868965149, 'winslet'),\n",
       " (0.41217902302742004, 'sarsgaard'),\n",
       " (0.40355584025382996, 'valenzuela')]"
      ]
     },
     "execution_count": 52,
     "metadata": {},
     "output_type": "execute_result"
    }
   ],
   "source": [
    "ft_model.get_analogies(\"woman\", \"man\", \"actor\")"
   ]
  },
  {
   "cell_type": "markdown",
   "metadata": {},
   "source": [
    "Кроме этого, fastText можно использовать для классификации, для этого нужен следующий формат размеченных данных:\n",
    "\n",
    "__label_1__  text_1\n",
    "\n",
    "__label_2__  text_2\n",
    "\n",
    "..."
   ]
  },
  {
   "cell_type": "code",
   "execution_count": 53,
   "metadata": {},
   "outputs": [
    {
     "data": {
      "text/html": [
       "<div>\n",
       "<style scoped>\n",
       "    .dataframe tbody tr th:only-of-type {\n",
       "        vertical-align: middle;\n",
       "    }\n",
       "\n",
       "    .dataframe tbody tr th {\n",
       "        vertical-align: top;\n",
       "    }\n",
       "\n",
       "    .dataframe thead th {\n",
       "        text-align: right;\n",
       "    }\n",
       "</style>\n",
       "<table border=\"1\" class=\"dataframe\">\n",
       "  <thead>\n",
       "    <tr style=\"text-align: right;\">\n",
       "      <th></th>\n",
       "      <th>text</th>\n",
       "      <th>label</th>\n",
       "    </tr>\n",
       "  </thead>\n",
       "  <tbody>\n",
       "    <tr>\n",
       "      <th>0</th>\n",
       "      <td>@first_timee хоть я и школота, но поверь, у на...</td>\n",
       "      <td>positive</td>\n",
       "    </tr>\n",
       "    <tr>\n",
       "      <th>1</th>\n",
       "      <td>Да, все-таки он немного похож на него. Но мой ...</td>\n",
       "      <td>positive</td>\n",
       "    </tr>\n",
       "    <tr>\n",
       "      <th>2</th>\n",
       "      <td>RT @KatiaCheh: Ну ты идиотка) я испугалась за ...</td>\n",
       "      <td>positive</td>\n",
       "    </tr>\n",
       "    <tr>\n",
       "      <th>3</th>\n",
       "      <td>RT @digger2912: \"Кто то в углу сидит и погибае...</td>\n",
       "      <td>positive</td>\n",
       "    </tr>\n",
       "    <tr>\n",
       "      <th>4</th>\n",
       "      <td>@irina_dyshkant Вот что значит страшилка :D\\nН...</td>\n",
       "      <td>positive</td>\n",
       "    </tr>\n",
       "  </tbody>\n",
       "</table>\n",
       "</div>"
      ],
      "text/plain": [
       "                                                text     label\n",
       "0  @first_timee хоть я и школота, но поверь, у на...  positive\n",
       "1  Да, все-таки он немного похож на него. Но мой ...  positive\n",
       "2  RT @KatiaCheh: Ну ты идиотка) я испугалась за ...  positive\n",
       "3  RT @digger2912: \"Кто то в углу сидит и погибае...  positive\n",
       "4  @irina_dyshkant Вот что значит страшилка :D\\nН...  positive"
      ]
     },
     "execution_count": 53,
     "metadata": {},
     "output_type": "execute_result"
    }
   ],
   "source": [
    "positive = pd.read_csv('../assets/positive.csv', sep=';', usecols=[3], names=['text'])\n",
    "positive['label'] = ['positive'] * len(positive)\n",
    "negative = pd.read_csv('../assets/positive.csv', sep=';', usecols=[3], names=['text'])\n",
    "negative['label'] = ['negative'] * len(negative)\n",
    "df = pd.concat([positive, negative], axis=0)\n",
    "df.head()"
   ]
  },
  {
   "cell_type": "code",
   "execution_count": 54,
   "metadata": {},
   "outputs": [
    {
     "data": {
      "text/plain": [
       "229822"
      ]
     },
     "execution_count": 54,
     "metadata": {},
     "output_type": "execute_result"
    }
   ],
   "source": [
    "len(df)"
   ]
  },
  {
   "cell_type": "code",
   "execution_count": 55,
   "metadata": {},
   "outputs": [
    {
     "name": "stdout",
     "output_type": "stream",
     "text": [
      "Defaulting to user installation because normal site-packages is not writeable\n",
      "Requirement already satisfied: pymorphy2 in c:\\users\\user\\appdata\\local\\packages\\pythonsoftwarefoundation.python.3.12_qbz5n2kfra8p0\\localcache\\local-packages\\python312\\site-packages (0.9.1)\n",
      "Requirement already satisfied: dawg-python>=0.7.1 in c:\\users\\user\\appdata\\local\\packages\\pythonsoftwarefoundation.python.3.12_qbz5n2kfra8p0\\localcache\\local-packages\\python312\\site-packages (from pymorphy2) (0.7.2)\n",
      "Requirement already satisfied: pymorphy2-dicts-ru<3.0,>=2.4 in c:\\users\\user\\appdata\\local\\packages\\pythonsoftwarefoundation.python.3.12_qbz5n2kfra8p0\\localcache\\local-packages\\python312\\site-packages (from pymorphy2) (2.4.417127.4579844)\n",
      "Requirement already satisfied: docopt>=0.6 in c:\\users\\user\\appdata\\local\\packages\\pythonsoftwarefoundation.python.3.12_qbz5n2kfra8p0\\localcache\\local-packages\\python312\\site-packages (from pymorphy2) (0.6.2)\n"
     ]
    }
   ],
   "source": [
    "! pip install pymorphy2"
   ]
  },
  {
   "cell_type": "code",
   "execution_count": 61,
   "metadata": {},
   "outputs": [
    {
     "name": "stderr",
     "output_type": "stream",
     "text": [
      "<>:11: SyntaxWarning: invalid escape sequence '\\)'\n",
      "<>:11: SyntaxWarning: invalid escape sequence '\\)'\n",
      "C:\\Users\\User\\AppData\\Local\\Temp\\ipykernel_33440\\208480935.py:11: SyntaxWarning: invalid escape sequence '\\)'\n",
      "  regex = re.compile(\"[А-Яа-я:=!\\)\\()A-z\\_\\%/|]+\")\n"
     ]
    },
    {
     "ename": "ValueError",
     "evalue": "too many values to unpack (expected 4)",
     "output_type": "error",
     "traceback": [
      "\u001b[1;31m---------------------------------------------------------------------------\u001b[0m",
      "\u001b[1;31mValueError\u001b[0m                                Traceback (most recent call last)",
      "Cell \u001b[1;32mIn[61], line 9\u001b[0m\n\u001b[0;32m      6\u001b[0m \u001b[38;5;28;01mfrom\u001b[39;00m \u001b[38;5;21;01mtqdm\u001b[39;00m \u001b[38;5;28;01mimport\u001b[39;00m tqdm_notebook \u001b[38;5;28;01mas\u001b[39;00m tqdm\n\u001b[0;32m      7\u001b[0m \u001b[38;5;28;01mimport\u001b[39;00m \u001b[38;5;21;01mre\u001b[39;00m\n\u001b[1;32m----> 9\u001b[0m morphling_analyzer \u001b[38;5;241m=\u001b[39m \u001b[43mpymorphy2\u001b[49m\u001b[38;5;241;43m.\u001b[39;49m\u001b[43mMorphAnalyzer\u001b[49m\u001b[43m(\u001b[49m\u001b[43m)\u001b[49m\n\u001b[0;32m     11\u001b[0m regex \u001b[38;5;241m=\u001b[39m re\u001b[38;5;241m.\u001b[39mcompile(\u001b[38;5;124m\"\u001b[39m\u001b[38;5;124m[А-Яа-я:=!\u001b[39m\u001b[38;5;124m\\\u001b[39m\u001b[38;5;124m)\u001b[39m\u001b[38;5;124m\\\u001b[39m\u001b[38;5;124m()A-z\u001b[39m\u001b[38;5;124m\\\u001b[39m\u001b[38;5;124m_\u001b[39m\u001b[38;5;124m\\\u001b[39m\u001b[38;5;124m%\u001b[39m\u001b[38;5;124m/|]+\u001b[39m\u001b[38;5;124m\"\u001b[39m)\n\u001b[0;32m     13\u001b[0m \u001b[38;5;28;01mdef\u001b[39;00m \u001b[38;5;21mwords_only\u001b[39m(text, regex\u001b[38;5;241m=\u001b[39mregex):\n",
      "File \u001b[1;32m~\\AppData\\Local\\Packages\\PythonSoftwareFoundation.Python.3.12_qbz5n2kfra8p0\\LocalCache\\local-packages\\Python312\\site-packages\\pymorphy2\\analyzer.py:224\u001b[0m, in \u001b[0;36mMorphAnalyzer.__init__\u001b[1;34m(self, path, lang, result_type, units, probability_estimator_cls, char_substitutes)\u001b[0m\n\u001b[0;32m    222\u001b[0m \u001b[38;5;28mself\u001b[39m\u001b[38;5;241m.\u001b[39m_result_type_orig \u001b[38;5;241m=\u001b[39m result_type\n\u001b[0;32m    223\u001b[0m \u001b[38;5;28mself\u001b[39m\u001b[38;5;241m.\u001b[39m_init_char_substitutes(char_substitutes)\n\u001b[1;32m--> 224\u001b[0m \u001b[38;5;28;43mself\u001b[39;49m\u001b[38;5;241;43m.\u001b[39;49m\u001b[43m_init_units\u001b[49m\u001b[43m(\u001b[49m\u001b[43munits\u001b[49m\u001b[43m)\u001b[49m\n",
      "File \u001b[1;32m~\\AppData\\Local\\Packages\\PythonSoftwareFoundation.Python.3.12_qbz5n2kfra8p0\\LocalCache\\local-packages\\Python312\\site-packages\\pymorphy2\\analyzer.py:235\u001b[0m, in \u001b[0;36mMorphAnalyzer._init_units\u001b[1;34m(self, units_unbound)\u001b[0m\n\u001b[0;32m    233\u001b[0m \u001b[38;5;28;01mif\u001b[39;00m \u001b[38;5;28misinstance\u001b[39m(item, (\u001b[38;5;28mlist\u001b[39m, \u001b[38;5;28mtuple\u001b[39m)):\n\u001b[0;32m    234\u001b[0m     \u001b[38;5;28;01mfor\u001b[39;00m unit \u001b[38;5;129;01min\u001b[39;00m item[:\u001b[38;5;241m-\u001b[39m\u001b[38;5;241m1\u001b[39m]:\n\u001b[1;32m--> 235\u001b[0m         \u001b[38;5;28mself\u001b[39m\u001b[38;5;241m.\u001b[39m_units\u001b[38;5;241m.\u001b[39mappend((\u001b[38;5;28;43mself\u001b[39;49m\u001b[38;5;241;43m.\u001b[39;49m\u001b[43m_bound_unit\u001b[49m\u001b[43m(\u001b[49m\u001b[43munit\u001b[49m\u001b[43m)\u001b[49m, \u001b[38;5;28;01mFalse\u001b[39;00m))\n\u001b[0;32m    236\u001b[0m     \u001b[38;5;28mself\u001b[39m\u001b[38;5;241m.\u001b[39m_units\u001b[38;5;241m.\u001b[39mappend((\u001b[38;5;28mself\u001b[39m\u001b[38;5;241m.\u001b[39m_bound_unit(item[\u001b[38;5;241m-\u001b[39m\u001b[38;5;241m1\u001b[39m]), \u001b[38;5;28;01mTrue\u001b[39;00m))\n\u001b[0;32m    237\u001b[0m \u001b[38;5;28;01melse\u001b[39;00m:\n",
      "File \u001b[1;32m~\\AppData\\Local\\Packages\\PythonSoftwareFoundation.Python.3.12_qbz5n2kfra8p0\\LocalCache\\local-packages\\Python312\\site-packages\\pymorphy2\\analyzer.py:246\u001b[0m, in \u001b[0;36mMorphAnalyzer._bound_unit\u001b[1;34m(self, unit)\u001b[0m\n\u001b[0;32m    245\u001b[0m \u001b[38;5;28;01mdef\u001b[39;00m \u001b[38;5;21m_bound_unit\u001b[39m(\u001b[38;5;28mself\u001b[39m, unit):\n\u001b[1;32m--> 246\u001b[0m     unit \u001b[38;5;241m=\u001b[39m \u001b[43munit\u001b[49m\u001b[38;5;241;43m.\u001b[39;49m\u001b[43mclone\u001b[49m\u001b[43m(\u001b[49m\u001b[43m)\u001b[49m\n\u001b[0;32m    247\u001b[0m     unit\u001b[38;5;241m.\u001b[39minit(\u001b[38;5;28mself\u001b[39m)\n\u001b[0;32m    248\u001b[0m     \u001b[38;5;28;01mreturn\u001b[39;00m unit\n",
      "File \u001b[1;32m~\\AppData\\Local\\Packages\\PythonSoftwareFoundation.Python.3.12_qbz5n2kfra8p0\\LocalCache\\local-packages\\Python312\\site-packages\\pymorphy2\\units\\base.py:35\u001b[0m, in \u001b[0;36mBaseAnalyzerUnit.clone\u001b[1;34m(self)\u001b[0m\n\u001b[0;32m     34\u001b[0m \u001b[38;5;28;01mdef\u001b[39;00m \u001b[38;5;21mclone\u001b[39m(\u001b[38;5;28mself\u001b[39m):\n\u001b[1;32m---> 35\u001b[0m     \u001b[38;5;28;01mreturn\u001b[39;00m \u001b[38;5;28mself\u001b[39m\u001b[38;5;241m.\u001b[39m\u001b[38;5;18m__class__\u001b[39m(\u001b[38;5;241m*\u001b[39m\u001b[38;5;241m*\u001b[39m\u001b[38;5;28;43mself\u001b[39;49m\u001b[38;5;241;43m.\u001b[39;49m\u001b[43m_get_params\u001b[49m\u001b[43m(\u001b[49m\u001b[43m)\u001b[49m)\n",
      "File \u001b[1;32m~\\AppData\\Local\\Packages\\PythonSoftwareFoundation.Python.3.12_qbz5n2kfra8p0\\LocalCache\\local-packages\\Python312\\site-packages\\pymorphy2\\units\\base.py:76\u001b[0m, in \u001b[0;36mBaseAnalyzerUnit._get_params\u001b[1;34m(self)\u001b[0m\n\u001b[0;32m     73\u001b[0m \u001b[38;5;28;01mdef\u001b[39;00m \u001b[38;5;21m_get_params\u001b[39m(\u001b[38;5;28mself\u001b[39m):\n\u001b[0;32m     74\u001b[0m \u001b[38;5;250m    \u001b[39m\u001b[38;5;124;03m\"\"\" Return a dict with the parameters for this analyzer unit. \"\"\"\u001b[39;00m\n\u001b[0;32m     75\u001b[0m     \u001b[38;5;28;01mreturn\u001b[39;00m \u001b[38;5;28mdict\u001b[39m(\n\u001b[1;32m---> 76\u001b[0m         (key, \u001b[38;5;28mgetattr\u001b[39m(\u001b[38;5;28mself\u001b[39m, key, \u001b[38;5;28;01mNone\u001b[39;00m)) \u001b[38;5;28;01mfor\u001b[39;00m key \u001b[38;5;129;01min\u001b[39;00m \u001b[38;5;28;43mself\u001b[39;49m\u001b[38;5;241;43m.\u001b[39;49m\u001b[43m_get_param_names\u001b[49m\u001b[43m(\u001b[49m\u001b[43m)\u001b[49m\n\u001b[0;32m     77\u001b[0m     )\n",
      "File \u001b[1;32m~\\AppData\\Local\\Packages\\PythonSoftwareFoundation.Python.3.12_qbz5n2kfra8p0\\LocalCache\\local-packages\\Python312\\site-packages\\pymorphy2\\units\\base.py:70\u001b[0m, in \u001b[0;36mBaseAnalyzerUnit._get_param_names\u001b[1;34m(cls)\u001b[0m\n\u001b[0;32m     68\u001b[0m \u001b[38;5;28;01mif\u001b[39;00m \u001b[38;5;28mcls\u001b[39m\u001b[38;5;241m.\u001b[39m\u001b[38;5;21m__init__\u001b[39m \u001b[38;5;129;01mis\u001b[39;00m \u001b[38;5;28mobject\u001b[39m\u001b[38;5;241m.\u001b[39m\u001b[38;5;21m__init__\u001b[39m:\n\u001b[0;32m     69\u001b[0m     \u001b[38;5;28;01mreturn\u001b[39;00m []\n\u001b[1;32m---> 70\u001b[0m args, varargs, kw, default \u001b[38;5;241m=\u001b[39m inspect\u001b[38;5;241m.\u001b[39mgetfullargspec(\u001b[38;5;28mcls\u001b[39m\u001b[38;5;241m.\u001b[39m\u001b[38;5;21m__init__\u001b[39m)\n\u001b[0;32m     71\u001b[0m \u001b[38;5;28;01mreturn\u001b[39;00m \u001b[38;5;28msorted\u001b[39m(args[\u001b[38;5;241m1\u001b[39m:])\n",
      "\u001b[1;31mValueError\u001b[0m: too many values to unpack (expected 4)"
     ]
    }
   ],
   "source": [
    "import pymorphy2\n",
    "from functools import lru_cache\n",
    "from multiprocessing import Pool\n",
    "import numpy as np\n",
    "from sklearn.model_selection import train_test_split\n",
    "from tqdm import tqdm_notebook as tqdm\n",
    "import re\n",
    "\n",
    "morphling_analyzer = pymorphy2.MorphAnalyzer()\n",
    "\n",
    "regex = re.compile(\"[А-Яа-я:=!\\)\\()A-z\\_\\%/|]+\")\n",
    "\n",
    "def words_only(text, regex=regex):\n",
    "    try:\n",
    "        return regex.findall(text)\n",
    "    except:\n",
    "        return []"
   ]
  },
  {
   "cell_type": "code",
   "execution_count": null,
   "metadata": {},
   "outputs": [],
   "source": []
  }
 ],
 "metadata": {
  "kernelspec": {
   "display_name": "Python 3",
   "language": "python",
   "name": "python3"
  },
  "language_info": {
   "codemirror_mode": {
    "name": "ipython",
    "version": 3
   },
   "file_extension": ".py",
   "mimetype": "text/x-python",
   "name": "python",
   "nbconvert_exporter": "python",
   "pygments_lexer": "ipython3",
   "version": "3.12.5"
  }
 },
 "nbformat": 4,
 "nbformat_minor": 2
}
