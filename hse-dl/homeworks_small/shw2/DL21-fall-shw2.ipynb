{
 "cells": [
  {
   "cell_type": "markdown",
   "metadata": {
    "id": "f2iNohN1G851"
   },
   "source": [
    "# Введение в pytorch\n",
    "\n",
    "**Разработчик: Алексей Озерин**\n",
    "\n",
    "[![Open In Colab](https://colab.research.google.com/assets/colab-badge.svg)](https://colab.research.google.com/github/aosokin/dl_cshse_ami/blob/master/2021-fall/homeworks_small/shw2/DL21-fall-shw2.ipynb)\n"
   ]
  },
  {
   "cell_type": "markdown",
   "metadata": {
    "id": "alvOhaG_Y8w5"
   },
   "source": [
    "# Устанавливаем pytorch\n",
    "\n",
    "## Linux/Mac/Windows\n",
    "\n",
    "\n",
    "На оффсайте pytorch.org/get-started/ надо выбрать подходящую конфигурацию и установить пакеты pytorch (версия 1.9) и соответствующий torchvision.\n",
    "\n",
    "На своей машине бывает удобно устанавливать нужные версии python, pytorch и torchvision с помощью [conda](https://docs.conda.io/en/latest/miniconda.html) в [виртуальное окружение](https://docs.python.org/3/tutorial/venv.html) ([документация конды](https://conda.io/projects/conda/en/latest/user-guide/tasks/manage-environments.html) про это)\n",
    "\n",
    "В Google Colab на осень 2021 уже установлены нужные версии pytorch и torchvision"
   ]
  },
  {
   "cell_type": "code",
   "execution_count": 114,
   "metadata": {},
   "outputs": [
    {
     "name": "stderr",
     "output_type": "stream",
     "text": [
      "\"wget\" �� ���� ����७��� ��� ���譥�\n",
      "��������, �ᯮ��塞�� �ணࠬ��� ��� ������ 䠩���.\n",
      "\"wget\" �� ���� ����७��� ��� ���譥�\n",
      "��������, �ᯮ��塞�� �ணࠬ��� ��� ������ 䠩���.\n"
     ]
    }
   ],
   "source": [
    "# Load dependencies\n",
    "!wget --quiet --show-progress \"https://raw.githubusercontent.com/aosokin/dl_cshse_ami/master/2021-fall/homeworks_small/shw2/util.py\"\n",
    "!wget --quiet --show-progress \"https://raw.githubusercontent.com/aosokin/dl_cshse_ami/master/2021-fall/homeworks_small/shw2/progress.png\""
   ]
  },
  {
   "cell_type": "code",
   "execution_count": 115,
   "metadata": {
    "id": "jDDd8zvPY8w_"
   },
   "outputs": [],
   "source": [
    "import torch\n",
    "import numpy as np"
   ]
  },
  {
   "cell_type": "code",
   "execution_count": 116,
   "metadata": {
    "id": "W_ru21cQY8xK"
   },
   "outputs": [
    {
     "name": "stdout",
     "output_type": "stream",
     "text": [
      "X :\n",
      " [[ 0  1  2  3]\n",
      " [ 4  5  6  7]\n",
      " [ 8  9 10 11]\n",
      " [12 13 14 15]]\n",
      "add 5 :\n",
      "[[ 5  6  7  8]\n",
      " [ 9 10 11 12]\n",
      " [13 14 15 16]\n",
      " [17 18 19 20]]\n",
      "X*X^T  :\n",
      " [[ 14  38  62  86]\n",
      " [ 38 126 214 302]\n",
      " [ 62 214 366 518]\n",
      " [ 86 302 518 734]]\n",
      "mean over cols :\n",
      "[ 1.5  5.5  9.5 13.5]\n",
      "cumsum of cols :\n",
      "[[ 0  1  2  3]\n",
      " [ 4  6  8 10]\n",
      " [12 15 18 21]\n",
      " [24 28 32 36]]\n"
     ]
    }
   ],
   "source": [
    "# numpy world\n",
    "\n",
    "x = np.arange(16).reshape(4, 4)\n",
    "\n",
    "print(\"X :\\n %s\" % x)\n",
    "print(\"add 5 :\\n%s\" % (x + 5))\n",
    "print(\"X*X^T  :\\n\", np.dot(x, x.T))\n",
    "print(\"mean over cols :\\n%s\" % (x.mean(axis=-1)))\n",
    "print(\"cumsum of cols :\\n%s\" % (np.cumsum(x, axis=0)))"
   ]
  },
  {
   "cell_type": "code",
   "execution_count": 117,
   "metadata": {
    "id": "_NqOKnrFY8xQ"
   },
   "outputs": [
    {
     "name": "stdout",
     "output_type": "stream",
     "text": [
      "X :\n",
      "tensor([[ 0.,  1.,  2.,  3.],\n",
      "        [ 4.,  5.,  6.,  7.],\n",
      "        [ 8.,  9., 10., 11.],\n",
      "        [12., 13., 14., 15.]])\n",
      "add 5 :\n",
      "tensor([[ 5.,  6.,  7.,  8.],\n",
      "        [ 9., 10., 11., 12.],\n",
      "        [13., 14., 15., 16.],\n",
      "        [17., 18., 19., 20.]])\n",
      "X*X^T  :\n",
      " tensor([[ 14.,  38.,  62.,  86.],\n",
      "        [ 38., 126., 214., 302.],\n",
      "        [ 62., 214., 366., 518.],\n",
      "        [ 86., 302., 518., 734.]])\n",
      "mean over cols :\n",
      " tensor([ 1.5000,  5.5000,  9.5000, 13.5000])\n",
      "cumsum of cols :\n",
      " tensor([[ 0.,  1.,  2.,  3.],\n",
      "        [ 4.,  6.,  8., 10.],\n",
      "        [12., 15., 18., 21.],\n",
      "        [24., 28., 32., 36.]])\n"
     ]
    }
   ],
   "source": [
    "# pytorch world\n",
    "\n",
    "x = np.arange(16).reshape(4, 4)\n",
    "\n",
    "x = torch.from_numpy(x).type(torch.FloatTensor) #or torch.arange(0,16).view(4,4)\n",
    "\n",
    "print(\"X :\\n%s\" % x)\n",
    "print(\"add 5 :\\n%s\" % (x + 5))\n",
    "print(\"X*X^T  :\\n\", torch.matmul(x, x.transpose(1, 0)))\n",
    "print(\"mean over cols :\\n\", torch.mean(x, dim=-1))\n",
    "print(\"cumsum of cols :\\n\", torch.cumsum(x, dim=0))"
   ]
  },
  {
   "cell_type": "markdown",
   "metadata": {
    "id": "lxJiOWdJY8xW"
   },
   "source": [
    "## NumPy vs Pytorch\n",
    "\n",
    "Numpy и Pytorch не требуют описания статического графа вычислений. \n",
    "\n",
    "Можно отлаживаться с помощью pdb или просто print.\n",
    "\n",
    "API несколько различается:\n",
    "\n",
    "```\n",
    "x.reshape([1,2,8]) -> x.view(1,2,8)\n",
    "x.sum(axis=-1) -> x.sum(dim=-1)\n",
    "x.astype('int64') -> x.type(torch.int64)\n",
    "```\n",
    "\n",
    "\n",
    "Легко конвертировать между собой:\n",
    "\n",
    "```\n",
    "torch.from_numpy(npx) -- вернет Tensor\n",
    "tt.numpy() -- вернет Numpy Array\n",
    "```\n",
    "\n",
    "Преобразовать тензор из одного числа в обычное питоновское число:\n",
    "```\n",
    "torch.tensor([1]).item() -> 1\n",
    "```\n",
    "\n",
    "\n",
    "Если что:\n",
    "- смотрите документацию https://pytorch.org/docs/\n",
    "- гуглите (Stackoverflow/tutorials)"
   ]
  },
  {
   "cell_type": "code",
   "execution_count": 118,
   "metadata": {
    "id": "kWKDglA_Y8xX"
   },
   "outputs": [
    {
     "name": "stdout",
     "output_type": "stream",
     "text": [
      "[1. 1. 1. 1. 1. 1. 1. 1. 1. 1. 1. 1. 1. 1. 1. 1.]\n"
     ]
    }
   ],
   "source": [
    "x = torch.linspace(0, 2 * np.pi, 16, dtype=torch.float64)\n",
    "\n",
    "#Mini-task: compute a vector of sin^2(x) + cos^2(x)\n",
    "out = np.sin(x) ** 2 + np.cos(x) ** 2\n",
    "\n",
    "print(out.numpy())"
   ]
  },
  {
   "cell_type": "markdown",
   "metadata": {
    "id": "WvBccGm8Y8xh"
   },
   "source": [
    "# Automatic gradients\n",
    "\n",
    "У каждого тензора в Pytorch есть флаг `requires_grad`, который отвечает за автоматическое вычисление градиентов:\n",
    "\n",
    "1. Создать переменную: `a = torch.tensor(..., requires_grad=True)`\n",
    "\n",
    "2. Определить какую-нибудь дифференцируемую функцию `loss = whatever(a)`\n",
    "\n",
    "3. Запросить обратный проход `loss.backward()`\n",
    "\n",
    "4. Градиенты будут доступны в `a.grads`\n",
    "\n",
    "\n",
    "Есть два важных отличия Pytorch от Theano/TF:\n",
    "\n",
    "1. Функцию ошибки можно изменять динамически, например на каждом минибатче.\n",
    "\n",
    "2. После вычисления `.backward()` градиенты сохраняются в `.grad` каждой задействованной переменной, при повторных вызовах градиенты суммируются. Это позволяет использовать несколько функций ошибок или виртуально увеличивать batch_size. Поэтому, после каждого шага оптимизатора градиенты стоит обнулять.\n",
    "\n",
    "\n",
    "\n",
    "## Leaf vs Non-leaf Variable:\n",
    "```\n",
    "x = torch.tensor([1., 2., 3., 4.], requires_grad=True))  # leaf tensor\n",
    "y = x + 1  # not a leaf variable\n",
    "```\n",
    "\n",
    "Градиенты будут сохранены и доступны для использования только для `leaf tensor`.\n",
    "Такое поведение по-умолчанию сделано ради экономии памяти. Все тензоры с флагом `requires_grad = False` считаются`leaf tensors` по умолчанию.\n",
    "\n",
    "\n",
    "Обратите внимание, что вычисление градиентов работает только для тензоров с вещественным типом данных:"
   ]
  },
  {
   "cell_type": "code",
   "execution_count": 119,
   "metadata": {
    "id": "UCMFdtG1kbKo"
   },
   "outputs": [],
   "source": [
    "# will not work\n",
    "x = torch.tensor([1.0, 2.0, 3.0, 4.0], requires_grad=True)"
   ]
  },
  {
   "cell_type": "markdown",
   "metadata": {
    "id": "1zIjcCUJ1T1V"
   },
   "source": [
    "\n",
    "Чтобы выставить флаг `requires_grad=False` и выключить автоматическое вычисление градиентов для нескольких тензоров, можно использовать `with torch.no_grad()` или `detach`:"
   ]
  },
  {
   "cell_type": "code",
   "execution_count": 120,
   "metadata": {
    "id": "1JQjCVpb1Uy1"
   },
   "outputs": [
    {
     "name": "stdout",
     "output_type": "stream",
     "text": [
      "True\n",
      "True\n",
      "False\n",
      "False\n"
     ]
    }
   ],
   "source": [
    "x = torch.tensor([1.], requires_grad=True)\n",
    "y = x**2\n",
    "print(x.requires_grad)\n",
    "print(y.requires_grad)\n",
    "\n",
    "with torch.no_grad():\n",
    "    z = torch.exp(x)\n",
    "    print(z.requires_grad)\n",
    "    \n",
    "# detach from the graph\n",
    "w = torch.log(x).detach()\n",
    "print(w.requires_grad)"
   ]
  },
  {
   "cell_type": "markdown",
   "metadata": {
    "id": "-NHwzSqakbUt"
   },
   "source": [
    "Рассмотрим пример линейной регрессии на датасете Boston"
   ]
  },
  {
   "cell_type": "code",
   "execution_count": 121,
   "metadata": {
    "id": "8sVwJ5DfY8xj"
   },
   "outputs": [
    {
     "data": {
      "text/plain": [
       "<matplotlib.collections.PathCollection at 0x1c1cc252c30>"
      ]
     },
     "execution_count": 121,
     "metadata": {},
     "output_type": "execute_result"
    },
    {
     "data": {
      "image/png": "[encoded data removed]",
      "text/plain": [
       "<Figure size 640x480 with 1 Axes>"
      ]
     },
     "metadata": {},
     "output_type": "display_data"
    }
   ],
   "source": [
    "%matplotlib inline\n",
    "import matplotlib.pyplot as plt\n",
    "from sklearn.datasets import fetch_openml\n",
    "\n",
    "x, y = fetch_openml(name='boston', version=1, as_frame=False, return_X_y=True)\n",
    "\n",
    "x = np.array(x, dtype=np.float32)\n",
    "y = np.array(y, dtype=np.float32)\n",
    "\n",
    "#select one column for simplicity. \n",
    "x = x[:, -1] / x[:, -1].std()\n",
    "y = y / y.std()\n",
    "\n",
    "plt.scatter(x, y)"
   ]
  },
  {
   "cell_type": "code",
   "execution_count": 122,
   "metadata": {
    "id": "iqXtxfdjY8xr"
   },
   "outputs": [
    {
     "name": "stdout",
     "output_type": "stream",
     "text": [
      "True True\n",
      "True True\n",
      "True False\n",
      "True False\n"
     ]
    }
   ],
   "source": [
    "# model tensors\n",
    "w = torch.zeros(1, requires_grad=True)\n",
    "b = torch.zeros(1, requires_grad=True)\n",
    "\n",
    "# data tensors\n",
    "x = torch.from_numpy(x).type(torch.float)\n",
    "y = torch.from_numpy(y).type(torch.float)\n",
    "\n",
    "# все тензоры являются leaf-tensors\n",
    "# x и y не требуют вычисления градиентов\n",
    "for vv in [w, b, x, y]:\n",
    "    print(vv.is_leaf, vv.requires_grad)"
   ]
  },
  {
   "cell_type": "code",
   "execution_count": 123,
   "metadata": {
    "id": "KxTI1pQhY8x2"
   },
   "outputs": [
    {
     "name": "stdout",
     "output_type": "stream",
     "text": [
      "dL/dw = \n",
      " tensor([-7.2240])\n",
      "dL/db = \n",
      " tensor([-4.9048])\n",
      "Non-Leaf x dL/dx = \n",
      " None\n",
      "Non-Leaf loss dL/dpred = \n",
      " None\n"
     ]
    },
    {
     "name": "stderr",
     "output_type": "stream",
     "text": [
      "C:\\Users\\User\\AppData\\Local\\Temp\\ipykernel_20676\\3846789532.py:15: UserWarning: The .grad attribute of a Tensor that is not a leaf Tensor is being accessed. Its .grad attribute won't be populated during autograd.backward(). If you indeed want the .grad field to be populated for a non-leaf Tensor, use .retain_grad() on the non-leaf Tensor. If you access the non-leaf Tensor by mistake, make sure you access the leaf Tensor instead. See github.com/pytorch/pytorch/pull/30531 for more informations. (Triggered internally at aten\\src\\ATen/core/TensorBody.h:494.)\n",
      "  print(\"Non-Leaf loss dL/dpred = \\n\", y_pred.grad)\n"
     ]
    }
   ],
   "source": [
    "#try out gradients\n",
    "y_pred = w * x + b\n",
    "loss = torch.mean((y_pred - y)**2)\n",
    "\n",
    "loss.backward()\n",
    "\n",
    "#now w.grad is a tensor containing gradient of L w.r.t. w\n",
    "\n",
    "print(\"dL/dw = \\n\", w.grad)\n",
    "print(\"dL/db = \\n\", b.grad)\n",
    "\n",
    "# no gradients for tensors with requires_grad=False\n",
    "# and non-leaf tensors\n",
    "print(\"Non-Leaf x dL/dx = \\n\", x.grad)\n",
    "print(\"Non-Leaf loss dL/dpred = \\n\", y_pred.grad)"
   ]
  },
  {
   "cell_type": "markdown",
   "metadata": {
    "id": "PWC6fHzWY8x6"
   },
   "source": [
    "## Градиенты промежуточных вершин\n",
    "\n",
    "В графе, который мы описали `x` и `y_pread` не являются листовыми вершинами. По умолчанию для них не сохраняются градиенты.\n",
    "\n",
    "Для промежуточных вершин мы можем запросить сохранение градиентов с помощью функции `.retain_grad()`.\n"
   ]
  },
  {
   "cell_type": "code",
   "execution_count": 124,
   "metadata": {
    "id": "IsPhBEdlY8x7"
   },
   "outputs": [
    {
     "name": "stdout",
     "output_type": "stream",
     "text": [
      "Non-Leaf loss dL/dpred = \n",
      " tensor([-0.0103, -0.0093, -0.0149, -0.0144, -0.0156, -0.0123, -0.0099, -0.0117,\n",
      "        -0.0071, -0.0081])\n"
     ]
    }
   ],
   "source": [
    "y_pred = w * x + b\n",
    "\n",
    "# check this:\n",
    "y_pred.retain_grad()\n",
    "\n",
    "loss = torch.mean((y_pred - y)**2)\n",
    "loss.backward()\n",
    "\n",
    "print(\"Non-Leaf loss dL/dpred = \\n\", y_pred.grad[:10])"
   ]
  },
  {
   "cell_type": "markdown",
   "metadata": {
    "id": "5qSGyePQY8x-"
   },
   "source": [
    "# Линейная регрессия"
   ]
  },
  {
   "cell_type": "code",
   "execution_count": 125,
   "metadata": {
    "id": "mj_-PaVzY8yA"
   },
   "outputs": [
    {
     "data": {
      "image/png": "[encoded data removed]",
      "text/plain": [
       "<Figure size 640x480 with 1 Axes>"
      ]
     },
     "metadata": {},
     "output_type": "display_data"
    },
    {
     "name": "stdout",
     "output_type": "stream",
     "text": [
      "loss =  0.49713197350502014\n",
      "Done!\n"
     ]
    }
   ],
   "source": [
    "from IPython.display import clear_output\n",
    "\n",
    "for i in range(100):\n",
    "    \n",
    "    #compute loss\n",
    "    y_pred = w * x  + b\n",
    "    loss = torch.mean((y_pred - y)**2)\n",
    "    \n",
    "    # backprop\n",
    "    loss.backward()\n",
    "    \n",
    "    # gradient descent step for weights\n",
    "    # take alpha about 0.1\n",
    "    with torch.no_grad():\n",
    "        w -= w.grad * 0.1\n",
    "        b -= b.grad * 0.1\n",
    "    \n",
    "    #zero gradients\n",
    "    w.grad.zero_()\n",
    "    b.grad.zero_()\n",
    "    \n",
    "    #the rest of code is just bells and whistles\n",
    "    if (i + 1) % 5==0:\n",
    "        #draw linear regression prediction vs data\n",
    "        clear_output(True)\n",
    "        plt.axhline(0, color='gray')\n",
    "        plt.axvline(0, color='gray')\n",
    "        plt.scatter(x.numpy(),y.numpy())\n",
    "        plt.plot(x.numpy(),y_pred.data.numpy(),color='orange')\n",
    "        plt.show()\n",
    "\n",
    "        print(\"loss = \", loss.item())\n",
    "        if loss.item() < 0.5:\n",
    "            print(\"Done!\")\n",
    "            break"
   ]
  },
  {
   "cell_type": "markdown",
   "metadata": {
    "id": "DiEVpQBQY8yE"
   },
   "source": [
    "# Optimizers\n",
    "\n",
    "В этом примере мы пользовались простым правилом для градиентного спуска:\n",
    "  \n",
    "$$\\theta^{n+1} = \\theta^{n} - \\alpha \\nabla_{\\theta}L$$\n",
    "\n",
    "\n",
    "Единственным параметром в нем является $\\alpha$ -- это `learning_rate`.\n",
    "\n",
    "На практике часто используют различные модификации (например _Momentum_):\n",
    "\n",
    "$$\\theta^{n+1} = \\theta^{n} - U^{n}\\\\\n",
    "U^{n} = \\gamma U^{n-1} + \\alpha \\nabla_{\\theta}(L)\n",
    "$$\n",
    "\n",
    "Хороший обзор алгоритмов оптимизации для сетей можно посмотреть [тут](http://ruder.io/optimizing-gradient-descent/).\n",
    "\n",
    "\n",
    "\n",
    "Pytorch предоставляет практически все широкораспространненные оптимизаторы:    \n",
    "http://pytorch.org/docs/master/optim.html\n",
    "\n",
    "\n",
    "\n",
    "\n",
    "Оптимизаторы удобны в использовании:\n",
    "\n",
    "- требуется указать список переменных для оптимизации\n",
    "- `opt.step()` применяет `update` ($U^{n}$) к весам\n",
    "- `opt.zero_grad()` сбрасывает градиенты\n",
    "\n",
    "\n",
    "\n"
   ]
  },
  {
   "cell_type": "code",
   "execution_count": 126,
   "metadata": {
    "id": "crmZenu4Y8yF"
   },
   "outputs": [
    {
     "data": {
      "image/png": "[encoded data removed]",
      "text/plain": [
       "<Figure size 640x480 with 1 Axes>"
      ]
     },
     "metadata": {},
     "output_type": "display_data"
    },
    {
     "name": "stdout",
     "output_type": "stream",
     "text": [
      "loss =  0.49351754784584045\n",
      "Done!\n"
     ]
    }
   ],
   "source": [
    "# get data\n",
    "x, y = fetch_openml(name='boston', version=1, as_frame=False, return_X_y=True)\n",
    "\n",
    "x = np.array(x, dtype=np.float32)\n",
    "y = np.array(y, dtype=np.float32)\n",
    "\n",
    "x = x[:, -1] / x[:, -1].std()\n",
    "y = y / y.std()\n",
    "\n",
    "# data tensors\n",
    "x = torch.from_numpy(x).type(torch.float)\n",
    "y = torch.from_numpy(y).type(torch.float)\n",
    "\n",
    "# model tensors\n",
    "w = torch.zeros(1, requires_grad=True)\n",
    "b = torch.zeros(1, requires_grad=True)\n",
    "\n",
    "# define optimizer\n",
    "opt = torch.optim.RMSprop([w, b], lr=0.1)\n",
    "\n",
    "for i in range(100):\n",
    "    # compute loss\n",
    "    loss = ((y - (w * x + b)) ** 2).mean()\n",
    "\n",
    "    # backprop and gradient descent\n",
    "    loss.backward()\n",
    "    opt.step()\n",
    "    opt.zero_grad()\n",
    "    \n",
    "    #the rest of code is just bells and whistles\n",
    "    if (i + 1) % 5 == 0:\n",
    "        #draw linear regression prediction vs data\n",
    "        clear_output(True)\n",
    "        plt.axhline(0, color='gray')\n",
    "        plt.axvline(0, color='gray')\n",
    "        plt.scatter(x.numpy(), y.numpy())\n",
    "        plt.plot(x.numpy(), y_pred.data.numpy(), color='orange')\n",
    "        plt.show()\n",
    "\n",
    "        print(\"loss = \", loss.item())\n",
    "        if loss.item() < 0.5:\n",
    "            print(\"Done!\")\n",
    "            break"
   ]
  },
  {
   "cell_type": "markdown",
   "metadata": {
    "id": "8qoOsLGuY8yK"
   },
   "source": [
    "## Highlevel-API \n",
    "\n",
    "При работе с нейронными сетями становится неудобно контролировать переменные с весами по-отдельности. Pytorch предоставляет высокоуровневый API для моделей http://pytorch.org/docs/master/nn.html#torch.nn.Module.\n",
    "\n",
    "\n",
    "Чтобы воспользоваться моделью необходимо отнаследоваться от torch.nn.Module, определить слои и описать `forward`, `backward` будет вычислен автоматически.\n",
    "\n",
    "\n",
    "Для демонстрации снова воспользуемся MNIST'ом."
   ]
  },
  {
   "cell_type": "code",
   "execution_count": 127,
   "metadata": {
    "id": "pP-mINCsY8yL"
   },
   "outputs": [
    {
     "data": {
      "image/png": "[encoded data removed]",
      "text/plain": [
       "<Figure size 600x600 with 4 Axes>"
      ]
     },
     "metadata": {},
     "output_type": "display_data"
    }
   ],
   "source": [
    "# MNIST again\n",
    "from util import load_mnist\n",
    "X_train, y_train, X_val, y_val, X_test, y_test = load_mnist(flatten=True)\n",
    "\n",
    "plt.figure(figsize=[6, 6])\n",
    "for i in range(4):\n",
    "    plt.subplot(2, 2, i + 1)\n",
    "    plt.title(\"Label: %i\" % y_train[i])\n",
    "    plt.imshow(X_train[i].reshape([28, 28]), cmap='gray');"
   ]
  },
  {
   "cell_type": "code",
   "execution_count": 128,
   "metadata": {},
   "outputs": [
    {
     "data": {
      "text/plain": [
       "(784,)"
      ]
     },
     "execution_count": 128,
     "metadata": {},
     "output_type": "execute_result"
    }
   ],
   "source": [
    "X_train[0].shape"
   ]
  },
  {
   "cell_type": "code",
   "execution_count": 129,
   "metadata": {
    "id": "cPDAygXbY8yQ"
   },
   "outputs": [],
   "source": [
    "# Higher-level API:\n",
    "import torch.nn as nn\n",
    "import torch.nn.functional as F\n",
    "\n",
    "class Net(nn.Module):\n",
    "    def __init__(self, hidden_size=40):\n",
    "        super(Net, self).__init__()\n",
    "        # here you construct weights for layers\n",
    "        self.fc1 = nn.Linear(X_train.shape[1], hidden_size)\n",
    "        self.fc2 = nn.Linear(hidden_size, hidden_size)\n",
    "        self.fc3 = nn.Linear(hidden_size, 10)\n",
    "        \n",
    "    def forward(self, x):\n",
    "        # here you describe usage of layers\n",
    "        x = F.relu(self.fc1(x))\n",
    "        x = F.relu(self.fc2(x))\n",
    "        x = self.fc3(x)\n",
    "        # check log_softmax signature\n",
    "        return F.log_softmax(x, dim=-1)\n",
    "    # backward function computes automaticaly"
   ]
  },
  {
   "cell_type": "code",
   "execution_count": 130,
   "metadata": {
    "id": "BSuPd8FrY8yU"
   },
   "outputs": [
    {
     "name": "stdout",
     "output_type": "stream",
     "text": [
      "Model outputs: \n",
      " tensor([[-2.3693, -2.3271, -2.4543, -2.5031, -2.3026, -2.3912, -2.1344, -2.1674,\n",
      "         -2.3416, -2.1150],\n",
      "        [-2.3528, -2.2733, -2.4365, -2.4721, -2.2739, -2.4129, -2.2205, -2.1346,\n",
      "         -2.3139, -2.1904],\n",
      "        [-2.3431, -2.3261, -2.4577, -2.4781, -2.2960, -2.3877, -2.1902, -2.1345,\n",
      "         -2.3077, -2.1665],\n",
      "        [-2.3671, -2.2734, -2.4784, -2.4944, -2.3053, -2.3832, -2.1669, -2.1623,\n",
      "         -2.3203, -2.1451],\n",
      "        [-2.3304, -2.3065, -2.4493, -2.4836, -2.2949, -2.4097, -2.1777, -2.1635,\n",
      "         -2.2903, -2.1780],\n",
      "        [-2.3463, -2.3201, -2.4139, -2.4646, -2.3099, -2.3999, -2.1816, -2.1438,\n",
      "         -2.3313, -2.1692],\n",
      "        [-2.3475, -2.3178, -2.4693, -2.4980, -2.2915, -2.3741, -2.1733, -2.1618,\n",
      "         -2.3160, -2.1438],\n",
      "        [-2.3154, -2.3173, -2.4555, -2.4559, -2.2925, -2.4132, -2.2155, -2.1322,\n",
      "         -2.3330, -2.1549],\n",
      "        [-2.3421, -2.3012, -2.4579, -2.4961, -2.2912, -2.3719, -2.1907, -2.1562,\n",
      "         -2.3199, -2.1595],\n",
      "        [-2.3544, -2.3269, -2.4453, -2.4947, -2.3013, -2.3964, -2.1694, -2.1301,\n",
      "         -2.3146, -2.1613]], grad_fn=<LogSoftmaxBackward0>)\n",
      "Output shape: torch.Size([10, 10])\n",
      "Probs: \n",
      " tensor([[-2.3693, -2.3271, -2.4543, -2.5031, -2.3026, -2.3912, -2.1344, -2.1674,\n",
      "         -2.3416, -2.1150],\n",
      "        [-2.3528, -2.2733, -2.4365, -2.4721, -2.2739, -2.4129, -2.2205, -2.1346,\n",
      "         -2.3139, -2.1904],\n",
      "        [-2.3431, -2.3261, -2.4577, -2.4781, -2.2960, -2.3877, -2.1902, -2.1345,\n",
      "         -2.3077, -2.1665],\n",
      "        [-2.3671, -2.2734, -2.4784, -2.4944, -2.3053, -2.3832, -2.1669, -2.1623,\n",
      "         -2.3203, -2.1451],\n",
      "        [-2.3304, -2.3065, -2.4493, -2.4836, -2.2949, -2.4097, -2.1777, -2.1635,\n",
      "         -2.2903, -2.1780],\n",
      "        [-2.3463, -2.3201, -2.4139, -2.4646, -2.3099, -2.3999, -2.1816, -2.1438,\n",
      "         -2.3313, -2.1692],\n",
      "        [-2.3475, -2.3178, -2.4693, -2.4980, -2.2915, -2.3741, -2.1733, -2.1618,\n",
      "         -2.3160, -2.1438],\n",
      "        [-2.3154, -2.3173, -2.4555, -2.4559, -2.2925, -2.4132, -2.2155, -2.1322,\n",
      "         -2.3330, -2.1549],\n",
      "        [-2.3421, -2.3012, -2.4579, -2.4961, -2.2912, -2.3719, -2.1907, -2.1562,\n",
      "         -2.3199, -2.1595],\n",
      "        [-2.3544, -2.3269, -2.4453, -2.4947, -2.3013, -2.3964, -2.1694, -2.1301,\n",
      "         -2.3146, -2.1613]], grad_fn=<LogSoftmaxBackward0>)\n",
      "Pred: \n",
      " [9 7 7 9 7 7 9 7 7 7]\n",
      "Truth: \n",
      " [5 0 4 1 9 2 1 3 1 4]\n"
     ]
    },
    {
     "name": "stderr",
     "output_type": "stream",
     "text": [
      "C:\\Users\\User\\AppData\\Local\\Temp\\ipykernel_20676\\1384349185.py:10: UserWarning: Implicit dimension choice for log_softmax has been deprecated. Change the call to include dim=X as an argument.\n",
      "  probs = F.log_softmax(output)\n"
     ]
    }
   ],
   "source": [
    "# model interface:\n",
    "model = Net()\n",
    "tt = torch.from_numpy(X_train[:10, :].astype(np.float32))\n",
    "output = model(tt)\n",
    "\n",
    "print('Model outputs: \\n', output)\n",
    "print('Output shape:', output.shape)\n",
    "# TODO: получите вероятности из output c помощью функций из torch\n",
    "# hint: см документацию к log_softmax\n",
    "probs = F.log_softmax(output)\n",
    "print('Probs: \\n', probs)\n",
    "\n",
    "# TODO: получите предсказание из output c помощью функций из torch\n",
    "pred = torch.argmax(probs, dim=1)\n",
    "print('Pred: \\n', pred.data.numpy())\n",
    "print('Truth: \\n', y_train[:10])"
   ]
  },
  {
   "cell_type": "markdown",
   "metadata": {
    "id": "J9v9SIlDY8yZ"
   },
   "source": [
    "Тренировка сети\n",
    "\n",
    "Для тренировки сети нам требуется \n",
    "- итератор по данным\n",
    "- функция тренировки (прогон по данным, вычисление и применение градиентов)\n",
    "- функция валидации (прогон по тестовым данным, вычисление метрик)"
   ]
  },
  {
   "cell_type": "code",
   "execution_count": 131,
   "metadata": {
    "id": "rVfeDcF-Y8yc"
   },
   "outputs": [],
   "source": [
    "from IPython.display import clear_output\n",
    "from tqdm.auto import tqdm\n",
    "\n",
    "# функция для итераций по минибатчам, из первого семинара\n",
    "def iterate_minibatches(inputs, targets, batchsize, shuffle=False):\n",
    "    assert len(inputs) == len(targets)\n",
    "    if shuffle:\n",
    "        indices = np.random.permutation(len(inputs))\n",
    "    for start_idx in tqdm(range(0, len(inputs) - batchsize + 1, batchsize)):\n",
    "        if shuffle:\n",
    "            excerpt = indices[start_idx:start_idx + batchsize]\n",
    "        else:\n",
    "            excerpt = slice(start_idx, start_idx + batchsize)\n",
    "        yield inputs[excerpt], targets[excerpt]"
   ]
  },
  {
   "cell_type": "code",
   "execution_count": 132,
   "metadata": {
    "id": "qS8wn1JzY8yg"
   },
   "outputs": [],
   "source": [
    "def train(model, optimizer, batchsize=32):\n",
    "    loss_log = []\n",
    "    model.train()\n",
    "    for x_batch, y_batch in iterate_minibatches(X_train, y_train, batchsize=batchsize, shuffle=True):\n",
    "        # data preparation\n",
    "        data = torch.from_numpy(x_batch.astype(np.float32))\n",
    "        target = torch.from_numpy(y_batch.astype(np.int64))\n",
    "\n",
    "        optimizer.zero_grad()\n",
    "        output = model(data)\n",
    "        loss = F.nll_loss(output, target)\n",
    "        # compute gradients\n",
    "        loss.backward()\n",
    "        # make a step\n",
    "        optimizer.step()\n",
    "        loss = loss.item()\n",
    "        loss_log.append(loss)\n",
    "    return loss_log\n",
    "\n",
    "\n",
    "# TODO: написать функцию для валидации по X_val, y_val\n",
    "# hint: optimizer не нужен\n",
    "def test(model):\n",
    "    loss_log = []\n",
    "    model.eval()\n",
    "\n",
    "    with torch.no_grad():\n",
    "        for x_batch, y_batch in iterate_minibatches(X_val, y_val, batchsize=32, shuffle=True):\n",
    "            data = torch.from_numpy(x_batch.astype(np.float32))\n",
    "            target = torch.from_numpy(y_batch.astype(np.int64))\n",
    "\n",
    "            output = model(data)\n",
    "            loss = F.nll_loss(output, target)\n",
    "\n",
    "            loss_log.append(loss.item())\n",
    "    \n",
    "    return loss_log"
   ]
  },
  {
   "cell_type": "markdown",
   "metadata": {
    "id": "Yl02nUhoY8yj"
   },
   "source": [
    "Для отслеживания процедуры тренировки построить график вида\n",
    "![img](./progress.png)"
   ]
  },
  {
   "cell_type": "code",
   "execution_count": 133,
   "metadata": {
    "id": "8vbRTCJmY8yk"
   },
   "outputs": [],
   "source": [
    "def plot_history(train_history, val_log, val_log_len, title='loss'):\n",
    "    plt.figure(figsize=(10, 5))\n",
    "    \n",
    "    # Plot training history with a line plot\n",
    "    plt.plot(train_history, label='Training Loss', zorder=1)\n",
    "\n",
    "    # Plot validation history with crosses\n",
    "    plt.scatter(val_log_len, val_log, marker='x', color='red', label='Validation Loss', zorder=2)\n",
    "\n",
    "    # Add labels, title, and legend\n",
    "    plt.xlabel('Epoch')\n",
    "    plt.ylabel('Loss')\n",
    "    plt.title(title)\n",
    "    plt.legend()\n",
    "\n",
    "    # Show the plot\n",
    "    #plt.show()"
   ]
  },
  {
   "cell_type": "code",
   "execution_count": 134,
   "metadata": {
    "id": "ZWEroE1_Y8yo"
   },
   "outputs": [
    {
     "data": {
      "image/png": "[encoded data removed]",
      "text/plain": [
       "<Figure size 1000x500 with 1 Axes>"
      ]
     },
     "metadata": {},
     "output_type": "display_data"
    }
   ],
   "source": [
    "train_log = []\n",
    "val_log = []\n",
    "val_log_len = []\n",
    "\n",
    "model = Net()\n",
    "opt = torch.optim.RMSprop(model.parameters(), lr=0.001)\n",
    "batchsize = 32\n",
    "\n",
    "for epoch in range(10):\n",
    "    train_loss = train(model, opt, batchsize=batchsize)\n",
    "    train_log.extend(train_loss)\n",
    "    \n",
    "    val_loss = np.mean(test(model))\n",
    "    val_log.append(val_loss)\n",
    "    val_log_len.append(len(train_log))\n",
    "\n",
    "    # TODO: график train_loss vs train_steps с точками val_loss vs trained_steps\n",
    "    # use your plot_history()\n",
    "    \n",
    "    # hint: train_log and val_log may contain data with different shapes\n",
    "    clear_output(True)\n",
    "\n",
    "\n",
    "plot_history(train_log, val_log, val_log_len)"
   ]
  },
  {
   "cell_type": "code",
   "execution_count": null,
   "metadata": {},
   "outputs": [],
   "source": []
  },
  {
   "cell_type": "markdown",
   "metadata": {
    "id": "9gW6UzITY8yt"
   },
   "source": [
    "## Метрики\n",
    "\n",
    "Logloss -- величина, которую трудно интерпретировать. \n",
    "Для отслеживания тренировки и сравнения моделей удобнее наблюдать за интерпретируемыми метриками, например точностью (accuracy)\n",
    "\n",
    "Модифицируйте код train/test функций так, чтобы помимо ошибки подсчитывалась точность за батч:"
   ]
  },
  {
   "cell_type": "code",
   "execution_count": 135,
   "metadata": {},
   "outputs": [],
   "source": [
    "from sklearn.metrics import accuracy_score"
   ]
  },
  {
   "cell_type": "code",
   "execution_count": 137,
   "metadata": {
    "id": "Aa9VK7d3Y8yv"
   },
   "outputs": [
    {
     "name": "stdout",
     "output_type": "stream",
     "text": [
      "tensor([7, 7, 2, 3, 8, 6, 8, 7, 4, 8, 8, 8, 1, 7, 8, 5, 4, 2, 5, 8, 6, 7, 4, 6,\n",
      "        9, 3, 3, 7, 8, 7, 8, 9])\n",
      "tensor([[-2.3154, -2.4544, -2.2438, -2.1384, -2.1511, -2.4217, -2.4269, -2.2232,\n",
      "         -2.4108, -2.3023],\n",
      "        [-2.3019, -2.4332, -2.2421, -2.1441, -2.1333, -2.4618, -2.4397, -2.2166,\n",
      "         -2.4222, -2.3009],\n",
      "        [-2.3261, -2.4442, -2.2496, -2.1389, -2.1161, -2.4609, -2.4392, -2.2057,\n",
      "         -2.4180, -2.3032],\n",
      "        [-2.3184, -2.4286, -2.2417, -2.1510, -2.1279, -2.4464, -2.4403, -2.2119,\n",
      "         -2.4154, -2.3115],\n",
      "        [-2.3152, -2.4350, -2.2146, -2.1463, -2.1409, -2.4551, -2.4129, -2.2625,\n",
      "         -2.3828, -2.3207],\n",
      "        [-2.3260, -2.4085, -2.2155, -2.1243, -2.1203, -2.4852, -2.4226, -2.2324,\n",
      "         -2.4339, -2.3351],\n",
      "        [-2.3126, -2.4375, -2.2058, -2.1471, -2.1576, -2.4488, -2.4039, -2.2727,\n",
      "         -2.3875, -2.3088],\n",
      "        [-2.3084, -2.4547, -2.2513, -2.1212, -2.1291, -2.4477, -2.4443, -2.2091,\n",
      "         -2.4280, -2.3094],\n",
      "        [-2.3343, -2.4509, -2.2386, -2.1162, -2.1187, -2.4568, -2.4311, -2.2255,\n",
      "         -2.4222, -2.3103],\n",
      "        [-2.3292, -2.4588, -2.2361, -2.1450, -2.1043, -2.4552, -2.4571, -2.2071,\n",
      "         -2.4112, -2.3029],\n",
      "        [-2.3211, -2.4357, -2.1998, -2.1442, -2.1541, -2.4544, -2.4178, -2.2697,\n",
      "         -2.3716, -2.3167],\n",
      "        [-2.3254, -2.4120, -2.2351, -2.1341, -2.1414, -2.4820, -2.4042, -2.2372,\n",
      "         -2.3910, -2.3270],\n",
      "        [-2.3185, -2.4439, -2.2396, -2.1460, -2.1381, -2.4364, -2.4324, -2.2233,\n",
      "         -2.4088, -2.3031],\n",
      "        [-2.2913, -2.4267, -2.2244, -2.1547, -2.1566, -2.4723, -2.4027, -2.2467,\n",
      "         -2.4014, -2.3073],\n",
      "        [-2.3344, -2.4311, -2.2309, -2.1427, -2.1375, -2.4558, -2.4195, -2.2206,\n",
      "         -2.4082, -2.3106],\n",
      "        [-2.3170, -2.4300, -2.2213, -2.1488, -2.1387, -2.4499, -2.4216, -2.2397,\n",
      "         -2.4105, -2.3112],\n",
      "        [-2.2948, -2.4488, -2.2443, -2.1320, -2.1412, -2.4237, -2.4448, -2.2131,\n",
      "         -2.4285, -2.3245],\n",
      "        [-2.3333, -2.4523, -2.2451, -2.1289, -2.0997, -2.4602, -2.4492, -2.2182,\n",
      "         -2.4168, -2.3049],\n",
      "        [-2.3178, -2.4366, -2.2310, -2.1508, -2.1293, -2.4433, -2.4309, -2.2262,\n",
      "         -2.4264, -2.3006],\n",
      "        [-2.3108, -2.4402, -2.2431, -2.1481, -2.1135, -2.4638, -2.4557, -2.2019,\n",
      "         -2.4058, -2.3194],\n",
      "        [-2.3106, -2.4420, -2.2290, -2.1503, -2.1427, -2.4406, -2.4239, -2.2308,\n",
      "         -2.4003, -2.3170],\n",
      "        [-2.3066, -2.4328, -2.2479, -2.1385, -2.1195, -2.4625, -2.4476, -2.2093,\n",
      "         -2.4318, -2.3058],\n",
      "        [-2.3129, -2.4439, -2.2401, -2.1554, -2.1405, -2.4419, -2.4271, -2.2189,\n",
      "         -2.4057, -2.3018],\n",
      "        [-2.3184, -2.4350, -2.2201, -2.1375, -2.1302, -2.4491, -2.4273, -2.2524,\n",
      "         -2.4023, -2.3196],\n",
      "        [-2.3300, -2.4296, -2.2498, -2.1130, -2.1308, -2.4698, -2.4251, -2.2136,\n",
      "         -2.4249, -2.3153],\n",
      "        [-2.3156, -2.4634, -2.2247, -2.1454, -2.1121, -2.4337, -2.4614, -2.2389,\n",
      "         -2.3916, -2.3129],\n",
      "        [-2.3256, -2.4289, -2.2299, -2.1311, -2.1446, -2.4488, -2.4160, -2.2370,\n",
      "         -2.4044, -2.3227],\n",
      "        [-2.3182, -2.4433, -2.2345, -2.1468, -2.1224, -2.4541, -2.4315, -2.2185,\n",
      "         -2.4186, -2.3089],\n",
      "        [-2.3170, -2.4446, -2.2242, -2.1493, -2.1174, -2.4295, -2.4508, -2.2485,\n",
      "         -2.3985, -2.3137],\n",
      "        [-2.3095, -2.4593, -2.2611, -2.1442, -2.0946, -2.4540, -2.4706, -2.2034,\n",
      "         -2.4251, -2.2896],\n",
      "        [-2.3330, -2.4673, -2.2428, -2.1204, -2.1005, -2.4419, -2.4698, -2.2287,\n",
      "         -2.4122, -2.2950],\n",
      "        [-2.3120, -2.4297, -2.2271, -2.1581, -2.1403, -2.4440, -2.4232, -2.2340,\n",
      "         -2.4067, -2.3106]], grad_fn=<LogSoftmaxBackward0>)\n",
      "Target shape:  torch.Size([32])\n",
      "Output shape:  torch.Size([32, 10])\n",
      "tensor(2.3017, grad_fn=<NllLossBackward0>)\n",
      "loss shape:  torch.Size([])\n"
     ]
    },
    {
     "data": {
      "application/vnd.jupyter.widget-view+json": {
       "model_id": "d99bb3f2e9604f20ab5445d83cdb4a86",
       "version_major": 2,
       "version_minor": 0
      },
      "text/plain": [
       "  0%|          | 0/312 [00:00<?, ?it/s]"
      ]
     },
     "metadata": {},
     "output_type": "display_data"
    },
    {
     "ename": "TypeError",
     "evalue": "mean() received an invalid combination of arguments - got (axis=NoneType, dtype=NoneType, out=NoneType, ), but expected one of:\n * (*, torch.dtype dtype)\n * (tuple of ints dim, bool keepdim, *, torch.dtype dtype)\n * (tuple of names dim, bool keepdim, *, torch.dtype dtype)\n",
     "output_type": "error",
     "traceback": [
      "\u001b[1;31m---------------------------------------------------------------------------\u001b[0m",
      "\u001b[1;31mTypeError\u001b[0m                                 Traceback (most recent call last)",
      "Cell \u001b[1;32mIn[137], line 72\u001b[0m\n\u001b[0;32m     69\u001b[0m train_loss, train_acc \u001b[38;5;241m=\u001b[39m train(model, opt, batchsize)\n\u001b[0;32m     71\u001b[0m \u001b[38;5;66;03m# test\u001b[39;00m\n\u001b[1;32m---> 72\u001b[0m val_loss, val_acc \u001b[38;5;241m=\u001b[39m \u001b[43mtest\u001b[49m\u001b[43m(\u001b[49m\u001b[43mmodel\u001b[49m\u001b[43m)\u001b[49m\n\u001b[0;32m     74\u001b[0m \u001b[38;5;66;03m# store metrics\u001b[39;00m\n\u001b[0;32m     75\u001b[0m train_log\u001b[38;5;241m.\u001b[39mextend(train_loss)\n",
      "Cell \u001b[1;32mIn[137], line 48\u001b[0m, in \u001b[0;36mtest\u001b[1;34m(model)\u001b[0m\n\u001b[0;32m     45\u001b[0m data \u001b[38;5;241m=\u001b[39m torch\u001b[38;5;241m.\u001b[39mfrom_numpy(x_batch\u001b[38;5;241m.\u001b[39mastype(np\u001b[38;5;241m.\u001b[39mfloat32))\n\u001b[0;32m     46\u001b[0m target \u001b[38;5;241m=\u001b[39m torch\u001b[38;5;241m.\u001b[39mfrom_numpy(y_batch\u001b[38;5;241m.\u001b[39mastype(np\u001b[38;5;241m.\u001b[39mint64))\n\u001b[1;32m---> 48\u001b[0m output \u001b[38;5;241m=\u001b[39m \u001b[43mnp\u001b[49m\u001b[38;5;241;43m.\u001b[39;49m\u001b[43mmean\u001b[49m\u001b[43m(\u001b[49m\u001b[43mmodel\u001b[49m\u001b[43m(\u001b[49m\u001b[43mdata\u001b[49m\u001b[43m)\u001b[49m\u001b[43m)\u001b[49m\n\u001b[0;32m     50\u001b[0m loss \u001b[38;5;241m=\u001b[39m F\u001b[38;5;241m.\u001b[39mnll_loss(output, target)\n\u001b[0;32m     51\u001b[0m batch_acc \u001b[38;5;241m=\u001b[39m accuracy_score(output, target)\n",
      "File \u001b[1;32m~\\AppData\\Local\\Packages\\PythonSoftwareFoundation.Python.3.12_qbz5n2kfra8p0\\LocalCache\\local-packages\\Python312\\site-packages\\numpy\\core\\fromnumeric.py:3502\u001b[0m, in \u001b[0;36mmean\u001b[1;34m(a, axis, dtype, out, keepdims, where)\u001b[0m\n\u001b[0;32m   3500\u001b[0m         \u001b[38;5;28;01mpass\u001b[39;00m\n\u001b[0;32m   3501\u001b[0m     \u001b[38;5;28;01melse\u001b[39;00m:\n\u001b[1;32m-> 3502\u001b[0m         \u001b[38;5;28;01mreturn\u001b[39;00m \u001b[43mmean\u001b[49m\u001b[43m(\u001b[49m\u001b[43maxis\u001b[49m\u001b[38;5;241;43m=\u001b[39;49m\u001b[43maxis\u001b[49m\u001b[43m,\u001b[49m\u001b[43m \u001b[49m\u001b[43mdtype\u001b[49m\u001b[38;5;241;43m=\u001b[39;49m\u001b[43mdtype\u001b[49m\u001b[43m,\u001b[49m\u001b[43m \u001b[49m\u001b[43mout\u001b[49m\u001b[38;5;241;43m=\u001b[39;49m\u001b[43mout\u001b[49m\u001b[43m,\u001b[49m\u001b[43m \u001b[49m\u001b[38;5;241;43m*\u001b[39;49m\u001b[38;5;241;43m*\u001b[39;49m\u001b[43mkwargs\u001b[49m\u001b[43m)\u001b[49m\n\u001b[0;32m   3504\u001b[0m \u001b[38;5;28;01mreturn\u001b[39;00m _methods\u001b[38;5;241m.\u001b[39m_mean(a, axis\u001b[38;5;241m=\u001b[39maxis, dtype\u001b[38;5;241m=\u001b[39mdtype,\n\u001b[0;32m   3505\u001b[0m                       out\u001b[38;5;241m=\u001b[39mout, \u001b[38;5;241m*\u001b[39m\u001b[38;5;241m*\u001b[39mkwargs)\n",
      "\u001b[1;31mTypeError\u001b[0m: mean() received an invalid combination of arguments - got (axis=NoneType, dtype=NoneType, out=NoneType, ), but expected one of:\n * (*, torch.dtype dtype)\n * (tuple of ints dim, bool keepdim, *, torch.dtype dtype)\n * (tuple of names dim, bool keepdim, *, torch.dtype dtype)\n"
     ]
    }
   ],
   "source": [
    "# TODO: добавьте подсчет точности\n",
    "def train(model, optimizer, batchsize=32):\n",
    "    loss_log, acc_log = [], []\n",
    "    \n",
    "    model.train()\n",
    "    for x_batch, y_batch in iterate_minibatches(X_train, y_train, batchsize=batchsize, shuffle=True):\n",
    "        data = torch.from_numpy(x_batch.astype(np.float32))\n",
    "        target = torch.from_numpy(y_batch.astype(np.int64))\n",
    "\n",
    "        output = model(data)\n",
    "\n",
    "        loss = F.nll_loss(output, target)\n",
    "\n",
    "        clear_output(True)\n",
    "        print(target)\n",
    "        print(output)\n",
    "\n",
    "        print(\"Target shape: \", target.shape)\n",
    "        print(\"Output shape: \", output.shape)\n",
    "\n",
    "        print(loss)\n",
    "        print(\"loss shape: \", loss.shape)\n",
    "        break\n",
    "    \n",
    "        loss = F.nll_loss(output, target)\n",
    "        batch_acc = accuracy_score(output.detach().numpy(), target) \n",
    "\n",
    "        loss.backward()\n",
    "        optimizer.step()\n",
    "        optimizer.zero_grad()\n",
    "\n",
    "        loss_log.append(loss.item())\n",
    "        acc_log.append(batch_acc)\n",
    "    \n",
    "    return loss_log, acc_log\n",
    "\n",
    "\n",
    "# TODO: добавьте подсчет точности:\n",
    "def test(model):\n",
    "    loss_log, acc_log = [], []\n",
    "    model.eval()\n",
    "\n",
    "    with torch.no_grad():\n",
    "        for x_batch, y_batch in iterate_minibatches(X_val, y_val, batchsize=32, shuffle=True):\n",
    "            data = torch.from_numpy(x_batch.astype(np.float32))\n",
    "            target = torch.from_numpy(y_batch.astype(np.int64))\n",
    "\n",
    "            output = np.mean(model(data))\n",
    "\n",
    "            loss = F.nll_loss(output, target)\n",
    "            batch_acc = accuracy_score(output, target)\n",
    "\n",
    "            loss_log.append(loss)\n",
    "            acc_log.append(batch_acc)\n",
    "\n",
    "    return loss_log, acc_log\n",
    "\n",
    "\n",
    "train_log, train_acc_log = [], []\n",
    "val_log, val_acc_log = [], []\n",
    "\n",
    "model = Net()\n",
    "opt = torch.optim.RMSprop(model.parameters(), lr=0.001)\n",
    "batchsize = 32\n",
    "\n",
    "\n",
    "for epoch in range(10):\n",
    "    # train\n",
    "    train_loss, train_acc = train(model, opt, batchsize)\n",
    "\n",
    "    # test\n",
    "    val_loss, val_acc = test(model)\n",
    "    \n",
    "    # store metrics\n",
    "    train_log.extend(train_loss)\n",
    "    train_acc_log.extend(train_acc)\n",
    "    \n",
    "    val_log.extend(val_loss)\n",
    "    val_acc_log.extend(val_acc)\n",
    "\n",
    "    # plot all metrics (loss and acc for train/val)\n",
    "    clear_output(True)\n",
    "    plot_history(train_log, [], [])\n",
    "    \n",
    "    "
   ]
  },
  {
   "cell_type": "markdown",
   "metadata": {
    "id": "oikbV3efY8yz"
   },
   "source": [
    "## Fine Tuning\n",
    "Для многих прикладных задач не существует больших датасетов с хорошей разметкой. \n",
    "Поэтому распространенным приемом является тренировка на похожем, но большом датасете и доучивание сети на целевом.\n",
    "\n",
    "Такой прием называют **Transfer Learning** или **Finetuning**.\n",
    "\n",
    "В сверточных сетях для классификации выделяют две части:\n",
    "- тело сети -- это набор сверток и пулингов (convolutions and poolings)\n",
    "- голову -- это MLP (набор полносвязных слоев) после которых делается softmax и получаются вероятности разных классов.\n",
    "\n",
    "\n",
    "Вычислительно простым вариантом finetuning является переучивание головы сети.\n",
    "\n",
    "\n",
    "Нам потребуется [предобученная модель](http://pytorch.org/docs/master/torchvision/datasets.html#torchvision-datasets) и датасет для нашей задачи.\n",
    "\n",
    "Предлагется воспользоваться моделью для ImageNet и датасетом  https://download.pytorch.org/tutorial/hymenoptera_data.zip\n",
    "\n",
    "\n",
    "В датасете содержатся картинки двух классов (`ants` и `bees`) разных размеров."
   ]
  },
  {
   "cell_type": "code",
   "execution_count": null,
   "metadata": {
    "id": "0a1J3RKxY8y0"
   },
   "outputs": [],
   "source": [
    "# На Windows придется скачать архив по ссылке (~45Mb) и распаковать самостоятельно\n",
    "!wget --quiet --show-progress \"https://download.pytorch.org/tutorial/hymenoptera_data.zip\"\n",
    "!unzip -q ./hymenoptera_data.zip"
   ]
  },
  {
   "cell_type": "markdown",
   "metadata": {
    "id": "IGVsiVQBY8y4"
   },
   "source": [
    "Загрузчик данных -- одна из важных компонент для эффективного обучения нейронных сетей:\n",
    "асинхронная загрузка и быстрая предобработка важны для полного использования GPU. В pytorch для этого есть https://pytorch.org/docs/stable/data.html\n",
    "\n",
    "Пример использования:"
   ]
  },
  {
   "cell_type": "code",
   "execution_count": null,
   "metadata": {
    "id": "3Emt8XDoY8y7"
   },
   "outputs": [],
   "source": [
    "%matplotlib inline\n",
    "\n",
    "import time\n",
    "import os\n",
    "\n",
    "import numpy as np\n",
    "import matplotlib.pyplot as plt\n",
    "import torch\n",
    "import torch.nn as nn\n",
    "import torch.optim as optim\n",
    "import torchvision\n",
    "\n",
    "from torchvision import datasets, models, transforms\n",
    "from torch.optim import lr_scheduler\n",
    "\n",
    "\n",
    "data_transforms = {\n",
    "    'train': transforms.Compose([\n",
    "        transforms.RandomResizedCrop(224),\n",
    "        transforms.RandomHorizontalFlip(),\n",
    "        transforms.ToTensor(),\n",
    "        transforms.Normalize([0.485, 0.456, 0.406], [0.229, 0.224, 0.225])\n",
    "    ]),\n",
    "    'val': transforms.Compose([\n",
    "        transforms.Resize(256),\n",
    "        transforms.CenterCrop(224),\n",
    "        transforms.ToTensor(),\n",
    "        transforms.Normalize([0.485, 0.456, 0.406], [0.229, 0.224, 0.225])\n",
    "    ]),\n",
    "}\n",
    "\n",
    "data_dir = 'hymenoptera_data'\n",
    "image_datasets = {x: datasets.ImageFolder(os.path.join(data_dir, x),\n",
    "                                          data_transforms[x])\n",
    "                  for x in ['train', 'val']}\n",
    "dataloaders = {x: torch.utils.data.DataLoader(image_datasets[x], batch_size=4,\n",
    "                                             shuffle=True, num_workers=4)\n",
    "              for x in ['train', 'val']}\n",
    "dataset_sizes = {x: len(image_datasets[x]) for x in ['train', 'val']}\n",
    "class_names = image_datasets['train'].classes\n",
    "\n",
    "use_gpu = torch.cuda.is_available()\n",
    "plt.ion()"
   ]
  },
  {
   "cell_type": "code",
   "execution_count": null,
   "metadata": {
    "id": "zmUYoy7XY8zD"
   },
   "outputs": [],
   "source": [
    "def imshow(inp, title=None):\n",
    "    \"\"\"Imshow for Tensor.\"\"\"\n",
    "    inp = inp.numpy().transpose((1, 2, 0))\n",
    "    mean = np.array([0.485, 0.456, 0.406])\n",
    "    std = np.array([0.229, 0.224, 0.225])\n",
    "    inp = std * inp + mean\n",
    "    inp = np.clip(inp, 0, 1)\n",
    "    plt.imshow(inp)\n",
    "    if title is not None:\n",
    "        plt.title(title)\n",
    "    plt.pause(0.1)  # pause a bit so that plots are updated\n",
    "\n",
    "\n",
    "# Get a batch of training data\n",
    "inputs, classes = next(iter(dataloaders['train']))\n",
    "\n",
    "# Make a grid from batch\n",
    "out = torchvision.utils.make_grid(inputs)\n",
    "\n",
    "imshow(out, title=[class_names[x] for x in classes])"
   ]
  },
  {
   "cell_type": "code",
   "execution_count": null,
   "metadata": {
    "id": "d5LNGH6DY8zK"
   },
   "outputs": [],
   "source": [
    "# обратите внимание на сохранение лучшей версии весов сети\n",
    "def train_model(model, criterion, optimizer, scheduler, num_epochs=25):\n",
    "    since = time.time()\n",
    "\n",
    "    best_model_wts = model.state_dict()\n",
    "    best_acc = 0.0\n",
    "\n",
    "    for epoch in range(num_epochs):\n",
    "        print('Epoch {}/{}'.format(epoch, num_epochs - 1))\n",
    "        print('-' * 10)\n",
    "\n",
    "        # Each epoch has a training and validation phase\n",
    "        for phase in ['train', 'val']:\n",
    "            if phase == 'train':\n",
    "                scheduler.step()\n",
    "                model.train(True)  # Set model to training mode\n",
    "            else:\n",
    "                model.train(False)  # Set model to evaluate mode\n",
    "\n",
    "            running_loss = 0.0\n",
    "            running_corrects = 0\n",
    "\n",
    "            # Iterate over data.\n",
    "            for data in dataloaders[phase]:\n",
    "                # get the inputs\n",
    "                inputs, labels = data\n",
    "\n",
    "                if use_gpu:\n",
    "                    inputs = inputs.cuda()\n",
    "                    labels = labels.cuda()\n",
    "\n",
    "                # zero the parameter gradients\n",
    "                optimizer.zero_grad()\n",
    "\n",
    "                # forward\n",
    "                outputs = model(inputs)\n",
    "                _, preds = torch.max(outputs, 1)\n",
    "                loss = criterion(outputs, labels)\n",
    "\n",
    "                # backward + optimize only if in training phase\n",
    "                if phase == 'train':\n",
    "                    loss.backward()\n",
    "                    optimizer.step()\n",
    "\n",
    "                # statistics\n",
    "                running_loss += loss.item()\n",
    "                running_corrects += torch.sum(preds == labels).type(torch.float)\n",
    "\n",
    "            epoch_loss = running_loss / dataset_sizes[phase]\n",
    "            epoch_acc = running_corrects / dataset_sizes[phase]\n",
    "\n",
    "            print('{} Loss: {:.4f} Acc: {:.4f}'.format(\n",
    "                phase, epoch_loss, epoch_acc))\n",
    "\n",
    "            # deep copy the model\n",
    "            if phase == 'val' and epoch_acc > best_acc:\n",
    "                best_acc = epoch_acc\n",
    "                best_model_wts = model.state_dict()\n",
    "        \n",
    "        time_elapsed = time.time() - since\n",
    "        print('Elapsed {:.0f}m {:.0f}s\\n'.format(time_elapsed // 60, time_elapsed % 60))\n",
    "\n",
    "    time_elapsed = time.time() - since\n",
    "    print('Training complete in {:.0f}m {:.0f}s'.format(\n",
    "        time_elapsed // 60, time_elapsed % 60))\n",
    "    print('Best val Acc: {:4f}'.format(best_acc))\n",
    "\n",
    "    # load best model weights\n",
    "    model.load_state_dict(best_model_wts)\n",
    "    return model"
   ]
  },
  {
   "cell_type": "code",
   "execution_count": null,
   "metadata": {
    "id": "LkG9Pa3mY8zP"
   },
   "outputs": [],
   "source": [
    "# torchvision содержит ряд моделей с претрейненными весами:\n",
    "[m for m in dir(models) if not m.startswith('_')]"
   ]
  },
  {
   "cell_type": "code",
   "execution_count": null,
   "metadata": {
    "id": "f1ZvVhmnY8zS"
   },
   "outputs": [],
   "source": [
    "model_ft = models.resnet18(pretrained=True)\n",
    "# hint: вы можете изучить устройство любого объекта в python пользуясь интерактивностью интерпретатора и методом dir()\n",
    "\n",
    "# Список слоев модели можно получить с помощью обхода\n",
    "# for x in model_ft.named_modules():\n",
    "#    print(x[0], x[1])\n",
    "\n",
    "# TODO: подмените в модели последний слой, чтобы она работала для двух классов\n",
    "\n",
    "<your code>\n",
    "\n",
    "# TODO: выберите, какие параметры дообучать. Результат получается лучше если дообучать всё или только последний слой? Почему?\n",
    "# например, выключить обучение всех параметров можно при помощи этого кода:\n",
    "# for params in model_ft.parameters():\n",
    "#     params.requires_grad = False \n",
    "\n",
    "params_to_train = <your code>\n",
    "\n",
    "# use GPU if you have it\n",
    "if use_gpu:\n",
    "    model_ft = model_ft.cuda()\n",
    "\n",
    "# loss\n",
    "criterion = nn.CrossEntropyLoss()\n",
    "\n",
    "# Create optimizer on the selected parameters\n",
    "optimizer_ft = optim.SGD(params_to_train, lr=0.001, momentum=0.9)\n",
    "\n",
    "# Decay LR by a factor of 0.1 every 7 epochs\n",
    "exp_lr_scheduler = lr_scheduler.StepLR(optimizer_ft, step_size=7, gamma=0.1)"
   ]
  },
  {
   "cell_type": "code",
   "execution_count": null,
   "metadata": {
    "id": "cy1wlPmxY8zW"
   },
   "outputs": [],
   "source": [
    "model_ft = train_model(\n",
    "    model_ft, criterion, optimizer_ft, exp_lr_scheduler, num_epochs=25)\n",
    "# если всё сделано правильно, то точность на валидации должна быть больше 94%"
   ]
  },
  {
   "cell_type": "code",
   "execution_count": null,
   "metadata": {
    "id": "LR4Fi3qTY8zc"
   },
   "outputs": [],
   "source": [
    "# TODO: напишите функцию, прогоняющую модель на нескольких примерах из валидационной выборки\n",
    "# Отобразите картинки и предсказания\n",
    "\n",
    "def visualize(model, num_images=10):\n",
    "    <your code>\n",
    "            \n",
    "visualize(model_ft)"
   ]
  },
  {
   "cell_type": "code",
   "execution_count": null,
   "metadata": {
    "id": "WfOyJKuaY8zi"
   },
   "outputs": [],
   "source": []
  }
 ],
 "metadata": {
  "hse_dl_year": "2021-fall",
  "kernelspec": {
   "display_name": "Python 3",
   "language": "python",
   "name": "python3"
  },
  "language_info": {
   "codemirror_mode": {
    "name": "ipython",
    "version": 3
   },
   "file_extension": ".py",
   "mimetype": "text/x-python",
   "name": "python",
   "nbconvert_exporter": "python",
   "pygments_lexer": "ipython3",
   "version": "3.12.3"
  }
 },
 "nbformat": 4,
 "nbformat_minor": 2
}
