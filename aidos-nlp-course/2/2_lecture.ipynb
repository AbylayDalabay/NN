{
 "cells": [
  {
   "cell_type": "markdown",
   "id": "1b7e8f04-2e37-41d0-a47b-5ed78584bc52",
   "metadata": {},
   "source": [
    "<font size=\"12\">Sentenize</font>"
   ]
  },
  {
   "cell_type": "code",
   "execution_count": 34,
   "id": "6e41da82-27db-41c7-8f2d-4d745dc9ebd4",
   "metadata": {},
   "outputs": [],
   "source": [
    "text_en = \"Hello! How are you? I hope you're doing well. Have a great day.\""
   ]
  },
  {
   "cell_type": "code",
   "execution_count": 35,
   "id": "d553be7d-4110-481c-8277-a05a1a23dddb",
   "metadata": {},
   "outputs": [],
   "source": [
    "text_ru = '''\n",
    "... - \"Так в чем же дело?\" - \"Не ра-ду-ют\".\n",
    "... И т. д. и т. п. В общем, вся газета\n",
    "... '''"
   ]
  },
  {
   "cell_type": "code",
   "execution_count": 36,
   "id": "61f98a84-e5ff-42a5-9b58-24a6c2b4775f",
   "metadata": {},
   "outputs": [
    {
     "name": "stderr",
     "output_type": "stream",
     "text": [
      "[nltk_data] Downloading package punkt to\n",
      "[nltk_data]     C:\\Users\\User\\AppData\\Roaming\\nltk_data...\n",
      "[nltk_data]   Package punkt is already up-to-date!\n"
     ]
    }
   ],
   "source": [
    "import nltk\n",
    "nltk.download('punkt')\n",
    "\n",
    "def nltk_sentenize(text):\n",
    "    sentences = nltk.sent_tokenize(text)\n",
    "    return sentences"
   ]
  },
  {
   "cell_type": "code",
   "execution_count": 37,
   "id": "98f0c903-e8fe-477b-90ac-ee44d1b6fdb9",
   "metadata": {},
   "outputs": [
    {
     "name": "stdout",
     "output_type": "stream",
     "text": [
      "['Hello!', 'How are you?', \"I hope you're doing well.\", 'Have a great day.']\n",
      "['\\n- \"Так в чем же дело?\"', '- \"Не ра-ду-ют\".', 'И т. д. и т. п. В общем, вся газета']\n"
     ]
    }
   ],
   "source": [
    "sentences = nltk_sentenize(text_en)\n",
    "print(sentences)\n",
    "sentences = nltk_sentenize(text_ru)\n",
    "print(sentences)"
   ]
  },
  {
   "cell_type": "code",
   "execution_count": null,
   "id": "1502dacf-7ce2-450e-a60b-c9af51cfa81a",
   "metadata": {},
   "outputs": [],
   "source": []
  },
  {
   "cell_type": "code",
   "execution_count": 38,
   "id": "8fca9f8d-db44-44f1-a80c-ad6d0b10a64d",
   "metadata": {},
   "outputs": [
    {
     "data": {
      "text/plain": [
       "[Substring(0, 6, 'Hello!'),\n",
       " Substring(7, 19, 'How are you?'),\n",
       " Substring(20, 45, \"I hope you're doing well.\"),\n",
       " Substring(46, 63, 'Have a great day.')]"
      ]
     },
     "execution_count": 38,
     "metadata": {},
     "output_type": "execute_result"
    }
   ],
   "source": [
    "from razdel import sentenize\n",
    "sentences =list(sentenize(text_en))\n",
    "sentences"
   ]
  },
  {
   "cell_type": "code",
   "execution_count": 39,
   "id": "2e29f05e-d99b-4e87-9cb3-d783b7fc2b6e",
   "metadata": {},
   "outputs": [
    {
     "data": {
      "text/plain": [
       "[Substring(1, 23, '- \"Так в чем же дело?\"'),\n",
       " Substring(24, 40, '- \"Не ра-ду-ют\".'),\n",
       " Substring(41, 56, 'И т. д. и т. п.'),\n",
       " Substring(57, 76, 'В общем, вся газета')]"
      ]
     },
     "execution_count": 39,
     "metadata": {},
     "output_type": "execute_result"
    }
   ],
   "source": [
    "sentences =list(sentenize(text_ru))\n",
    "sentences"
   ]
  },
  {
   "cell_type": "markdown",
   "id": "9fbe054d-bfa9-4e84-b570-2c05bfb4f1ab",
   "metadata": {},
   "source": [
    "<font size=\"12\">Tokenizer</font>"
   ]
  },
  {
   "cell_type": "code",
   "execution_count": 40,
   "id": "0919e8b9-1b4e-4ad1-9580-7f8c9a3a85ab",
   "metadata": {},
   "outputs": [],
   "source": [
    "text = 'Кружка-термос на 0.5л (50/64 см³, 516;...)'"
   ]
  },
  {
   "cell_type": "code",
   "execution_count": 41,
   "id": "8905d0c6-4b36-4573-a051-43b36e724266",
   "metadata": {},
   "outputs": [
    {
     "data": {
      "text/plain": [
       "['Кружка-термос', 'на', '0.5л', '(50/64', 'см³,', '516;...)']"
      ]
     },
     "execution_count": 41,
     "metadata": {},
     "output_type": "execute_result"
    }
   ],
   "source": [
    "tokens = text.split()\n",
    "tokens"
   ]
  },
  {
   "cell_type": "code",
   "execution_count": 42,
   "id": "10f5524d-ae12-4d9a-91b5-5d20fee3ab4c",
   "metadata": {},
   "outputs": [
    {
     "data": {
      "text/plain": [
       "['Кружка-термос',\n",
       " 'на',\n",
       " '0.5л',\n",
       " '(',\n",
       " '50/64',\n",
       " 'см³',\n",
       " ',',\n",
       " '516',\n",
       " ';',\n",
       " '...',\n",
       " ')']"
      ]
     },
     "execution_count": 42,
     "metadata": {},
     "output_type": "execute_result"
    }
   ],
   "source": [
    "def nltk_tokenize(text):\n",
    "    words = nltk.word_tokenize(text)\n",
    "    return words\n",
    "nltk_tokenize(text)    "
   ]
  },
  {
   "cell_type": "code",
   "execution_count": 43,
   "id": "860ccd95-8179-430e-b491-e47fd8aecd2e",
   "metadata": {},
   "outputs": [
    {
     "data": {
      "text/plain": [
       "[Substring(0, 13, 'Кружка-термос'),\n",
       " Substring(14, 16, 'на'),\n",
       " Substring(17, 20, '0.5'),\n",
       " Substring(20, 21, 'л'),\n",
       " Substring(22, 23, '('),\n",
       " Substring(23, 28, '50/64'),\n",
       " Substring(29, 32, 'см³'),\n",
       " Substring(32, 33, ','),\n",
       " Substring(34, 37, '516'),\n",
       " Substring(37, 38, ';'),\n",
       " Substring(38, 41, '...'),\n",
       " Substring(41, 42, ')')]"
      ]
     },
     "execution_count": 43,
     "metadata": {},
     "output_type": "execute_result"
    }
   ],
   "source": [
    "from razdel import tokenize\n",
    "tokens = list(tokenize(text))\n",
    "tokens"
   ]
  },
  {
   "cell_type": "markdown",
   "id": "65da3b9b-57a3-445b-a3c3-79272f355508",
   "metadata": {},
   "source": [
    "<font size=\"12\">Convert  emoticons to text</font>"
   ]
  },
  {
   "cell_type": "code",
   "execution_count": 44,
   "id": "b0c689ec-d497-449f-93b2-b20e1983af79",
   "metadata": {},
   "outputs": [
    {
     "name": "stdout",
     "output_type": "stream",
     "text": [
      "                             text\n",
      "0  Hello Happy How are you? laugh\n",
      "1            I'm feeling down Sad\n",
      "2         That's hilarious! laugh\n",
      "3        I can't believe it laugh\n",
      "4            This is so sad laugh\n",
      "5            Wink and smile Happy\n"
     ]
    }
   ],
   "source": [
    "import pandas as pd\n",
    "\n",
    "# Sample data\n",
    "data = {\n",
    "    \"text\": [\n",
    "        \"Hello :) How are you? :D\",\n",
    "        \"I'm feeling down :(\",\n",
    "        \"That's hilarious! :D\",\n",
    "        \"I can't believe it laugh-)\",\n",
    "        \"This is so sad laugh-(\",\n",
    "        \";) and smile :)\"\n",
    "    ]\n",
    "}\n",
    "\n",
    "# Create the DataFrame\n",
    "df = pd.DataFrame(data)\n",
    "\n",
    "# Define the replacements\n",
    "replacements = [\n",
    "    (r\"\\:\\)\", \"Happy\"),\n",
    "    (r\"\\:\\-\\)\", \"Happy\"),\n",
    "    (r\"\\:\\-\\}\", \"Happy\"),\n",
    "    (r\"\\;\\-\\}\", \"Happy\"),\n",
    "    (r\"\\:\\-\\>\", \"Happy\"),\n",
    "    (r\"\\;\\-\\)\", \"Happy\"),\n",
    "    (r\"\\;\\)\", \"Wink\"),\n",
    "    (r\"\\:\\-\\(\", \"Sad\"),\n",
    "    (r\"\\:\\(\", \"Sad\"),\n",
    "    (r\"\\:\\-\\|\", \"Sad\"),\n",
    "    (r\"\\;\\-\\(\", \"Sad\"),\n",
    "    (r\"\\;\\-\\<\", \"Sad\"),\n",
    "    (r\"\\|\\-\\{\", \"Sad\"),\n",
    "    (r\"\\:\\D\", \"laugh\"),\n",
    "    (r\"\\:\\'\\-\\)\", \"tear of joy\"),\n",
    "    (r\"\\:\\`\\-\\(\", \"tear of sadness\"),\n",
    "    (r\"laugh-\\)\", \"laugh\"),\n",
    "    (r\"laugh-\\(\", \"laugh\")\n",
    "]\n",
    "\n",
    "# Apply the replacements\n",
    "for pattern, replacement in replacements:\n",
    "    df[\"text\"] = df[\"text\"].str.replace(pattern, replacement, regex=True)\n",
    "\n",
    "# Print the DataFrame\n",
    "print(df)"
   ]
  },
  {
   "cell_type": "markdown",
   "id": "8aead00d-b9db-4e82-9cc3-4a143bb576b6",
   "metadata": {},
   "source": [
    "\n",
    "<font size=\"12\">Removing punctuation </font>"
   ]
  },
  {
   "cell_type": "code",
   "execution_count": 45,
   "id": "f35c7eb7-12da-4ba2-a1d6-f594367ab9d6",
   "metadata": {},
   "outputs": [
    {
     "name": "stdout",
     "output_type": "stream",
     "text": [
      "Hello, world! Hows  everything going\n"
     ]
    }
   ],
   "source": [
    "import string\n",
    "\n",
    "# Define the set of punctuation to exclude\n",
    "exclude = set(string.punctuation)\n",
    "\n",
    "# Define the set of punctuation to retain\n",
    "not_exclude = {\".\", \"!\", \",\"}\n",
    "\n",
    "# Determine the final set of punctuation to remove\n",
    "final = exclude - not_exclude\n",
    "\n",
    "def remove_punctuation(text):\n",
    "    return ''.join(char for char in text if char not in final)\n",
    "\n",
    "# Example usage\n",
    "text = \"Hello, world! How's ()& everything going?\"\n",
    "cleaned_text = remove_punctuation(text)\n",
    "print(cleaned_text)"
   ]
  },
  {
   "cell_type": "code",
   "execution_count": null,
   "id": "addc5e49-783f-44db-9afb-bce3638ad86a",
   "metadata": {},
   "outputs": [],
   "source": []
  },
  {
   "cell_type": "markdown",
   "id": "7074581d-4811-4263-b1f6-cdc5ace0075c",
   "metadata": {},
   "source": [
    "<font size=\"12\">Removing stop words</font>"
   ]
  },
  {
   "cell_type": "code",
   "execution_count": 46,
   "id": "870e0d14-85ee-4fa6-9539-31d0529e4c84",
   "metadata": {},
   "outputs": [
    {
     "name": "stderr",
     "output_type": "stream",
     "text": [
      "[nltk_data] Downloading package stopwords to\n",
      "[nltk_data]     C:\\Users\\User\\AppData\\Roaming\\nltk_data...\n",
      "[nltk_data]   Package stopwords is already up-to-date!\n"
     ]
    },
    {
     "data": {
      "text/plain": [
       "True"
      ]
     },
     "execution_count": 46,
     "metadata": {},
     "output_type": "execute_result"
    }
   ],
   "source": [
    "\n",
    "import nltk\n",
    "nltk.download('stopwords')"
   ]
  },
  {
   "cell_type": "code",
   "execution_count": 47,
   "id": "0d221671-9812-434f-8e54-1b0b7c5a5b0d",
   "metadata": {},
   "outputs": [],
   "source": [
    "from stop_words import get_stop_words\n",
    "from nltk.corpus import stopwords\n",
    "\n",
    "stop_words_en = list(get_stop_words('en'))        \n",
    "nltk_words_en = list(stopwords.words('english')) \n",
    "stop_words_ru = list(get_stop_words('ru'))         \n",
    "nltk_words_ru = list(stopwords.words('russian')) "
   ]
  },
  {
   "cell_type": "code",
   "execution_count": 48,
   "id": "297861d4-984e-4cb0-9033-2d6ad7d3de7d",
   "metadata": {},
   "outputs": [],
   "source": [
    "stop_words_en = set(get_stop_words('en')) | set(stopwords.words('english'))\n",
    "stop_words_ru = set(get_stop_words('ru')) | set(stopwords.words('russian'))"
   ]
  },
  {
   "cell_type": "code",
   "execution_count": 49,
   "id": "dab1b3ab",
   "metadata": {},
   "outputs": [
    {
     "data": {
      "text/plain": [
       "{'а',\n",
       " 'алло',\n",
       " 'без',\n",
       " 'близко',\n",
       " 'более',\n",
       " 'больше',\n",
       " 'будем',\n",
       " 'будет',\n",
       " 'будете',\n",
       " 'будешь',\n",
       " 'будто',\n",
       " 'буду',\n",
       " 'будут',\n",
       " 'будь',\n",
       " 'бы',\n",
       " 'бывает',\n",
       " 'бывь',\n",
       " 'был',\n",
       " 'была',\n",
       " 'были',\n",
       " 'было',\n",
       " 'быть',\n",
       " 'в',\n",
       " 'важная',\n",
       " 'важное',\n",
       " 'важные',\n",
       " 'важный',\n",
       " 'вам',\n",
       " 'вами',\n",
       " 'вас',\n",
       " 'ваш',\n",
       " 'ваша',\n",
       " 'ваше',\n",
       " 'ваши',\n",
       " 'вверх',\n",
       " 'вдали',\n",
       " 'вдруг',\n",
       " 'ведь',\n",
       " 'везде',\n",
       " 'весь',\n",
       " 'вниз',\n",
       " 'внизу',\n",
       " 'во',\n",
       " 'вокруг',\n",
       " 'вон',\n",
       " 'восемнадцатый',\n",
       " 'восемнадцать',\n",
       " 'восемь',\n",
       " 'восьмой',\n",
       " 'вот',\n",
       " 'впрочем',\n",
       " 'времени',\n",
       " 'время',\n",
       " 'все',\n",
       " 'всегда',\n",
       " 'всего',\n",
       " 'всем',\n",
       " 'всеми',\n",
       " 'всему',\n",
       " 'всех',\n",
       " 'всею',\n",
       " 'всю',\n",
       " 'всюду',\n",
       " 'вся',\n",
       " 'всё',\n",
       " 'второй',\n",
       " 'вы',\n",
       " 'г',\n",
       " 'где',\n",
       " 'говорил',\n",
       " 'говорит',\n",
       " 'год',\n",
       " 'года',\n",
       " 'году',\n",
       " 'да',\n",
       " 'давно',\n",
       " 'даже',\n",
       " 'далеко',\n",
       " 'дальше',\n",
       " 'даром',\n",
       " 'два',\n",
       " 'двадцатый',\n",
       " 'двадцать',\n",
       " 'две',\n",
       " 'двенадцатый',\n",
       " 'двенадцать',\n",
       " 'двух',\n",
       " 'девятнадцатый',\n",
       " 'девятнадцать',\n",
       " 'девятый',\n",
       " 'девять',\n",
       " 'действительно',\n",
       " 'дел',\n",
       " 'день',\n",
       " 'десятый',\n",
       " 'десять',\n",
       " 'для',\n",
       " 'до',\n",
       " 'довольно',\n",
       " 'долго',\n",
       " 'должно',\n",
       " 'другая',\n",
       " 'другие',\n",
       " 'других',\n",
       " 'друго',\n",
       " 'другое',\n",
       " 'другой',\n",
       " 'е',\n",
       " 'его',\n",
       " 'ее',\n",
       " 'ей',\n",
       " 'ему',\n",
       " 'если',\n",
       " 'есть',\n",
       " 'еще',\n",
       " 'ещё',\n",
       " 'ею',\n",
       " 'её',\n",
       " 'ж',\n",
       " 'же',\n",
       " 'жизнь',\n",
       " 'за',\n",
       " 'занят',\n",
       " 'занята',\n",
       " 'занято',\n",
       " 'заняты',\n",
       " 'затем',\n",
       " 'зато',\n",
       " 'зачем',\n",
       " 'здесь',\n",
       " 'значит',\n",
       " 'и',\n",
       " 'из',\n",
       " 'или',\n",
       " 'им',\n",
       " 'именно',\n",
       " 'иметь',\n",
       " 'ими',\n",
       " 'имя',\n",
       " 'иногда',\n",
       " 'их',\n",
       " 'к',\n",
       " 'каждая',\n",
       " 'каждое',\n",
       " 'каждые',\n",
       " 'каждый',\n",
       " 'кажется',\n",
       " 'как',\n",
       " 'какая',\n",
       " 'какой',\n",
       " 'кем',\n",
       " 'когда',\n",
       " 'кого',\n",
       " 'ком',\n",
       " 'кому',\n",
       " 'конечно',\n",
       " 'которая',\n",
       " 'которого',\n",
       " 'которой',\n",
       " 'которые',\n",
       " 'который',\n",
       " 'которых',\n",
       " 'кроме',\n",
       " 'кругом',\n",
       " 'кто',\n",
       " 'куда',\n",
       " 'лет',\n",
       " 'ли',\n",
       " 'лишь',\n",
       " 'лучше',\n",
       " 'люди',\n",
       " 'м',\n",
       " 'мало',\n",
       " 'между',\n",
       " 'меля',\n",
       " 'менее',\n",
       " 'меньше',\n",
       " 'меня',\n",
       " 'миллионов',\n",
       " 'мимо',\n",
       " 'мира',\n",
       " 'мне',\n",
       " 'много',\n",
       " 'многочисленная',\n",
       " 'многочисленное',\n",
       " 'многочисленные',\n",
       " 'многочисленный',\n",
       " 'мной',\n",
       " 'мною',\n",
       " 'мог',\n",
       " 'могут',\n",
       " 'мож',\n",
       " 'может',\n",
       " 'можно',\n",
       " 'можхо',\n",
       " 'мои',\n",
       " 'мой',\n",
       " 'мор',\n",
       " 'мочь',\n",
       " 'моя',\n",
       " 'моё',\n",
       " 'мы',\n",
       " 'на',\n",
       " 'наверху',\n",
       " 'над',\n",
       " 'надо',\n",
       " 'назад',\n",
       " 'наиболее',\n",
       " 'наконец',\n",
       " 'нам',\n",
       " 'нами',\n",
       " 'нас',\n",
       " 'начала',\n",
       " 'наш',\n",
       " 'наша',\n",
       " 'наше',\n",
       " 'наши',\n",
       " 'не',\n",
       " 'него',\n",
       " 'недавно',\n",
       " 'недалеко',\n",
       " 'нее',\n",
       " 'ней',\n",
       " 'нельзя',\n",
       " 'нем',\n",
       " 'немного',\n",
       " 'нему',\n",
       " 'непрерывно',\n",
       " 'нередко',\n",
       " 'несколько',\n",
       " 'нет',\n",
       " 'нею',\n",
       " 'неё',\n",
       " 'ни',\n",
       " 'нибудь',\n",
       " 'ниже',\n",
       " 'низко',\n",
       " 'никогда',\n",
       " 'никуда',\n",
       " 'ним',\n",
       " 'ними',\n",
       " 'них',\n",
       " 'ничего',\n",
       " 'но',\n",
       " 'ну',\n",
       " 'нужно',\n",
       " 'нх',\n",
       " 'о',\n",
       " 'об',\n",
       " 'оба',\n",
       " 'обычно',\n",
       " 'один',\n",
       " 'одиннадцатый',\n",
       " 'одиннадцать',\n",
       " 'однажды',\n",
       " 'однако',\n",
       " 'одного',\n",
       " 'одной',\n",
       " 'около',\n",
       " 'он',\n",
       " 'она',\n",
       " 'они',\n",
       " 'оно',\n",
       " 'опять',\n",
       " 'особенно',\n",
       " 'от',\n",
       " 'отовсюду',\n",
       " 'отсюда',\n",
       " 'очень',\n",
       " 'первый',\n",
       " 'перед',\n",
       " 'по',\n",
       " 'под',\n",
       " 'пожалуйста',\n",
       " 'позже',\n",
       " 'пока',\n",
       " 'пор',\n",
       " 'пора',\n",
       " 'после',\n",
       " 'посреди',\n",
       " 'потом',\n",
       " 'потому',\n",
       " 'почему',\n",
       " 'почти',\n",
       " 'прекрасно',\n",
       " 'при',\n",
       " 'про',\n",
       " 'просто',\n",
       " 'против',\n",
       " 'процентов',\n",
       " 'пятнадцатый',\n",
       " 'пятнадцать',\n",
       " 'пятый',\n",
       " 'пять',\n",
       " 'раз',\n",
       " 'разве',\n",
       " 'рано',\n",
       " 'раньше',\n",
       " 'рядом',\n",
       " 'с',\n",
       " 'сам',\n",
       " 'сама',\n",
       " 'сами',\n",
       " 'самим',\n",
       " 'самими',\n",
       " 'самих',\n",
       " 'само',\n",
       " 'самого',\n",
       " 'самой',\n",
       " 'самом',\n",
       " 'самому',\n",
       " 'саму',\n",
       " 'свое',\n",
       " 'своего',\n",
       " 'своей',\n",
       " 'свои',\n",
       " 'своих',\n",
       " 'свою',\n",
       " 'сеаой',\n",
       " 'себе',\n",
       " 'себя',\n",
       " 'сегодня',\n",
       " 'седьмой',\n",
       " 'сейчас',\n",
       " 'семнадцатый',\n",
       " 'семнадцать',\n",
       " 'семь',\n",
       " 'сих',\n",
       " 'сказал',\n",
       " 'сказала',\n",
       " 'сказать',\n",
       " 'сколько',\n",
       " 'слишком',\n",
       " 'сначала',\n",
       " 'снова',\n",
       " 'со',\n",
       " 'собой',\n",
       " 'собою',\n",
       " 'совсем',\n",
       " 'спасибо',\n",
       " 'стал',\n",
       " 'суть',\n",
       " 'т',\n",
       " 'та',\n",
       " 'так',\n",
       " 'такая',\n",
       " 'также',\n",
       " 'такие',\n",
       " 'такое',\n",
       " 'такой',\n",
       " 'там',\n",
       " 'твой',\n",
       " 'твоя',\n",
       " 'твоё',\n",
       " 'те',\n",
       " 'тебе',\n",
       " 'тебя',\n",
       " 'тем',\n",
       " 'теми',\n",
       " 'теперь',\n",
       " 'тех',\n",
       " 'то',\n",
       " 'тобой',\n",
       " 'тобою',\n",
       " 'тогда',\n",
       " 'того',\n",
       " 'тоже',\n",
       " 'только',\n",
       " 'том',\n",
       " 'тому',\n",
       " 'тот',\n",
       " 'тою',\n",
       " 'третий',\n",
       " 'три',\n",
       " 'тринадцатый',\n",
       " 'тринадцать',\n",
       " 'ту',\n",
       " 'туда',\n",
       " 'тут',\n",
       " 'ты',\n",
       " 'тысяч',\n",
       " 'у',\n",
       " 'уж',\n",
       " 'уже',\n",
       " 'уметь',\n",
       " 'хорошо',\n",
       " 'хотеть',\n",
       " 'хоть',\n",
       " 'хотя',\n",
       " 'хочешь',\n",
       " 'часто',\n",
       " 'чаще',\n",
       " 'чего',\n",
       " 'человек',\n",
       " 'чем',\n",
       " 'чему',\n",
       " 'через',\n",
       " 'четвертый',\n",
       " 'четыре',\n",
       " 'четырнадцатый',\n",
       " 'четырнадцать',\n",
       " 'что',\n",
       " 'чтоб',\n",
       " 'чтобы',\n",
       " 'чуть',\n",
       " 'шестнадцатый',\n",
       " 'шестнадцать',\n",
       " 'шестой',\n",
       " 'шесть',\n",
       " 'эта',\n",
       " 'эти',\n",
       " 'этим',\n",
       " 'этими',\n",
       " 'этих',\n",
       " 'это',\n",
       " 'этого',\n",
       " 'этой',\n",
       " 'этом',\n",
       " 'этому',\n",
       " 'этот',\n",
       " 'эту',\n",
       " 'я'}"
      ]
     },
     "execution_count": 49,
     "metadata": {},
     "output_type": "execute_result"
    }
   ],
   "source": [
    "stop_words_ru"
   ]
  },
  {
   "cell_type": "code",
   "execution_count": 50,
   "id": "9c2ebf05-8eb4-44f9-ad74-6258cb6f911b",
   "metadata": {},
   "outputs": [],
   "source": [
    "stop_words_en=stop_words_en\n",
    "stop_words_ru=stop_words_ru"
   ]
  },
  {
   "cell_type": "code",
   "execution_count": 51,
   "id": "526b3bea-16cc-45c4-9a9f-4e3574d0dc56",
   "metadata": {},
   "outputs": [
    {
     "name": "stdout",
     "output_type": "stream",
     "text": [
      "example sentence demonstrate removal stopwords.\n",
      "пример предложения демонстрации удаления стоп-слов.\n"
     ]
    }
   ],
   "source": [
    "def remove_stopwords(text, language='en'):\n",
    "    # if language == 'en':\n",
    "    #     stop_words = stop_words_en\n",
    "    # elif language == 'ru':\n",
    "    #     stop_words = stop_words_ru\n",
    "    # else:\n",
    "    #     raise ValueError(\"Unsupported language. Use 'en' for English or 'ru' for Russian.\")\n",
    "    stop_words = set(set(stop_words_en) | set(stop_words_ru))\n",
    "    return ' '.join(word for word in text.split() if word.lower() not in stop_words)\n",
    "\n",
    "# Example usage\n",
    "english_text = \"This is an example sentence to demonstrate the removal of stopwords.\"\n",
    "russian_text = \"Это пример предложения для демонстрации удаления стоп-слов.\"\n",
    "\n",
    "cleaned_english_text = remove_stopwords(english_text, 'en')\n",
    "print(cleaned_english_text)\n",
    "cleaned_russian_text = remove_stopwords(russian_text, 'ru')\n",
    "print(cleaned_russian_text)"
   ]
  },
  {
   "cell_type": "markdown",
   "id": "88dba7fc-ded6-49af-aae2-45d96ab538b7",
   "metadata": {},
   "source": [
    "<font size=\"12\">Lemmatizer and Stemmer</font>"
   ]
  },
  {
   "cell_type": "code",
   "execution_count": 52,
   "id": "a097f67f-144e-4cb9-9247-59ad3446be17",
   "metadata": {},
   "outputs": [],
   "source": [
    "nltk.set_proxy('http://proxy-ws.cbank.kz:8080')"
   ]
  },
  {
   "cell_type": "code",
   "execution_count": 53,
   "id": "ed619680-6d12-438e-b788-d4a88a61a977",
   "metadata": {},
   "outputs": [
    {
     "name": "stderr",
     "output_type": "stream",
     "text": [
      "[nltk_data] Downloading package wordnet to\n",
      "[nltk_data]     C:\\Users\\User\\AppData\\Roaming\\nltk_data...\n",
      "[nltk_data]   Package wordnet is already up-to-date!\n",
      "[nltk_data] Downloading package omw-1.4 to\n",
      "[nltk_data]     C:\\Users\\User\\AppData\\Roaming\\nltk_data...\n",
      "[nltk_data]   Package omw-1.4 is already up-to-date!\n"
     ]
    },
    {
     "data": {
      "text/plain": [
       "True"
      ]
     },
     "execution_count": 53,
     "metadata": {},
     "output_type": "execute_result"
    }
   ],
   "source": [
    "import nltk\n",
    "nltk.download('wordnet')\n",
    "nltk.download('omw-1.4')"
   ]
  },
  {
   "cell_type": "code",
   "execution_count": 54,
   "id": "1e227f2f-89b3-469f-a329-19176fad7b8e",
   "metadata": {},
   "outputs": [
    {
     "name": "stdout",
     "output_type": "stream",
     "text": [
      "алкоголя ---> алкоголя\n",
      "babies ---> baby\n",
      "dogs ---> dog\n",
      "flying ---> flying\n",
      "smiling ---> smiling\n",
      "driving ---> driving\n",
      "died ---> died\n",
      "tried ---> tried\n",
      "feet ---> foot\n",
      "running ---> running\n",
      "are ---> are\n"
     ]
    },
    {
     "name": "stderr",
     "output_type": "stream",
     "text": [
      "[nltk_data] Downloading package wordnet to\n",
      "[nltk_data]     C:\\Users\\User\\AppData\\Roaming\\nltk_data...\n",
      "[nltk_data]   Package wordnet is already up-to-date!\n"
     ]
    }
   ],
   "source": [
    "import nltk\n",
    "nltk.download('wordnet')\n",
    "from nltk.stem import WordNetLemmatizer\n",
    " \n",
    "# Create WordNetLemmatizer object\n",
    "wnl = WordNetLemmatizer()\n",
    " \n",
    "# single word lemmatization examples\n",
    "list1 = ['алкоголя', 'babies', 'dogs', 'flying', 'smiling', \n",
    "         'driving', 'died', 'tried', 'feet', 'running', 'are']\n",
    "for words in list1:\n",
    "    print(words + \" ---> \" + wnl.lemmatize(words))"
   ]
  },
  {
   "cell_type": "code",
   "execution_count": 55,
   "id": "eaa98a48-de41-4f41-a2fe-446c9f06884a",
   "metadata": {},
   "outputs": [
    {
     "name": "stdout",
     "output_type": "stream",
     "text": [
      "laughing laugh\n"
     ]
    }
   ],
   "source": [
    "import spacy\n",
    "nlp = spacy.load(\"en_core_web_sm\")\n",
    "doc = nlp(\"laughing\")\n",
    "doc[0].lemma_\n",
    "for token in doc:\n",
    "    print(token.text, token.lemma_)"
   ]
  },
  {
   "cell_type": "code",
   "execution_count": 96,
   "id": "111c5a92",
   "metadata": {},
   "outputs": [
    {
     "name": "stdout",
     "output_type": "stream",
     "text": [
      "Андре́й 0 \n",
      "Серге́евич 0 \n",
      "Арша́вин 0 \n",
      "( 0 \n",
      "род 0 \n",
      ". 0 \n",
      "29 0 \n",
      "мая 0 \n",
      "1981[4 0 \n",
      "] 0 \n",
      ", 0 \n",
      "Ленинград 0 \n",
      ") 0 \n",
      "— 0 \n",
      "российский 0 \n",
      "футболист 0 \n",
      ", 0 \n",
      "бывший 0 \n",
      "капитан 0 \n",
      "сборной 0 \n",
      "России 0 \n",
      ", 0 \n",
      "заслуженный 0 \n",
      "мастер 0 \n",
      "спорта 0 \n",
      "России 0 \n",
      "( 0 \n",
      "2008 0 \n",
      ") 0 \n",
      ". 0 \n"
     ]
    },
    {
     "data": {
      "text/plain": [
       "'                             '"
      ]
     },
     "execution_count": 96,
     "metadata": {},
     "output_type": "execute_result"
    }
   ],
   "source": []
  },
  {
   "cell_type": "code",
   "execution_count": 56,
   "id": "e7d43021-cbaa-48ae-99c1-6b0ddc8e1a38",
   "metadata": {},
   "outputs": [
    {
     "data": {
      "text/plain": [
       "'run'"
      ]
     },
     "execution_count": 56,
     "metadata": {},
     "output_type": "execute_result"
    }
   ],
   "source": [
    "from nltk.stem import PorterStemmer\n",
    "stemmer = PorterStemmer()\n",
    "stemmer.stem(\"running\")"
   ]
  },
  {
   "cell_type": "code",
   "execution_count": 57,
   "id": "a22c97dc-ea63-4a91-9506-98e08bbbd784",
   "metadata": {},
   "outputs": [
    {
     "name": "stdout",
     "output_type": "stream",
     "text": [
      "Word: running | Stem: run | Lemma: run\n",
      "Word: runs | Stem: run | Lemma: run\n",
      "Word: runner | Stem: runner | Lemma: runner\n",
      "Word: easily | Stem: easili | Lemma: easily\n",
      "Word: fairly | Stem: fairli | Lemma: fairly\n",
      "Word: cats | Stem: cat | Lemma: cat\n",
      "Word: studies | Stem: studi | Lemma: study\n",
      "Word: studying | Stem: studi | Lemma: study\n",
      "Word: better | Stem: better | Lemma: better\n",
      "Word: was | Stem: wa | Lemma: be\n",
      "Word: are | Stem: are | Lemma: be\n"
     ]
    }
   ],
   "source": [
    "import nltk\n",
    "from nltk.stem import PorterStemmer, WordNetLemmatizer\n",
    "\n",
    "\n",
    "# Initialize stemmer and lemmatizer\n",
    "stemmer = PorterStemmer()\n",
    "lemmatizer = WordNetLemmatizer()\n",
    "\n",
    "# Define a list of words to demonstrate the difference\n",
    "words = [\"running\", \"runs\", \"runner\", \"easily\", \"fairly\", \"cats\", \"studies\", \"studying\", \"better\", \"was\", \"are\"]\n",
    "\n",
    "# Apply stemming and lemmatization\n",
    "stems = [stemmer.stem(word) for word in words]\n",
    "lemmas = [lemmatizer.lemmatize(word, pos='v') for word in words]  # Using 'v' for verb to get accurate results for verbs\n",
    "\n",
    "# Display the results\n",
    "for word, stem, lemma in zip(words, stems, lemmas):\n",
    "    print(f\"Word: {word} | Stem: {stem} | Lemma: {lemma}\")"
   ]
  },
  {
   "cell_type": "code",
   "execution_count": 58,
   "id": "07739b3b-f043-41f9-8013-569cf551edca",
   "metadata": {},
   "outputs": [
    {
     "name": "stdout",
     "output_type": "stream",
     "text": [
      "Word: Красивая | Lemma: красивый | Stem: красив\n",
      "Word: бегающая | Lemma: бегать | Stem: бега\n",
      "Word: мама | Lemma: мама | Stem: мам\n",
      "Word: красиво | Lemma: красиво | Stem: красив\n",
      "Word: мыла | Lemma: мыть | Stem: мыл\n",
      "Word: раму | Lemma: рама | Stem: рам\n",
      "Word: узнав | Lemma: узнавать | Stem: узна\n",
      "Word: правду | Lemma: правда | Stem: правд\n"
     ]
    }
   ],
   "source": [
    "from pymystem3 import Mystem\n",
    "from nltk.stem.snowball import SnowballStemmer\n",
    "import nltk\n",
    "\n",
    "# Initialize the Mystem and SnowballStemmer\n",
    "mystem = Mystem()\n",
    "stemmer = SnowballStemmer(\"russian\")\n",
    "\n",
    "# Input text\n",
    "text = \"Красивая бегающая мама красиво мыла раму узнав правду\"\n",
    "\n",
    "# Perform lemmatization\n",
    "lemmas = mystem.lemmatize(text)\n",
    "lemmas = [lemma.strip() for lemma in lemmas if lemma.strip()]\n",
    "\n",
    "# Perform stemming\n",
    "words = text.split()\n",
    "stems = [stemmer.stem(word) for word in words]\n",
    "\n",
    "# Display the results\n",
    "for word, lemma, stem in zip(words, lemmas, stems):\n",
    "    print(f\"Word: {word} | Lemma: {lemma} | Stem: {stem}\")"
   ]
  },
  {
   "cell_type": "markdown",
   "id": "d7fd0e8b-81a4-4520-9d4b-c331281365bc",
   "metadata": {},
   "source": [
    "\n",
    "<font size=\"12\">Home tasks</font>"
   ]
  },
  {
   "cell_type": "markdown",
   "id": "3bf65f8c-a6be-40d6-9593-6c55ec2852f1",
   "metadata": {},
   "source": [
    "<font size=\"5\">1. This task involves normalizing and cleaning a text where some words are replaced with emoticons or the text is split in an unusual way </font>\n",
    " "
   ]
  },
  {
   "cell_type": "code",
   "execution_count": 59,
   "id": "e4b13bc8-09e7-4a36-94bc-3188c7b14c52",
   "metadata": {},
   "outputs": [],
   "source": [
    "text = \"\"\"\n",
    "Вчера-был просто супер 😊! Проихал 100/160 км, чтобы встре-титься со своим другом. Эго имяАсхат А.Н. ему24г.Это было нивероятно круто!Обсуждали все, от программирования-до политики, 2-3часа иливечность за обедом в суши-баре, ХАХА 😂. Потом посмотрели фильмФОрест Г.в кино и заговорили о трендах на рынке и экономических влияниях.Погода? Началось все с  🌞, но вдруг пошел  🌧️. Перед отъездом зашел в уютное кафе за чашкой ☕, очень уютно.\n",
    "\"\"\""
   ]
  },
  {
   "cell_type": "code",
   "execution_count": null,
   "id": "90205450",
   "metadata": {},
   "outputs": [
    {
     "name": "stdout",
     "output_type": "stream",
     "text": [
      "True\n"
     ]
    }
   ],
   "source": [
    "from razdel import tokenize\n",
    "\n",
    "from stop_words import get_stop_words\n",
    "from nltk.corpus import stopwords\n",
    "\n",
    "stop_words_ru = list(get_stop_words('ru'))         \n",
    "nltk_words_ru = list(stopwords.words('russian')) \n",
    "\n",
    "stop_words_ru = set(get_stop_words('ru')) | set(stopwords.words('russian'))\n",
    "\n",
    "check_word = 'рядом'\n",
    "print('True' if check_word in stop_words_ru else 'False')"
   ]
  },
  {
   "cell_type": "code",
   "execution_count": null,
   "id": "473376e0",
   "metadata": {},
   "outputs": [
    {
     "name": "stdout",
     "output_type": "stream",
     "text": [
      "Вчера-был  ===>  None\n",
      "просто  ===>  просто\n",
      "супер  ===>  супер\n",
      "😊  ===>  я\n",
      "!  ===>  !\n",
      "Проихал  ===>  проехал\n",
      "100/160  ===>  None\n",
      "км  ===>  им\n",
      ",  ===>  ,\n",
      "чтобы  ===>  чтобы\n",
      "встре-титься  ===>  встретиться\n",
      "со  ===>  со\n",
      "своим  ===>  своим\n",
      "другом  ===>  другом\n",
      ".  ===>  .\n",
      "Эго  ===>  Эго\n",
      "имяАсхат  ===>  None\n",
      "А  ===>  А\n",
      ".  ===>  .\n",
      "Н  ===>  я\n",
      ".  ===>  .\n",
      "ему  ===>  ему\n",
      "24  ===>  24\n",
      "г  ===>  я\n",
      ".  ===>  .\n",
      "Это  ===>  Это\n",
      "было  ===>  было\n",
      "нивероятно  ===>  невероятно\n",
      "круто  ===>  круто\n",
      "!  ===>  !\n",
      "Обсуждали  ===>  Обсуждали\n",
      "все  ===>  все\n",
      ",  ===>  ,\n",
      "от  ===>  от\n",
      "программирования-до  ===>  None\n",
      "политики  ===>  политики\n",
      ",  ===>  ,\n",
      "2-3  ===>  None\n",
      "часа  ===>  часа\n",
      "иливечность  ===>  None\n",
      "за  ===>  за\n",
      "обедом  ===>  обед\n",
      "в  ===>  я\n",
      "суши-баре  ===>  None\n",
      ",  ===>  ,\n",
      "ХАХА  ===>  хана\n",
      "😂  ===>  я\n",
      ".  ===>  .\n",
      "Потом  ===>  Потом\n",
      "посмотрели  ===>  посмотрели\n",
      "фильмФОрест  ===>  None\n",
      "Г  ===>  я\n",
      ".  ===>  .\n",
      "в  ===>  я\n",
      "кино  ===>  кино\n",
      "и  ===>  и\n",
      "заговорили  ===>  говорили\n",
      "о  ===>  о\n",
      "трендах  ===>  бренда\n",
      "на  ===>  на\n",
      "рынке  ===>  рынке\n",
      "и  ===>  и\n",
      "экономических  ===>  экономический\n",
      "влияниях  ===>  влияние\n",
      ".  ===>  .\n",
      "Погода  ===>  Погода\n",
      "?  ===>  ?\n",
      "Началось  ===>  Началось\n",
      "все  ===>  все\n",
      "с  ===>  я\n",
      "🌞  ===>  я\n",
      ",  ===>  ,\n",
      "но  ===>  но\n",
      "вдруг  ===>  вдруг\n",
      "пошел  ===>  пошел\n",
      "🌧️  ===>  я\n",
      ".  ===>  .\n",
      "Перед  ===>  Перед\n",
      "отъездом  ===>  отъезд\n",
      "зашел  ===>  зашел\n",
      "в  ===>  я\n",
      "уютное  ===>  уютно\n",
      "кафе  ===>  кафе\n",
      "за  ===>  за\n",
      "чашкой  ===>  какой\n",
      "☕  ===>  я\n",
      ",  ===>  ,\n",
      "очень  ===>  очень\n",
      "уютно  ===>  уютно\n",
      ".  ===>  .\n"
     ]
    }
   ],
   "source": [
    "from spellchecker import SpellChecker\n",
    "spell = SpellChecker(language='ru')\n",
    "\n",
    "tokens = list(tokenize(text))\n",
    "for token in tokens:\n",
    "    print(token.text, \" ===> \", spell.correction(token.text))\n",
    "    token.text = spell.correction(token.text)"
   ]
  },
  {
   "cell_type": "code",
   "execution_count": null,
   "id": "849e7936",
   "metadata": {},
   "outputs": [
    {
     "data": {
      "text/plain": [
       "[Substring(0, 1, 'i'),\n",
       " Substring(2, 4, 'am'),\n",
       " Substring(5, 6, 'a'),\n",
       " Substring(7, 12, 'black'),\n",
       " Substring(13, 19, 'nigger')]"
      ]
     },
     "execution_count": 29,
     "metadata": {},
     "output_type": "execute_result"
    }
   ],
   "source": [
    "list(tokenize('i am a black nigger'))"
   ]
  },
  {
   "cell_type": "code",
   "execution_count": null,
   "id": "ea28ae7b",
   "metadata": {},
   "outputs": [
    {
     "data": {
      "text/plain": [
       "[Substring(1, 10, None),\n",
       " Substring(11, 17, 'просто'),\n",
       " Substring(18, 23, 'супер'),\n",
       " Substring(24, 25, 'я'),\n",
       " Substring(25, 26, '!'),\n",
       " Substring(27, 34, 'проехал'),\n",
       " Substring(35, 42, None),\n",
       " Substring(43, 45, 'им'),\n",
       " Substring(45, 46, ','),\n",
       " Substring(47, 52, 'чтобы'),\n",
       " Substring(53, 65, 'встретиться'),\n",
       " Substring(66, 68, 'со'),\n",
       " Substring(69, 74, 'своим'),\n",
       " Substring(75, 81, 'другом'),\n",
       " Substring(81, 82, '.'),\n",
       " Substring(83, 86, 'Эго'),\n",
       " Substring(87, 95, None),\n",
       " Substring(96, 97, 'А'),\n",
       " Substring(97, 98, '.'),\n",
       " Substring(98, 99, 'я'),\n",
       " Substring(99, 100, '.'),\n",
       " Substring(101, 104, 'ему'),\n",
       " Substring(104, 106, '24'),\n",
       " Substring(106, 107, 'я'),\n",
       " Substring(107, 108, '.'),\n",
       " Substring(108, 111, 'Это'),\n",
       " Substring(112, 116, 'было'),\n",
       " Substring(117, 127, 'невероятно'),\n",
       " Substring(128, 133, 'круто'),\n",
       " Substring(133, 134, '!'),\n",
       " Substring(134, 143, 'Обсуждали'),\n",
       " Substring(144, 147, 'все'),\n",
       " Substring(147, 148, ','),\n",
       " Substring(149, 151, 'от'),\n",
       " Substring(152, 171, None),\n",
       " Substring(172, 180, 'политики'),\n",
       " Substring(180, 181, ','),\n",
       " Substring(182, 185, None),\n",
       " Substring(185, 189, 'часа'),\n",
       " Substring(190, 201, None),\n",
       " Substring(202, 204, 'за'),\n",
       " Substring(205, 211, 'обед'),\n",
       " Substring(212, 213, 'я'),\n",
       " Substring(214, 223, None),\n",
       " Substring(223, 224, ','),\n",
       " Substring(225, 229, 'хана'),\n",
       " Substring(230, 231, 'я'),\n",
       " Substring(231, 232, '.'),\n",
       " Substring(233, 238, 'Потом'),\n",
       " Substring(239, 249, 'посмотрели'),\n",
       " Substring(250, 261, None),\n",
       " Substring(262, 263, 'я'),\n",
       " Substring(263, 264, '.'),\n",
       " Substring(264, 265, 'я'),\n",
       " Substring(266, 270, 'кино'),\n",
       " Substring(271, 272, 'и'),\n",
       " Substring(273, 283, 'говорили'),\n",
       " Substring(284, 285, 'о'),\n",
       " Substring(286, 293, 'бренда'),\n",
       " Substring(294, 296, 'на'),\n",
       " Substring(297, 302, 'рынке'),\n",
       " Substring(303, 304, 'и'),\n",
       " Substring(305, 318, 'экономический'),\n",
       " Substring(319, 327, 'влияние'),\n",
       " Substring(327, 328, '.'),\n",
       " Substring(328, 334, 'Погода'),\n",
       " Substring(334, 335, '?'),\n",
       " Substring(336, 344, 'Началось'),\n",
       " Substring(345, 348, 'все'),\n",
       " Substring(349, 350, 'я'),\n",
       " Substring(352, 353, 'я'),\n",
       " Substring(353, 354, ','),\n",
       " Substring(355, 357, 'но'),\n",
       " Substring(358, 363, 'вдруг'),\n",
       " Substring(364, 369, 'пошел'),\n",
       " Substring(371, 373, 'я'),\n",
       " Substring(373, 374, '.'),\n",
       " Substring(375, 380, 'Перед'),\n",
       " Substring(381, 389, 'отъезд'),\n",
       " Substring(390, 395, 'зашел'),\n",
       " Substring(396, 397, 'я'),\n",
       " Substring(398, 404, 'уютно'),\n",
       " Substring(405, 409, 'кафе'),\n",
       " Substring(410, 412, 'за'),\n",
       " Substring(413, 419, 'какой'),\n",
       " Substring(420, 421, 'я'),\n",
       " Substring(421, 422, ','),\n",
       " Substring(423, 428, 'очень'),\n",
       " Substring(429, 434, 'уютно'),\n",
       " Substring(434, 435, '.')]"
      ]
     },
     "execution_count": 30,
     "metadata": {},
     "output_type": "execute_result"
    }
   ],
   "source": [
    "tokens"
   ]
  },
  {
   "cell_type": "code",
   "execution_count": null,
   "id": "c856453e",
   "metadata": {},
   "outputs": [
    {
     "name": "stdout",
     "output_type": "stream",
     "text": [
      "проехал\n"
     ]
    }
   ],
   "source": [
    "from spellchecker import SpellChecker\n",
    "spell = SpellChecker(language='ru')\n",
    "\n",
    "print(spell.correction('Проихал'))\n",
    "\n",
    "# for token in tokens:\n",
    "#     token = spell.correction(token)"
   ]
  },
  {
   "cell_type": "code",
   "execution_count": null,
   "id": "4d625229",
   "metadata": {},
   "outputs": [],
   "source": []
  },
  {
   "cell_type": "code",
   "execution_count": null,
   "id": "64dc3fa2",
   "metadata": {},
   "outputs": [
    {
     "name": "stdout",
     "output_type": "stream",
     "text": [
      "['Вчера-был', 'просто', 'супер', '😊', '!', 'Проихал', '100/160', 'км', ',', 'чтобы', 'встре-титься', 'со', 'своим', 'другом', '.', 'Эго', 'имяАсхат', 'А.Н', '.', 'ему24г.Это', 'было', 'нивероятно', 'круто', '!', 'Обсуждали', 'все', ',', 'от', 'программирования-до', 'политики', ',', '2-3часа', 'иливечность', 'за', 'обедом', 'в', 'суши-баре', ',', 'ХАХА', '😂', '.', 'Потом', 'посмотрели', 'фильмФОрест', 'Г.в', 'кино', 'и', 'заговорили', 'о', 'трендах', 'на', 'рынке', 'и', 'экономических', 'влияниях.Погода', '?', 'Началось', 'все', 'с', '🌞', ',', 'но', 'вдруг', 'пошел', '🌧️', '.', 'Перед', 'отъездом', 'зашел', 'в', 'уютное', 'кафе', 'за', 'чашкой', '☕', ',', 'очень', 'уютно', '.']\n",
      "\n",
      "Вчерабыл просто супер 😊 Проихал 100160 км чтобы встретиться со своим другом Эго имяАсхат АН ему24гЭто было нивероятно крутоОбсуждали все от программированиядо политики 23часа иливечность за обедом в сушибаре ХАХА 😂 Потом посмотрели фильмФОрест Гв кино и заговорили о трендах на рынке и экономических влиянияхПогода Началось все с  🌞 но вдруг пошел  🌧️ Перед отъездом зашел в уютное кафе за чашкой ☕ очень уютно\n",
      "\n"
     ]
    }
   ],
   "source": [
    "punkt_splitted_sentence = nltk_tokenize(text)\n",
    "print(punkt_splitted_sentence)\n",
    "\n",
    "final = set(string.punctuation)\n",
    "\n",
    "def remove_punctuation(text):\n",
    "    return ''.join(char for char in text if char not in final)\n",
    "\n",
    "punkt_deleted_sentence = remove_punctuation(text)\n",
    "print(punkt_deleted_sentence)"
   ]
  },
  {
   "cell_type": "code",
   "execution_count": null,
   "id": "a766d41a",
   "metadata": {},
   "outputs": [
    {
     "name": "stdout",
     "output_type": "stream",
     "text": [
      "None\n"
     ]
    }
   ],
   "source": [
    "def split_concat_words(word):\n",
    "    for i in range(1, len(word)):\n",
    "        if spell.correction(word[:i]) == word[:i] and len(word[:i]) >= 3:\n",
    "            return [word[:i], word[i:]]\n",
    "\n",
    "print(split_concat_words(\"влиянияхПогода\"))"
   ]
  },
  {
   "cell_type": "code",
   "execution_count": null,
   "id": "be25d173",
   "metadata": {},
   "outputs": [
    {
     "name": "stdout",
     "output_type": "stream",
     "text": [
      "Вчера-был  ---->  None\n",
      "просто  ---->  просто\n",
      "супер  ---->  супер\n",
      "😊  ---->  я\n",
      "!  ---->  !\n",
      "Проихал  ---->  проехал\n",
      "100/160  ---->  None\n",
      "км  ---->  им\n",
      ",  ---->  ,\n",
      "чтобы  ---->  чтобы\n",
      "встре-титься  ---->  встретиться\n",
      "со  ---->  со\n",
      "своим  ---->  своим\n",
      "другом  ---->  другом\n",
      ".  ---->  .\n",
      "Эго  ---->  Эго\n",
      "имяАсхат  ---->  None\n",
      "А.Н  ---->  ан\n",
      ".  ---->  .\n",
      "ему24г.Это  ---->  None\n",
      "было  ---->  было\n",
      "нивероятно  ---->  невероятно\n",
      "круто  ---->  круто\n",
      "!  ---->  !\n",
      "Обсуждали  ---->  Обсуждали\n",
      "все  ---->  все\n",
      ",  ---->  ,\n",
      "от  ---->  от\n",
      "программирования-до  ---->  None\n",
      "политики  ---->  политики\n",
      ",  ---->  ,\n",
      "2-3часа  ---->  None\n",
      "иливечность  ---->  None\n",
      "за  ---->  за\n",
      "обедом  ---->  обед\n",
      "в  ---->  я\n",
      "суши-баре  ---->  None\n",
      ",  ---->  ,\n",
      "ХАХА  ---->  хана\n",
      "😂  ---->  я\n",
      ".  ---->  .\n",
      "Потом  ---->  Потом\n",
      "посмотрели  ---->  посмотрели\n",
      "фильмФОрест  ---->  None\n",
      "Г.в  ---->  где\n",
      "кино  ---->  кино\n",
      "и  ---->  и\n",
      "заговорили  ---->  говорили\n",
      "о  ---->  о\n",
      "трендах  ---->  бренда\n",
      "на  ---->  на\n",
      "рынке  ---->  рынке\n",
      "и  ---->  и\n",
      "экономических  ---->  экономический\n",
      "влияниях.Погода  ---->  None\n",
      "?  ---->  ?\n",
      "Началось  ---->  Началось\n",
      "все  ---->  все\n",
      "с  ---->  я\n",
      "🌞  ---->  я\n",
      ",  ---->  ,\n",
      "но  ---->  но\n",
      "вдруг  ---->  вдруг\n",
      "пошел  ---->  пошел\n",
      "🌧️  ---->  я\n",
      ".  ---->  .\n",
      "Перед  ---->  Перед\n",
      "отъездом  ---->  отъезд\n",
      "зашел  ---->  зашел\n",
      "в  ---->  я\n",
      "уютное  ---->  уютно\n",
      "кафе  ---->  кафе\n",
      "за  ---->  за\n",
      "чашкой  ---->  какой\n",
      "☕  ---->  я\n",
      ",  ---->  ,\n",
      "очень  ---->  очень\n",
      "уютно  ---->  уютно\n",
      ".  ---->  .\n"
     ]
    }
   ],
   "source": [
    "for miss_token in punkt_splitted_sentence:\n",
    "    print(miss_token, \" ----> \", spell.correction(miss_token))"
   ]
  },
  {
   "cell_type": "code",
   "execution_count": null,
   "id": "f193d78b",
   "metadata": {},
   "outputs": [
    {
     "data": {
      "text/plain": [
       "'\\nВчера-был просто супер 😊! Проихал 100/160 км, чтобы встре-титься со своим другом. Эго имяАсхат А.Н. ему24г.Это было нивероятно круто!Обсуждали все, от программирования-до политики, 2-3часа иливечность за обедом в суши-баре, ХАХА 😂. Потом посмотрели фильмФОрест Г.в кино и заговорили о трендах на рынке и экономических влияниях.Погода? Началось все с  🌞, но вдруг пошел  🌧️. Перед отъездом зашел в уютное кафе за чашкой ☕, очень уютно.\\n'"
      ]
     },
     "execution_count": 35,
     "metadata": {},
     "output_type": "execute_result"
    }
   ],
   "source": [
    "spell.correction(text)"
   ]
  },
  {
   "cell_type": "markdown",
   "id": "642556fb-7a2e-4e09-917d-b9d3ff2df455",
   "metadata": {},
   "source": [
    "<font size=\"5\">2. Simple Token-Based Search Using Lemmatization and Stemming. This task involves creating a simple token-based search using lemmatization and stemming techniques. Below is a Python function template that takes a user's input and returns the most relevant sentence from a set of 50 sentences.</font>"
   ]
  },
  {
   "cell_type": "code",
   "execution_count": 60,
   "id": "5cb5bbff-daa7-450f-b54b-1ba558e346ed",
   "metadata": {},
   "outputs": [],
   "source": [
    "banking_sentences = [\n",
    "    \"The bank offers a variety of savings accounts with different interest rates to suit individual needs.\",\n",
    "    \"Customers can easily transfer money between their accounts using the online banking platform.\",\n",
    "    \"Every month, the bank sends out statements detailing all transactions made during the billing cycle.\",\n",
    "    \"Opening a new account at the bank requires a valid ID and proof of address.\",\n",
    "    \"The bank's mobile app allows users to deposit checks by simply taking a photo with their phone.\",\n",
    "    \"Loans for purchasing homes are available with fixed or variable interest rates.\",\n",
    "    \"Credit cards from the bank come with various rewards programs, including cashback and travel points.\",\n",
    "    \"Bank employees are available to help customers understand their financial statements and plan their budgets.\",\n",
    "    \"Savings accounts can be linked to checking accounts to prevent overdraft fees.\",\n",
    "    \"The bank offers financial advice services to help customers plan for retirement.\",\n",
    "    \"Automatic bill payment services help customers avoid missing due dates for important bills.\",\n",
    "    \"Bank branches provide secure safety deposit boxes for storing valuable items.\",\n",
    "    \"Customers can apply for personal loans to cover unexpected expenses or consolidate debt.\",\n",
    "    \"Online banking allows users to set up alerts for low balances or large transactions.\",\n",
    "    \"The bank provides educational resources to help customers understand how to manage their money.\",\n",
    "    \"Customers can choose from a range of investment options, including stocks and bonds.\",\n",
    "    \"The bank has a dedicated customer service line to assist with any account-related issues.\",\n",
    "    \"Mortgage specialists are available to help first-time homebuyers navigate the process.\",\n",
    "    \"The bank's credit monitoring service alerts customers to any changes in their credit reports.\",\n",
    "    \"Customers can easily update their contact information through the bank's online portal.\",\n",
    "    \"The bank's ATM network provides convenient access to cash withdrawals and deposits.\",\n",
    "    \"Foreign currency exchange services are available for customers planning international travel.\",\n",
    "    \"The bank's fraud protection service monitors accounts for suspicious activity.\",\n",
    "    \"Customers can set spending limits on their credit cards to help manage their budgets.\",\n",
    "    \"The bank offers a range of insurance products, including health, auto, and home insurance.\",\n",
    "    \"Users can download and print monthly account statements directly from the bank's website.\",\n",
    "    \"Small business owners can access loans and lines of credit to help grow their businesses.\",\n",
    "    \"The bank provides secure online payment options for shopping on various e-commerce platforms.\",\n",
    "    \"Mobile banking apps allow users to check their account balances on the go.\",\n",
    "    \"The bank's retirement accounts offer tax advantages to help customers save for the future.\",\n",
    "    \"Financial advisors at the bank can help customers develop long-term investment strategies.\",\n",
    "    \"The bank offers low-interest loans for education and other major life expenses.\",\n",
    "    \"Customers can make international money transfers at competitive exchange rates.\",\n",
    "    \"The bank's secure online platform protects customers' personal and financial information.\",\n",
    "    \"Home equity lines of credit are available for homeowners needing access to cash.\",\n",
    "    \"The bank offers fixed-term deposits with higher interest rates for long-term savings.\",\n",
    "    \"Customers can access their account information 24/7 through the bank's mobile app.\",\n",
    "    \"The bank's customer loyalty programs offer benefits such as reduced fees and higher interest rates.\",\n",
    "    \"Parents can open savings accounts for their children to teach them about money management.\",\n",
    "    \"The bank's budgeting tools help customers track their spending and set financial goals.\",\n",
    "    \"Customers can sign up for direct deposit to have their paychecks automatically deposited.\",\n",
    "    \"The bank offers special accounts for students with no monthly fees and low minimum balances.\",\n",
    "    \"Users can schedule future payments and transfers using the bank's online banking services.\",\n",
    "    \"The bank's investment products include mutual funds and retirement accounts.\",\n",
    "    \"Customers can access financial planning services to help manage their assets and liabilities.\",\n",
    "    \"The bank provides loan calculators to help customers estimate their monthly payments.\",\n",
    "    \"Secure messaging through the bank's online platform allows customers to communicate with their advisors.\",\n",
    "    \"The bank's mobile check deposit feature makes it easy to deposit checks without visiting a branch.\",\n",
    "    \"Customers can earn rewards points for every dollar spent on their credit cards.\",\n",
    "    \"The bank offers personal finance workshops to educate customers on budgeting and saving.\",\n",
    "    \"Customers can track their spending habits using the bank's online expense tracking tools.\",\n",
    "    \"Банк предлагает разнообразные сберегательные счета с разными процентными ставками, чтобы удовлетворить индивидуальные потребности.\",\n",
    "    \"Клиенты могут легко переводить деньги между своими счетами с помощью платформы интернет-банкинга.\",\n",
    "    \"Каждый месяц банк высылает выписки с подробным описанием всех транзакций за отчетный период.\",\n",
    "    \"Открытие нового счета в банке требует действующего удостоверения личности и подтверждения адреса.\",\n",
    "    \"Мобильное приложение банка позволяет пользователям вносить чеки, просто фотографируя их на телефон.\",\n",
    "    \"Кредиты на покупку домов доступны с фиксированными или переменными процентными ставками.\",\n",
    "    \"Кредитные карты банка предлагают различные программы вознаграждений, включая кэшбэк и бонусные баллы для путешествий.\",\n",
    "    \"Сотрудники банка готовы помочь клиентам понять свои финансовые выписки и планировать бюджет.\",\n",
    "    \"Сберегательные счета могут быть связаны с текущими счетами, чтобы предотвратить комиссии за перерасход.\",\n",
    "    \"Банк предлагает услуги финансового консультирования, чтобы помочь клиентам планировать выход на пенсию.\",\n",
    "    \"Услуги автоматической оплаты счетов помогают клиентам избежать пропуска сроков оплаты важных счетов.\",\n",
    "    \"Отделения банка предоставляют безопасные ячейки для хранения ценных вещей.\",\n",
    "    \"Клиенты могут подать заявку на личные кредиты для покрытия непредвиденных расходов или консолидации долгов.\",\n",
    "    \"Интернет-банкинг позволяет пользователям устанавливать уведомления о низких остатках или крупных транзакциях.\",\n",
    "    \"Банк предоставляет образовательные ресурсы, чтобы помочь клиентам понять, как управлять своими деньгами.\",\n",
    "    \"Клиенты могут выбирать из множества инвестиционных опций, включая акции и облигации.\",\n",
    "    \"У банка есть выделенная линия обслуживания клиентов для помощи в любых вопросах, связанных со счетами.\",\n",
    "    \"Специалисты по ипотеке готовы помочь покупателям впервые купить жилье пройти этот процесс.\",\n",
    "    \"Служба мониторинга кредитов банка уведомляет клиентов о любых изменениях в их кредитных отчетах.\",\n",
    "    \"Клиенты могут легко обновить свою контактную информацию через онлайн-портал банка.\",\n",
    "    \"Сеть банкоматов банка обеспечивает удобный доступ к снятию и внесению наличных.\",\n",
    "    \"Услуги обмена иностранной валюты доступны для клиентов, планирующих международные поездки.\",\n",
    "    \"Служба защиты от мошенничества банка отслеживает счета на предмет подозрительной активности.\",\n",
    "    \"Клиенты могут устанавливать лимиты расходов по своим кредитным картам, чтобы помочь управлять бюджетом.\",\n",
    "    \"Банк предлагает разнообразные страховые продукты, включая медицинское, автомобильное и жилищное страхование.\",\n",
    "    \"Пользователи могут загружать и печатать ежемесячные выписки по счетам прямо с сайта банка.\",\n",
    "    \"Малые предприятия могут получить доступ к кредитам и кредитным линиям для роста своих бизнесов.\",\n",
    "    \"Банк предоставляет безопасные онлайн-опции оплаты для покупок на различных платформах электронной коммерции.\",\n",
    "    \"Мобильные банковские приложения позволяют пользователям проверять свои балансы счетов на ходу.\",\n",
    "    \"Пенсионные счета банка предлагают налоговые преимущества, чтобы помочь клиентам сэкономить на будущее.\",\n",
    "    \"Финансовые консультанты банка могут помочь клиентам разработать долгосрочные инвестиционные стратегии.\",\n",
    "    \"Банк предлагает кредиты с низкими процентными ставками для образования и других крупных жизненных расходов.\",\n",
    "    \"Клиенты могут осуществлять международные денежные переводы по конкурентным обменным курсам.\",\n",
    "    \"Безопасная онлайн-платформа банка защищает личную и финансовую информацию клиентов.\",\n",
    "    \"Кредитные линии под залог дома доступны для владельцев домов, нуждающихся в доступе к наличным.\",\n",
    "    \"Банк предлагает депозиты с фиксированным сроком с более высокими процентными ставками для долгосрочных сбережений.\",\n",
    "    \"Клиенты могут получать доступ к информации по счету круглосуточно через мобильное приложение банка.\",\n",
    "    \"Программы лояльности клиентов банка предлагают такие преимущества, как сниженные комиссии и повышенные процентные ставки.\",\n",
    "    \"Родители могут открыть сберегательные счета для своих детей, чтобы научить их управлению деньгами.\",\n",
    "    \"Инструменты составления бюджета банка помогают клиентам отслеживать свои расходы и устанавливать финансовые цели.\",\n",
    "    \"Клиенты могут зарегистрироваться для прямого депозита, чтобы их зарплаты автоматически зачислялись на счет.\",\n",
    "    \"Банк предлагает специальные счета для студентов без ежемесячных комиссий и с низкими минимальными остатками.\",\n",
    "    \"Пользователи могут планировать будущие платежи и переводы, используя услуги интернет-банкинга банка.\",\n",
    "    \"Инвестиционные продукты банка включают взаимные фонды и пенсионные счета.\",\n",
    "    \"Клиенты могут получить доступ к услугам финансового планирования для управления своими активами и обязательствами.\",\n",
    "    \"Банк предоставляет кредитные калькуляторы, чтобы помочь клиентам оценить их ежемесячные платежи.\",\n",
    "    \"Безопасное обмен сообщениями через онлайн-платформу банка позволяет клиентам общаться со своими консультантами.\",\n",
    "    \"Функция мобильного депозита чеков банка позволяет легко вносить чеки без посещения отделения.\",\n",
    "    \"Клиенты могут зарабатывать баллы за вознаграждение за каждый потраченный доллар на своих кредитных картах.\",\n",
    "    \"Банк предлагает семинары по личным финансам, чтобы обучить клиентов составлению бюджета и сбережениям.\",\n",
    "    \"Клиенты могут отслеживать свои привычки трат с помощью онлайн-инструментов отслеживания расходов банка.\"\n",
    "]\n"
   ]
  },
  {
   "cell_type": "code",
   "execution_count": 87,
   "id": "d3543544",
   "metadata": {},
   "outputs": [],
   "source": [
    "banking_sentences = [\n",
    "    \"The bank offers a variety of savings accounts with different interest rates to suit individual needs.\",\n",
    "    \"Customers can easily transfer money between their accounts using the online banking platform.\",\n",
    "    \"Every month, the bank sends out statements detailing all transactions made during the billing cycle.\",\n",
    "    \"Opening a new account at the bank requires a valid ID and proof of address.\",\n",
    "    \"The bank's mobile app allows users to deposit checks by simply taking a photo with their phone.\",\n",
    "    \"Loans for purchasing homes are available with fixed or variable interest rates.\",\n",
    "    \"Credit cards from the bank come with various rewards programs, including cashback and travel points.\",\n",
    "    \"Bank employees are available to help customers understand their financial statements and plan their budgets.\",\n",
    "    \"Savings accounts can be linked to checking accounts to prevent overdraft fees.\",\n",
    "    \"The bank offers financial advice services to help customers plan for retirement.\",\n",
    "    \"Automatic bill payment services help customers avoid missing due dates for important bills.\",\n",
    "    \"Bank branches provide secure safety deposit boxes for storing valuable items.\",\n",
    "    \"Customers can apply for personal loans to cover unexpected expenses or consolidate debt.\",\n",
    "    \"Online banking allows users to set up alerts for low balances or large transactions.\",\n",
    "    \"The bank provides educational resources to help customers understand how to manage their money.\",\n",
    "    \"Customers can choose from a range of investment options, including stocks and bonds.\",\n",
    "    \"The bank has a dedicated customer service line to assist with any account-related issues.\",\n",
    "    \"Mortgage specialists are available to help first-time homebuyers navigate the process.\",\n",
    "    \"The bank's credit monitoring service alerts customers to any changes in their credit reports.\",\n",
    "    \"Customers can easily update their contact information through the bank's online portal.\",\n",
    "    \"The bank's ATM network provides convenient access to cash withdrawals and deposits.\",\n",
    "    \"Foreign currency exchange services are available for customers planning international travel.\",\n",
    "    \"The bank's fraud protection service monitors accounts for suspicious activity.\",\n",
    "    \"Customers can set spending limits on their credit cards to help manage their budgets.\",\n",
    "    \"The bank offers a range of insurance products, including health, auto, and home insurance.\",\n",
    "    \"Users can download and print monthly account statements directly from the bank's website.\",\n",
    "    \"Small business owners can access loans and lines of credit to help grow their businesses.\",\n",
    "    \"The bank provides secure online payment options for shopping on various e-commerce platforms.\",\n",
    "    \"Mobile banking apps allow users to check their account balances on the go.\",\n",
    "    \"The bank's retirement accounts offer tax advantages to help customers save for the future.\",\n",
    "    \"Financial advisors at the bank can help customers develop long-term investment strategies.\",\n",
    "    \"The bank offers low-interest loans for education and other major life expenses.\",\n",
    "    \"Customers can make international money transfers at competitive exchange rates.\",\n",
    "    \"The bank's secure online platform protects customers' personal and financial information.\",\n",
    "    \"Home equity lines of credit are available for homeowners needing access to cash.\",\n",
    "    \"The bank offers fixed-term deposits with higher interest rates for long-term savings.\",\n",
    "    \"Customers can access their account information 24/7 through the bank's mobile app.\",\n",
    "    \"The bank's customer loyalty programs offer benefits such as reduced fees and higher interest rates.\",\n",
    "    \"Parents can open savings accounts for their children to teach them about money management.\",\n",
    "    \"The bank's budgeting tools help customers track their spending and set financial goals.\",\n",
    "    \"Customers can sign up for direct deposit to have their paychecks automatically deposited.\",\n",
    "    \"The bank offers special accounts for students with no monthly fees and low minimum balances.\",\n",
    "    \"Users can schedule future payments and transfers using the bank's online banking services.\",\n",
    "    \"The bank's investment products include mutual funds and retirement accounts.\",\n",
    "    \"Customers can access financial planning services to help manage their assets and liabilities.\",\n",
    "    \"The bank provides loan calculators to help customers estimate their monthly payments.\",\n",
    "    \"Secure messaging through the bank's online platform allows customers to communicate with their advisors.\",\n",
    "    \"The bank's mobile check deposit feature makes it easy to deposit checks without visiting a branch.\",\n",
    "    \"Customers can earn rewards points for every dollar spent on their credit cards.\",\n",
    "    \"The bank offers personal finance workshops to educate customers on budgeting and saving.\",\n",
    "    \"Customers can track their spending habits using the bank's online expense tracking tools.\",\n",
    "    \"Банк предлагает разнообразные сберегательные счета с разными процентными ставками, чтобы удовлетворить индивидуальные потребности.\",\n",
    "    \"Клиенты могут легко переводить деньги между своими счетами с помощью платформы интернет-банкинга.\",\n",
    "    \"Каждый месяц банк высылает выписки с подробным описанием всех транзакций за отчетный период.\",\n",
    "    \"Открытие нового счета в банке требует действующего удостоверения личности и подтверждения адреса.\",\n",
    "    \"Мобильное приложение банка позволяет пользователям вносить чеки, просто фотографируя их на телефон.\",\n",
    "    \"Кредиты на покупку домов доступны с фиксированными или переменными процентными ставками.\",\n",
    "    \"Кредитные карты банка предлагают различные программы вознаграждений, включая кэшбэк и бонусные баллы для путешествий.\",\n",
    "    \"Сотрудники банка готовы помочь клиентам понять свои финансовые выписки и планировать бюджет.\",\n",
    "    \"Сберегательные счета могут быть связаны с текущими счетами, чтобы предотвратить комиссии за перерасход.\",\n",
    "    \"Банк предлагает услуги финансового консультирования, чтобы помочь клиентам планировать выход на пенсию.\",\n",
    "    \"Услуги автоматической оплаты счетов помогают клиентам избежать пропуска сроков оплаты важных счетов.\",\n",
    "    \"Отделения банка предоставляют безопасные ячейки для хранения ценных вещей.\",\n",
    "    \"Клиенты могут подать заявку на личные кредиты для покрытия непредвиденных расходов или консолидации долгов.\",\n",
    "    \"Интернет-банкинг позволяет пользователям устанавливать уведомления о низких остатках или крупных транзакциях.\",\n",
    "    \"Банк предоставляет образовательные ресурсы, чтобы помочь клиентам понять, как управлять своими деньгами.\",\n",
    "    \"Клиенты могут выбирать из множества инвестиционных опций, включая акции и облигации.\",\n",
    "    \"У банка есть выделенная линия обслуживания клиентов для помощи в любых вопросах, связанных со счетами.\",\n",
    "    \"Специалисты по ипотеке готовы помочь покупателям впервые купить жилье пройти этот процесс.\",\n",
    "    \"Служба мониторинга кредитов банка уведомляет клиентов о любых изменениях в их кредитных отчетах.\",\n",
    "    \"Клиенты могут легко обновить свою контактную информацию через онлайн-портал банка.\",\n",
    "    \"Сеть банкоматов банка обеспечивает удобный доступ к снятию и внесению наличных.\",\n",
    "    \"Услуги обмена иностранной валюты доступны для клиентов, планирующих международные поездки.\",\n",
    "    \"Служба защиты от мошенничества банка отслеживает счета на предмет подозрительной активности.\",\n",
    "    \"Клиенты могут устанавливать лимиты расходов по своим кредитным картам, чтобы помочь управлять бюджетом.\",\n",
    "    \"Банк предлагает разнообразные страховые продукты, включая медицинское, автомобильное и жилищное страхование.\",\n",
    "    \"Пользователи могут загружать и печатать ежемесячные выписки по счетам прямо с сайта банка.\",\n",
    "    \"Малые предприятия могут получить доступ к кредитам и кредитным линиям для роста своих бизнесов.\",\n",
    "    \"Банк предоставляет безопасные онлайн-опции оплаты для покупок на различных платформах электронной коммерции.\",\n",
    "    \"Мобильные банковские приложения позволяют пользователям проверять свои балансы счетов на ходу.\",\n",
    "    \"Пенсионные счета банка предлагают налоговые преимущества, чтобы помочь клиентам сэкономить на будущее.\",\n",
    "    \"Финансовые консультанты банка могут помочь клиентам разработать долгосрочные инвестиционные стратегии.\",\n",
    "    \"Банк предлагает кредиты с низкими процентными ставками для образования и других крупных жизненных расходов.\",\n",
    "    \"Клиенты могут осуществлять международные денежные переводы по конкурентным обменным курсам.\",\n",
    "    \"Безопасная онлайн-платформа банка защищает личную и финансовую информацию клиентов.\",\n",
    "    \"Кредитные линии под залог дома доступны для владельцев домов, нуждающихся в доступе к наличным.\",\n",
    "    \"Банк предлагает депозиты с фиксированным сроком с более высокими процентными ставками для долгосрочных сбережений.\",\n",
    "    \"Клиенты могут получать доступ к информации по счету круглосуточно через мобильное приложение банка.\",\n",
    "    \"Программы лояльности клиентов банка предлагают такие преимущества, как сниженные комиссии и повышенные процентные ставки.\",\n",
    "    \"Родители могут открыть сберегательные счета для своих детей, чтобы научить их управлению деньгами.\",\n",
    "    \"Инструменты составления бюджета банка помогают клиентам отслеживать свои расходы и устанавливать финансовые цели.\",\n",
    "    \"Клиенты могут зарегистрироваться для прямого депозита, чтобы их зарплаты автоматически зачислялись на счет.\",\n",
    "    \"Банк предлагает специальные счета для студентов без ежемесячных комиссий и с низкими минимальными остатками.\",\n",
    "    \"Пользователи могут планировать будущие платежи и переводы, используя услуги интернет-банкинга банка.\",\n",
    "    \"Инвестиционные продукты банка включают взаимные фонды и пенсионные счета.\",\n",
    "    \"Клиенты могут получить доступ к услугам финансового планирования для управления своими активами и обязательствами.\",\n",
    "    \"Банк предоставляет кредитные калькуляторы, чтобы помочь клиентам оценить их ежемесячные платежи.\",\n",
    "    \"Безопасное обмен сообщениями через онлайн-платформу банка позволяет клиентам общаться со своими консультантами.\",\n",
    "    \"Функция мобильного депозита чеков банка позволяет легко вносить чеки без посещения отделения.\",\n",
    "    \"Клиенты могут зарабатывать баллы за вознаграждение за каждый потраченный доллар на своих кредитных картах.\",\n",
    "    \"Банк предлагает семинары по личным финансам, чтобы обучить клиентов составлению бюджета и сбережениям.\",\n",
    "    \"Клиенты могут отслеживать свои привычки трат с помощью онлайн-инструментов отслеживания расходов банка.\"\n",
    "]\n",
    "\n",
    "import rulemma\n",
    "ru_lemmatizer = rulemma.Lemmatizer()\n",
    "ru_lemmatizer.load()"
   ]
  },
  {
   "cell_type": "code",
   "execution_count": 88,
   "id": "b5f2ebcb",
   "metadata": {},
   "outputs": [
    {
     "ename": "ValueError",
     "evalue": "not enough values to unpack (expected 2, got 1)",
     "output_type": "error",
     "traceback": [
      "\u001b[1;31m---------------------------------------------------------------------------\u001b[0m",
      "\u001b[1;31mValueError\u001b[0m                                Traceback (most recent call last)",
      "Cell \u001b[1;32mIn[88], line 1\u001b[0m\n\u001b[1;32m----> 1\u001b[0m \u001b[43mru_lemmatizer\u001b[49m\u001b[38;5;241;43m.\u001b[39;49m\u001b[43mlemmatize\u001b[49m\u001b[43m(\u001b[49m\u001b[38;5;124;43m'\u001b[39;49m\u001b[38;5;124;43mбанка\u001b[39;49m\u001b[38;5;124;43m'\u001b[39;49m\u001b[43m)\u001b[49m[\u001b[38;5;241m0\u001b[39m]\n",
      "File \u001b[1;32m~\\AppData\\Local\\Packages\\PythonSoftwareFoundation.Python.3.12_qbz5n2kfra8p0\\LocalCache\\local-packages\\Python312\\site-packages\\rulemma\\rulemma.py:237\u001b[0m, in \u001b[0;36mLemmatizer.lemmatize\u001b[1;34m(self, tagged_words)\u001b[0m\n\u001b[0;32m    235\u001b[0m \u001b[38;5;28;01mdef\u001b[39;00m \u001b[38;5;21mlemmatize\u001b[39m(\u001b[38;5;28mself\u001b[39m, tagged_words):\n\u001b[0;32m    236\u001b[0m \u001b[38;5;250m    \u001b[39m\u001b[38;5;124;03m\"\"\"Для результата работы rupostagger'а добавляем лемму и извлеченный код части речи\"\"\"\u001b[39;00m\n\u001b[1;32m--> 237\u001b[0m     \u001b[38;5;28;01mreturn\u001b[39;00m [(word, tags,)\u001b[38;5;241m+\u001b[39m\u001b[38;5;28mtuple\u001b[39m(\u001b[38;5;28mself\u001b[39m\u001b[38;5;241m.\u001b[39mget_lemma2(word, tags)) \u001b[38;5;28;01mfor\u001b[39;00m (word, tags) \u001b[38;5;129;01min\u001b[39;00m tagged_words]\n",
      "\u001b[1;31mValueError\u001b[0m: not enough values to unpack (expected 2, got 1)"
     ]
    }
   ],
   "source": [
    "ru_lemmatizer.lemmatize('банка')[0]"
   ]
  },
  {
   "cell_type": "code",
   "execution_count": 63,
   "id": "355daa5e",
   "metadata": {},
   "outputs": [
    {
     "name": "stdout",
     "output_type": "stream",
     "text": [
      "Вчера-был  ===>  None\n",
      "просто  ===>  просто\n",
      "супер  ===>  супер\n",
      "😊  ===>  я\n",
      "!  ===>  !\n",
      "Проихал  ===>  проехал\n",
      "100/160  ===>  None\n",
      "км  ===>  им\n",
      ",  ===>  ,\n",
      "чтобы  ===>  чтобы\n",
      "встре-титься  ===>  встретиться\n",
      "со  ===>  со\n",
      "своим  ===>  своим\n",
      "другом  ===>  другом\n",
      ".  ===>  .\n",
      "Эго  ===>  Эго\n",
      "имяАсхат  ===>  None\n",
      "А  ===>  А\n",
      ".  ===>  .\n",
      "Н  ===>  я\n",
      ".  ===>  .\n",
      "ему  ===>  ему\n",
      "24  ===>  24\n",
      "г  ===>  я\n",
      ".  ===>  .\n",
      "Это  ===>  Это\n",
      "было  ===>  было\n",
      "нивероятно  ===>  невероятно\n",
      "круто  ===>  круто\n",
      "!  ===>  !\n",
      "Обсуждали  ===>  Обсуждали\n",
      "все  ===>  все\n",
      ",  ===>  ,\n",
      "от  ===>  от\n",
      "программирования-до  ===>  None\n",
      "политики  ===>  политики\n",
      ",  ===>  ,\n",
      "2-3  ===>  None\n",
      "часа  ===>  часа\n",
      "иливечность  ===>  None\n",
      "за  ===>  за\n",
      "обедом  ===>  обед\n",
      "в  ===>  я\n",
      "суши-баре  ===>  None\n",
      ",  ===>  ,\n",
      "ХАХА  ===>  хана\n",
      "😂  ===>  я\n",
      ".  ===>  .\n",
      "Потом  ===>  Потом\n",
      "посмотрели  ===>  посмотрели\n",
      "фильмФОрест  ===>  None\n",
      "Г  ===>  я\n",
      ".  ===>  .\n",
      "в  ===>  я\n",
      "кино  ===>  кино\n",
      "и  ===>  и\n",
      "заговорили  ===>  говорили\n",
      "о  ===>  о\n",
      "трендах  ===>  бренда\n",
      "на  ===>  на\n",
      "рынке  ===>  рынке\n",
      "и  ===>  и\n",
      "экономических  ===>  экономический\n",
      "влияниях  ===>  влияние\n",
      ".  ===>  .\n",
      "Погода  ===>  Погода\n",
      "?  ===>  ?\n",
      "Началось  ===>  Началось\n",
      "все  ===>  все\n",
      "с  ===>  я\n",
      "🌞  ===>  я\n",
      ",  ===>  ,\n",
      "но  ===>  но\n",
      "вдруг  ===>  вдруг\n",
      "пошел  ===>  пошел\n",
      "🌧️  ===>  я\n",
      ".  ===>  .\n",
      "Перед  ===>  Перед\n",
      "отъездом  ===>  отъезд\n",
      "зашел  ===>  зашел\n",
      "в  ===>  я\n",
      "уютное  ===>  уютно\n",
      "кафе  ===>  кафе\n",
      "за  ===>  за\n",
      "чашкой  ===>  какой\n",
      "☕  ===>  я\n",
      ",  ===>  ,\n",
      "очень  ===>  очень\n",
      "уютно  ===>  уютно\n",
      ".  ===>  .\n"
     ]
    }
   ],
   "source": [
    "from spellchecker import SpellChecker\n",
    "spell = SpellChecker(language='ru')\n",
    "\n",
    "tokens = list(tokenize(text))\n",
    "for token in tokens:\n",
    "    print(token.text, \" ===> \", spell.correction(token.text))\n",
    "    token.text = spell.correction(token.text)"
   ]
  },
  {
   "cell_type": "code",
   "execution_count": 64,
   "id": "232cab87",
   "metadata": {},
   "outputs": [],
   "source": [
    "from pymystem3 import Mystem\n",
    "from langdetect import detect\n",
    "ru_lemmatizer = Mystem()\n",
    "en_lemmatizer = WordNetLemmatizer()"
   ]
  },
  {
   "cell_type": "code",
   "execution_count": 83,
   "id": "bfe7b8da",
   "metadata": {},
   "outputs": [
    {
     "data": {
      "text/plain": [
       "'mother'"
      ]
     },
     "execution_count": 83,
     "metadata": {},
     "output_type": "execute_result"
    }
   ],
   "source": [
    "en_lemmatizer.lemmatize('mothers')"
   ]
  },
  {
   "cell_type": "code",
   "execution_count": null,
   "id": "fd55fb48",
   "metadata": {},
   "outputs": [],
   "source": [
    "ru_lemmatizer.lemmatize()"
   ]
  },
  {
   "cell_type": "code",
   "execution_count": 74,
   "id": "fff648e7",
   "metadata": {},
   "outputs": [
    {
     "data": {
      "text/plain": [
       "'so'"
      ]
     },
     "execution_count": 74,
     "metadata": {},
     "output_type": "execute_result"
    }
   ],
   "source": [
    "detect('bank')"
   ]
  },
  {
   "cell_type": "code",
   "execution_count": 75,
   "id": "fc15c139",
   "metadata": {},
   "outputs": [
    {
     "name": "stdout",
     "output_type": "stream",
     "text": [
      "The detected language is: Language.ENGLISH\n"
     ]
    }
   ],
   "source": [
    "from lingua import Language, LanguageDetectorBuilder\n",
    "from pymystem3 import Mystem\n",
    "from langdetect import detect\n",
    "\n",
    "ru_lemmatizer = Mystem()\n",
    "en_lemmatizer = WordNetLemmatizer()\n",
    "\n",
    "languages = [Language.ENGLISH, Language.RUSSIAN]\n",
    "detector = LanguageDetectorBuilder.from_languages(*languages).build()"
   ]
  },
  {
   "cell_type": "code",
   "execution_count": 80,
   "id": "65350a8e",
   "metadata": {},
   "outputs": [
    {
     "name": "stdout",
     "output_type": "stream",
     "text": [
      "The bank offers a variety of savings accounts with different interest rates to suit individual needs.  to =>  ['bank', 'offers', 'variety', 'savings', 'accounts', 'different', 'interest', 'rates', 'suit', 'individual', 'needs', '.']\n",
      "Customers can easily transfer money between their accounts using the online banking platform.  to =>  ['customers', 'easily', 'transfer', 'money', 'accounts', 'using', 'online', 'banking', 'platform', '.']\n",
      "Every month, the bank sends out statements detailing all transactions made during the billing cycle.  to =>  ['every', 'month', ',', 'bank', 'sends', 'statements', 'detailing', 'transactions', 'made', 'billing', 'cycle', '.']\n",
      "Opening a new account at the bank requires a valid ID and proof of address.  to =>  ['opening', 'new', 'account', 'bank', 'requires', 'valid', 'id', 'proof', 'address', '.']\n",
      "The bank's mobile app allows users to deposit checks by simply taking a photo with their phone.  to =>  ['banks', 'mobile', 'app', 'allows', 'users', 'deposit', 'checks', 'simply', 'taking', 'photo', 'phone', '.']\n",
      "Loans for purchasing homes are available with fixed or variable interest rates.  to =>  ['loans', 'purchasing', 'homes', 'available', 'fixed', 'variable', 'interest', 'rates', '.']\n",
      "Credit cards from the bank come with various rewards programs, including cashback and travel points.  to =>  ['credit', 'cards', 'bank', 'come', 'various', 'rewards', 'programs', ',', 'including', 'cashback', 'travel', 'points', '.']\n",
      "Bank employees are available to help customers understand their financial statements and plan their budgets.  to =>  ['bank', 'employees', 'available', 'help', 'customers', 'understand', 'financial', 'statements', 'plan', 'budgets', '.']\n",
      "Savings accounts can be linked to checking accounts to prevent overdraft fees.  to =>  ['savings', 'accounts', 'linked', 'checking', 'accounts', 'prevent', 'overdraft', 'fees', '.']\n",
      "The bank offers financial advice services to help customers plan for retirement.  to =>  ['bank', 'offers', 'financial', 'advice', 'services', 'help', 'customers', 'plan', 'retirement', '.']\n",
      "Automatic bill payment services help customers avoid missing due dates for important bills.  to =>  ['automatic', 'bill', 'payment', 'services', 'help', 'customers', 'avoid', 'missing', 'due', 'dates', 'important', 'bills', '.']\n",
      "Bank branches provide secure safety deposit boxes for storing valuable items.  to =>  ['bank', 'branches', 'provide', 'secure', 'safety', 'deposit', 'boxes', 'storing', 'valuable', 'items', '.']\n",
      "Customers can apply for personal loans to cover unexpected expenses or consolidate debt.  to =>  ['customers', 'apply', 'personal', 'loans', 'cover', 'unexpected', 'expenses', 'consolidate', 'debt', '.']\n",
      "Online banking allows users to set up alerts for low balances or large transactions.  to =>  ['online', 'banking', 'allows', 'users', 'set', 'alerts', 'low', 'balances', 'large', 'transactions', '.']\n",
      "The bank provides educational resources to help customers understand how to manage their money.  to =>  ['bank', 'provides', 'educational', 'resources', 'help', 'customers', 'understand', 'manage', 'money', '.']\n",
      "Customers can choose from a range of investment options, including stocks and bonds.  to =>  ['customers', 'choose', 'range', 'investment', 'options', ',', 'including', 'stocks', 'bonds', '.']\n",
      "The bank has a dedicated customer service line to assist with any account-related issues.  to =>  ['bank', 'dedicated', 'customer', 'service', 'line', 'assist', 'accountrelated', 'issues', '.']\n",
      "Mortgage specialists are available to help first-time homebuyers navigate the process.  to =>  ['mortgage', 'specialists', 'available', 'help', 'firsttime', 'homebuyers', 'navigate', 'process', '.']\n",
      "The bank's credit monitoring service alerts customers to any changes in their credit reports.  to =>  ['banks', 'credit', 'monitoring', 'service', 'alerts', 'customers', 'changes', 'credit', 'reports', '.']\n",
      "Customers can easily update their contact information through the bank's online portal.  to =>  ['customers', 'easily', 'update', 'contact', 'information', 'banks', 'online', 'portal', '.']\n",
      "The bank's ATM network provides convenient access to cash withdrawals and deposits.  to =>  ['banks', 'atm', 'network', 'provides', 'convenient', 'access', 'cash', 'withdrawals', 'deposits', '.']\n",
      "Foreign currency exchange services are available for customers planning international travel.  to =>  ['foreign', 'currency', 'exchange', 'services', 'available', 'customers', 'planning', 'international', 'travel', '.']\n",
      "The bank's fraud protection service monitors accounts for suspicious activity.  to =>  ['banks', 'fraud', 'protection', 'service', 'monitors', 'accounts', 'suspicious', 'activity', '.']\n",
      "Customers can set spending limits on their credit cards to help manage their budgets.  to =>  ['customers', 'set', 'spending', 'limits', 'credit', 'cards', 'help', 'manage', 'budgets', '.']\n",
      "The bank offers a range of insurance products, including health, auto, and home insurance.  to =>  ['bank', 'offers', 'range', 'insurance', 'products', ',', 'including', 'health', ',', 'auto', ',', 'home', 'insurance', '.']\n",
      "Users can download and print monthly account statements directly from the bank's website.  to =>  ['users', 'download', 'print', 'monthly', 'account', 'statements', 'directly', 'banks', 'website', '.']\n",
      "Small business owners can access loans and lines of credit to help grow their businesses.  to =>  ['small', 'business', 'owners', 'access', 'loans', 'lines', 'credit', 'help', 'grow', 'businesses', '.']\n",
      "The bank provides secure online payment options for shopping on various e-commerce platforms.  to =>  ['bank', 'provides', 'secure', 'online', 'payment', 'options', 'shopping', 'various', 'ecommerce', 'platforms', '.']\n",
      "Mobile banking apps allow users to check their account balances on the go.  to =>  ['mobile', 'banking', 'apps', 'allow', 'users', 'check', 'account', 'balances', 'go', '.']\n",
      "The bank's retirement accounts offer tax advantages to help customers save for the future.  to =>  ['banks', 'retirement', 'accounts', 'offer', 'tax', 'advantages', 'help', 'customers', 'save', 'future', '.']\n",
      "Financial advisors at the bank can help customers develop long-term investment strategies.  to =>  ['financial', 'advisors', 'bank', 'help', 'customers', 'develop', 'longterm', 'investment', 'strategies', '.']\n",
      "The bank offers low-interest loans for education and other major life expenses.  to =>  ['bank', 'offers', 'lowinterest', 'loans', 'education', 'major', 'life', 'expenses', '.']\n",
      "Customers can make international money transfers at competitive exchange rates.  to =>  ['customers', 'make', 'international', 'money', 'transfers', 'competitive', 'exchange', 'rates', '.']\n",
      "The bank's secure online platform protects customers' personal and financial information.  to =>  ['banks', 'secure', 'online', 'platform', 'protects', 'customers', 'personal', 'financial', 'information', '.']\n",
      "Home equity lines of credit are available for homeowners needing access to cash.  to =>  ['home', 'equity', 'lines', 'credit', 'available', 'homeowners', 'needing', 'access', 'cash', '.']\n",
      "The bank offers fixed-term deposits with higher interest rates for long-term savings.  to =>  ['bank', 'offers', 'fixedterm', 'deposits', 'higher', 'interest', 'rates', 'longterm', 'savings', '.']\n",
      "Customers can access their account information 24/7 through the bank's mobile app.  to =>  ['customers', 'access', 'account', 'information', '247', 'banks', 'mobile', 'app', '.']\n",
      "The bank's customer loyalty programs offer benefits such as reduced fees and higher interest rates.  to =>  ['banks', 'customer', 'loyalty', 'programs', 'offer', 'benefits', 'reduced', 'fees', 'higher', 'interest', 'rates', '.']\n",
      "Parents can open savings accounts for their children to teach them about money management.  to =>  ['parents', 'open', 'savings', 'accounts', 'children', 'teach', 'money', 'management', '.']\n",
      "The bank's budgeting tools help customers track their spending and set financial goals.  to =>  ['banks', 'budgeting', 'tools', 'help', 'customers', 'track', 'spending', 'set', 'financial', 'goals', '.']\n",
      "Customers can sign up for direct deposit to have their paychecks automatically deposited.  to =>  ['customers', 'sign', 'direct', 'deposit', 'paychecks', 'automatically', 'deposited', '.']\n",
      "The bank offers special accounts for students with no monthly fees and low minimum balances.  to =>  ['bank', 'offers', 'special', 'accounts', 'students', 'monthly', 'fees', 'low', 'minimum', 'balances', '.']\n",
      "Users can schedule future payments and transfers using the bank's online banking services.  to =>  ['users', 'schedule', 'future', 'payments', 'transfers', 'using', 'banks', 'online', 'banking', 'services', '.']\n",
      "The bank's investment products include mutual funds and retirement accounts.  to =>  ['banks', 'investment', 'products', 'include', 'mutual', 'funds', 'retirement', 'accounts', '.']\n",
      "Customers can access financial planning services to help manage their assets and liabilities.  to =>  ['customers', 'access', 'financial', 'planning', 'services', 'help', 'manage', 'assets', 'liabilities', '.']\n",
      "The bank provides loan calculators to help customers estimate their monthly payments.  to =>  ['bank', 'provides', 'loan', 'calculators', 'help', 'customers', 'estimate', 'monthly', 'payments', '.']\n",
      "Secure messaging through the bank's online platform allows customers to communicate with their advisors.  to =>  ['secure', 'messaging', 'banks', 'online', 'platform', 'allows', 'customers', 'communicate', 'advisors', '.']\n",
      "The bank's mobile check deposit feature makes it easy to deposit checks without visiting a branch.  to =>  ['banks', 'mobile', 'check', 'deposit', 'feature', 'makes', 'easy', 'deposit', 'checks', 'without', 'visiting', 'branch', '.']\n",
      "Customers can earn rewards points for every dollar spent on their credit cards.  to =>  ['customers', 'earn', 'rewards', 'points', 'every', 'dollar', 'spent', 'credit', 'cards', '.']\n",
      "The bank offers personal finance workshops to educate customers on budgeting and saving.  to =>  ['bank', 'offers', 'personal', 'finance', 'workshops', 'educate', 'customers', 'budgeting', 'saving', '.']\n",
      "Customers can track their spending habits using the bank's online expense tracking tools.  to =>  ['customers', 'track', 'spending', 'habits', 'using', 'banks', 'online', 'expense', 'tracking', 'tools', '.']\n",
      "Банк предлагает разнообразные сберегательные счета с разными процентными ставками, чтобы удовлетворить индивидуальные потребности.  to =>  ['банк', 'предлагает', 'разнообразные', 'сберегательные', 'счета', 'разными', 'процентными', 'ставками', ',', 'удовлетворить', 'индивидуальные', 'потребности', '.']\n",
      "Клиенты могут легко переводить деньги между своими счетами с помощью платформы интернет-банкинга.  to =>  ['клиенты', 'легко', 'переводить', 'деньги', 'своими', 'счетами', 'помощью', 'платформы', 'интернетбанкинга', '.']\n",
      "Каждый месяц банк высылает выписки с подробным описанием всех транзакций за отчетный период.  to =>  ['месяц', 'банк', 'высылает', 'выписки', 'подробным', 'описанием', 'транзакций', 'отчетный', 'период', '.']\n",
      "Открытие нового счета в банке требует действующего удостоверения личности и подтверждения адреса.  to =>  ['открытие', 'нового', 'счета', 'банке', 'требует', 'действующего', 'удостоверения', 'личности', 'подтверждения', 'адреса', '.']\n",
      "Мобильное приложение банка позволяет пользователям вносить чеки, просто фотографируя их на телефон.  to =>  ['мобильное', 'приложение', 'банка', 'позволяет', 'пользователям', 'вносить', 'чеки', ',', 'фотографируя', 'телефон', '.']\n",
      "Кредиты на покупку домов доступны с фиксированными или переменными процентными ставками.  to =>  ['кредиты', 'покупку', 'домов', 'доступны', 'фиксированными', 'переменными', 'процентными', 'ставками', '.']\n",
      "Кредитные карты банка предлагают различные программы вознаграждений, включая кэшбэк и бонусные баллы для путешествий.  to =>  ['кредитные', 'карты', 'банка', 'предлагают', 'различные', 'программы', 'вознаграждений', ',', 'включая', 'кэшбэк', 'бонусные', 'баллы', 'путешествий', '.']\n",
      "Сотрудники банка готовы помочь клиентам понять свои финансовые выписки и планировать бюджет.  to =>  ['сотрудники', 'банка', 'готовы', 'помочь', 'клиентам', 'понять', 'финансовые', 'выписки', 'планировать', 'бюджет', '.']\n",
      "Сберегательные счета могут быть связаны с текущими счетами, чтобы предотвратить комиссии за перерасход.  to =>  ['сберегательные', 'счета', 'связаны', 'текущими', 'счетами', ',', 'предотвратить', 'комиссии', 'перерасход', '.']\n",
      "Банк предлагает услуги финансового консультирования, чтобы помочь клиентам планировать выход на пенсию.  to =>  ['банк', 'предлагает', 'услуги', 'финансового', 'консультирования', ',', 'помочь', 'клиентам', 'планировать', 'выход', 'пенсию', '.']\n",
      "Услуги автоматической оплаты счетов помогают клиентам избежать пропуска сроков оплаты важных счетов.  to =>  ['услуги', 'автоматической', 'оплаты', 'счетов', 'помогают', 'клиентам', 'избежать', 'пропуска', 'сроков', 'оплаты', 'важных', 'счетов', '.']\n",
      "Отделения банка предоставляют безопасные ячейки для хранения ценных вещей.  to =>  ['отделения', 'банка', 'предоставляют', 'безопасные', 'ячейки', 'хранения', 'ценных', 'вещей', '.']\n",
      "Клиенты могут подать заявку на личные кредиты для покрытия непредвиденных расходов или консолидации долгов.  to =>  ['клиенты', 'подать', 'заявку', 'личные', 'кредиты', 'покрытия', 'непредвиденных', 'расходов', 'консолидации', 'долгов', '.']\n",
      "Интернет-банкинг позволяет пользователям устанавливать уведомления о низких остатках или крупных транзакциях.  to =>  ['интернетбанкинг', 'позволяет', 'пользователям', 'устанавливать', 'уведомления', 'низких', 'остатках', 'крупных', 'транзакциях', '.']\n",
      "Банк предоставляет образовательные ресурсы, чтобы помочь клиентам понять, как управлять своими деньгами.  to =>  ['банк', 'предоставляет', 'образовательные', 'ресурсы', ',', 'помочь', 'клиентам', 'понять', ',', 'управлять', 'своими', 'деньгами', '.']\n",
      "Клиенты могут выбирать из множества инвестиционных опций, включая акции и облигации.  to =>  ['клиенты', 'выбирать', 'множества', 'инвестиционных', 'опций', ',', 'включая', 'акции', 'облигации', '.']\n",
      "У банка есть выделенная линия обслуживания клиентов для помощи в любых вопросах, связанных со счетами.  to =>  ['банка', 'выделенная', 'линия', 'обслуживания', 'клиентов', 'помощи', 'любых', 'вопросах', ',', 'связанных', 'счетами', '.']\n",
      "Специалисты по ипотеке готовы помочь покупателям впервые купить жилье пройти этот процесс.  to =>  ['специалисты', 'ипотеке', 'готовы', 'помочь', 'покупателям', 'впервые', 'купить', 'жилье', 'пройти', 'процесс', '.']\n",
      "Служба мониторинга кредитов банка уведомляет клиентов о любых изменениях в их кредитных отчетах.  to =>  ['служба', 'мониторинга', 'кредитов', 'банка', 'уведомляет', 'клиентов', 'любых', 'изменениях', 'кредитных', 'отчетах', '.']\n",
      "Клиенты могут легко обновить свою контактную информацию через онлайн-портал банка.  to =>  ['клиенты', 'легко', 'обновить', 'контактную', 'информацию', 'онлайнпортал', 'банка', '.']\n",
      "Сеть банкоматов банка обеспечивает удобный доступ к снятию и внесению наличных.  to =>  ['сеть', 'банкоматов', 'банка', 'обеспечивает', 'удобный', 'доступ', 'снятию', 'внесению', 'наличных', '.']\n",
      "Услуги обмена иностранной валюты доступны для клиентов, планирующих международные поездки.  to =>  ['услуги', 'обмена', 'иностранной', 'валюты', 'доступны', 'клиентов', ',', 'планирующих', 'международные', 'поездки', '.']\n",
      "Служба защиты от мошенничества банка отслеживает счета на предмет подозрительной активности.  to =>  ['служба', 'защиты', 'мошенничества', 'банка', 'отслеживает', 'счета', 'предмет', 'подозрительной', 'активности', '.']\n",
      "Клиенты могут устанавливать лимиты расходов по своим кредитным картам, чтобы помочь управлять бюджетом.  to =>  ['клиенты', 'устанавливать', 'лимиты', 'расходов', 'своим', 'кредитным', 'картам', ',', 'помочь', 'управлять', 'бюджетом', '.']\n",
      "Банк предлагает разнообразные страховые продукты, включая медицинское, автомобильное и жилищное страхование.  to =>  ['банк', 'предлагает', 'разнообразные', 'страховые', 'продукты', ',', 'включая', 'медицинское', ',', 'автомобильное', 'жилищное', 'страхование', '.']\n",
      "Пользователи могут загружать и печатать ежемесячные выписки по счетам прямо с сайта банка.  to =>  ['пользователи', 'загружать', 'печатать', 'ежемесячные', 'выписки', 'счетам', 'прямо', 'сайта', 'банка', '.']\n",
      "Малые предприятия могут получить доступ к кредитам и кредитным линиям для роста своих бизнесов.  to =>  ['малые', 'предприятия', 'получить', 'доступ', 'кредитам', 'кредитным', 'линиям', 'роста', 'бизнесов', '.']\n",
      "Банк предоставляет безопасные онлайн-опции оплаты для покупок на различных платформах электронной коммерции.  to =>  ['банк', 'предоставляет', 'безопасные', 'онлайнопции', 'оплаты', 'покупок', 'различных', 'платформах', 'электронной', 'коммерции', '.']\n",
      "Мобильные банковские приложения позволяют пользователям проверять свои балансы счетов на ходу.  to =>  ['мобильные', 'банковские', 'приложения', 'позволяют', 'пользователям', 'проверять', 'балансы', 'счетов', 'ходу', '.']\n",
      "Пенсионные счета банка предлагают налоговые преимущества, чтобы помочь клиентам сэкономить на будущее.  to =>  ['пенсионные', 'счета', 'банка', 'предлагают', 'налоговые', 'преимущества', ',', 'помочь', 'клиентам', 'сэкономить', 'будущее', '.']\n",
      "Финансовые консультанты банка могут помочь клиентам разработать долгосрочные инвестиционные стратегии.  to =>  ['финансовые', 'консультанты', 'банка', 'помочь', 'клиентам', 'разработать', 'долгосрочные', 'инвестиционные', 'стратегии', '.']\n",
      "Банк предлагает кредиты с низкими процентными ставками для образования и других крупных жизненных расходов.  to =>  ['банк', 'предлагает', 'кредиты', 'низкими', 'процентными', 'ставками', 'образования', 'крупных', 'жизненных', 'расходов', '.']\n",
      "Клиенты могут осуществлять международные денежные переводы по конкурентным обменным курсам.  to =>  ['клиенты', 'осуществлять', 'международные', 'денежные', 'переводы', 'конкурентным', 'обменным', 'курсам', '.']\n",
      "Безопасная онлайн-платформа банка защищает личную и финансовую информацию клиентов.  to =>  ['безопасная', 'онлайнплатформа', 'банка', 'защищает', 'личную', 'финансовую', 'информацию', 'клиентов', '.']\n",
      "Кредитные линии под залог дома доступны для владельцев домов, нуждающихся в доступе к наличным.  to =>  ['кредитные', 'линии', 'залог', 'дома', 'доступны', 'владельцев', 'домов', ',', 'нуждающихся', 'доступе', 'наличным', '.']\n",
      "Банк предлагает депозиты с фиксированным сроком с более высокими процентными ставками для долгосрочных сбережений.  to =>  ['банк', 'предлагает', 'депозиты', 'фиксированным', 'сроком', 'высокими', 'процентными', 'ставками', 'долгосрочных', 'сбережений', '.']\n",
      "Клиенты могут получать доступ к информации по счету круглосуточно через мобильное приложение банка.  to =>  ['клиенты', 'получать', 'доступ', 'информации', 'счету', 'круглосуточно', 'мобильное', 'приложение', 'банка', '.']\n",
      "Программы лояльности клиентов банка предлагают такие преимущества, как сниженные комиссии и повышенные процентные ставки.  to =>  ['программы', 'лояльности', 'клиентов', 'банка', 'предлагают', 'преимущества', ',', 'сниженные', 'комиссии', 'повышенные', 'процентные', 'ставки', '.']\n",
      "Родители могут открыть сберегательные счета для своих детей, чтобы научить их управлению деньгами.  to =>  ['родители', 'открыть', 'сберегательные', 'счета', 'детей', ',', 'научить', 'управлению', 'деньгами', '.']\n",
      "Инструменты составления бюджета банка помогают клиентам отслеживать свои расходы и устанавливать финансовые цели.  to =>  ['инструменты', 'составления', 'бюджета', 'банка', 'помогают', 'клиентам', 'отслеживать', 'расходы', 'устанавливать', 'финансовые', 'цели', '.']\n",
      "Клиенты могут зарегистрироваться для прямого депозита, чтобы их зарплаты автоматически зачислялись на счет.  to =>  ['клиенты', 'зарегистрироваться', 'прямого', 'депозита', ',', 'зарплаты', 'автоматически', 'зачислялись', 'счет', '.']\n",
      "Банк предлагает специальные счета для студентов без ежемесячных комиссий и с низкими минимальными остатками.  to =>  ['банк', 'предлагает', 'специальные', 'счета', 'студентов', 'ежемесячных', 'комиссий', 'низкими', 'минимальными', 'остатками', '.']\n",
      "Пользователи могут планировать будущие платежи и переводы, используя услуги интернет-банкинга банка.  to =>  ['пользователи', 'планировать', 'будущие', 'платежи', 'переводы', ',', 'используя', 'услуги', 'интернетбанкинга', 'банка', '.']\n",
      "Инвестиционные продукты банка включают взаимные фонды и пенсионные счета.  to =>  ['инвестиционные', 'продукты', 'банка', 'включают', 'взаимные', 'фонды', 'пенсионные', 'счета', '.']\n",
      "Клиенты могут получить доступ к услугам финансового планирования для управления своими активами и обязательствами.  to =>  ['клиенты', 'получить', 'доступ', 'услугам', 'финансового', 'планирования', 'управления', 'своими', 'активами', 'обязательствами', '.']\n",
      "Банк предоставляет кредитные калькуляторы, чтобы помочь клиентам оценить их ежемесячные платежи.  to =>  ['банк', 'предоставляет', 'кредитные', 'калькуляторы', ',', 'помочь', 'клиентам', 'оценить', 'ежемесячные', 'платежи', '.']\n",
      "Безопасное обмен сообщениями через онлайн-платформу банка позволяет клиентам общаться со своими консультантами.  to =>  ['безопасное', 'обмен', 'сообщениями', 'онлайнплатформу', 'банка', 'позволяет', 'клиентам', 'общаться', 'своими', 'консультантами', '.']\n",
      "Функция мобильного депозита чеков банка позволяет легко вносить чеки без посещения отделения.  to =>  ['функция', 'мобильного', 'депозита', 'чеков', 'банка', 'позволяет', 'легко', 'вносить', 'чеки', 'посещения', 'отделения', '.']\n",
      "Клиенты могут зарабатывать баллы за вознаграждение за каждый потраченный доллар на своих кредитных картах.  to =>  ['клиенты', 'зарабатывать', 'баллы', 'вознаграждение', 'потраченный', 'доллар', 'кредитных', 'картах', '.']\n",
      "Банк предлагает семинары по личным финансам, чтобы обучить клиентов составлению бюджета и сбережениям.  to =>  ['банк', 'предлагает', 'семинары', 'личным', 'финансам', ',', 'обучить', 'клиентов', 'составлению', 'бюджета', 'сбережениям', '.']\n",
      "Клиенты могут отслеживать свои привычки трат с помощью онлайн-инструментов отслеживания расходов банка.  to =>  ['клиенты', 'отслеживать', 'привычки', 'трат', 'помощью', 'онлайнинструментов', 'отслеживания', 'расходов', 'банка', '.']\n"
     ]
    }
   ],
   "source": [
    "for sentence in banking_sentences:\n",
    "    processed_sentence = remove_punctuation(remove_stopwords(sentence))\n",
    "    processed_sentence = [(token.text).lower() for token in list(tokenize(processed_sentence))]\n",
    "    \n",
    "    print(sentence, \" to => \", processed_sentence)"
   ]
  },
  {
   "cell_type": "code",
   "execution_count": null,
   "id": "123d6067",
   "metadata": {},
   "outputs": [
    {
     "data": {
      "text/plain": [
       "'bank'"
      ]
     },
     "execution_count": 169,
     "metadata": {},
     "output_type": "execute_result"
    }
   ],
   "source": [
    "en_lemmatizer.lemmatize('banks')"
   ]
  },
  {
   "cell_type": "code",
   "execution_count": null,
   "id": "85d28307",
   "metadata": {},
   "outputs": [],
   "source": [
    "import numpy as np\n",
    "\n",
    "def intersection(lst1, lst2):\n",
    "    lst3 = [value for value in lst1 if value in lst2]\n",
    "    return lst3"
   ]
  },
  {
   "cell_type": "code",
   "execution_count": null,
   "id": "fbbc1600-d4ce-45b3-a551-6738f57257f2",
   "metadata": {},
   "outputs": [
    {
     "name": "stdout",
     "output_type": "stream",
     "text": [
      "['проверить', 'баланс', 'мобильном', 'приложении']\n",
      "['мобильный', 'банковский', 'приложение', 'позволять', 'пользователь', 'проверять', 'баланс', 'счет', 'ход']\n",
      "('Мобильные банковские приложения позволяют пользователям проверять свои балансы счетов на ходу.', 1)\n"
     ]
    }
   ],
   "source": [
    "def preprocess(query):\n",
    "    query = remove_stopwords(query)\n",
    "    query = remove_punctuation(query)\n",
    "    tokens = [(token.text).lower() for token in list(tokenize(query))]\n",
    "    if detect(\" \".join(query)) == 'ru':\n",
    "        tokens = [ru_lemmatizer.lemmatize(token)[0] for token in tokens]\n",
    "    else:\n",
    "        tokens = [en_lemmatizer.lemmatize(token) for token in tokens]\n",
    "    return tokens \n",
    "\n",
    "def search(query):\n",
    "    tokens = set(preprocess(query))\n",
    "    scores = []\n",
    "    for base_tokens in sentences_tokens:\n",
    "        intersect_len = len(tokens.intersection(set(base_tokens)))\n",
    "        scores.append(intersect_len)\n",
    "    target_tokens_index = scores.index(max(scores))\n",
    "    print(sentences_tokens[target_tokens_index])\n",
    "    return banking_sentences[target_tokens_index], max(scores)\n",
    "\n",
    "# Example usage\n",
    "user_query = \"проверить баланс в мобильном приложении\"\n",
    "# fft_query = \"deposit safety apple ear\"\n",
    "# set(preprocess(user_query)).intersection(set(preprocess(fft_query)))\n",
    "print(preprocess(user_query))\n",
    "print(search(user_query))"
   ]
  },
  {
   "cell_type": "code",
   "execution_count": null,
   "id": "e11b135e",
   "metadata": {},
   "outputs": [
    {
     "data": {
      "text/plain": [
       "['bank', 'question']"
      ]
     },
     "execution_count": 52,
     "metadata": {},
     "output_type": "execute_result"
    }
   ],
   "source": [
    "preprocess('banks questions')"
   ]
  },
  {
   "cell_type": "markdown",
   "id": "92bf9e75-201a-499d-b223-3fe733926cef",
   "metadata": {},
   "source": [
    "<font size=\"5\">3. Text Cleaning by Removing Blacklist Words or Phrases</font>\n",
    " "
   ]
  },
  {
   "cell_type": "code",
   "execution_count": 1,
   "id": "ee48a7c5-c1b3-477f-b393-8115f6215afa",
   "metadata": {},
   "outputs": [
    {
     "name": "stdout",
     "output_type": "stream",
     "text": [
      "Here is a sample text including the word *** is *** and *** and *** ***.\n"
     ]
    }
   ],
   "source": [
    "def clean_text(text):\n",
    "    blacklist = ['nigga', 'uzbek', 'гей', 'Токаев лучший', 'Путин', 'Токаев Тигр']\n",
    "    for word in blacklist:\n",
    "        text = text.replace(word, '***')\n",
    "    return text\n",
    "\n",
    "# Example usage\n",
    "sample_text = \"Here is a sample text including the word Путин is nigga and гей and Токаев Тигр uzbek.\"\n",
    "print(clean_text(sample_text))"
   ]
  },
  {
   "cell_type": "code",
   "execution_count": null,
   "id": "d5a34dff-6233-4ef9-866e-5dd21046049e",
   "metadata": {},
   "outputs": [],
   "source": []
  }
 ],
 "metadata": {
  "kernelspec": {
   "display_name": "Python 3",
   "language": "python",
   "name": "python3"
  },
  "language_info": {
   "codemirror_mode": {
    "name": "ipython",
    "version": 3
   },
   "file_extension": ".py",
   "mimetype": "text/x-python",
   "name": "python",
   "nbconvert_exporter": "python",
   "pygments_lexer": "ipython3",
   "version": "3.12.4"
  }
 },
 "nbformat": 4,
 "nbformat_minor": 5
}
